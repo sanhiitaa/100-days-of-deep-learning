{
  "nbformat": 4,
  "nbformat_minor": 0,
  "metadata": {
    "colab": {
      "provenance": [],
      "authorship_tag": "ABX9TyN77/24oKpjsxcExvJyB7zq",
      "include_colab_link": true
    },
    "kernelspec": {
      "name": "python3",
      "display_name": "Python 3"
    },
    "language_info": {
      "name": "python"
    }
  },
  "cells": [
    {
      "cell_type": "markdown",
      "metadata": {
        "id": "view-in-github",
        "colab_type": "text"
      },
      "source": [
        "<a href=\"https://colab.research.google.com/github/sanhiitaa/100-days-of-deep-learning/blob/main/tokenization_and_simpleRNN_model.ipynb\" target=\"_parent\"><img src=\"https://colab.research.google.com/assets/colab-badge.svg\" alt=\"Open In Colab\"/></a>"
      ]
    },
    {
      "cell_type": "code",
      "source": [
        "import numpy as np\n",
        "from keras.preprocessing.text import Tokenizer\n",
        "from keras.utils import pad_sequences"
      ],
      "metadata": {
        "id": "ov_gEPB_7QWB"
      },
      "execution_count": 1,
      "outputs": []
    },
    {
      "cell_type": "code",
      "execution_count": 2,
      "metadata": {
        "id": "lP9Wp8jO3vxa"
      },
      "outputs": [],
      "source": [
        "docs=['hello world',\n",
        "      'deep learning is fun',\n",
        "      'google colab is convinient',\n",
        "      'life is beautiful',\n",
        "      'life is a struggle',\n",
        "      '101 essays that will change the way you think',\n",
        "      'simple RNN integer encoding',\n",
        "      'i cant think of any more sentences',\n",
        "      'why is this air conditioner making noise',\n",
        "      'ludo is the worst game ever']"
      ]
    },
    {
      "cell_type": "code",
      "source": [
        "# creating an instance of the tokenizer class\n",
        "token= Tokenizer(oov_token='heh nothing here')"
      ],
      "metadata": {
        "id": "5tnjpk4-46q2"
      },
      "execution_count": 3,
      "outputs": []
    },
    {
      "cell_type": "code",
      "source": [
        "# tokenizing the words\n",
        "token.fit_on_texts(docs)"
      ],
      "metadata": {
        "id": "PytfikEF5NjX"
      },
      "execution_count": 4,
      "outputs": []
    },
    {
      "cell_type": "code",
      "source": [
        "# word to integer mapping\n",
        "token.word_index"
      ],
      "metadata": {
        "colab": {
          "base_uri": "https://localhost:8080/"
        },
        "id": "puMx5ZBM5hdc",
        "outputId": "2a5ea235-8a84-450e-fe4e-142c01214f84"
      },
      "execution_count": 5,
      "outputs": [
        {
          "output_type": "execute_result",
          "data": {
            "text/plain": [
              "{'heh nothing here': 1,\n",
              " 'is': 2,\n",
              " 'life': 3,\n",
              " 'the': 4,\n",
              " 'think': 5,\n",
              " 'hello': 6,\n",
              " 'world': 7,\n",
              " 'deep': 8,\n",
              " 'learning': 9,\n",
              " 'fun': 10,\n",
              " 'google': 11,\n",
              " 'colab': 12,\n",
              " 'convinient': 13,\n",
              " 'beautiful': 14,\n",
              " 'a': 15,\n",
              " 'struggle': 16,\n",
              " '101': 17,\n",
              " 'essays': 18,\n",
              " 'that': 19,\n",
              " 'will': 20,\n",
              " 'change': 21,\n",
              " 'way': 22,\n",
              " 'you': 23,\n",
              " 'simple': 24,\n",
              " 'rnn': 25,\n",
              " 'integer': 26,\n",
              " 'encoding': 27,\n",
              " 'i': 28,\n",
              " 'cant': 29,\n",
              " 'of': 30,\n",
              " 'any': 31,\n",
              " 'more': 32,\n",
              " 'sentences': 33,\n",
              " 'why': 34,\n",
              " 'this': 35,\n",
              " 'air': 36,\n",
              " 'conditioner': 37,\n",
              " 'making': 38,\n",
              " 'noise': 39,\n",
              " 'ludo': 40,\n",
              " 'worst': 41,\n",
              " 'game': 42,\n",
              " 'ever': 43}"
            ]
          },
          "metadata": {},
          "execution_count": 5
        }
      ]
    },
    {
      "cell_type": "code",
      "source": [
        "# number of times each word appears\n",
        "token.word_counts"
      ],
      "metadata": {
        "colab": {
          "base_uri": "https://localhost:8080/"
        },
        "id": "wPZzFHVw5j3p",
        "outputId": "a0834975-e9a8-4dd5-ed86-da34d1956123"
      },
      "execution_count": 6,
      "outputs": [
        {
          "output_type": "execute_result",
          "data": {
            "text/plain": [
              "OrderedDict([('hello', 1),\n",
              "             ('world', 1),\n",
              "             ('deep', 1),\n",
              "             ('learning', 1),\n",
              "             ('is', 6),\n",
              "             ('fun', 1),\n",
              "             ('google', 1),\n",
              "             ('colab', 1),\n",
              "             ('convinient', 1),\n",
              "             ('life', 2),\n",
              "             ('beautiful', 1),\n",
              "             ('a', 1),\n",
              "             ('struggle', 1),\n",
              "             ('101', 1),\n",
              "             ('essays', 1),\n",
              "             ('that', 1),\n",
              "             ('will', 1),\n",
              "             ('change', 1),\n",
              "             ('the', 2),\n",
              "             ('way', 1),\n",
              "             ('you', 1),\n",
              "             ('think', 2),\n",
              "             ('simple', 1),\n",
              "             ('rnn', 1),\n",
              "             ('integer', 1),\n",
              "             ('encoding', 1),\n",
              "             ('i', 1),\n",
              "             ('cant', 1),\n",
              "             ('of', 1),\n",
              "             ('any', 1),\n",
              "             ('more', 1),\n",
              "             ('sentences', 1),\n",
              "             ('why', 1),\n",
              "             ('this', 1),\n",
              "             ('air', 1),\n",
              "             ('conditioner', 1),\n",
              "             ('making', 1),\n",
              "             ('noise', 1),\n",
              "             ('ludo', 1),\n",
              "             ('worst', 1),\n",
              "             ('game', 1),\n",
              "             ('ever', 1)])"
            ]
          },
          "metadata": {},
          "execution_count": 6
        }
      ]
    },
    {
      "cell_type": "code",
      "source": [
        "# number of sentences\n",
        "token.document_count"
      ],
      "metadata": {
        "colab": {
          "base_uri": "https://localhost:8080/"
        },
        "id": "qpNfFXln50of",
        "outputId": "792dcaba-9928-4877-92b0-8be60e73e643"
      },
      "execution_count": 7,
      "outputs": [
        {
          "output_type": "execute_result",
          "data": {
            "text/plain": [
              "10"
            ]
          },
          "metadata": {},
          "execution_count": 7
        }
      ]
    },
    {
      "cell_type": "code",
      "source": [
        "# coverting all the text into integer sequences\n",
        "sequences= token.texts_to_sequences(docs)\n",
        "sequences"
      ],
      "metadata": {
        "colab": {
          "base_uri": "https://localhost:8080/"
        },
        "id": "5y4hi5Dz6ybL",
        "outputId": "d2f25b4c-ee64-4613-a980-a53722304707"
      },
      "execution_count": 8,
      "outputs": [
        {
          "output_type": "execute_result",
          "data": {
            "text/plain": [
              "[[6, 7],\n",
              " [8, 9, 2, 10],\n",
              " [11, 12, 2, 13],\n",
              " [3, 2, 14],\n",
              " [3, 2, 15, 16],\n",
              " [17, 18, 19, 20, 21, 4, 22, 23, 5],\n",
              " [24, 25, 26, 27],\n",
              " [28, 29, 5, 30, 31, 32, 33],\n",
              " [34, 2, 35, 36, 37, 38, 39],\n",
              " [40, 2, 4, 41, 42, 43]]"
            ]
          },
          "metadata": {},
          "execution_count": 8
        }
      ]
    },
    {
      "cell_type": "code",
      "source": [
        "sequences = pad_sequences(sequences, padding='post')\n",
        "sequences"
      ],
      "metadata": {
        "colab": {
          "base_uri": "https://localhost:8080/"
        },
        "id": "tvS_k3lk7h_7",
        "outputId": "102bd224-8662-4d08-c341-0165fc34c23d"
      },
      "execution_count": 9,
      "outputs": [
        {
          "output_type": "execute_result",
          "data": {
            "text/plain": [
              "array([[ 6,  7,  0,  0,  0,  0,  0,  0,  0],\n",
              "       [ 8,  9,  2, 10,  0,  0,  0,  0,  0],\n",
              "       [11, 12,  2, 13,  0,  0,  0,  0,  0],\n",
              "       [ 3,  2, 14,  0,  0,  0,  0,  0,  0],\n",
              "       [ 3,  2, 15, 16,  0,  0,  0,  0,  0],\n",
              "       [17, 18, 19, 20, 21,  4, 22, 23,  5],\n",
              "       [24, 25, 26, 27,  0,  0,  0,  0,  0],\n",
              "       [28, 29,  5, 30, 31, 32, 33,  0,  0],\n",
              "       [34,  2, 35, 36, 37, 38, 39,  0,  0],\n",
              "       [40,  2,  4, 41, 42, 43,  0,  0,  0]], dtype=int32)"
            ]
          },
          "metadata": {},
          "execution_count": 9
        }
      ]
    },
    {
      "cell_type": "markdown",
      "source": [
        "Keras Embedding Layer"
      ],
      "metadata": {
        "id": "0m2RXS1K9Yzo"
      }
    },
    {
      "cell_type": "code",
      "source": [
        "from keras.datasets import imdb\n",
        "from keras import Sequential\n",
        "from keras.layers import Dense, SimpleRNN, Embedding, Flatten"
      ],
      "metadata": {
        "id": "CfxRbbFZ73bB"
      },
      "execution_count": 22,
      "outputs": []
    },
    {
      "cell_type": "code",
      "source": [
        "(x_train, y_train), (x_test, y_test) = imdb.load_data()"
      ],
      "metadata": {
        "id": "OrRx44Mk9m5u"
      },
      "execution_count": 23,
      "outputs": []
    },
    {
      "cell_type": "code",
      "source": [
        "# first review from the imdb dataset - already tokenized\n",
        "print('total number of words in the first review: ', len(x_train[0]), '\\n\\n***************************** \\n')\n",
        "x_train[0]"
      ],
      "metadata": {
        "colab": {
          "base_uri": "https://localhost:8080/"
        },
        "id": "vF7_JTTh9uXK",
        "outputId": "b77e8a78-0e74-4fb9-9ad2-d40cb3dbe35e"
      },
      "execution_count": 12,
      "outputs": [
        {
          "output_type": "stream",
          "name": "stdout",
          "text": [
            "total number of words in the first review:  218 \n",
            "\n",
            "***************************** \n",
            "\n"
          ]
        },
        {
          "output_type": "execute_result",
          "data": {
            "text/plain": [
              "[1,\n",
              " 14,\n",
              " 22,\n",
              " 16,\n",
              " 43,\n",
              " 530,\n",
              " 973,\n",
              " 1622,\n",
              " 1385,\n",
              " 65,\n",
              " 458,\n",
              " 4468,\n",
              " 66,\n",
              " 3941,\n",
              " 4,\n",
              " 173,\n",
              " 36,\n",
              " 256,\n",
              " 5,\n",
              " 25,\n",
              " 100,\n",
              " 43,\n",
              " 838,\n",
              " 112,\n",
              " 50,\n",
              " 670,\n",
              " 22665,\n",
              " 9,\n",
              " 35,\n",
              " 480,\n",
              " 284,\n",
              " 5,\n",
              " 150,\n",
              " 4,\n",
              " 172,\n",
              " 112,\n",
              " 167,\n",
              " 21631,\n",
              " 336,\n",
              " 385,\n",
              " 39,\n",
              " 4,\n",
              " 172,\n",
              " 4536,\n",
              " 1111,\n",
              " 17,\n",
              " 546,\n",
              " 38,\n",
              " 13,\n",
              " 447,\n",
              " 4,\n",
              " 192,\n",
              " 50,\n",
              " 16,\n",
              " 6,\n",
              " 147,\n",
              " 2025,\n",
              " 19,\n",
              " 14,\n",
              " 22,\n",
              " 4,\n",
              " 1920,\n",
              " 4613,\n",
              " 469,\n",
              " 4,\n",
              " 22,\n",
              " 71,\n",
              " 87,\n",
              " 12,\n",
              " 16,\n",
              " 43,\n",
              " 530,\n",
              " 38,\n",
              " 76,\n",
              " 15,\n",
              " 13,\n",
              " 1247,\n",
              " 4,\n",
              " 22,\n",
              " 17,\n",
              " 515,\n",
              " 17,\n",
              " 12,\n",
              " 16,\n",
              " 626,\n",
              " 18,\n",
              " 19193,\n",
              " 5,\n",
              " 62,\n",
              " 386,\n",
              " 12,\n",
              " 8,\n",
              " 316,\n",
              " 8,\n",
              " 106,\n",
              " 5,\n",
              " 4,\n",
              " 2223,\n",
              " 5244,\n",
              " 16,\n",
              " 480,\n",
              " 66,\n",
              " 3785,\n",
              " 33,\n",
              " 4,\n",
              " 130,\n",
              " 12,\n",
              " 16,\n",
              " 38,\n",
              " 619,\n",
              " 5,\n",
              " 25,\n",
              " 124,\n",
              " 51,\n",
              " 36,\n",
              " 135,\n",
              " 48,\n",
              " 25,\n",
              " 1415,\n",
              " 33,\n",
              " 6,\n",
              " 22,\n",
              " 12,\n",
              " 215,\n",
              " 28,\n",
              " 77,\n",
              " 52,\n",
              " 5,\n",
              " 14,\n",
              " 407,\n",
              " 16,\n",
              " 82,\n",
              " 10311,\n",
              " 8,\n",
              " 4,\n",
              " 107,\n",
              " 117,\n",
              " 5952,\n",
              " 15,\n",
              " 256,\n",
              " 4,\n",
              " 31050,\n",
              " 7,\n",
              " 3766,\n",
              " 5,\n",
              " 723,\n",
              " 36,\n",
              " 71,\n",
              " 43,\n",
              " 530,\n",
              " 476,\n",
              " 26,\n",
              " 400,\n",
              " 317,\n",
              " 46,\n",
              " 7,\n",
              " 4,\n",
              " 12118,\n",
              " 1029,\n",
              " 13,\n",
              " 104,\n",
              " 88,\n",
              " 4,\n",
              " 381,\n",
              " 15,\n",
              " 297,\n",
              " 98,\n",
              " 32,\n",
              " 2071,\n",
              " 56,\n",
              " 26,\n",
              " 141,\n",
              " 6,\n",
              " 194,\n",
              " 7486,\n",
              " 18,\n",
              " 4,\n",
              " 226,\n",
              " 22,\n",
              " 21,\n",
              " 134,\n",
              " 476,\n",
              " 26,\n",
              " 480,\n",
              " 5,\n",
              " 144,\n",
              " 30,\n",
              " 5535,\n",
              " 18,\n",
              " 51,\n",
              " 36,\n",
              " 28,\n",
              " 224,\n",
              " 92,\n",
              " 25,\n",
              " 104,\n",
              " 4,\n",
              " 226,\n",
              " 65,\n",
              " 16,\n",
              " 38,\n",
              " 1334,\n",
              " 88,\n",
              " 12,\n",
              " 16,\n",
              " 283,\n",
              " 5,\n",
              " 16,\n",
              " 4472,\n",
              " 113,\n",
              " 103,\n",
              " 32,\n",
              " 15,\n",
              " 16,\n",
              " 5345,\n",
              " 19,\n",
              " 178,\n",
              " 32]"
            ]
          },
          "metadata": {},
          "execution_count": 12
        }
      ]
    },
    {
      "cell_type": "code",
      "source": [
        "x_train= pad_sequences(x_train, padding='post', maxlen=70)\n",
        "x_test=pad_sequences(x_test, padding='post', maxlen=70)"
      ],
      "metadata": {
        "id": "5MjaNfle9xTd"
      },
      "execution_count": 24,
      "outputs": []
    },
    {
      "cell_type": "code",
      "source": [
        "x_train[0]"
      ],
      "metadata": {
        "colab": {
          "base_uri": "https://localhost:8080/"
        },
        "id": "QZ_Az2AtvtZh",
        "outputId": "ae0da640-ddbf-48e9-b3aa-ba25e1759b74"
      },
      "execution_count": 25,
      "outputs": [
        {
          "output_type": "execute_result",
          "data": {
            "text/plain": [
              "array([   43,   530,   476,    26,   400,   317,    46,     7,     4,\n",
              "       12118,  1029,    13,   104,    88,     4,   381,    15,   297,\n",
              "          98,    32,  2071,    56,    26,   141,     6,   194,  7486,\n",
              "          18,     4,   226,    22,    21,   134,   476,    26,   480,\n",
              "           5,   144,    30,  5535,    18,    51,    36,    28,   224,\n",
              "          92,    25,   104,     4,   226,    65,    16,    38,  1334,\n",
              "          88,    12,    16,   283,     5,    16,  4472,   113,   103,\n",
              "          32,    15,    16,  5345,    19,   178,    32], dtype=int32)"
            ]
          },
          "metadata": {},
          "execution_count": 25
        }
      ]
    },
    {
      "cell_type": "code",
      "source": [
        "model= Sequential()\n",
        "\n",
        "model.add(SimpleRNN(32, input_shape=(70,1), return_sequences=False))\n",
        "model.add(Dense(1, activation='sigmoid'))\n",
        "\n",
        "model.summary()"
      ],
      "metadata": {
        "colab": {
          "base_uri": "https://localhost:8080/"
        },
        "id": "ccNHglKcvvT2",
        "outputId": "0b9eae03-7cd8-4cd1-fbd6-b1f060f05e0a"
      },
      "execution_count": 26,
      "outputs": [
        {
          "output_type": "stream",
          "name": "stdout",
          "text": [
            "Model: \"sequential_1\"\n",
            "_________________________________________________________________\n",
            " Layer (type)                Output Shape              Param #   \n",
            "=================================================================\n",
            " simple_rnn_1 (SimpleRNN)    (None, 32)                1088      \n",
            "                                                                 \n",
            " dense_1 (Dense)             (None, 1)                 33        \n",
            "                                                                 \n",
            "=================================================================\n",
            "Total params: 1121 (4.38 KB)\n",
            "Trainable params: 1121 (4.38 KB)\n",
            "Non-trainable params: 0 (0.00 Byte)\n",
            "_________________________________________________________________\n"
          ]
        }
      ]
    },
    {
      "cell_type": "code",
      "source": [
        "model.compile(loss='binary_crossentropy',\n",
        "              optimizer='adam',\n",
        "              metrics=['accuracy'])\n",
        "\n",
        "model.fit(x_train, y_train, epochs=5, validation_data=(x_test, y_test))"
      ],
      "metadata": {
        "colab": {
          "base_uri": "https://localhost:8080/"
        },
        "id": "BEleeInAwb5o",
        "outputId": "0f716a6e-2624-4b30-c3e8-e9dcd1304c8e"
      },
      "execution_count": 27,
      "outputs": [
        {
          "output_type": "stream",
          "name": "stdout",
          "text": [
            "Epoch 1/5\n",
            "782/782 [==============================] - 21s 25ms/step - loss: 0.6940 - accuracy: 0.5034 - val_loss: 0.6942 - val_accuracy: 0.4998\n",
            "Epoch 2/5\n",
            "782/782 [==============================] - 14s 18ms/step - loss: 0.6928 - accuracy: 0.5123 - val_loss: 0.6932 - val_accuracy: 0.5058\n",
            "Epoch 3/5\n",
            "782/782 [==============================] - 14s 18ms/step - loss: 0.6925 - accuracy: 0.5126 - val_loss: 0.6942 - val_accuracy: 0.5078\n",
            "Epoch 4/5\n",
            "782/782 [==============================] - 14s 18ms/step - loss: 0.6925 - accuracy: 0.5086 - val_loss: 0.6940 - val_accuracy: 0.5060\n",
            "Epoch 5/5\n",
            "782/782 [==============================] - 12s 16ms/step - loss: 0.6923 - accuracy: 0.5099 - val_loss: 0.6933 - val_accuracy: 0.5073\n"
          ]
        },
        {
          "output_type": "execute_result",
          "data": {
            "text/plain": [
              "<keras.src.callbacks.History at 0x78daf7a3e410>"
            ]
          },
          "metadata": {},
          "execution_count": 27
        }
      ]
    },
    {
      "cell_type": "code",
      "source": [],
      "metadata": {
        "id": "xhZcuClOw62S"
      },
      "execution_count": null,
      "outputs": []
    }
  ]
}
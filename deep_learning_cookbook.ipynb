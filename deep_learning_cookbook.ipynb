{
  "nbformat": 4,
  "nbformat_minor": 0,
  "metadata": {
    "colab": {
      "provenance": [],
      "authorship_tag": "ABX9TyN/N6WD3b9F1Qwc9jpWIgYb",
      "include_colab_link": true
    },
    "kernelspec": {
      "name": "python3",
      "display_name": "Python 3"
    },
    "language_info": {
      "name": "python"
    }
  },
  "cells": [
    {
      "cell_type": "markdown",
      "metadata": {
        "id": "view-in-github",
        "colab_type": "text"
      },
      "source": [
        "<a href=\"https://colab.research.google.com/github/sanhiitaa/100-days-of-deep-learning/blob/main/deep_learning_cookbook.ipynb\" target=\"_parent\"><img src=\"https://colab.research.google.com/assets/colab-badge.svg\" alt=\"Open In Colab\"/></a>"
      ]
    },
    {
      "cell_type": "code",
      "source": [
        "import pandas as pd\n",
        "import numpy as np\n",
        "import matplotlib.pyplot as plt\n",
        "\n",
        "import tensorflow\n",
        "from tensorflow import keras\n",
        "from keras import Sequential\n",
        "from keras.layers import Dense"
      ],
      "metadata": {
        "id": "30felKSQ7ZhW"
      },
      "execution_count": null,
      "outputs": []
    },
    {
      "cell_type": "markdown",
      "source": [
        "* `n1, n2, n3... `- has to be set based on requirement.\n",
        "* `x` - total input features\n"
      ],
      "metadata": {
        "id": "XU0qhjqy9UD9"
      }
    },
    {
      "cell_type": "markdown",
      "source": [
        "### **Early Stopping**"
      ],
      "metadata": {
        "id": "PdpVjKwGnxPn"
      }
    },
    {
      "cell_type": "code",
      "source": [
        "from tensorflow.keras.callbacks import EarlyStopping"
      ],
      "metadata": {
        "id": "qkCooprhn1pO"
      },
      "execution_count": null,
      "outputs": []
    },
    {
      "cell_type": "code",
      "source": [
        "# defining the model\n",
        "model= Sequential()\n",
        "\n",
        "model.add(Dense(n1, activation='relu', input_dim=2))\n",
        "model.add(Dense(n2, activation='sigmoid'))"
      ],
      "metadata": {
        "id": "9_qeaGhkoWEe"
      },
      "execution_count": null,
      "outputs": []
    },
    {
      "cell_type": "code",
      "source": [
        "# compiling the model\n",
        "model.compile(loss=..., optimizer=..., metrics=['...'])"
      ],
      "metadata": {
        "id": "DI3uQA4Uo2z_"
      },
      "execution_count": null,
      "outputs": []
    },
    {
      "cell_type": "code",
      "source": [
        "# setting up EarlyStopping callback\n",
        "callback= EarlyStopping(\n",
        "    monitor='val_loss', # quantity to be monitored\n",
        "    min_delta=0.00001,  # change in the quantity to qualify as improvement\n",
        "    patience=20,        # number of epochs to wait before stopping the training\n",
        "    verbose=1,          # callback message display switch\n",
        "    mode='auto',        # auto/min/max - monitors if the quantity should increase/decrease\n",
        "    baseline=None,      # training stops if no improvement over baseline\n",
        "    restore_best_weights=True\n",
        ")"
      ],
      "metadata": {
        "id": "r68uOxq8pWXW"
      },
      "execution_count": null,
      "outputs": []
    },
    {
      "cell_type": "code",
      "source": [
        "# fitting the model with the callback\n",
        "history= model.fit(X_train, y_train, validation_data=(X_test, y_test), callbacks=callback, epochs=...)"
      ],
      "metadata": {
        "id": "HFtoRyvjqItp"
      },
      "execution_count": null,
      "outputs": []
    },
    {
      "cell_type": "markdown",
      "source": [
        "### **Dropout layers**"
      ],
      "metadata": {
        "id": "4PRt5dAHlykX"
      }
    },
    {
      "cell_type": "code",
      "source": [
        "from tensorflow.keras.layers import Dropout"
      ],
      "metadata": {
        "id": "MPi9PqsKl4Xa"
      },
      "execution_count": null,
      "outputs": []
    },
    {
      "cell_type": "code",
      "source": [
        "model= Sequential()\n",
        "\n",
        "model.add(Dense(n1, activation='relu', input_dim=x))\n",
        "model.add(Dropout(0.5))\n",
        "model.add(Dense(n2, activation='relu'))\n",
        "model.add(Dropout(0.5))\n",
        "model.add(Dense(n3, activation='sigmoid'))"
      ],
      "metadata": {
        "id": "YKgyWr5ll-09"
      },
      "execution_count": null,
      "outputs": []
    },
    {
      "cell_type": "markdown",
      "source": [
        "In `model.add(Dropout(0.5))`, 0.5 means 50% of the nodes will be dropped, this number can be adjusted accordingly."
      ],
      "metadata": {
        "id": "3D3EmyXZnXu6"
      }
    },
    {
      "cell_type": "markdown",
      "source": [
        "### **Regularization**"
      ],
      "metadata": {
        "id": "kc9xGs8pi3Cs"
      }
    },
    {
      "cell_type": "code",
      "source": [
        "model= Sequential()\n",
        "\n",
        "model.add(Dense(n1, activation='relu', input_dim=x, kernel_regularizer=tensorflow.keras.regularizers.l1(0.001)))\n",
        "model.add(Dense(n2, activation='relu', kernel_regularizer= tensorflow.keras.regularizers.l2(0.001)))\n",
        "model.add(Dense(n3, activation='sigmoid'))\n",
        "\n",
        "model.summary()"
      ],
      "metadata": {
        "id": "jhc4zkzni9kQ"
      },
      "execution_count": null,
      "outputs": []
    },
    {
      "cell_type": "markdown",
      "source": [
        "### **Xavier (Gloarat) and He Weight Initialization**"
      ],
      "metadata": {
        "id": "ZE0iJmkSdGiT"
      }
    },
    {
      "cell_type": "code",
      "source": [
        "model=Sequential()\n",
        "\n",
        "model.add(Dense(n1, activation='relu', input_dim=x, kernel_initializer='he_normal'))"
      ],
      "metadata": {
        "id": "P7no9vkOdFsM"
      },
      "execution_count": null,
      "outputs": []
    },
    {
      "cell_type": "markdown",
      "source": [
        "`kernel_initializer` can be initialized with:\n",
        "\n",
        "1. `glorat_uniform`; `glorat_normal` ▶ `tanh`; `sigmoid`\n",
        "2. `he_uniform`; `he_normal` ▶ `relu`"
      ],
      "metadata": {
        "id": "bpZnan43f7qT"
      }
    },
    {
      "cell_type": "markdown",
      "source": [
        "### **Batch Normalization**"
      ],
      "metadata": {
        "id": "XJJL7JhW6qGz"
      }
    },
    {
      "cell_type": "code",
      "source": [
        "from tensorflow.keras.layers import BatchNormalization"
      ],
      "metadata": {
        "id": "VQlD-bTw67Cs"
      },
      "execution_count": null,
      "outputs": []
    },
    {
      "cell_type": "code",
      "execution_count": null,
      "metadata": {
        "id": "BDSS-OK65kWZ"
      },
      "outputs": [],
      "source": [
        "model=Sequential()\n",
        "\n",
        "model.add(Dense(n1, activation='relu', input_dim=x))\n",
        "model.add(BatchNormalization())\n",
        "model.add(Dense(n2, activation='relu'))\n",
        "model.add(BatchNormalization())\n",
        "model.add(Dense(n3, activation='sigmoid'))\n",
        "\n",
        "model.summary()"
      ]
    },
    {
      "cell_type": "markdown",
      "source": [
        "### **SGD; Momentum; NAG (Nesterov Accelerated Gradient)**"
      ],
      "metadata": {
        "id": "RQTQZhI2dZJ9"
      }
    },
    {
      "cell_type": "code",
      "source": [
        "from tensorflow.keras.optimizers import SGD"
      ],
      "metadata": {
        "id": "O4DhEOPmc4vT"
      },
      "execution_count": null,
      "outputs": []
    },
    {
      "cell_type": "code",
      "source": [
        "# SGD\n",
        "optimizer=SGD(learning_rate=0.01, momentum=0, nesterov=False, name='SGD')\n",
        "\n",
        "# Momentum\n",
        "optimizer=SGD(learning_rate=0.01, momentum=beta, nesterov=False, name='SGD')\n",
        "\n",
        "# NAG  implementation\n",
        "optimizer=SGD(learning_rate=0.01, momentum=beta, nesterov=True, name='SGD')"
      ],
      "metadata": {
        "id": "b2kV3DbvejZz"
      },
      "execution_count": null,
      "outputs": []
    },
    {
      "cell_type": "markdown",
      "source": [
        "`beta` is `β - decaying factor`.\n",
        "Usually set at `β=0.9`."
      ],
      "metadata": {
        "id": "J9w-aKOdfSd1"
      }
    },
    {
      "cell_type": "code",
      "source": [
        "model.compile(optimizer=optimizer, loss='...', metrics=['...'])"
      ],
      "metadata": {
        "id": "Dqc6ki9pgZDe"
      },
      "execution_count": null,
      "outputs": []
    },
    {
      "cell_type": "code",
      "source": [],
      "metadata": {
        "id": "1yBQyRmlgKv_"
      },
      "execution_count": null,
      "outputs": []
    }
  ]
}
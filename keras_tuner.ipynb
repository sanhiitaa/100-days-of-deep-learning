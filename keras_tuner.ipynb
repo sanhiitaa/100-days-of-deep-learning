{
  "nbformat": 4,
  "nbformat_minor": 0,
  "metadata": {
    "colab": {
      "provenance": [],
      "authorship_tag": "ABX9TyNBhtchhmQFFPq1AMTV4/tX",
      "include_colab_link": true
    },
    "kernelspec": {
      "name": "python3",
      "display_name": "Python 3"
    },
    "language_info": {
      "name": "python"
    }
  },
  "cells": [
    {
      "cell_type": "markdown",
      "metadata": {
        "id": "view-in-github",
        "colab_type": "text"
      },
      "source": [
        "<a href=\"https://colab.research.google.com/github/sanhiitaa/100-days-of-deep-learning/blob/main/keras_tuner.ipynb\" target=\"_parent\"><img src=\"https://colab.research.google.com/assets/colab-badge.svg\" alt=\"Open In Colab\"/></a>"
      ]
    },
    {
      "cell_type": "markdown",
      "source": [
        "### **Importing libraries and loading dataset via API command**"
      ],
      "metadata": {
        "id": "rkF2fVM4hs_3"
      }
    },
    {
      "cell_type": "code",
      "execution_count": 1,
      "metadata": {
        "id": "AuYltqoVfOQn"
      },
      "outputs": [],
      "source": [
        "import pandas as pd\n",
        "import numpy as np\n",
        "import matplotlib.pyplot as plt\n",
        "import seaborn as sns"
      ]
    },
    {
      "cell_type": "code",
      "source": [
        "# making the root directory to store api token\n",
        "!mkdir -p /root/.kaggle\n",
        "\n",
        "# moving the api token into the root directory\n",
        "!mv kaggle.json /root/.kaggle\n",
        "\n",
        "# importing kaggle\n",
        "import kaggle"
      ],
      "metadata": {
        "colab": {
          "base_uri": "https://localhost:8080/"
        },
        "id": "v1MUreoFgbOy",
        "outputId": "17956888-fbc1-4cfa-dfda-fdad33598c1c"
      },
      "execution_count": 2,
      "outputs": [
        {
          "output_type": "stream",
          "name": "stdout",
          "text": [
            "Warning: Your Kaggle API key is readable by other users on this system! To fix this, you can run 'chmod 600 /root/.kaggle/kaggle.json'\n"
          ]
        }
      ]
    },
    {
      "cell_type": "code",
      "source": [
        "# downloading the dataset via api\n",
        "!kaggle datasets download -d uciml/pima-indians-diabetes-database"
      ],
      "metadata": {
        "colab": {
          "base_uri": "https://localhost:8080/"
        },
        "id": "_6vzWVvcg9Z0",
        "outputId": "0407ddd8-e836-4f63-faa5-091d30c1d618"
      },
      "execution_count": 3,
      "outputs": [
        {
          "output_type": "stream",
          "name": "stdout",
          "text": [
            "Warning: Your Kaggle API key is readable by other users on this system! To fix this, you can run 'chmod 600 /root/.kaggle/kaggle.json'\n",
            "Downloading pima-indians-diabetes-database.zip to /content\n",
            "  0% 0.00/8.91k [00:00<?, ?B/s]\n",
            "100% 8.91k/8.91k [00:00<00:00, 21.0MB/s]\n"
          ]
        }
      ]
    },
    {
      "cell_type": "code",
      "source": [
        "# unzipping the file\n",
        "!unzip pima-indians-diabetes-database\n"
      ],
      "metadata": {
        "colab": {
          "base_uri": "https://localhost:8080/"
        },
        "id": "1exA9IUlhI-X",
        "outputId": "afdb0af2-bbc5-416c-8501-1ebd9e5321ca"
      },
      "execution_count": 4,
      "outputs": [
        {
          "output_type": "stream",
          "name": "stdout",
          "text": [
            "Archive:  pima-indians-diabetes-database.zip\n",
            "  inflating: diabetes.csv            \n"
          ]
        }
      ]
    },
    {
      "cell_type": "code",
      "source": [
        "# loading dataset into the dataframe\n",
        "df=pd.read_csv('/content/diabetes.csv')\n",
        "df.head()"
      ],
      "metadata": {
        "colab": {
          "base_uri": "https://localhost:8080/",
          "height": 206
        },
        "id": "4BN0r4p_hhP-",
        "outputId": "4a526150-a5dd-4343-a274-3a67e3a71a77"
      },
      "execution_count": 5,
      "outputs": [
        {
          "output_type": "execute_result",
          "data": {
            "text/plain": [
              "   Pregnancies  Glucose  BloodPressure  SkinThickness  Insulin   BMI  \\\n",
              "0            6      148             72             35        0  33.6   \n",
              "1            1       85             66             29        0  26.6   \n",
              "2            8      183             64              0        0  23.3   \n",
              "3            1       89             66             23       94  28.1   \n",
              "4            0      137             40             35      168  43.1   \n",
              "\n",
              "   DiabetesPedigreeFunction  Age  Outcome  \n",
              "0                     0.627   50        1  \n",
              "1                     0.351   31        0  \n",
              "2                     0.672   32        1  \n",
              "3                     0.167   21        0  \n",
              "4                     2.288   33        1  "
            ],
            "text/html": [
              "\n",
              "  <div id=\"df-f0ff47f8-e910-40dd-8573-e20d6287a564\" class=\"colab-df-container\">\n",
              "    <div>\n",
              "<style scoped>\n",
              "    .dataframe tbody tr th:only-of-type {\n",
              "        vertical-align: middle;\n",
              "    }\n",
              "\n",
              "    .dataframe tbody tr th {\n",
              "        vertical-align: top;\n",
              "    }\n",
              "\n",
              "    .dataframe thead th {\n",
              "        text-align: right;\n",
              "    }\n",
              "</style>\n",
              "<table border=\"1\" class=\"dataframe\">\n",
              "  <thead>\n",
              "    <tr style=\"text-align: right;\">\n",
              "      <th></th>\n",
              "      <th>Pregnancies</th>\n",
              "      <th>Glucose</th>\n",
              "      <th>BloodPressure</th>\n",
              "      <th>SkinThickness</th>\n",
              "      <th>Insulin</th>\n",
              "      <th>BMI</th>\n",
              "      <th>DiabetesPedigreeFunction</th>\n",
              "      <th>Age</th>\n",
              "      <th>Outcome</th>\n",
              "    </tr>\n",
              "  </thead>\n",
              "  <tbody>\n",
              "    <tr>\n",
              "      <th>0</th>\n",
              "      <td>6</td>\n",
              "      <td>148</td>\n",
              "      <td>72</td>\n",
              "      <td>35</td>\n",
              "      <td>0</td>\n",
              "      <td>33.6</td>\n",
              "      <td>0.627</td>\n",
              "      <td>50</td>\n",
              "      <td>1</td>\n",
              "    </tr>\n",
              "    <tr>\n",
              "      <th>1</th>\n",
              "      <td>1</td>\n",
              "      <td>85</td>\n",
              "      <td>66</td>\n",
              "      <td>29</td>\n",
              "      <td>0</td>\n",
              "      <td>26.6</td>\n",
              "      <td>0.351</td>\n",
              "      <td>31</td>\n",
              "      <td>0</td>\n",
              "    </tr>\n",
              "    <tr>\n",
              "      <th>2</th>\n",
              "      <td>8</td>\n",
              "      <td>183</td>\n",
              "      <td>64</td>\n",
              "      <td>0</td>\n",
              "      <td>0</td>\n",
              "      <td>23.3</td>\n",
              "      <td>0.672</td>\n",
              "      <td>32</td>\n",
              "      <td>1</td>\n",
              "    </tr>\n",
              "    <tr>\n",
              "      <th>3</th>\n",
              "      <td>1</td>\n",
              "      <td>89</td>\n",
              "      <td>66</td>\n",
              "      <td>23</td>\n",
              "      <td>94</td>\n",
              "      <td>28.1</td>\n",
              "      <td>0.167</td>\n",
              "      <td>21</td>\n",
              "      <td>0</td>\n",
              "    </tr>\n",
              "    <tr>\n",
              "      <th>4</th>\n",
              "      <td>0</td>\n",
              "      <td>137</td>\n",
              "      <td>40</td>\n",
              "      <td>35</td>\n",
              "      <td>168</td>\n",
              "      <td>43.1</td>\n",
              "      <td>2.288</td>\n",
              "      <td>33</td>\n",
              "      <td>1</td>\n",
              "    </tr>\n",
              "  </tbody>\n",
              "</table>\n",
              "</div>\n",
              "    <div class=\"colab-df-buttons\">\n",
              "\n",
              "  <div class=\"colab-df-container\">\n",
              "    <button class=\"colab-df-convert\" onclick=\"convertToInteractive('df-f0ff47f8-e910-40dd-8573-e20d6287a564')\"\n",
              "            title=\"Convert this dataframe to an interactive table.\"\n",
              "            style=\"display:none;\">\n",
              "\n",
              "  <svg xmlns=\"http://www.w3.org/2000/svg\" height=\"24px\" viewBox=\"0 -960 960 960\">\n",
              "    <path d=\"M120-120v-720h720v720H120Zm60-500h600v-160H180v160Zm220 220h160v-160H400v160Zm0 220h160v-160H400v160ZM180-400h160v-160H180v160Zm440 0h160v-160H620v160ZM180-180h160v-160H180v160Zm440 0h160v-160H620v160Z\"/>\n",
              "  </svg>\n",
              "    </button>\n",
              "\n",
              "  <style>\n",
              "    .colab-df-container {\n",
              "      display:flex;\n",
              "      gap: 12px;\n",
              "    }\n",
              "\n",
              "    .colab-df-convert {\n",
              "      background-color: #E8F0FE;\n",
              "      border: none;\n",
              "      border-radius: 50%;\n",
              "      cursor: pointer;\n",
              "      display: none;\n",
              "      fill: #1967D2;\n",
              "      height: 32px;\n",
              "      padding: 0 0 0 0;\n",
              "      width: 32px;\n",
              "    }\n",
              "\n",
              "    .colab-df-convert:hover {\n",
              "      background-color: #E2EBFA;\n",
              "      box-shadow: 0px 1px 2px rgba(60, 64, 67, 0.3), 0px 1px 3px 1px rgba(60, 64, 67, 0.15);\n",
              "      fill: #174EA6;\n",
              "    }\n",
              "\n",
              "    .colab-df-buttons div {\n",
              "      margin-bottom: 4px;\n",
              "    }\n",
              "\n",
              "    [theme=dark] .colab-df-convert {\n",
              "      background-color: #3B4455;\n",
              "      fill: #D2E3FC;\n",
              "    }\n",
              "\n",
              "    [theme=dark] .colab-df-convert:hover {\n",
              "      background-color: #434B5C;\n",
              "      box-shadow: 0px 1px 3px 1px rgba(0, 0, 0, 0.15);\n",
              "      filter: drop-shadow(0px 1px 2px rgba(0, 0, 0, 0.3));\n",
              "      fill: #FFFFFF;\n",
              "    }\n",
              "  </style>\n",
              "\n",
              "    <script>\n",
              "      const buttonEl =\n",
              "        document.querySelector('#df-f0ff47f8-e910-40dd-8573-e20d6287a564 button.colab-df-convert');\n",
              "      buttonEl.style.display =\n",
              "        google.colab.kernel.accessAllowed ? 'block' : 'none';\n",
              "\n",
              "      async function convertToInteractive(key) {\n",
              "        const element = document.querySelector('#df-f0ff47f8-e910-40dd-8573-e20d6287a564');\n",
              "        const dataTable =\n",
              "          await google.colab.kernel.invokeFunction('convertToInteractive',\n",
              "                                                    [key], {});\n",
              "        if (!dataTable) return;\n",
              "\n",
              "        const docLinkHtml = 'Like what you see? Visit the ' +\n",
              "          '<a target=\"_blank\" href=https://colab.research.google.com/notebooks/data_table.ipynb>data table notebook</a>'\n",
              "          + ' to learn more about interactive tables.';\n",
              "        element.innerHTML = '';\n",
              "        dataTable['output_type'] = 'display_data';\n",
              "        await google.colab.output.renderOutput(dataTable, element);\n",
              "        const docLink = document.createElement('div');\n",
              "        docLink.innerHTML = docLinkHtml;\n",
              "        element.appendChild(docLink);\n",
              "      }\n",
              "    </script>\n",
              "  </div>\n",
              "\n",
              "\n",
              "<div id=\"df-0a6e00a6-69e7-4670-8153-a4db608ae3fd\">\n",
              "  <button class=\"colab-df-quickchart\" onclick=\"quickchart('df-0a6e00a6-69e7-4670-8153-a4db608ae3fd')\"\n",
              "            title=\"Suggest charts\"\n",
              "            style=\"display:none;\">\n",
              "\n",
              "<svg xmlns=\"http://www.w3.org/2000/svg\" height=\"24px\"viewBox=\"0 0 24 24\"\n",
              "     width=\"24px\">\n",
              "    <g>\n",
              "        <path d=\"M19 3H5c-1.1 0-2 .9-2 2v14c0 1.1.9 2 2 2h14c1.1 0 2-.9 2-2V5c0-1.1-.9-2-2-2zM9 17H7v-7h2v7zm4 0h-2V7h2v10zm4 0h-2v-4h2v4z\"/>\n",
              "    </g>\n",
              "</svg>\n",
              "  </button>\n",
              "\n",
              "<style>\n",
              "  .colab-df-quickchart {\n",
              "      --bg-color: #E8F0FE;\n",
              "      --fill-color: #1967D2;\n",
              "      --hover-bg-color: #E2EBFA;\n",
              "      --hover-fill-color: #174EA6;\n",
              "      --disabled-fill-color: #AAA;\n",
              "      --disabled-bg-color: #DDD;\n",
              "  }\n",
              "\n",
              "  [theme=dark] .colab-df-quickchart {\n",
              "      --bg-color: #3B4455;\n",
              "      --fill-color: #D2E3FC;\n",
              "      --hover-bg-color: #434B5C;\n",
              "      --hover-fill-color: #FFFFFF;\n",
              "      --disabled-bg-color: #3B4455;\n",
              "      --disabled-fill-color: #666;\n",
              "  }\n",
              "\n",
              "  .colab-df-quickchart {\n",
              "    background-color: var(--bg-color);\n",
              "    border: none;\n",
              "    border-radius: 50%;\n",
              "    cursor: pointer;\n",
              "    display: none;\n",
              "    fill: var(--fill-color);\n",
              "    height: 32px;\n",
              "    padding: 0;\n",
              "    width: 32px;\n",
              "  }\n",
              "\n",
              "  .colab-df-quickchart:hover {\n",
              "    background-color: var(--hover-bg-color);\n",
              "    box-shadow: 0 1px 2px rgba(60, 64, 67, 0.3), 0 1px 3px 1px rgba(60, 64, 67, 0.15);\n",
              "    fill: var(--button-hover-fill-color);\n",
              "  }\n",
              "\n",
              "  .colab-df-quickchart-complete:disabled,\n",
              "  .colab-df-quickchart-complete:disabled:hover {\n",
              "    background-color: var(--disabled-bg-color);\n",
              "    fill: var(--disabled-fill-color);\n",
              "    box-shadow: none;\n",
              "  }\n",
              "\n",
              "  .colab-df-spinner {\n",
              "    border: 2px solid var(--fill-color);\n",
              "    border-color: transparent;\n",
              "    border-bottom-color: var(--fill-color);\n",
              "    animation:\n",
              "      spin 1s steps(1) infinite;\n",
              "  }\n",
              "\n",
              "  @keyframes spin {\n",
              "    0% {\n",
              "      border-color: transparent;\n",
              "      border-bottom-color: var(--fill-color);\n",
              "      border-left-color: var(--fill-color);\n",
              "    }\n",
              "    20% {\n",
              "      border-color: transparent;\n",
              "      border-left-color: var(--fill-color);\n",
              "      border-top-color: var(--fill-color);\n",
              "    }\n",
              "    30% {\n",
              "      border-color: transparent;\n",
              "      border-left-color: var(--fill-color);\n",
              "      border-top-color: var(--fill-color);\n",
              "      border-right-color: var(--fill-color);\n",
              "    }\n",
              "    40% {\n",
              "      border-color: transparent;\n",
              "      border-right-color: var(--fill-color);\n",
              "      border-top-color: var(--fill-color);\n",
              "    }\n",
              "    60% {\n",
              "      border-color: transparent;\n",
              "      border-right-color: var(--fill-color);\n",
              "    }\n",
              "    80% {\n",
              "      border-color: transparent;\n",
              "      border-right-color: var(--fill-color);\n",
              "      border-bottom-color: var(--fill-color);\n",
              "    }\n",
              "    90% {\n",
              "      border-color: transparent;\n",
              "      border-bottom-color: var(--fill-color);\n",
              "    }\n",
              "  }\n",
              "</style>\n",
              "\n",
              "  <script>\n",
              "    async function quickchart(key) {\n",
              "      const quickchartButtonEl =\n",
              "        document.querySelector('#' + key + ' button');\n",
              "      quickchartButtonEl.disabled = true;  // To prevent multiple clicks.\n",
              "      quickchartButtonEl.classList.add('colab-df-spinner');\n",
              "      try {\n",
              "        const charts = await google.colab.kernel.invokeFunction(\n",
              "            'suggestCharts', [key], {});\n",
              "      } catch (error) {\n",
              "        console.error('Error during call to suggestCharts:', error);\n",
              "      }\n",
              "      quickchartButtonEl.classList.remove('colab-df-spinner');\n",
              "      quickchartButtonEl.classList.add('colab-df-quickchart-complete');\n",
              "    }\n",
              "    (() => {\n",
              "      let quickchartButtonEl =\n",
              "        document.querySelector('#df-0a6e00a6-69e7-4670-8153-a4db608ae3fd button');\n",
              "      quickchartButtonEl.style.display =\n",
              "        google.colab.kernel.accessAllowed ? 'block' : 'none';\n",
              "    })();\n",
              "  </script>\n",
              "</div>\n",
              "\n",
              "    </div>\n",
              "  </div>\n"
            ],
            "application/vnd.google.colaboratory.intrinsic+json": {
              "type": "dataframe",
              "variable_name": "df",
              "summary": "{\n  \"name\": \"df\",\n  \"rows\": 768,\n  \"fields\": [\n    {\n      \"column\": \"Pregnancies\",\n      \"properties\": {\n        \"dtype\": \"number\",\n        \"std\": 3,\n        \"min\": 0,\n        \"max\": 17,\n        \"num_unique_values\": 17,\n        \"samples\": [\n          6,\n          1,\n          3\n        ],\n        \"semantic_type\": \"\",\n        \"description\": \"\"\n      }\n    },\n    {\n      \"column\": \"Glucose\",\n      \"properties\": {\n        \"dtype\": \"number\",\n        \"std\": 31,\n        \"min\": 0,\n        \"max\": 199,\n        \"num_unique_values\": 136,\n        \"samples\": [\n          151,\n          101,\n          112\n        ],\n        \"semantic_type\": \"\",\n        \"description\": \"\"\n      }\n    },\n    {\n      \"column\": \"BloodPressure\",\n      \"properties\": {\n        \"dtype\": \"number\",\n        \"std\": 19,\n        \"min\": 0,\n        \"max\": 122,\n        \"num_unique_values\": 47,\n        \"samples\": [\n          86,\n          46,\n          85\n        ],\n        \"semantic_type\": \"\",\n        \"description\": \"\"\n      }\n    },\n    {\n      \"column\": \"SkinThickness\",\n      \"properties\": {\n        \"dtype\": \"number\",\n        \"std\": 15,\n        \"min\": 0,\n        \"max\": 99,\n        \"num_unique_values\": 51,\n        \"samples\": [\n          7,\n          12,\n          48\n        ],\n        \"semantic_type\": \"\",\n        \"description\": \"\"\n      }\n    },\n    {\n      \"column\": \"Insulin\",\n      \"properties\": {\n        \"dtype\": \"number\",\n        \"std\": 115,\n        \"min\": 0,\n        \"max\": 846,\n        \"num_unique_values\": 186,\n        \"samples\": [\n          52,\n          41,\n          183\n        ],\n        \"semantic_type\": \"\",\n        \"description\": \"\"\n      }\n    },\n    {\n      \"column\": \"BMI\",\n      \"properties\": {\n        \"dtype\": \"number\",\n        \"std\": 7.884160320375446,\n        \"min\": 0.0,\n        \"max\": 67.1,\n        \"num_unique_values\": 248,\n        \"samples\": [\n          19.9,\n          31.0,\n          38.1\n        ],\n        \"semantic_type\": \"\",\n        \"description\": \"\"\n      }\n    },\n    {\n      \"column\": \"DiabetesPedigreeFunction\",\n      \"properties\": {\n        \"dtype\": \"number\",\n        \"std\": 0.3313285950127749,\n        \"min\": 0.078,\n        \"max\": 2.42,\n        \"num_unique_values\": 517,\n        \"samples\": [\n          1.731,\n          0.426,\n          0.138\n        ],\n        \"semantic_type\": \"\",\n        \"description\": \"\"\n      }\n    },\n    {\n      \"column\": \"Age\",\n      \"properties\": {\n        \"dtype\": \"number\",\n        \"std\": 11,\n        \"min\": 21,\n        \"max\": 81,\n        \"num_unique_values\": 52,\n        \"samples\": [\n          60,\n          47,\n          72\n        ],\n        \"semantic_type\": \"\",\n        \"description\": \"\"\n      }\n    },\n    {\n      \"column\": \"Outcome\",\n      \"properties\": {\n        \"dtype\": \"number\",\n        \"std\": 0,\n        \"min\": 0,\n        \"max\": 1,\n        \"num_unique_values\": 2,\n        \"samples\": [\n          0,\n          1\n        ],\n        \"semantic_type\": \"\",\n        \"description\": \"\"\n      }\n    }\n  ]\n}"
            }
          },
          "metadata": {},
          "execution_count": 5
        }
      ]
    },
    {
      "cell_type": "code",
      "source": [
        "df.info()"
      ],
      "metadata": {
        "colab": {
          "base_uri": "https://localhost:8080/"
        },
        "id": "9b7dr5QduB7v",
        "outputId": "4c7b66a2-134b-44ec-886e-00c437cc8dbf"
      },
      "execution_count": 6,
      "outputs": [
        {
          "output_type": "stream",
          "name": "stdout",
          "text": [
            "<class 'pandas.core.frame.DataFrame'>\n",
            "RangeIndex: 768 entries, 0 to 767\n",
            "Data columns (total 9 columns):\n",
            " #   Column                    Non-Null Count  Dtype  \n",
            "---  ------                    --------------  -----  \n",
            " 0   Pregnancies               768 non-null    int64  \n",
            " 1   Glucose                   768 non-null    int64  \n",
            " 2   BloodPressure             768 non-null    int64  \n",
            " 3   SkinThickness             768 non-null    int64  \n",
            " 4   Insulin                   768 non-null    int64  \n",
            " 5   BMI                       768 non-null    float64\n",
            " 6   DiabetesPedigreeFunction  768 non-null    float64\n",
            " 7   Age                       768 non-null    int64  \n",
            " 8   Outcome                   768 non-null    int64  \n",
            "dtypes: float64(2), int64(7)\n",
            "memory usage: 54.1 KB\n"
          ]
        }
      ]
    },
    {
      "cell_type": "code",
      "source": [
        "df.corr()['Outcome']"
      ],
      "metadata": {
        "colab": {
          "base_uri": "https://localhost:8080/"
        },
        "id": "VpRrAE5miAEW",
        "outputId": "975074fc-d6e9-43d3-a78c-94a4af3d6bb2"
      },
      "execution_count": 7,
      "outputs": [
        {
          "output_type": "execute_result",
          "data": {
            "text/plain": [
              "Pregnancies                 0.221898\n",
              "Glucose                     0.466581\n",
              "BloodPressure               0.065068\n",
              "SkinThickness               0.074752\n",
              "Insulin                     0.130548\n",
              "BMI                         0.292695\n",
              "DiabetesPedigreeFunction    0.173844\n",
              "Age                         0.238356\n",
              "Outcome                     1.000000\n",
              "Name: Outcome, dtype: float64"
            ]
          },
          "metadata": {},
          "execution_count": 7
        }
      ]
    },
    {
      "cell_type": "code",
      "source": [
        "X=df.iloc[:,:-1].values\n",
        "y=df.iloc[:,-1].values"
      ],
      "metadata": {
        "id": "he94ni3olfFs"
      },
      "execution_count": 8,
      "outputs": []
    },
    {
      "cell_type": "code",
      "source": [
        "from sklearn.preprocessing import StandardScaler\n",
        "\n",
        "scale=StandardScaler()\n",
        "X=scale.fit_transform(X)"
      ],
      "metadata": {
        "id": "4R6_meqIpKS5"
      },
      "execution_count": 9,
      "outputs": []
    },
    {
      "cell_type": "code",
      "source": [
        "from sklearn.model_selection import train_test_split\n",
        "x_train, x_test, y_train, y_test = train_test_split(X,y, test_size=0.2, random_state=1)"
      ],
      "metadata": {
        "id": "5_Mg0LtRqQER"
      },
      "execution_count": 10,
      "outputs": []
    },
    {
      "cell_type": "code",
      "source": [
        "import tensorflow\n",
        "from tensorflow import keras\n",
        "from keras import Sequential\n",
        "from keras.layers import Dense, Dropout"
      ],
      "metadata": {
        "id": "m5d6W3MftfZP"
      },
      "execution_count": 52,
      "outputs": []
    },
    {
      "cell_type": "code",
      "source": [
        "model= Sequential()\n",
        "\n",
        "model.add(Dense(64, activation='relu', input_dim=8))\n",
        "model.add(Dense(32, activation='relu'))\n",
        "model.add(Dense(1, activation='sigmoid'))\n",
        "model.summary()"
      ],
      "metadata": {
        "colab": {
          "base_uri": "https://localhost:8080/"
        },
        "id": "l1-vv1B4tvU3",
        "outputId": "8aae3264-6080-4f41-f68a-d42a092e79f6"
      },
      "execution_count": 12,
      "outputs": [
        {
          "output_type": "stream",
          "name": "stdout",
          "text": [
            "Model: \"sequential\"\n",
            "_________________________________________________________________\n",
            " Layer (type)                Output Shape              Param #   \n",
            "=================================================================\n",
            " dense (Dense)               (None, 64)                576       \n",
            "                                                                 \n",
            " dense_1 (Dense)             (None, 32)                2080      \n",
            "                                                                 \n",
            " dense_2 (Dense)             (None, 1)                 33        \n",
            "                                                                 \n",
            "=================================================================\n",
            "Total params: 2689 (10.50 KB)\n",
            "Trainable params: 2689 (10.50 KB)\n",
            "Non-trainable params: 0 (0.00 Byte)\n",
            "_________________________________________________________________\n"
          ]
        }
      ]
    },
    {
      "cell_type": "code",
      "source": [
        "# compiling the model\n",
        "model.compile(optimizer='Adam', loss='binary_crossentropy', metrics=['accuracy'])"
      ],
      "metadata": {
        "id": "mpB5cPCKvbTA"
      },
      "execution_count": 13,
      "outputs": []
    },
    {
      "cell_type": "code",
      "source": [
        "# fitting the model\n",
        "model.fit(x_train, y_train, batch_size=32, epochs=150, validation_data=(x_test, y_test))"
      ],
      "metadata": {
        "colab": {
          "base_uri": "https://localhost:8080/"
        },
        "id": "Q-TOUHmhv3cQ",
        "outputId": "ec8f4a12-6833-491e-f34b-53de4d31d89f"
      },
      "execution_count": 14,
      "outputs": [
        {
          "output_type": "stream",
          "name": "stdout",
          "text": [
            "Epoch 1/150\n",
            "20/20 [==============================] - 1s 15ms/step - loss: 0.6542 - accuracy: 0.6270 - val_loss: 0.5994 - val_accuracy: 0.7338\n",
            "Epoch 2/150\n",
            "20/20 [==============================] - 0s 5ms/step - loss: 0.5545 - accuracy: 0.7362 - val_loss: 0.5317 - val_accuracy: 0.7792\n",
            "Epoch 3/150\n",
            "20/20 [==============================] - 0s 4ms/step - loss: 0.5022 - accuracy: 0.7410 - val_loss: 0.4988 - val_accuracy: 0.7792\n",
            "Epoch 4/150\n",
            "20/20 [==============================] - 0s 4ms/step - loss: 0.4768 - accuracy: 0.7671 - val_loss: 0.4822 - val_accuracy: 0.7922\n",
            "Epoch 5/150\n",
            "20/20 [==============================] - 0s 4ms/step - loss: 0.4628 - accuracy: 0.7736 - val_loss: 0.4786 - val_accuracy: 0.7922\n",
            "Epoch 6/150\n",
            "20/20 [==============================] - 0s 4ms/step - loss: 0.4524 - accuracy: 0.7818 - val_loss: 0.4747 - val_accuracy: 0.7922\n",
            "Epoch 7/150\n",
            "20/20 [==============================] - 0s 4ms/step - loss: 0.4465 - accuracy: 0.7785 - val_loss: 0.4723 - val_accuracy: 0.7857\n",
            "Epoch 8/150\n",
            "20/20 [==============================] - 0s 3ms/step - loss: 0.4413 - accuracy: 0.7850 - val_loss: 0.4725 - val_accuracy: 0.7857\n",
            "Epoch 9/150\n",
            "20/20 [==============================] - 0s 3ms/step - loss: 0.4403 - accuracy: 0.7850 - val_loss: 0.4722 - val_accuracy: 0.7987\n",
            "Epoch 10/150\n",
            "20/20 [==============================] - 0s 4ms/step - loss: 0.4350 - accuracy: 0.7818 - val_loss: 0.4699 - val_accuracy: 0.7987\n",
            "Epoch 11/150\n",
            "20/20 [==============================] - 0s 3ms/step - loss: 0.4313 - accuracy: 0.7850 - val_loss: 0.4746 - val_accuracy: 0.7857\n",
            "Epoch 12/150\n",
            "20/20 [==============================] - 0s 4ms/step - loss: 0.4306 - accuracy: 0.7866 - val_loss: 0.4747 - val_accuracy: 0.7857\n",
            "Epoch 13/150\n",
            "20/20 [==============================] - 0s 3ms/step - loss: 0.4294 - accuracy: 0.7785 - val_loss: 0.4726 - val_accuracy: 0.7857\n",
            "Epoch 14/150\n",
            "20/20 [==============================] - 0s 4ms/step - loss: 0.4245 - accuracy: 0.7980 - val_loss: 0.4713 - val_accuracy: 0.7987\n",
            "Epoch 15/150\n",
            "20/20 [==============================] - 0s 4ms/step - loss: 0.4218 - accuracy: 0.7948 - val_loss: 0.4722 - val_accuracy: 0.7922\n",
            "Epoch 16/150\n",
            "20/20 [==============================] - 0s 5ms/step - loss: 0.4202 - accuracy: 0.7980 - val_loss: 0.4698 - val_accuracy: 0.7922\n",
            "Epoch 17/150\n",
            "20/20 [==============================] - 0s 3ms/step - loss: 0.4188 - accuracy: 0.7964 - val_loss: 0.4699 - val_accuracy: 0.7857\n",
            "Epoch 18/150\n",
            "20/20 [==============================] - 0s 4ms/step - loss: 0.4151 - accuracy: 0.8029 - val_loss: 0.4700 - val_accuracy: 0.7857\n",
            "Epoch 19/150\n",
            "20/20 [==============================] - 0s 5ms/step - loss: 0.4130 - accuracy: 0.8062 - val_loss: 0.4685 - val_accuracy: 0.7857\n",
            "Epoch 20/150\n",
            "20/20 [==============================] - 0s 3ms/step - loss: 0.4129 - accuracy: 0.8062 - val_loss: 0.4650 - val_accuracy: 0.7857\n",
            "Epoch 21/150\n",
            "20/20 [==============================] - 0s 4ms/step - loss: 0.4098 - accuracy: 0.8013 - val_loss: 0.4642 - val_accuracy: 0.8052\n",
            "Epoch 22/150\n",
            "20/20 [==============================] - 0s 3ms/step - loss: 0.4075 - accuracy: 0.7964 - val_loss: 0.4671 - val_accuracy: 0.7922\n",
            "Epoch 23/150\n",
            "20/20 [==============================] - 0s 3ms/step - loss: 0.4061 - accuracy: 0.8111 - val_loss: 0.4640 - val_accuracy: 0.7922\n",
            "Epoch 24/150\n",
            "20/20 [==============================] - 0s 4ms/step - loss: 0.4047 - accuracy: 0.8046 - val_loss: 0.4682 - val_accuracy: 0.7922\n",
            "Epoch 25/150\n",
            "20/20 [==============================] - 0s 3ms/step - loss: 0.4020 - accuracy: 0.8062 - val_loss: 0.4713 - val_accuracy: 0.7857\n",
            "Epoch 26/150\n",
            "20/20 [==============================] - 0s 4ms/step - loss: 0.4017 - accuracy: 0.8013 - val_loss: 0.4681 - val_accuracy: 0.7922\n",
            "Epoch 27/150\n",
            "20/20 [==============================] - 0s 4ms/step - loss: 0.3998 - accuracy: 0.8111 - val_loss: 0.4665 - val_accuracy: 0.7922\n",
            "Epoch 28/150\n",
            "20/20 [==============================] - 0s 4ms/step - loss: 0.3963 - accuracy: 0.8192 - val_loss: 0.4614 - val_accuracy: 0.7922\n",
            "Epoch 29/150\n",
            "20/20 [==============================] - 0s 4ms/step - loss: 0.3951 - accuracy: 0.8094 - val_loss: 0.4647 - val_accuracy: 0.7922\n",
            "Epoch 30/150\n",
            "20/20 [==============================] - 0s 4ms/step - loss: 0.3967 - accuracy: 0.8094 - val_loss: 0.4704 - val_accuracy: 0.7987\n",
            "Epoch 31/150\n",
            "20/20 [==============================] - 0s 4ms/step - loss: 0.3929 - accuracy: 0.8257 - val_loss: 0.4690 - val_accuracy: 0.7857\n",
            "Epoch 32/150\n",
            "20/20 [==============================] - 0s 4ms/step - loss: 0.3896 - accuracy: 0.8241 - val_loss: 0.4661 - val_accuracy: 0.7792\n",
            "Epoch 33/150\n",
            "20/20 [==============================] - 0s 4ms/step - loss: 0.3896 - accuracy: 0.8078 - val_loss: 0.4649 - val_accuracy: 0.7922\n",
            "Epoch 34/150\n",
            "20/20 [==============================] - 0s 5ms/step - loss: 0.3870 - accuracy: 0.8225 - val_loss: 0.4653 - val_accuracy: 0.7922\n",
            "Epoch 35/150\n",
            "20/20 [==============================] - 0s 4ms/step - loss: 0.3860 - accuracy: 0.8225 - val_loss: 0.4651 - val_accuracy: 0.7922\n",
            "Epoch 36/150\n",
            "20/20 [==============================] - 0s 4ms/step - loss: 0.3840 - accuracy: 0.8257 - val_loss: 0.4669 - val_accuracy: 0.7922\n",
            "Epoch 37/150\n",
            "20/20 [==============================] - 0s 3ms/step - loss: 0.3827 - accuracy: 0.8290 - val_loss: 0.4658 - val_accuracy: 0.7857\n",
            "Epoch 38/150\n",
            "20/20 [==============================] - 0s 4ms/step - loss: 0.3826 - accuracy: 0.8274 - val_loss: 0.4668 - val_accuracy: 0.7987\n",
            "Epoch 39/150\n",
            "20/20 [==============================] - 0s 4ms/step - loss: 0.3773 - accuracy: 0.8274 - val_loss: 0.4692 - val_accuracy: 0.7922\n",
            "Epoch 40/150\n",
            "20/20 [==============================] - 0s 3ms/step - loss: 0.3775 - accuracy: 0.8208 - val_loss: 0.4688 - val_accuracy: 0.7922\n",
            "Epoch 41/150\n",
            "20/20 [==============================] - 0s 4ms/step - loss: 0.3756 - accuracy: 0.8274 - val_loss: 0.4706 - val_accuracy: 0.7922\n",
            "Epoch 42/150\n",
            "20/20 [==============================] - 0s 4ms/step - loss: 0.3753 - accuracy: 0.8257 - val_loss: 0.4715 - val_accuracy: 0.7922\n",
            "Epoch 43/150\n",
            "20/20 [==============================] - 0s 4ms/step - loss: 0.3743 - accuracy: 0.8290 - val_loss: 0.4668 - val_accuracy: 0.7987\n",
            "Epoch 44/150\n",
            "20/20 [==============================] - 0s 4ms/step - loss: 0.3748 - accuracy: 0.8225 - val_loss: 0.4633 - val_accuracy: 0.7987\n",
            "Epoch 45/150\n",
            "20/20 [==============================] - 0s 3ms/step - loss: 0.3703 - accuracy: 0.8322 - val_loss: 0.4702 - val_accuracy: 0.7922\n",
            "Epoch 46/150\n",
            "20/20 [==============================] - 0s 3ms/step - loss: 0.3689 - accuracy: 0.8355 - val_loss: 0.4789 - val_accuracy: 0.8052\n",
            "Epoch 47/150\n",
            "20/20 [==============================] - 0s 4ms/step - loss: 0.3685 - accuracy: 0.8274 - val_loss: 0.4760 - val_accuracy: 0.7987\n",
            "Epoch 48/150\n",
            "20/20 [==============================] - 0s 4ms/step - loss: 0.3678 - accuracy: 0.8241 - val_loss: 0.4725 - val_accuracy: 0.8052\n",
            "Epoch 49/150\n",
            "20/20 [==============================] - 0s 4ms/step - loss: 0.3660 - accuracy: 0.8274 - val_loss: 0.4690 - val_accuracy: 0.7987\n",
            "Epoch 50/150\n",
            "20/20 [==============================] - 0s 4ms/step - loss: 0.3658 - accuracy: 0.8355 - val_loss: 0.4746 - val_accuracy: 0.7987\n",
            "Epoch 51/150\n",
            "20/20 [==============================] - 0s 3ms/step - loss: 0.3633 - accuracy: 0.8355 - val_loss: 0.4685 - val_accuracy: 0.8052\n",
            "Epoch 52/150\n",
            "20/20 [==============================] - 0s 4ms/step - loss: 0.3590 - accuracy: 0.8388 - val_loss: 0.4746 - val_accuracy: 0.7922\n",
            "Epoch 53/150\n",
            "20/20 [==============================] - 0s 3ms/step - loss: 0.3577 - accuracy: 0.8453 - val_loss: 0.4725 - val_accuracy: 0.7987\n",
            "Epoch 54/150\n",
            "20/20 [==============================] - 0s 4ms/step - loss: 0.3568 - accuracy: 0.8355 - val_loss: 0.4786 - val_accuracy: 0.8052\n",
            "Epoch 55/150\n",
            "20/20 [==============================] - 0s 3ms/step - loss: 0.3547 - accuracy: 0.8371 - val_loss: 0.4781 - val_accuracy: 0.8052\n",
            "Epoch 56/150\n",
            "20/20 [==============================] - 0s 4ms/step - loss: 0.3525 - accuracy: 0.8388 - val_loss: 0.4812 - val_accuracy: 0.8052\n",
            "Epoch 57/150\n",
            "20/20 [==============================] - 0s 4ms/step - loss: 0.3517 - accuracy: 0.8518 - val_loss: 0.4805 - val_accuracy: 0.7987\n",
            "Epoch 58/150\n",
            "20/20 [==============================] - 0s 3ms/step - loss: 0.3486 - accuracy: 0.8469 - val_loss: 0.4699 - val_accuracy: 0.7987\n",
            "Epoch 59/150\n",
            "20/20 [==============================] - 0s 4ms/step - loss: 0.3503 - accuracy: 0.8436 - val_loss: 0.4770 - val_accuracy: 0.7987\n",
            "Epoch 60/150\n",
            "20/20 [==============================] - 0s 3ms/step - loss: 0.3502 - accuracy: 0.8485 - val_loss: 0.4745 - val_accuracy: 0.8117\n",
            "Epoch 61/150\n",
            "20/20 [==============================] - 0s 4ms/step - loss: 0.3446 - accuracy: 0.8453 - val_loss: 0.4762 - val_accuracy: 0.8052\n",
            "Epoch 62/150\n",
            "20/20 [==============================] - 0s 4ms/step - loss: 0.3427 - accuracy: 0.8567 - val_loss: 0.4787 - val_accuracy: 0.8117\n",
            "Epoch 63/150\n",
            "20/20 [==============================] - 0s 4ms/step - loss: 0.3404 - accuracy: 0.8502 - val_loss: 0.4819 - val_accuracy: 0.8052\n",
            "Epoch 64/150\n",
            "20/20 [==============================] - 0s 3ms/step - loss: 0.3431 - accuracy: 0.8567 - val_loss: 0.4846 - val_accuracy: 0.8117\n",
            "Epoch 65/150\n",
            "20/20 [==============================] - 0s 4ms/step - loss: 0.3383 - accuracy: 0.8567 - val_loss: 0.4798 - val_accuracy: 0.8052\n",
            "Epoch 66/150\n",
            "20/20 [==============================] - 0s 4ms/step - loss: 0.3394 - accuracy: 0.8404 - val_loss: 0.4789 - val_accuracy: 0.7987\n",
            "Epoch 67/150\n",
            "20/20 [==============================] - 0s 4ms/step - loss: 0.3383 - accuracy: 0.8583 - val_loss: 0.4828 - val_accuracy: 0.8052\n",
            "Epoch 68/150\n",
            "20/20 [==============================] - 0s 4ms/step - loss: 0.3344 - accuracy: 0.8550 - val_loss: 0.4801 - val_accuracy: 0.8052\n",
            "Epoch 69/150\n",
            "20/20 [==============================] - 0s 4ms/step - loss: 0.3293 - accuracy: 0.8583 - val_loss: 0.4847 - val_accuracy: 0.8117\n",
            "Epoch 70/150\n",
            "20/20 [==============================] - 0s 4ms/step - loss: 0.3317 - accuracy: 0.8599 - val_loss: 0.4892 - val_accuracy: 0.8052\n",
            "Epoch 71/150\n",
            "20/20 [==============================] - 0s 3ms/step - loss: 0.3307 - accuracy: 0.8583 - val_loss: 0.4858 - val_accuracy: 0.7987\n",
            "Epoch 72/150\n",
            "20/20 [==============================] - 0s 4ms/step - loss: 0.3264 - accuracy: 0.8550 - val_loss: 0.4892 - val_accuracy: 0.7987\n",
            "Epoch 73/150\n",
            "20/20 [==============================] - 0s 4ms/step - loss: 0.3253 - accuracy: 0.8616 - val_loss: 0.4909 - val_accuracy: 0.8052\n",
            "Epoch 74/150\n",
            "20/20 [==============================] - 0s 4ms/step - loss: 0.3225 - accuracy: 0.8616 - val_loss: 0.4857 - val_accuracy: 0.8117\n",
            "Epoch 75/150\n",
            "20/20 [==============================] - 0s 4ms/step - loss: 0.3218 - accuracy: 0.8648 - val_loss: 0.4855 - val_accuracy: 0.8052\n",
            "Epoch 76/150\n",
            "20/20 [==============================] - 0s 4ms/step - loss: 0.3209 - accuracy: 0.8599 - val_loss: 0.4871 - val_accuracy: 0.8052\n",
            "Epoch 77/150\n",
            "20/20 [==============================] - 0s 4ms/step - loss: 0.3166 - accuracy: 0.8664 - val_loss: 0.4950 - val_accuracy: 0.8117\n",
            "Epoch 78/150\n",
            "20/20 [==============================] - 0s 3ms/step - loss: 0.3163 - accuracy: 0.8632 - val_loss: 0.4884 - val_accuracy: 0.8117\n",
            "Epoch 79/150\n",
            "20/20 [==============================] - 0s 4ms/step - loss: 0.3147 - accuracy: 0.8681 - val_loss: 0.4970 - val_accuracy: 0.8052\n",
            "Epoch 80/150\n",
            "20/20 [==============================] - 0s 4ms/step - loss: 0.3140 - accuracy: 0.8681 - val_loss: 0.4941 - val_accuracy: 0.8117\n",
            "Epoch 81/150\n",
            "20/20 [==============================] - 0s 5ms/step - loss: 0.3133 - accuracy: 0.8648 - val_loss: 0.5023 - val_accuracy: 0.8182\n",
            "Epoch 82/150\n",
            "20/20 [==============================] - 0s 4ms/step - loss: 0.3118 - accuracy: 0.8664 - val_loss: 0.4884 - val_accuracy: 0.8117\n",
            "Epoch 83/150\n",
            "20/20 [==============================] - 0s 3ms/step - loss: 0.3088 - accuracy: 0.8697 - val_loss: 0.5021 - val_accuracy: 0.7987\n",
            "Epoch 84/150\n",
            "20/20 [==============================] - 0s 3ms/step - loss: 0.3090 - accuracy: 0.8746 - val_loss: 0.5021 - val_accuracy: 0.8052\n",
            "Epoch 85/150\n",
            "20/20 [==============================] - 0s 4ms/step - loss: 0.3099 - accuracy: 0.8648 - val_loss: 0.4937 - val_accuracy: 0.8117\n",
            "Epoch 86/150\n",
            "20/20 [==============================] - 0s 5ms/step - loss: 0.3033 - accuracy: 0.8779 - val_loss: 0.5011 - val_accuracy: 0.7987\n",
            "Epoch 87/150\n",
            "20/20 [==============================] - 0s 6ms/step - loss: 0.3032 - accuracy: 0.8746 - val_loss: 0.5076 - val_accuracy: 0.8247\n",
            "Epoch 88/150\n",
            "20/20 [==============================] - 0s 5ms/step - loss: 0.3012 - accuracy: 0.8681 - val_loss: 0.5077 - val_accuracy: 0.8117\n",
            "Epoch 89/150\n",
            "20/20 [==============================] - 0s 5ms/step - loss: 0.2970 - accuracy: 0.8779 - val_loss: 0.5059 - val_accuracy: 0.8182\n",
            "Epoch 90/150\n",
            "20/20 [==============================] - 0s 5ms/step - loss: 0.2972 - accuracy: 0.8779 - val_loss: 0.5098 - val_accuracy: 0.8182\n",
            "Epoch 91/150\n",
            "20/20 [==============================] - 0s 5ms/step - loss: 0.2931 - accuracy: 0.8795 - val_loss: 0.5109 - val_accuracy: 0.8117\n",
            "Epoch 92/150\n",
            "20/20 [==============================] - 0s 7ms/step - loss: 0.2931 - accuracy: 0.8795 - val_loss: 0.5175 - val_accuracy: 0.8182\n",
            "Epoch 93/150\n",
            "20/20 [==============================] - 0s 5ms/step - loss: 0.2912 - accuracy: 0.8860 - val_loss: 0.5218 - val_accuracy: 0.8117\n",
            "Epoch 94/150\n",
            "20/20 [==============================] - 0s 5ms/step - loss: 0.2901 - accuracy: 0.8844 - val_loss: 0.5125 - val_accuracy: 0.8182\n",
            "Epoch 95/150\n",
            "20/20 [==============================] - 0s 6ms/step - loss: 0.2884 - accuracy: 0.8860 - val_loss: 0.5230 - val_accuracy: 0.8117\n",
            "Epoch 96/150\n",
            "20/20 [==============================] - 0s 5ms/step - loss: 0.2891 - accuracy: 0.8827 - val_loss: 0.5150 - val_accuracy: 0.8182\n",
            "Epoch 97/150\n",
            "20/20 [==============================] - 0s 5ms/step - loss: 0.2849 - accuracy: 0.8779 - val_loss: 0.5232 - val_accuracy: 0.8052\n",
            "Epoch 98/150\n",
            "20/20 [==============================] - 0s 5ms/step - loss: 0.2824 - accuracy: 0.8925 - val_loss: 0.5173 - val_accuracy: 0.8247\n",
            "Epoch 99/150\n",
            "20/20 [==============================] - 0s 5ms/step - loss: 0.2805 - accuracy: 0.8909 - val_loss: 0.5242 - val_accuracy: 0.7987\n",
            "Epoch 100/150\n",
            "20/20 [==============================] - 0s 5ms/step - loss: 0.2834 - accuracy: 0.8990 - val_loss: 0.5279 - val_accuracy: 0.8247\n",
            "Epoch 101/150\n",
            "20/20 [==============================] - 0s 6ms/step - loss: 0.2765 - accuracy: 0.9039 - val_loss: 0.5205 - val_accuracy: 0.8247\n",
            "Epoch 102/150\n",
            "20/20 [==============================] - 0s 5ms/step - loss: 0.2771 - accuracy: 0.8925 - val_loss: 0.5350 - val_accuracy: 0.7987\n",
            "Epoch 103/150\n",
            "20/20 [==============================] - 0s 5ms/step - loss: 0.2727 - accuracy: 0.8974 - val_loss: 0.5307 - val_accuracy: 0.8247\n",
            "Epoch 104/150\n",
            "20/20 [==============================] - 0s 6ms/step - loss: 0.2719 - accuracy: 0.8958 - val_loss: 0.5330 - val_accuracy: 0.8117\n",
            "Epoch 105/150\n",
            "20/20 [==============================] - 0s 5ms/step - loss: 0.2721 - accuracy: 0.8925 - val_loss: 0.5293 - val_accuracy: 0.8117\n",
            "Epoch 106/150\n",
            "20/20 [==============================] - 0s 5ms/step - loss: 0.2716 - accuracy: 0.8958 - val_loss: 0.5260 - val_accuracy: 0.8117\n",
            "Epoch 107/150\n",
            "20/20 [==============================] - 0s 5ms/step - loss: 0.2709 - accuracy: 0.8893 - val_loss: 0.5409 - val_accuracy: 0.7922\n",
            "Epoch 108/150\n",
            "20/20 [==============================] - 0s 5ms/step - loss: 0.2664 - accuracy: 0.8974 - val_loss: 0.5379 - val_accuracy: 0.8182\n",
            "Epoch 109/150\n",
            "20/20 [==============================] - 0s 6ms/step - loss: 0.2655 - accuracy: 0.8990 - val_loss: 0.5440 - val_accuracy: 0.7987\n",
            "Epoch 110/150\n",
            "20/20 [==============================] - 0s 6ms/step - loss: 0.2598 - accuracy: 0.8990 - val_loss: 0.5461 - val_accuracy: 0.7987\n",
            "Epoch 111/150\n",
            "20/20 [==============================] - 0s 6ms/step - loss: 0.2635 - accuracy: 0.8990 - val_loss: 0.5488 - val_accuracy: 0.8182\n",
            "Epoch 112/150\n",
            "20/20 [==============================] - 0s 5ms/step - loss: 0.2590 - accuracy: 0.9088 - val_loss: 0.5535 - val_accuracy: 0.8052\n",
            "Epoch 113/150\n",
            "20/20 [==============================] - 0s 4ms/step - loss: 0.2571 - accuracy: 0.9007 - val_loss: 0.5506 - val_accuracy: 0.8052\n",
            "Epoch 114/150\n",
            "20/20 [==============================] - 0s 5ms/step - loss: 0.2553 - accuracy: 0.9039 - val_loss: 0.5653 - val_accuracy: 0.7922\n",
            "Epoch 115/150\n",
            "20/20 [==============================] - 0s 4ms/step - loss: 0.2544 - accuracy: 0.9121 - val_loss: 0.5656 - val_accuracy: 0.8247\n",
            "Epoch 116/150\n",
            "20/20 [==============================] - 0s 3ms/step - loss: 0.2578 - accuracy: 0.9104 - val_loss: 0.5608 - val_accuracy: 0.7857\n",
            "Epoch 117/150\n",
            "20/20 [==============================] - 0s 4ms/step - loss: 0.2482 - accuracy: 0.9121 - val_loss: 0.5607 - val_accuracy: 0.7987\n",
            "Epoch 118/150\n",
            "20/20 [==============================] - 0s 4ms/step - loss: 0.2477 - accuracy: 0.9169 - val_loss: 0.5588 - val_accuracy: 0.7987\n",
            "Epoch 119/150\n",
            "20/20 [==============================] - 0s 3ms/step - loss: 0.2468 - accuracy: 0.9072 - val_loss: 0.5610 - val_accuracy: 0.7987\n",
            "Epoch 120/150\n",
            "20/20 [==============================] - 0s 4ms/step - loss: 0.2469 - accuracy: 0.9137 - val_loss: 0.5621 - val_accuracy: 0.7792\n",
            "Epoch 121/150\n",
            "20/20 [==============================] - 0s 4ms/step - loss: 0.2452 - accuracy: 0.9039 - val_loss: 0.5724 - val_accuracy: 0.7857\n",
            "Epoch 122/150\n",
            "20/20 [==============================] - 0s 4ms/step - loss: 0.2461 - accuracy: 0.9235 - val_loss: 0.5714 - val_accuracy: 0.8052\n",
            "Epoch 123/150\n",
            "20/20 [==============================] - 0s 3ms/step - loss: 0.2427 - accuracy: 0.9186 - val_loss: 0.5681 - val_accuracy: 0.8117\n",
            "Epoch 124/150\n",
            "20/20 [==============================] - 0s 4ms/step - loss: 0.2430 - accuracy: 0.9186 - val_loss: 0.5712 - val_accuracy: 0.7857\n",
            "Epoch 125/150\n",
            "20/20 [==============================] - 0s 4ms/step - loss: 0.2396 - accuracy: 0.9169 - val_loss: 0.5795 - val_accuracy: 0.7922\n",
            "Epoch 126/150\n",
            "20/20 [==============================] - 0s 4ms/step - loss: 0.2342 - accuracy: 0.9202 - val_loss: 0.5778 - val_accuracy: 0.8052\n",
            "Epoch 127/150\n",
            "20/20 [==============================] - 0s 4ms/step - loss: 0.2323 - accuracy: 0.9235 - val_loss: 0.5906 - val_accuracy: 0.8117\n",
            "Epoch 128/150\n",
            "20/20 [==============================] - 0s 3ms/step - loss: 0.2353 - accuracy: 0.9153 - val_loss: 0.5920 - val_accuracy: 0.7792\n",
            "Epoch 129/150\n",
            "20/20 [==============================] - 0s 3ms/step - loss: 0.2271 - accuracy: 0.9267 - val_loss: 0.5841 - val_accuracy: 0.8117\n",
            "Epoch 130/150\n",
            "20/20 [==============================] - 0s 4ms/step - loss: 0.2276 - accuracy: 0.9218 - val_loss: 0.5908 - val_accuracy: 0.8052\n",
            "Epoch 131/150\n",
            "20/20 [==============================] - 0s 3ms/step - loss: 0.2266 - accuracy: 0.9235 - val_loss: 0.5861 - val_accuracy: 0.7987\n",
            "Epoch 132/150\n",
            "20/20 [==============================] - 0s 4ms/step - loss: 0.2271 - accuracy: 0.9186 - val_loss: 0.5890 - val_accuracy: 0.8052\n",
            "Epoch 133/150\n",
            "20/20 [==============================] - 0s 4ms/step - loss: 0.2199 - accuracy: 0.9283 - val_loss: 0.5903 - val_accuracy: 0.7922\n",
            "Epoch 134/150\n",
            "20/20 [==============================] - 0s 4ms/step - loss: 0.2252 - accuracy: 0.9267 - val_loss: 0.5927 - val_accuracy: 0.7792\n",
            "Epoch 135/150\n",
            "20/20 [==============================] - 0s 4ms/step - loss: 0.2211 - accuracy: 0.9300 - val_loss: 0.5975 - val_accuracy: 0.7727\n",
            "Epoch 136/150\n",
            "20/20 [==============================] - 0s 4ms/step - loss: 0.2231 - accuracy: 0.9365 - val_loss: 0.6020 - val_accuracy: 0.8052\n",
            "Epoch 137/150\n",
            "20/20 [==============================] - 0s 4ms/step - loss: 0.2158 - accuracy: 0.9316 - val_loss: 0.5936 - val_accuracy: 0.7792\n",
            "Epoch 138/150\n",
            "20/20 [==============================] - 0s 4ms/step - loss: 0.2157 - accuracy: 0.9251 - val_loss: 0.6090 - val_accuracy: 0.7922\n",
            "Epoch 139/150\n",
            "20/20 [==============================] - 0s 4ms/step - loss: 0.2113 - accuracy: 0.9332 - val_loss: 0.6093 - val_accuracy: 0.7987\n",
            "Epoch 140/150\n",
            "20/20 [==============================] - 0s 4ms/step - loss: 0.2108 - accuracy: 0.9332 - val_loss: 0.6151 - val_accuracy: 0.7922\n",
            "Epoch 141/150\n",
            "20/20 [==============================] - 0s 4ms/step - loss: 0.2084 - accuracy: 0.9430 - val_loss: 0.6116 - val_accuracy: 0.7922\n",
            "Epoch 142/150\n",
            "20/20 [==============================] - 0s 4ms/step - loss: 0.2076 - accuracy: 0.9349 - val_loss: 0.6134 - val_accuracy: 0.7857\n",
            "Epoch 143/150\n",
            "20/20 [==============================] - 0s 4ms/step - loss: 0.2083 - accuracy: 0.9316 - val_loss: 0.6254 - val_accuracy: 0.7857\n",
            "Epoch 144/150\n",
            "20/20 [==============================] - 0s 4ms/step - loss: 0.2161 - accuracy: 0.9316 - val_loss: 0.6129 - val_accuracy: 0.7922\n",
            "Epoch 145/150\n",
            "20/20 [==============================] - 0s 4ms/step - loss: 0.2115 - accuracy: 0.9235 - val_loss: 0.6288 - val_accuracy: 0.8117\n",
            "Epoch 146/150\n",
            "20/20 [==============================] - 0s 5ms/step - loss: 0.2021 - accuracy: 0.9365 - val_loss: 0.6261 - val_accuracy: 0.7987\n",
            "Epoch 147/150\n",
            "20/20 [==============================] - 0s 4ms/step - loss: 0.1989 - accuracy: 0.9381 - val_loss: 0.6261 - val_accuracy: 0.7857\n",
            "Epoch 148/150\n",
            "20/20 [==============================] - 0s 4ms/step - loss: 0.1938 - accuracy: 0.9397 - val_loss: 0.6344 - val_accuracy: 0.8052\n",
            "Epoch 149/150\n",
            "20/20 [==============================] - 0s 4ms/step - loss: 0.1994 - accuracy: 0.9349 - val_loss: 0.6350 - val_accuracy: 0.8052\n",
            "Epoch 150/150\n",
            "20/20 [==============================] - 0s 4ms/step - loss: 0.1956 - accuracy: 0.9397 - val_loss: 0.6425 - val_accuracy: 0.7922\n"
          ]
        },
        {
          "output_type": "execute_result",
          "data": {
            "text/plain": [
              "<keras.src.callbacks.History at 0x7d53c21b2a10>"
            ]
          },
          "metadata": {},
          "execution_count": 14
        }
      ]
    },
    {
      "cell_type": "markdown",
      "source": [
        "### **Installing and importing keras_tuner**"
      ],
      "metadata": {
        "id": "AzUC2JX2cqJy"
      }
    },
    {
      "cell_type": "code",
      "source": [
        "# installing keras-tuner\n",
        "!pip install -q keras-tuner"
      ],
      "metadata": {
        "id": "R4K-6VpKwEQ8",
        "colab": {
          "base_uri": "https://localhost:8080/"
        },
        "outputId": "c6a5df58-7727-4505-dc4c-a3dbf84fb612"
      },
      "execution_count": 15,
      "outputs": [
        {
          "output_type": "stream",
          "name": "stdout",
          "text": [
            "\u001b[?25l     \u001b[90m━━━━━━━━━━━━━━━━━━━━━━━━━━━━━━━━━━━━━━━━\u001b[0m \u001b[32m0.0/129.1 kB\u001b[0m \u001b[31m?\u001b[0m eta \u001b[36m-:--:--\u001b[0m\r\u001b[2K     \u001b[90m━━━━━━━━━━━━━━━━━━━━━━━━━━━━━━━━━━━━━━━━\u001b[0m \u001b[32m129.1/129.1 kB\u001b[0m \u001b[31m3.8 MB/s\u001b[0m eta \u001b[36m0:00:00\u001b[0m\n",
            "\u001b[?25h"
          ]
        }
      ]
    },
    {
      "cell_type": "code",
      "source": [
        "# importing keras_tuner\n",
        "import keras_tuner as kt"
      ],
      "metadata": {
        "id": "KF60aH7uUsm7"
      },
      "execution_count": 16,
      "outputs": []
    },
    {
      "cell_type": "markdown",
      "source": [
        "### **Selecting optimizer**"
      ],
      "metadata": {
        "id": "MRYqqsDIciBM"
      }
    },
    {
      "cell_type": "code",
      "source": [
        "def build_model(hyperpara):\n",
        "  # define mode\n",
        "  model= Sequential()\n",
        "\n",
        "  #add layers\n",
        "  model.add(Dense(64, activation='relu', input_dim=8))\n",
        "  model.add(Dense(32, activation='relu'))\n",
        "  model.add(Dense(1, activation='sigmoid'))\n",
        "\n",
        "  # setting up optimiers to be tested\n",
        "  optimizer= hyperpara.Choice('optimizer', values= ['adam', 'sgd', 'rmsprop', 'adadelta'])\n",
        "\n",
        "  #compile model\n",
        "  model.compile(optimizer=optimizer, loss='binary_crossentropy', metrics=['accuracy'])\n",
        "\n",
        "  return model"
      ],
      "metadata": {
        "id": "0Ys-OQh0UzAH"
      },
      "execution_count": 17,
      "outputs": []
    },
    {
      "cell_type": "code",
      "source": [
        "# setting up a tuner object\n",
        "tuner= kt.RandomSearch(build_model,\n",
        "                       objective='val_accuracy',\n",
        "                       max_trials=5)"
      ],
      "metadata": {
        "id": "tsrJHZ-CYLyp"
      },
      "execution_count": 18,
      "outputs": []
    },
    {
      "cell_type": "code",
      "source": [
        "# searching for the best parameter\n",
        "tuner.search(x_train, y_train, epochs=5, validation_data=(x_test, y_test))"
      ],
      "metadata": {
        "colab": {
          "base_uri": "https://localhost:8080/"
        },
        "id": "M-KohQvschp6",
        "outputId": "b97e4d49-9aa4-45c2-ccbc-3c22fb4f15e7"
      },
      "execution_count": 19,
      "outputs": [
        {
          "output_type": "stream",
          "name": "stdout",
          "text": [
            "Trial 4 Complete [00h 00m 02s]\n",
            "val_accuracy: 0.5454545617103577\n",
            "\n",
            "Best val_accuracy So Far: 0.7922077775001526\n",
            "Total elapsed time: 00h 00m 09s\n"
          ]
        }
      ]
    },
    {
      "cell_type": "code",
      "source": [
        "# extracting the best parameter\n",
        "tuner.get_best_hyperparameters()[0].values"
      ],
      "metadata": {
        "colab": {
          "base_uri": "https://localhost:8080/"
        },
        "id": "g2wtga0tobwT",
        "outputId": "03b6a0c5-2972-4632-8411-03ba451346e4"
      },
      "execution_count": 20,
      "outputs": [
        {
          "output_type": "execute_result",
          "data": {
            "text/plain": [
              "{'optimizer': 'adam'}"
            ]
          },
          "metadata": {},
          "execution_count": 20
        }
      ]
    },
    {
      "cell_type": "code",
      "source": [
        "# extracting the best model\n",
        "best_model= tuner.get_best_models(num_models=1)[0]"
      ],
      "metadata": {
        "id": "wMAtFI2KnU6z"
      },
      "execution_count": 21,
      "outputs": []
    },
    {
      "cell_type": "code",
      "source": [
        "# best model summary\n",
        "best_model.summary()"
      ],
      "metadata": {
        "colab": {
          "base_uri": "https://localhost:8080/"
        },
        "id": "ZS7YIPryotV2",
        "outputId": "46f6daaf-a937-4461-d98f-271be415a79b"
      },
      "execution_count": 22,
      "outputs": [
        {
          "output_type": "stream",
          "name": "stdout",
          "text": [
            "Model: \"sequential\"\n",
            "_________________________________________________________________\n",
            " Layer (type)                Output Shape              Param #   \n",
            "=================================================================\n",
            " dense (Dense)               (None, 64)                576       \n",
            "                                                                 \n",
            " dense_1 (Dense)             (None, 32)                2080      \n",
            "                                                                 \n",
            " dense_2 (Dense)             (None, 1)                 33        \n",
            "                                                                 \n",
            "=================================================================\n",
            "Total params: 2689 (10.50 KB)\n",
            "Trainable params: 2689 (10.50 KB)\n",
            "Non-trainable params: 0 (0.00 Byte)\n",
            "_________________________________________________________________\n"
          ]
        }
      ]
    },
    {
      "cell_type": "code",
      "source": [
        "# training the best model\n",
        "best_model.fit(x_train, y_train, batch_size=32, epochs=150, initial_epoch=6, validation_data=(x_test, y_test))"
      ],
      "metadata": {
        "id": "cs-_mbC40gqk",
        "colab": {
          "base_uri": "https://localhost:8080/"
        },
        "outputId": "df771925-2c13-4f09-94d2-363c0379c3bc"
      },
      "execution_count": 23,
      "outputs": [
        {
          "output_type": "stream",
          "name": "stdout",
          "text": [
            "Epoch 7/150\n",
            "20/20 [==============================] - 1s 13ms/step - loss: 0.5012 - accuracy: 0.7590 - val_loss: 0.4754 - val_accuracy: 0.7597\n",
            "Epoch 8/150\n",
            "20/20 [==============================] - 0s 4ms/step - loss: 0.4776 - accuracy: 0.7655 - val_loss: 0.4579 - val_accuracy: 0.7662\n",
            "Epoch 9/150\n",
            "20/20 [==============================] - 0s 3ms/step - loss: 0.4623 - accuracy: 0.7801 - val_loss: 0.4522 - val_accuracy: 0.7727\n",
            "Epoch 10/150\n",
            "20/20 [==============================] - 0s 4ms/step - loss: 0.4545 - accuracy: 0.7915 - val_loss: 0.4504 - val_accuracy: 0.7727\n",
            "Epoch 11/150\n",
            "20/20 [==============================] - 0s 4ms/step - loss: 0.4505 - accuracy: 0.7850 - val_loss: 0.4467 - val_accuracy: 0.7792\n",
            "Epoch 12/150\n",
            "20/20 [==============================] - 0s 4ms/step - loss: 0.4453 - accuracy: 0.7883 - val_loss: 0.4539 - val_accuracy: 0.7662\n",
            "Epoch 13/150\n",
            "20/20 [==============================] - 0s 4ms/step - loss: 0.4420 - accuracy: 0.7899 - val_loss: 0.4496 - val_accuracy: 0.7792\n",
            "Epoch 14/150\n",
            "20/20 [==============================] - 0s 4ms/step - loss: 0.4403 - accuracy: 0.7866 - val_loss: 0.4460 - val_accuracy: 0.7922\n",
            "Epoch 15/150\n",
            "20/20 [==============================] - 0s 3ms/step - loss: 0.4349 - accuracy: 0.7964 - val_loss: 0.4507 - val_accuracy: 0.7727\n",
            "Epoch 16/150\n",
            "20/20 [==============================] - 0s 4ms/step - loss: 0.4333 - accuracy: 0.7964 - val_loss: 0.4489 - val_accuracy: 0.7727\n",
            "Epoch 17/150\n",
            "20/20 [==============================] - 0s 3ms/step - loss: 0.4319 - accuracy: 0.7980 - val_loss: 0.4492 - val_accuracy: 0.7727\n",
            "Epoch 18/150\n",
            "20/20 [==============================] - 0s 5ms/step - loss: 0.4271 - accuracy: 0.7899 - val_loss: 0.4530 - val_accuracy: 0.7727\n",
            "Epoch 19/150\n",
            "20/20 [==============================] - 0s 4ms/step - loss: 0.4265 - accuracy: 0.7883 - val_loss: 0.4531 - val_accuracy: 0.7792\n",
            "Epoch 20/150\n",
            "20/20 [==============================] - 0s 5ms/step - loss: 0.4229 - accuracy: 0.7899 - val_loss: 0.4516 - val_accuracy: 0.7792\n",
            "Epoch 21/150\n",
            "20/20 [==============================] - 0s 5ms/step - loss: 0.4238 - accuracy: 0.7948 - val_loss: 0.4501 - val_accuracy: 0.7792\n",
            "Epoch 22/150\n",
            "20/20 [==============================] - 0s 6ms/step - loss: 0.4202 - accuracy: 0.8013 - val_loss: 0.4534 - val_accuracy: 0.7792\n",
            "Epoch 23/150\n",
            "20/20 [==============================] - 0s 5ms/step - loss: 0.4182 - accuracy: 0.7980 - val_loss: 0.4500 - val_accuracy: 0.7987\n",
            "Epoch 24/150\n",
            "20/20 [==============================] - 0s 5ms/step - loss: 0.4192 - accuracy: 0.7980 - val_loss: 0.4522 - val_accuracy: 0.7792\n",
            "Epoch 25/150\n",
            "20/20 [==============================] - 0s 5ms/step - loss: 0.4141 - accuracy: 0.8127 - val_loss: 0.4511 - val_accuracy: 0.7987\n",
            "Epoch 26/150\n",
            "20/20 [==============================] - 0s 5ms/step - loss: 0.4122 - accuracy: 0.8013 - val_loss: 0.4526 - val_accuracy: 0.7727\n",
            "Epoch 27/150\n",
            "20/20 [==============================] - 0s 6ms/step - loss: 0.4094 - accuracy: 0.8111 - val_loss: 0.4533 - val_accuracy: 0.7857\n",
            "Epoch 28/150\n",
            "20/20 [==============================] - 0s 5ms/step - loss: 0.4086 - accuracy: 0.8046 - val_loss: 0.4537 - val_accuracy: 0.7857\n",
            "Epoch 29/150\n",
            "20/20 [==============================] - 0s 6ms/step - loss: 0.4075 - accuracy: 0.8111 - val_loss: 0.4539 - val_accuracy: 0.7792\n",
            "Epoch 30/150\n",
            "20/20 [==============================] - 0s 5ms/step - loss: 0.4057 - accuracy: 0.8029 - val_loss: 0.4553 - val_accuracy: 0.7792\n",
            "Epoch 31/150\n",
            "20/20 [==============================] - 0s 5ms/step - loss: 0.4052 - accuracy: 0.8094 - val_loss: 0.4510 - val_accuracy: 0.7987\n",
            "Epoch 32/150\n",
            "20/20 [==============================] - 0s 5ms/step - loss: 0.4025 - accuracy: 0.8111 - val_loss: 0.4522 - val_accuracy: 0.7922\n",
            "Epoch 33/150\n",
            "20/20 [==============================] - 0s 4ms/step - loss: 0.4010 - accuracy: 0.8094 - val_loss: 0.4544 - val_accuracy: 0.7857\n",
            "Epoch 34/150\n",
            "20/20 [==============================] - 0s 5ms/step - loss: 0.3989 - accuracy: 0.8176 - val_loss: 0.4519 - val_accuracy: 0.7922\n",
            "Epoch 35/150\n",
            "20/20 [==============================] - 0s 5ms/step - loss: 0.3963 - accuracy: 0.8208 - val_loss: 0.4528 - val_accuracy: 0.7857\n",
            "Epoch 36/150\n",
            "20/20 [==============================] - 0s 5ms/step - loss: 0.3959 - accuracy: 0.8160 - val_loss: 0.4570 - val_accuracy: 0.7922\n",
            "Epoch 37/150\n",
            "20/20 [==============================] - 0s 6ms/step - loss: 0.3945 - accuracy: 0.8192 - val_loss: 0.4562 - val_accuracy: 0.7857\n",
            "Epoch 38/150\n",
            "20/20 [==============================] - 0s 6ms/step - loss: 0.3945 - accuracy: 0.8208 - val_loss: 0.4563 - val_accuracy: 0.7727\n",
            "Epoch 39/150\n",
            "20/20 [==============================] - 0s 6ms/step - loss: 0.3904 - accuracy: 0.8192 - val_loss: 0.4540 - val_accuracy: 0.7922\n",
            "Epoch 40/150\n",
            "20/20 [==============================] - 0s 5ms/step - loss: 0.3906 - accuracy: 0.8274 - val_loss: 0.4551 - val_accuracy: 0.7922\n",
            "Epoch 41/150\n",
            "20/20 [==============================] - 0s 6ms/step - loss: 0.3869 - accuracy: 0.8225 - val_loss: 0.4553 - val_accuracy: 0.7922\n",
            "Epoch 42/150\n",
            "20/20 [==============================] - 0s 5ms/step - loss: 0.3848 - accuracy: 0.8274 - val_loss: 0.4535 - val_accuracy: 0.7857\n",
            "Epoch 43/150\n",
            "20/20 [==============================] - 0s 5ms/step - loss: 0.3842 - accuracy: 0.8290 - val_loss: 0.4552 - val_accuracy: 0.7922\n",
            "Epoch 44/150\n",
            "20/20 [==============================] - 0s 5ms/step - loss: 0.3826 - accuracy: 0.8274 - val_loss: 0.4569 - val_accuracy: 0.7792\n",
            "Epoch 45/150\n",
            "20/20 [==============================] - 0s 6ms/step - loss: 0.3792 - accuracy: 0.8322 - val_loss: 0.4549 - val_accuracy: 0.7922\n",
            "Epoch 46/150\n",
            "20/20 [==============================] - 0s 5ms/step - loss: 0.3797 - accuracy: 0.8274 - val_loss: 0.4556 - val_accuracy: 0.8052\n",
            "Epoch 47/150\n",
            "20/20 [==============================] - 0s 3ms/step - loss: 0.3764 - accuracy: 0.8322 - val_loss: 0.4577 - val_accuracy: 0.7987\n",
            "Epoch 48/150\n",
            "20/20 [==============================] - 0s 4ms/step - loss: 0.3751 - accuracy: 0.8339 - val_loss: 0.4571 - val_accuracy: 0.8117\n",
            "Epoch 49/150\n",
            "20/20 [==============================] - 0s 3ms/step - loss: 0.3752 - accuracy: 0.8274 - val_loss: 0.4581 - val_accuracy: 0.7987\n",
            "Epoch 50/150\n",
            "20/20 [==============================] - 0s 3ms/step - loss: 0.3729 - accuracy: 0.8339 - val_loss: 0.4616 - val_accuracy: 0.7922\n",
            "Epoch 51/150\n",
            "20/20 [==============================] - 0s 4ms/step - loss: 0.3705 - accuracy: 0.8371 - val_loss: 0.4612 - val_accuracy: 0.7987\n",
            "Epoch 52/150\n",
            "20/20 [==============================] - 0s 3ms/step - loss: 0.3687 - accuracy: 0.8371 - val_loss: 0.4527 - val_accuracy: 0.7987\n",
            "Epoch 53/150\n",
            "20/20 [==============================] - 0s 4ms/step - loss: 0.3672 - accuracy: 0.8339 - val_loss: 0.4577 - val_accuracy: 0.7987\n",
            "Epoch 54/150\n",
            "20/20 [==============================] - 0s 4ms/step - loss: 0.3668 - accuracy: 0.8339 - val_loss: 0.4676 - val_accuracy: 0.7922\n",
            "Epoch 55/150\n",
            "20/20 [==============================] - 0s 4ms/step - loss: 0.3635 - accuracy: 0.8355 - val_loss: 0.4619 - val_accuracy: 0.7987\n",
            "Epoch 56/150\n",
            "20/20 [==============================] - 0s 3ms/step - loss: 0.3630 - accuracy: 0.8469 - val_loss: 0.4558 - val_accuracy: 0.8117\n",
            "Epoch 57/150\n",
            "20/20 [==============================] - 0s 4ms/step - loss: 0.3627 - accuracy: 0.8388 - val_loss: 0.4596 - val_accuracy: 0.7987\n",
            "Epoch 58/150\n",
            "20/20 [==============================] - 0s 4ms/step - loss: 0.3576 - accuracy: 0.8485 - val_loss: 0.4633 - val_accuracy: 0.7987\n",
            "Epoch 59/150\n",
            "20/20 [==============================] - 0s 3ms/step - loss: 0.3552 - accuracy: 0.8453 - val_loss: 0.4618 - val_accuracy: 0.7987\n",
            "Epoch 60/150\n",
            "20/20 [==============================] - 0s 4ms/step - loss: 0.3541 - accuracy: 0.8453 - val_loss: 0.4657 - val_accuracy: 0.8117\n",
            "Epoch 61/150\n",
            "20/20 [==============================] - 0s 4ms/step - loss: 0.3540 - accuracy: 0.8453 - val_loss: 0.4608 - val_accuracy: 0.7987\n",
            "Epoch 62/150\n",
            "20/20 [==============================] - 0s 3ms/step - loss: 0.3514 - accuracy: 0.8502 - val_loss: 0.4645 - val_accuracy: 0.8052\n",
            "Epoch 63/150\n",
            "20/20 [==============================] - 0s 4ms/step - loss: 0.3493 - accuracy: 0.8436 - val_loss: 0.4647 - val_accuracy: 0.8052\n",
            "Epoch 64/150\n",
            "20/20 [==============================] - 0s 4ms/step - loss: 0.3511 - accuracy: 0.8436 - val_loss: 0.4629 - val_accuracy: 0.8117\n",
            "Epoch 65/150\n",
            "20/20 [==============================] - 0s 3ms/step - loss: 0.3443 - accuracy: 0.8550 - val_loss: 0.4635 - val_accuracy: 0.8117\n",
            "Epoch 66/150\n",
            "20/20 [==============================] - 0s 3ms/step - loss: 0.3437 - accuracy: 0.8453 - val_loss: 0.4681 - val_accuracy: 0.8052\n",
            "Epoch 67/150\n",
            "20/20 [==============================] - 0s 4ms/step - loss: 0.3416 - accuracy: 0.8550 - val_loss: 0.4655 - val_accuracy: 0.8052\n",
            "Epoch 68/150\n",
            "20/20 [==============================] - 0s 3ms/step - loss: 0.3406 - accuracy: 0.8502 - val_loss: 0.4668 - val_accuracy: 0.7987\n",
            "Epoch 69/150\n",
            "20/20 [==============================] - 0s 3ms/step - loss: 0.3393 - accuracy: 0.8518 - val_loss: 0.4687 - val_accuracy: 0.8052\n",
            "Epoch 70/150\n",
            "20/20 [==============================] - 0s 3ms/step - loss: 0.3366 - accuracy: 0.8599 - val_loss: 0.4691 - val_accuracy: 0.8117\n",
            "Epoch 71/150\n",
            "20/20 [==============================] - 0s 4ms/step - loss: 0.3372 - accuracy: 0.8567 - val_loss: 0.4687 - val_accuracy: 0.8052\n",
            "Epoch 72/150\n",
            "20/20 [==============================] - 0s 4ms/step - loss: 0.3336 - accuracy: 0.8648 - val_loss: 0.4669 - val_accuracy: 0.8117\n",
            "Epoch 73/150\n",
            "20/20 [==============================] - 0s 5ms/step - loss: 0.3324 - accuracy: 0.8632 - val_loss: 0.4681 - val_accuracy: 0.8052\n",
            "Epoch 74/150\n",
            "20/20 [==============================] - 0s 4ms/step - loss: 0.3312 - accuracy: 0.8599 - val_loss: 0.4690 - val_accuracy: 0.7922\n",
            "Epoch 75/150\n",
            "20/20 [==============================] - 0s 3ms/step - loss: 0.3276 - accuracy: 0.8681 - val_loss: 0.4710 - val_accuracy: 0.8182\n",
            "Epoch 76/150\n",
            "20/20 [==============================] - 0s 4ms/step - loss: 0.3304 - accuracy: 0.8583 - val_loss: 0.4697 - val_accuracy: 0.8052\n",
            "Epoch 77/150\n",
            "20/20 [==============================] - 0s 3ms/step - loss: 0.3257 - accuracy: 0.8730 - val_loss: 0.4714 - val_accuracy: 0.8117\n",
            "Epoch 78/150\n",
            "20/20 [==============================] - 0s 4ms/step - loss: 0.3265 - accuracy: 0.8632 - val_loss: 0.4672 - val_accuracy: 0.8117\n",
            "Epoch 79/150\n",
            "20/20 [==============================] - 0s 4ms/step - loss: 0.3203 - accuracy: 0.8632 - val_loss: 0.4741 - val_accuracy: 0.8182\n",
            "Epoch 80/150\n",
            "20/20 [==============================] - 0s 4ms/step - loss: 0.3208 - accuracy: 0.8827 - val_loss: 0.4725 - val_accuracy: 0.8052\n",
            "Epoch 81/150\n",
            "20/20 [==============================] - 0s 3ms/step - loss: 0.3226 - accuracy: 0.8632 - val_loss: 0.4737 - val_accuracy: 0.8182\n",
            "Epoch 82/150\n",
            "20/20 [==============================] - 0s 4ms/step - loss: 0.3153 - accuracy: 0.8681 - val_loss: 0.4745 - val_accuracy: 0.8117\n",
            "Epoch 83/150\n",
            "20/20 [==============================] - 0s 4ms/step - loss: 0.3146 - accuracy: 0.8697 - val_loss: 0.4801 - val_accuracy: 0.8117\n",
            "Epoch 84/150\n",
            "20/20 [==============================] - 0s 3ms/step - loss: 0.3134 - accuracy: 0.8648 - val_loss: 0.4758 - val_accuracy: 0.8117\n",
            "Epoch 85/150\n",
            "20/20 [==============================] - 0s 4ms/step - loss: 0.3096 - accuracy: 0.8795 - val_loss: 0.4860 - val_accuracy: 0.8182\n",
            "Epoch 86/150\n",
            "20/20 [==============================] - 0s 3ms/step - loss: 0.3127 - accuracy: 0.8811 - val_loss: 0.4867 - val_accuracy: 0.8052\n",
            "Epoch 87/150\n",
            "20/20 [==============================] - 0s 4ms/step - loss: 0.3062 - accuracy: 0.8746 - val_loss: 0.4772 - val_accuracy: 0.8117\n",
            "Epoch 88/150\n",
            "20/20 [==============================] - 0s 3ms/step - loss: 0.3064 - accuracy: 0.8811 - val_loss: 0.4862 - val_accuracy: 0.8052\n",
            "Epoch 89/150\n",
            "20/20 [==============================] - 0s 4ms/step - loss: 0.3018 - accuracy: 0.8844 - val_loss: 0.4901 - val_accuracy: 0.8052\n",
            "Epoch 90/150\n",
            "20/20 [==============================] - 0s 4ms/step - loss: 0.3016 - accuracy: 0.8795 - val_loss: 0.4842 - val_accuracy: 0.8117\n",
            "Epoch 91/150\n",
            "20/20 [==============================] - 0s 3ms/step - loss: 0.3012 - accuracy: 0.8909 - val_loss: 0.4890 - val_accuracy: 0.8182\n",
            "Epoch 92/150\n",
            "20/20 [==============================] - 0s 4ms/step - loss: 0.2963 - accuracy: 0.8876 - val_loss: 0.4914 - val_accuracy: 0.8182\n",
            "Epoch 93/150\n",
            "20/20 [==============================] - 0s 4ms/step - loss: 0.2953 - accuracy: 0.8811 - val_loss: 0.4863 - val_accuracy: 0.8182\n",
            "Epoch 94/150\n",
            "20/20 [==============================] - 0s 3ms/step - loss: 0.2993 - accuracy: 0.8730 - val_loss: 0.4913 - val_accuracy: 0.8182\n",
            "Epoch 95/150\n",
            "20/20 [==============================] - 0s 3ms/step - loss: 0.2987 - accuracy: 0.8795 - val_loss: 0.4866 - val_accuracy: 0.8182\n",
            "Epoch 96/150\n",
            "20/20 [==============================] - 0s 4ms/step - loss: 0.2875 - accuracy: 0.8893 - val_loss: 0.4851 - val_accuracy: 0.8182\n",
            "Epoch 97/150\n",
            "20/20 [==============================] - 0s 3ms/step - loss: 0.2887 - accuracy: 0.8844 - val_loss: 0.4955 - val_accuracy: 0.8052\n",
            "Epoch 98/150\n",
            "20/20 [==============================] - 0s 5ms/step - loss: 0.2882 - accuracy: 0.8893 - val_loss: 0.4961 - val_accuracy: 0.7987\n",
            "Epoch 99/150\n",
            "20/20 [==============================] - 0s 3ms/step - loss: 0.2838 - accuracy: 0.8958 - val_loss: 0.4980 - val_accuracy: 0.8052\n",
            "Epoch 100/150\n",
            "20/20 [==============================] - 0s 3ms/step - loss: 0.2840 - accuracy: 0.8974 - val_loss: 0.4945 - val_accuracy: 0.7987\n",
            "Epoch 101/150\n",
            "20/20 [==============================] - 0s 4ms/step - loss: 0.2881 - accuracy: 0.8893 - val_loss: 0.4910 - val_accuracy: 0.8052\n",
            "Epoch 102/150\n",
            "20/20 [==============================] - 0s 4ms/step - loss: 0.2822 - accuracy: 0.8909 - val_loss: 0.4943 - val_accuracy: 0.8182\n",
            "Epoch 103/150\n",
            "20/20 [==============================] - 0s 4ms/step - loss: 0.2802 - accuracy: 0.8974 - val_loss: 0.4983 - val_accuracy: 0.7922\n",
            "Epoch 104/150\n",
            "20/20 [==============================] - 0s 4ms/step - loss: 0.2768 - accuracy: 0.8876 - val_loss: 0.4987 - val_accuracy: 0.7987\n",
            "Epoch 105/150\n",
            "20/20 [==============================] - 0s 3ms/step - loss: 0.2762 - accuracy: 0.8844 - val_loss: 0.5143 - val_accuracy: 0.8052\n",
            "Epoch 106/150\n",
            "20/20 [==============================] - 0s 4ms/step - loss: 0.2747 - accuracy: 0.9007 - val_loss: 0.5101 - val_accuracy: 0.7922\n",
            "Epoch 107/150\n",
            "20/20 [==============================] - 0s 4ms/step - loss: 0.2718 - accuracy: 0.8958 - val_loss: 0.5012 - val_accuracy: 0.8052\n",
            "Epoch 108/150\n",
            "20/20 [==============================] - 0s 3ms/step - loss: 0.2713 - accuracy: 0.8941 - val_loss: 0.5147 - val_accuracy: 0.8052\n",
            "Epoch 109/150\n",
            "20/20 [==============================] - 0s 3ms/step - loss: 0.2667 - accuracy: 0.8941 - val_loss: 0.5037 - val_accuracy: 0.8052\n",
            "Epoch 110/150\n",
            "20/20 [==============================] - 0s 4ms/step - loss: 0.2669 - accuracy: 0.8990 - val_loss: 0.5036 - val_accuracy: 0.8247\n",
            "Epoch 111/150\n",
            "20/20 [==============================] - 0s 4ms/step - loss: 0.2626 - accuracy: 0.8990 - val_loss: 0.5072 - val_accuracy: 0.8182\n",
            "Epoch 112/150\n",
            "20/20 [==============================] - 0s 4ms/step - loss: 0.2669 - accuracy: 0.9039 - val_loss: 0.5233 - val_accuracy: 0.7922\n",
            "Epoch 113/150\n",
            "20/20 [==============================] - 0s 4ms/step - loss: 0.2619 - accuracy: 0.8958 - val_loss: 0.5127 - val_accuracy: 0.7987\n",
            "Epoch 114/150\n",
            "20/20 [==============================] - 0s 3ms/step - loss: 0.2607 - accuracy: 0.8990 - val_loss: 0.5134 - val_accuracy: 0.8117\n",
            "Epoch 115/150\n",
            "20/20 [==============================] - 0s 4ms/step - loss: 0.2605 - accuracy: 0.9088 - val_loss: 0.5282 - val_accuracy: 0.7857\n",
            "Epoch 116/150\n",
            "20/20 [==============================] - 0s 3ms/step - loss: 0.2551 - accuracy: 0.9072 - val_loss: 0.5090 - val_accuracy: 0.8117\n",
            "Epoch 117/150\n",
            "20/20 [==============================] - 0s 3ms/step - loss: 0.2630 - accuracy: 0.9072 - val_loss: 0.5254 - val_accuracy: 0.7857\n",
            "Epoch 118/150\n",
            "20/20 [==============================] - 0s 4ms/step - loss: 0.2561 - accuracy: 0.9055 - val_loss: 0.5209 - val_accuracy: 0.8052\n",
            "Epoch 119/150\n",
            "20/20 [==============================] - 0s 3ms/step - loss: 0.2522 - accuracy: 0.9104 - val_loss: 0.5203 - val_accuracy: 0.8052\n",
            "Epoch 120/150\n",
            "20/20 [==============================] - 0s 4ms/step - loss: 0.2502 - accuracy: 0.9088 - val_loss: 0.5148 - val_accuracy: 0.8052\n",
            "Epoch 121/150\n",
            "20/20 [==============================] - 0s 3ms/step - loss: 0.2485 - accuracy: 0.9039 - val_loss: 0.5234 - val_accuracy: 0.7987\n",
            "Epoch 122/150\n",
            "20/20 [==============================] - 0s 3ms/step - loss: 0.2503 - accuracy: 0.9104 - val_loss: 0.5218 - val_accuracy: 0.7987\n",
            "Epoch 123/150\n",
            "20/20 [==============================] - 0s 4ms/step - loss: 0.2448 - accuracy: 0.9153 - val_loss: 0.5134 - val_accuracy: 0.8117\n",
            "Epoch 124/150\n",
            "20/20 [==============================] - 0s 4ms/step - loss: 0.2438 - accuracy: 0.9153 - val_loss: 0.5275 - val_accuracy: 0.7792\n",
            "Epoch 125/150\n",
            "20/20 [==============================] - 0s 4ms/step - loss: 0.2414 - accuracy: 0.9218 - val_loss: 0.5331 - val_accuracy: 0.7987\n",
            "Epoch 126/150\n",
            "20/20 [==============================] - 0s 4ms/step - loss: 0.2432 - accuracy: 0.9039 - val_loss: 0.5280 - val_accuracy: 0.7857\n",
            "Epoch 127/150\n",
            "20/20 [==============================] - 0s 3ms/step - loss: 0.2520 - accuracy: 0.9055 - val_loss: 0.5508 - val_accuracy: 0.7727\n",
            "Epoch 128/150\n",
            "20/20 [==============================] - 0s 3ms/step - loss: 0.2397 - accuracy: 0.9104 - val_loss: 0.5215 - val_accuracy: 0.7987\n",
            "Epoch 129/150\n",
            "20/20 [==============================] - 0s 4ms/step - loss: 0.2340 - accuracy: 0.9153 - val_loss: 0.5357 - val_accuracy: 0.7857\n",
            "Epoch 130/150\n",
            "20/20 [==============================] - 0s 4ms/step - loss: 0.2348 - accuracy: 0.9235 - val_loss: 0.5456 - val_accuracy: 0.7922\n",
            "Epoch 131/150\n",
            "20/20 [==============================] - 0s 4ms/step - loss: 0.2317 - accuracy: 0.9251 - val_loss: 0.5325 - val_accuracy: 0.7922\n",
            "Epoch 132/150\n",
            "20/20 [==============================] - 0s 4ms/step - loss: 0.2298 - accuracy: 0.9251 - val_loss: 0.5393 - val_accuracy: 0.7987\n",
            "Epoch 133/150\n",
            "20/20 [==============================] - 0s 4ms/step - loss: 0.2305 - accuracy: 0.9186 - val_loss: 0.5389 - val_accuracy: 0.7922\n",
            "Epoch 134/150\n",
            "20/20 [==============================] - 0s 4ms/step - loss: 0.2318 - accuracy: 0.9251 - val_loss: 0.5490 - val_accuracy: 0.7662\n",
            "Epoch 135/150\n",
            "20/20 [==============================] - 0s 5ms/step - loss: 0.2283 - accuracy: 0.9169 - val_loss: 0.5421 - val_accuracy: 0.7857\n",
            "Epoch 136/150\n",
            "20/20 [==============================] - 0s 4ms/step - loss: 0.2243 - accuracy: 0.9218 - val_loss: 0.5422 - val_accuracy: 0.7857\n",
            "Epoch 137/150\n",
            "20/20 [==============================] - 0s 4ms/step - loss: 0.2228 - accuracy: 0.9267 - val_loss: 0.5493 - val_accuracy: 0.8052\n",
            "Epoch 138/150\n",
            "20/20 [==============================] - 0s 4ms/step - loss: 0.2238 - accuracy: 0.9218 - val_loss: 0.5646 - val_accuracy: 0.7792\n",
            "Epoch 139/150\n",
            "20/20 [==============================] - 0s 4ms/step - loss: 0.2172 - accuracy: 0.9283 - val_loss: 0.5526 - val_accuracy: 0.7597\n",
            "Epoch 140/150\n",
            "20/20 [==============================] - 0s 3ms/step - loss: 0.2240 - accuracy: 0.9186 - val_loss: 0.5831 - val_accuracy: 0.7662\n",
            "Epoch 141/150\n",
            "20/20 [==============================] - 0s 4ms/step - loss: 0.2262 - accuracy: 0.9218 - val_loss: 0.5568 - val_accuracy: 0.7727\n",
            "Epoch 142/150\n",
            "20/20 [==============================] - 0s 3ms/step - loss: 0.2205 - accuracy: 0.9218 - val_loss: 0.5522 - val_accuracy: 0.7792\n",
            "Epoch 143/150\n",
            "20/20 [==============================] - 0s 4ms/step - loss: 0.2186 - accuracy: 0.9235 - val_loss: 0.5675 - val_accuracy: 0.7987\n",
            "Epoch 144/150\n",
            "20/20 [==============================] - 0s 4ms/step - loss: 0.2147 - accuracy: 0.9300 - val_loss: 0.5636 - val_accuracy: 0.7662\n",
            "Epoch 145/150\n",
            "20/20 [==============================] - 0s 4ms/step - loss: 0.2128 - accuracy: 0.9316 - val_loss: 0.5603 - val_accuracy: 0.7727\n",
            "Epoch 146/150\n",
            "20/20 [==============================] - 0s 4ms/step - loss: 0.2101 - accuracy: 0.9300 - val_loss: 0.5687 - val_accuracy: 0.7792\n",
            "Epoch 147/150\n",
            "20/20 [==============================] - 0s 5ms/step - loss: 0.2109 - accuracy: 0.9316 - val_loss: 0.5727 - val_accuracy: 0.7662\n",
            "Epoch 148/150\n",
            "20/20 [==============================] - 0s 4ms/step - loss: 0.2075 - accuracy: 0.9349 - val_loss: 0.5723 - val_accuracy: 0.7727\n",
            "Epoch 149/150\n",
            "20/20 [==============================] - 0s 4ms/step - loss: 0.2063 - accuracy: 0.9365 - val_loss: 0.5618 - val_accuracy: 0.7597\n",
            "Epoch 150/150\n",
            "20/20 [==============================] - 0s 4ms/step - loss: 0.2039 - accuracy: 0.9300 - val_loss: 0.5723 - val_accuracy: 0.7597\n"
          ]
        },
        {
          "output_type": "execute_result",
          "data": {
            "text/plain": [
              "<keras.src.callbacks.History at 0x7d53c29e1240>"
            ]
          },
          "metadata": {},
          "execution_count": 23
        }
      ]
    },
    {
      "cell_type": "markdown",
      "source": [
        "### **Selecting number of nodes**"
      ],
      "metadata": {
        "id": "Y_Y-3v5bccXP"
      }
    },
    {
      "cell_type": "code",
      "source": [
        "def model_builder(hp):\n",
        "  # creating Sequrntial object\n",
        "  model =Sequential()\n",
        "\n",
        "  # defining number of neuron units to test the model against\n",
        "  units=hp.Int('units', min_value=8, max_value=128, step=8)\n",
        "\n",
        "  # defining layers\n",
        "  model.add(Dense(units=units, activation='relu', input_dim=8))\n",
        "  model.add(Dense(1, activation='sigmoid'))\n",
        "\n",
        "  # compiling model\n",
        "  model.compile(optimizer='adam', loss='binary_crossentropy', metrics=['accuracy'])\n",
        "\n",
        "  return model"
      ],
      "metadata": {
        "id": "Ed1eEh573WWc"
      },
      "execution_count": 24,
      "outputs": []
    },
    {
      "cell_type": "code",
      "source": [
        "# defining a tuner object\n",
        "tuner= kt.RandomSearch(model_builder,\n",
        "                       objective='val_accuracy',\n",
        "                       max_trials=5,\n",
        "                       directory='mydir',\n",
        "                       project_name='keras-tuner-trial')"
      ],
      "metadata": {
        "id": "n7lVwRU-Wspl"
      },
      "execution_count": 25,
      "outputs": []
    },
    {
      "cell_type": "code",
      "source": [
        "tuner.search(x_train, y_train, epochs=5, validation_data=(x_test, y_test))"
      ],
      "metadata": {
        "colab": {
          "base_uri": "https://localhost:8080/"
        },
        "id": "P4LgmNBdXPDh",
        "outputId": "d497dae5-0cfd-43cc-ea0e-a14ea04ab139"
      },
      "execution_count": 26,
      "outputs": [
        {
          "output_type": "stream",
          "name": "stdout",
          "text": [
            "Trial 5 Complete [00h 00m 02s]\n",
            "val_accuracy: 0.7922077775001526\n",
            "\n",
            "Best val_accuracy So Far: 0.798701286315918\n",
            "Total elapsed time: 00h 00m 10s\n"
          ]
        }
      ]
    },
    {
      "cell_type": "code",
      "source": [
        "tuner.get_best_hyperparameters()[0].values"
      ],
      "metadata": {
        "colab": {
          "base_uri": "https://localhost:8080/"
        },
        "id": "Ilwmz36IXcE9",
        "outputId": "8b271d22-32f8-4471-9fc1-254586339c2b"
      },
      "execution_count": 27,
      "outputs": [
        {
          "output_type": "execute_result",
          "data": {
            "text/plain": [
              "{'units': 120}"
            ]
          },
          "metadata": {},
          "execution_count": 27
        }
      ]
    },
    {
      "cell_type": "code",
      "source": [
        "best_model=tuner.get_best_models()[0]"
      ],
      "metadata": {
        "id": "78wlTIvYYQSP"
      },
      "execution_count": 28,
      "outputs": []
    },
    {
      "cell_type": "code",
      "source": [
        "best_model.summary()"
      ],
      "metadata": {
        "colab": {
          "base_uri": "https://localhost:8080/"
        },
        "id": "6tHJBNi_beUD",
        "outputId": "17e2fb66-da9e-4f73-f25e-cdb02164ccb1"
      },
      "execution_count": 29,
      "outputs": [
        {
          "output_type": "stream",
          "name": "stdout",
          "text": [
            "Model: \"sequential\"\n",
            "_________________________________________________________________\n",
            " Layer (type)                Output Shape              Param #   \n",
            "=================================================================\n",
            " dense (Dense)               (None, 120)               1080      \n",
            "                                                                 \n",
            " dense_1 (Dense)             (None, 1)                 121       \n",
            "                                                                 \n",
            "=================================================================\n",
            "Total params: 1201 (4.69 KB)\n",
            "Trainable params: 1201 (4.69 KB)\n",
            "Non-trainable params: 0 (0.00 Byte)\n",
            "_________________________________________________________________\n"
          ]
        }
      ]
    },
    {
      "cell_type": "code",
      "source": [
        "best_model.fit(x_train, y_train, batch_size=32, epochs=100, initial_epoch=6, validation_data=(x_test, y_test))"
      ],
      "metadata": {
        "colab": {
          "base_uri": "https://localhost:8080/"
        },
        "id": "N_103ksubh8I",
        "outputId": "ab53ec61-3963-41b8-a7e9-7e8df8473287"
      },
      "execution_count": 30,
      "outputs": [
        {
          "output_type": "stream",
          "name": "stdout",
          "text": [
            "Epoch 7/100\n",
            "20/20 [==============================] - 1s 12ms/step - loss: 0.5714 - accuracy: 0.7182 - val_loss: 0.5312 - val_accuracy: 0.8052\n",
            "Epoch 8/100\n",
            "20/20 [==============================] - 0s 4ms/step - loss: 0.5302 - accuracy: 0.7476 - val_loss: 0.5006 - val_accuracy: 0.7922\n",
            "Epoch 9/100\n",
            "20/20 [==============================] - 0s 3ms/step - loss: 0.5051 - accuracy: 0.7524 - val_loss: 0.4838 - val_accuracy: 0.7857\n",
            "Epoch 10/100\n",
            "20/20 [==============================] - 0s 4ms/step - loss: 0.4869 - accuracy: 0.7655 - val_loss: 0.4719 - val_accuracy: 0.7987\n",
            "Epoch 11/100\n",
            "20/20 [==============================] - 0s 3ms/step - loss: 0.4759 - accuracy: 0.7622 - val_loss: 0.4644 - val_accuracy: 0.7987\n",
            "Epoch 12/100\n",
            "20/20 [==============================] - 0s 5ms/step - loss: 0.4697 - accuracy: 0.7622 - val_loss: 0.4615 - val_accuracy: 0.7987\n",
            "Epoch 13/100\n",
            "20/20 [==============================] - 0s 4ms/step - loss: 0.4621 - accuracy: 0.7720 - val_loss: 0.4627 - val_accuracy: 0.7922\n",
            "Epoch 14/100\n",
            "20/20 [==============================] - 0s 4ms/step - loss: 0.4588 - accuracy: 0.7785 - val_loss: 0.4613 - val_accuracy: 0.7922\n",
            "Epoch 15/100\n",
            "20/20 [==============================] - 0s 4ms/step - loss: 0.4563 - accuracy: 0.7752 - val_loss: 0.4606 - val_accuracy: 0.7922\n",
            "Epoch 16/100\n",
            "20/20 [==============================] - 0s 3ms/step - loss: 0.4530 - accuracy: 0.7801 - val_loss: 0.4617 - val_accuracy: 0.7792\n",
            "Epoch 17/100\n",
            "20/20 [==============================] - 0s 3ms/step - loss: 0.4501 - accuracy: 0.7866 - val_loss: 0.4609 - val_accuracy: 0.7727\n",
            "Epoch 18/100\n",
            "20/20 [==============================] - 0s 4ms/step - loss: 0.4487 - accuracy: 0.7785 - val_loss: 0.4590 - val_accuracy: 0.7857\n",
            "Epoch 19/100\n",
            "20/20 [==============================] - 0s 4ms/step - loss: 0.4474 - accuracy: 0.7785 - val_loss: 0.4586 - val_accuracy: 0.7922\n",
            "Epoch 20/100\n",
            "20/20 [==============================] - 0s 4ms/step - loss: 0.4452 - accuracy: 0.7785 - val_loss: 0.4581 - val_accuracy: 0.7857\n",
            "Epoch 21/100\n",
            "20/20 [==============================] - 0s 4ms/step - loss: 0.4449 - accuracy: 0.7834 - val_loss: 0.4550 - val_accuracy: 0.7987\n",
            "Epoch 22/100\n",
            "20/20 [==============================] - 0s 3ms/step - loss: 0.4435 - accuracy: 0.7801 - val_loss: 0.4572 - val_accuracy: 0.7922\n",
            "Epoch 23/100\n",
            "20/20 [==============================] - 0s 3ms/step - loss: 0.4420 - accuracy: 0.7818 - val_loss: 0.4579 - val_accuracy: 0.7922\n",
            "Epoch 24/100\n",
            "20/20 [==============================] - 0s 4ms/step - loss: 0.4403 - accuracy: 0.7801 - val_loss: 0.4569 - val_accuracy: 0.7987\n",
            "Epoch 25/100\n",
            "20/20 [==============================] - 0s 3ms/step - loss: 0.4404 - accuracy: 0.7801 - val_loss: 0.4573 - val_accuracy: 0.7922\n",
            "Epoch 26/100\n",
            "20/20 [==============================] - 0s 4ms/step - loss: 0.4387 - accuracy: 0.7801 - val_loss: 0.4575 - val_accuracy: 0.7857\n",
            "Epoch 27/100\n",
            "20/20 [==============================] - 0s 4ms/step - loss: 0.4373 - accuracy: 0.7850 - val_loss: 0.4560 - val_accuracy: 0.7922\n",
            "Epoch 28/100\n",
            "20/20 [==============================] - 0s 3ms/step - loss: 0.4365 - accuracy: 0.7866 - val_loss: 0.4558 - val_accuracy: 0.7922\n",
            "Epoch 29/100\n",
            "20/20 [==============================] - 0s 4ms/step - loss: 0.4350 - accuracy: 0.7818 - val_loss: 0.4575 - val_accuracy: 0.7987\n",
            "Epoch 30/100\n",
            "20/20 [==============================] - 0s 5ms/step - loss: 0.4348 - accuracy: 0.7818 - val_loss: 0.4581 - val_accuracy: 0.7922\n",
            "Epoch 31/100\n",
            "20/20 [==============================] - 0s 6ms/step - loss: 0.4339 - accuracy: 0.7850 - val_loss: 0.4561 - val_accuracy: 0.7987\n",
            "Epoch 32/100\n",
            "20/20 [==============================] - 0s 5ms/step - loss: 0.4325 - accuracy: 0.7834 - val_loss: 0.4549 - val_accuracy: 0.7987\n",
            "Epoch 33/100\n",
            "20/20 [==============================] - 0s 6ms/step - loss: 0.4318 - accuracy: 0.7850 - val_loss: 0.4515 - val_accuracy: 0.8052\n",
            "Epoch 34/100\n",
            "20/20 [==============================] - 0s 5ms/step - loss: 0.4318 - accuracy: 0.7883 - val_loss: 0.4500 - val_accuracy: 0.7922\n",
            "Epoch 35/100\n",
            "20/20 [==============================] - 0s 5ms/step - loss: 0.4307 - accuracy: 0.7866 - val_loss: 0.4504 - val_accuracy: 0.8052\n",
            "Epoch 36/100\n",
            "20/20 [==============================] - 0s 5ms/step - loss: 0.4300 - accuracy: 0.7915 - val_loss: 0.4490 - val_accuracy: 0.8052\n",
            "Epoch 37/100\n",
            "20/20 [==============================] - 0s 5ms/step - loss: 0.4295 - accuracy: 0.7834 - val_loss: 0.4500 - val_accuracy: 0.7987\n",
            "Epoch 38/100\n",
            "20/20 [==============================] - 0s 5ms/step - loss: 0.4280 - accuracy: 0.7899 - val_loss: 0.4505 - val_accuracy: 0.8182\n",
            "Epoch 39/100\n",
            "20/20 [==============================] - 0s 5ms/step - loss: 0.4265 - accuracy: 0.7915 - val_loss: 0.4512 - val_accuracy: 0.7987\n",
            "Epoch 40/100\n",
            "20/20 [==============================] - 0s 6ms/step - loss: 0.4253 - accuracy: 0.7866 - val_loss: 0.4497 - val_accuracy: 0.7987\n",
            "Epoch 41/100\n",
            "20/20 [==============================] - 0s 5ms/step - loss: 0.4250 - accuracy: 0.7866 - val_loss: 0.4508 - val_accuracy: 0.8052\n",
            "Epoch 42/100\n",
            "20/20 [==============================] - 0s 5ms/step - loss: 0.4246 - accuracy: 0.7915 - val_loss: 0.4518 - val_accuracy: 0.8117\n",
            "Epoch 43/100\n",
            "20/20 [==============================] - 0s 5ms/step - loss: 0.4228 - accuracy: 0.7948 - val_loss: 0.4520 - val_accuracy: 0.8052\n",
            "Epoch 44/100\n",
            "20/20 [==============================] - 0s 6ms/step - loss: 0.4237 - accuracy: 0.7932 - val_loss: 0.4502 - val_accuracy: 0.8052\n",
            "Epoch 45/100\n",
            "20/20 [==============================] - 0s 6ms/step - loss: 0.4236 - accuracy: 0.7964 - val_loss: 0.4517 - val_accuracy: 0.8182\n",
            "Epoch 46/100\n",
            "20/20 [==============================] - 0s 5ms/step - loss: 0.4210 - accuracy: 0.7948 - val_loss: 0.4549 - val_accuracy: 0.8117\n",
            "Epoch 47/100\n",
            "20/20 [==============================] - 0s 5ms/step - loss: 0.4205 - accuracy: 0.7948 - val_loss: 0.4543 - val_accuracy: 0.8182\n",
            "Epoch 48/100\n",
            "20/20 [==============================] - 0s 4ms/step - loss: 0.4200 - accuracy: 0.8062 - val_loss: 0.4536 - val_accuracy: 0.8117\n",
            "Epoch 49/100\n",
            "20/20 [==============================] - 0s 5ms/step - loss: 0.4185 - accuracy: 0.8078 - val_loss: 0.4568 - val_accuracy: 0.8182\n",
            "Epoch 50/100\n",
            "20/20 [==============================] - 0s 6ms/step - loss: 0.4182 - accuracy: 0.7997 - val_loss: 0.4583 - val_accuracy: 0.8052\n",
            "Epoch 51/100\n",
            "20/20 [==============================] - 0s 6ms/step - loss: 0.4172 - accuracy: 0.8029 - val_loss: 0.4569 - val_accuracy: 0.8052\n",
            "Epoch 52/100\n",
            "20/20 [==============================] - 0s 5ms/step - loss: 0.4172 - accuracy: 0.8013 - val_loss: 0.4509 - val_accuracy: 0.8117\n",
            "Epoch 53/100\n",
            "20/20 [==============================] - 0s 7ms/step - loss: 0.4153 - accuracy: 0.7997 - val_loss: 0.4506 - val_accuracy: 0.8052\n",
            "Epoch 54/100\n",
            "20/20 [==============================] - 0s 6ms/step - loss: 0.4146 - accuracy: 0.8062 - val_loss: 0.4490 - val_accuracy: 0.8052\n",
            "Epoch 55/100\n",
            "20/20 [==============================] - 0s 4ms/step - loss: 0.4140 - accuracy: 0.8062 - val_loss: 0.4501 - val_accuracy: 0.8052\n",
            "Epoch 56/100\n",
            "20/20 [==============================] - 0s 3ms/step - loss: 0.4136 - accuracy: 0.8127 - val_loss: 0.4513 - val_accuracy: 0.8182\n",
            "Epoch 57/100\n",
            "20/20 [==============================] - 0s 4ms/step - loss: 0.4143 - accuracy: 0.8046 - val_loss: 0.4543 - val_accuracy: 0.8117\n",
            "Epoch 58/100\n",
            "20/20 [==============================] - 0s 3ms/step - loss: 0.4118 - accuracy: 0.8046 - val_loss: 0.4513 - val_accuracy: 0.8182\n",
            "Epoch 59/100\n",
            "20/20 [==============================] - 0s 3ms/step - loss: 0.4118 - accuracy: 0.8062 - val_loss: 0.4525 - val_accuracy: 0.8182\n",
            "Epoch 60/100\n",
            "20/20 [==============================] - 0s 3ms/step - loss: 0.4113 - accuracy: 0.8094 - val_loss: 0.4552 - val_accuracy: 0.8117\n",
            "Epoch 61/100\n",
            "20/20 [==============================] - 0s 4ms/step - loss: 0.4111 - accuracy: 0.8143 - val_loss: 0.4550 - val_accuracy: 0.8117\n",
            "Epoch 62/100\n",
            "20/20 [==============================] - 0s 4ms/step - loss: 0.4096 - accuracy: 0.8111 - val_loss: 0.4532 - val_accuracy: 0.8182\n",
            "Epoch 63/100\n",
            "20/20 [==============================] - 0s 4ms/step - loss: 0.4096 - accuracy: 0.8143 - val_loss: 0.4555 - val_accuracy: 0.8182\n",
            "Epoch 64/100\n",
            "20/20 [==============================] - 0s 3ms/step - loss: 0.4088 - accuracy: 0.8160 - val_loss: 0.4501 - val_accuracy: 0.8117\n",
            "Epoch 65/100\n",
            "20/20 [==============================] - 0s 5ms/step - loss: 0.4085 - accuracy: 0.8176 - val_loss: 0.4537 - val_accuracy: 0.8182\n",
            "Epoch 66/100\n",
            "20/20 [==============================] - 0s 3ms/step - loss: 0.4077 - accuracy: 0.8143 - val_loss: 0.4523 - val_accuracy: 0.8117\n",
            "Epoch 67/100\n",
            "20/20 [==============================] - 0s 3ms/step - loss: 0.4067 - accuracy: 0.8094 - val_loss: 0.4509 - val_accuracy: 0.7922\n",
            "Epoch 68/100\n",
            "20/20 [==============================] - 0s 4ms/step - loss: 0.4065 - accuracy: 0.8143 - val_loss: 0.4508 - val_accuracy: 0.8052\n",
            "Epoch 69/100\n",
            "20/20 [==============================] - 0s 4ms/step - loss: 0.4052 - accuracy: 0.8160 - val_loss: 0.4498 - val_accuracy: 0.7987\n",
            "Epoch 70/100\n",
            "20/20 [==============================] - 0s 3ms/step - loss: 0.4050 - accuracy: 0.8160 - val_loss: 0.4518 - val_accuracy: 0.8117\n",
            "Epoch 71/100\n",
            "20/20 [==============================] - 0s 4ms/step - loss: 0.4040 - accuracy: 0.8176 - val_loss: 0.4523 - val_accuracy: 0.8182\n",
            "Epoch 72/100\n",
            "20/20 [==============================] - 0s 3ms/step - loss: 0.4041 - accuracy: 0.8127 - val_loss: 0.4474 - val_accuracy: 0.8247\n",
            "Epoch 73/100\n",
            "20/20 [==============================] - 0s 3ms/step - loss: 0.4035 - accuracy: 0.8192 - val_loss: 0.4484 - val_accuracy: 0.8247\n",
            "Epoch 74/100\n",
            "20/20 [==============================] - 0s 4ms/step - loss: 0.4027 - accuracy: 0.8176 - val_loss: 0.4513 - val_accuracy: 0.8182\n",
            "Epoch 75/100\n",
            "20/20 [==============================] - 0s 4ms/step - loss: 0.4013 - accuracy: 0.8208 - val_loss: 0.4500 - val_accuracy: 0.8247\n",
            "Epoch 76/100\n",
            "20/20 [==============================] - 0s 4ms/step - loss: 0.4010 - accuracy: 0.8192 - val_loss: 0.4495 - val_accuracy: 0.8117\n",
            "Epoch 77/100\n",
            "20/20 [==============================] - 0s 4ms/step - loss: 0.4020 - accuracy: 0.8192 - val_loss: 0.4527 - val_accuracy: 0.7987\n",
            "Epoch 78/100\n",
            "20/20 [==============================] - 0s 4ms/step - loss: 0.4006 - accuracy: 0.8192 - val_loss: 0.4515 - val_accuracy: 0.8182\n",
            "Epoch 79/100\n",
            "20/20 [==============================] - 0s 4ms/step - loss: 0.3990 - accuracy: 0.8257 - val_loss: 0.4538 - val_accuracy: 0.8117\n",
            "Epoch 80/100\n",
            "20/20 [==============================] - 0s 4ms/step - loss: 0.3984 - accuracy: 0.8257 - val_loss: 0.4527 - val_accuracy: 0.8117\n",
            "Epoch 81/100\n",
            "20/20 [==============================] - 0s 4ms/step - loss: 0.3986 - accuracy: 0.8241 - val_loss: 0.4517 - val_accuracy: 0.8052\n",
            "Epoch 82/100\n",
            "20/20 [==============================] - 0s 3ms/step - loss: 0.3970 - accuracy: 0.8257 - val_loss: 0.4525 - val_accuracy: 0.8182\n",
            "Epoch 83/100\n",
            "20/20 [==============================] - 0s 3ms/step - loss: 0.3975 - accuracy: 0.8192 - val_loss: 0.4525 - val_accuracy: 0.8182\n",
            "Epoch 84/100\n",
            "20/20 [==============================] - 0s 3ms/step - loss: 0.3985 - accuracy: 0.8143 - val_loss: 0.4535 - val_accuracy: 0.8182\n",
            "Epoch 85/100\n",
            "20/20 [==============================] - 0s 4ms/step - loss: 0.3970 - accuracy: 0.8208 - val_loss: 0.4546 - val_accuracy: 0.8117\n",
            "Epoch 86/100\n",
            "20/20 [==============================] - 0s 3ms/step - loss: 0.3955 - accuracy: 0.8225 - val_loss: 0.4540 - val_accuracy: 0.8117\n",
            "Epoch 87/100\n",
            "20/20 [==============================] - 0s 4ms/step - loss: 0.3955 - accuracy: 0.8257 - val_loss: 0.4536 - val_accuracy: 0.8052\n",
            "Epoch 88/100\n",
            "20/20 [==============================] - 0s 4ms/step - loss: 0.3964 - accuracy: 0.8257 - val_loss: 0.4562 - val_accuracy: 0.8182\n",
            "Epoch 89/100\n",
            "20/20 [==============================] - 0s 4ms/step - loss: 0.3937 - accuracy: 0.8290 - val_loss: 0.4599 - val_accuracy: 0.8052\n",
            "Epoch 90/100\n",
            "20/20 [==============================] - 0s 4ms/step - loss: 0.3941 - accuracy: 0.8257 - val_loss: 0.4583 - val_accuracy: 0.8052\n",
            "Epoch 91/100\n",
            "20/20 [==============================] - 0s 4ms/step - loss: 0.3923 - accuracy: 0.8241 - val_loss: 0.4560 - val_accuracy: 0.8117\n",
            "Epoch 92/100\n",
            "20/20 [==============================] - 0s 4ms/step - loss: 0.3921 - accuracy: 0.8225 - val_loss: 0.4534 - val_accuracy: 0.8117\n",
            "Epoch 93/100\n",
            "20/20 [==============================] - 0s 3ms/step - loss: 0.3915 - accuracy: 0.8306 - val_loss: 0.4599 - val_accuracy: 0.8052\n",
            "Epoch 94/100\n",
            "20/20 [==============================] - 0s 4ms/step - loss: 0.3908 - accuracy: 0.8290 - val_loss: 0.4551 - val_accuracy: 0.7987\n",
            "Epoch 95/100\n",
            "20/20 [==============================] - 0s 3ms/step - loss: 0.3914 - accuracy: 0.8208 - val_loss: 0.4567 - val_accuracy: 0.8182\n",
            "Epoch 96/100\n",
            "20/20 [==============================] - 0s 4ms/step - loss: 0.3902 - accuracy: 0.8322 - val_loss: 0.4559 - val_accuracy: 0.8117\n",
            "Epoch 97/100\n",
            "20/20 [==============================] - 0s 4ms/step - loss: 0.3895 - accuracy: 0.8355 - val_loss: 0.4544 - val_accuracy: 0.8117\n",
            "Epoch 98/100\n",
            "20/20 [==============================] - 0s 4ms/step - loss: 0.3894 - accuracy: 0.8241 - val_loss: 0.4501 - val_accuracy: 0.8052\n",
            "Epoch 99/100\n",
            "20/20 [==============================] - 0s 4ms/step - loss: 0.3905 - accuracy: 0.8339 - val_loss: 0.4582 - val_accuracy: 0.8052\n",
            "Epoch 100/100\n",
            "20/20 [==============================] - 0s 3ms/step - loss: 0.3876 - accuracy: 0.8290 - val_loss: 0.4554 - val_accuracy: 0.8052\n"
          ]
        },
        {
          "output_type": "execute_result",
          "data": {
            "text/plain": [
              "<keras.src.callbacks.History at 0x7d53c25f9690>"
            ]
          },
          "metadata": {},
          "execution_count": 30
        }
      ]
    },
    {
      "cell_type": "markdown",
      "source": [
        "### **Selecting number of layers**"
      ],
      "metadata": {
        "id": "W4Rv4AEBcTtR"
      }
    },
    {
      "cell_type": "code",
      "source": [
        "def model_builder(hp):\n",
        "  # initializing sequential object\n",
        "  model = Sequential()\n",
        "\n",
        "  # setting the input layer\n",
        "  model.add(Dense(48, activation='relu', input_dim=8))\n",
        "\n",
        "  # initializing loop to determine optimum number of layers\n",
        "  for i in range(hp.Int('layer_num', min_value=1, max_value=10)):\n",
        "\n",
        "    model.add(Dense(48, activation='relu'))\n",
        "\n",
        "  # setting up the output layer\n",
        "  model.add(Dense(1, activation='sigmoid'))\n",
        "\n",
        "  # compiling the model\n",
        "  model.compile(optimizer='adam', loss='binary_crossentropy', metrics=['accuracy'])\n",
        "\n",
        "  return model"
      ],
      "metadata": {
        "id": "fx-VcO4qb5Y5"
      },
      "execution_count": 31,
      "outputs": []
    },
    {
      "cell_type": "code",
      "source": [
        "# initializing a tuner\n",
        "tuner=kt.RandomSearch(model_builder,\n",
        "                      objective='val_accuracy',\n",
        "                      max_trials=5,\n",
        "                      directory='mydir',\n",
        "                      project_name='number-of-layers')"
      ],
      "metadata": {
        "id": "GveB_QzlghYB"
      },
      "execution_count": 32,
      "outputs": []
    },
    {
      "cell_type": "code",
      "source": [
        "# searching for the best hyperparameter\n",
        "tuner.search(x_train, y_train, epochs=5, validation_data=(x_test, y_test))"
      ],
      "metadata": {
        "colab": {
          "base_uri": "https://localhost:8080/"
        },
        "id": "4XkU3D1ug4yT",
        "outputId": "35b1d6e9-0668-4fef-f7fa-222718c6bf46"
      },
      "execution_count": 33,
      "outputs": [
        {
          "output_type": "stream",
          "name": "stdout",
          "text": [
            "Trial 5 Complete [00h 00m 02s]\n",
            "val_accuracy: 0.8116883039474487\n",
            "\n",
            "Best val_accuracy So Far: 0.8116883039474487\n",
            "Total elapsed time: 00h 00m 15s\n"
          ]
        }
      ]
    },
    {
      "cell_type": "code",
      "source": [
        "tuner.get_best_hyperparameters()[0].values"
      ],
      "metadata": {
        "colab": {
          "base_uri": "https://localhost:8080/"
        },
        "id": "p51WlXWKhD4R",
        "outputId": "9cc2cdaa-8bcd-400a-8814-43f83fd30904"
      },
      "execution_count": 34,
      "outputs": [
        {
          "output_type": "execute_result",
          "data": {
            "text/plain": [
              "{'layer_num': 1}"
            ]
          },
          "metadata": {},
          "execution_count": 34
        }
      ]
    },
    {
      "cell_type": "code",
      "source": [
        "best_model=tuner.get_best_models(num_models=1)[0]"
      ],
      "metadata": {
        "id": "HZDHn8-YhNOl"
      },
      "execution_count": 35,
      "outputs": []
    },
    {
      "cell_type": "code",
      "source": [
        "best_model.summary()"
      ],
      "metadata": {
        "colab": {
          "base_uri": "https://localhost:8080/"
        },
        "id": "Uy5jjX_3hXXM",
        "outputId": "109c654c-64e1-4486-db1c-a503129472d8"
      },
      "execution_count": 36,
      "outputs": [
        {
          "output_type": "stream",
          "name": "stdout",
          "text": [
            "Model: \"sequential\"\n",
            "_________________________________________________________________\n",
            " Layer (type)                Output Shape              Param #   \n",
            "=================================================================\n",
            " dense (Dense)               (None, 48)                432       \n",
            "                                                                 \n",
            " dense_1 (Dense)             (None, 48)                2352      \n",
            "                                                                 \n",
            " dense_2 (Dense)             (None, 1)                 49        \n",
            "                                                                 \n",
            "=================================================================\n",
            "Total params: 2833 (11.07 KB)\n",
            "Trainable params: 2833 (11.07 KB)\n",
            "Non-trainable params: 0 (0.00 Byte)\n",
            "_________________________________________________________________\n"
          ]
        }
      ]
    },
    {
      "cell_type": "code",
      "source": [
        "best_model.fit(x_train, y_train, batch_size=32, epochs=100, initial_epoch=6, validation_data=(x_test, y_test))"
      ],
      "metadata": {
        "colab": {
          "base_uri": "https://localhost:8080/"
        },
        "id": "1cen-uGwhZH4",
        "outputId": "19193977-4d1c-4262-bd21-598ef56d55c4"
      },
      "execution_count": 37,
      "outputs": [
        {
          "output_type": "stream",
          "name": "stdout",
          "text": [
            "Epoch 7/100\n",
            "20/20 [==============================] - 1s 12ms/step - loss: 0.4640 - accuracy: 0.7655 - val_loss: 0.4875 - val_accuracy: 0.8052\n",
            "Epoch 8/100\n",
            "20/20 [==============================] - 0s 3ms/step - loss: 0.4597 - accuracy: 0.7687 - val_loss: 0.4855 - val_accuracy: 0.7922\n",
            "Epoch 9/100\n",
            "20/20 [==============================] - 0s 4ms/step - loss: 0.4518 - accuracy: 0.7638 - val_loss: 0.4855 - val_accuracy: 0.8052\n",
            "Epoch 10/100\n",
            "20/20 [==============================] - 0s 4ms/step - loss: 0.4479 - accuracy: 0.7736 - val_loss: 0.4832 - val_accuracy: 0.8052\n",
            "Epoch 11/100\n",
            "20/20 [==============================] - 0s 3ms/step - loss: 0.4436 - accuracy: 0.7736 - val_loss: 0.4840 - val_accuracy: 0.7792\n",
            "Epoch 12/100\n",
            "20/20 [==============================] - 0s 3ms/step - loss: 0.4420 - accuracy: 0.7850 - val_loss: 0.4857 - val_accuracy: 0.7857\n",
            "Epoch 13/100\n",
            "20/20 [==============================] - 0s 4ms/step - loss: 0.4381 - accuracy: 0.7850 - val_loss: 0.4832 - val_accuracy: 0.7987\n",
            "Epoch 14/100\n",
            "20/20 [==============================] - 0s 3ms/step - loss: 0.4359 - accuracy: 0.7785 - val_loss: 0.4850 - val_accuracy: 0.7922\n",
            "Epoch 15/100\n",
            "20/20 [==============================] - 0s 5ms/step - loss: 0.4337 - accuracy: 0.7850 - val_loss: 0.4827 - val_accuracy: 0.7792\n",
            "Epoch 16/100\n",
            "20/20 [==============================] - 0s 4ms/step - loss: 0.4312 - accuracy: 0.7818 - val_loss: 0.4837 - val_accuracy: 0.7792\n",
            "Epoch 17/100\n",
            "20/20 [==============================] - 0s 4ms/step - loss: 0.4292 - accuracy: 0.7866 - val_loss: 0.4846 - val_accuracy: 0.8052\n",
            "Epoch 18/100\n",
            "20/20 [==============================] - 0s 3ms/step - loss: 0.4272 - accuracy: 0.7866 - val_loss: 0.4820 - val_accuracy: 0.8052\n",
            "Epoch 19/100\n",
            "20/20 [==============================] - 0s 4ms/step - loss: 0.4240 - accuracy: 0.7883 - val_loss: 0.4799 - val_accuracy: 0.7922\n",
            "Epoch 20/100\n",
            "20/20 [==============================] - 0s 3ms/step - loss: 0.4212 - accuracy: 0.7915 - val_loss: 0.4811 - val_accuracy: 0.7857\n",
            "Epoch 21/100\n",
            "20/20 [==============================] - 0s 3ms/step - loss: 0.4182 - accuracy: 0.7964 - val_loss: 0.4804 - val_accuracy: 0.8117\n",
            "Epoch 22/100\n",
            "20/20 [==============================] - 0s 4ms/step - loss: 0.4174 - accuracy: 0.7980 - val_loss: 0.4802 - val_accuracy: 0.7987\n",
            "Epoch 23/100\n",
            "20/20 [==============================] - 0s 3ms/step - loss: 0.4146 - accuracy: 0.7964 - val_loss: 0.4804 - val_accuracy: 0.8052\n",
            "Epoch 24/100\n",
            "20/20 [==============================] - 0s 3ms/step - loss: 0.4122 - accuracy: 0.7964 - val_loss: 0.4814 - val_accuracy: 0.7857\n",
            "Epoch 25/100\n",
            "20/20 [==============================] - 0s 4ms/step - loss: 0.4124 - accuracy: 0.8013 - val_loss: 0.4811 - val_accuracy: 0.7857\n",
            "Epoch 26/100\n",
            "20/20 [==============================] - 0s 3ms/step - loss: 0.4075 - accuracy: 0.8046 - val_loss: 0.4801 - val_accuracy: 0.7987\n",
            "Epoch 27/100\n",
            "20/20 [==============================] - 0s 4ms/step - loss: 0.4075 - accuracy: 0.8046 - val_loss: 0.4813 - val_accuracy: 0.7922\n",
            "Epoch 28/100\n",
            "20/20 [==============================] - 0s 5ms/step - loss: 0.4063 - accuracy: 0.8078 - val_loss: 0.4784 - val_accuracy: 0.7922\n",
            "Epoch 29/100\n",
            "20/20 [==============================] - 0s 5ms/step - loss: 0.4031 - accuracy: 0.8160 - val_loss: 0.4785 - val_accuracy: 0.7987\n",
            "Epoch 30/100\n",
            "20/20 [==============================] - 0s 6ms/step - loss: 0.4009 - accuracy: 0.8094 - val_loss: 0.4804 - val_accuracy: 0.7857\n",
            "Epoch 31/100\n",
            "20/20 [==============================] - 0s 6ms/step - loss: 0.4008 - accuracy: 0.8192 - val_loss: 0.4787 - val_accuracy: 0.7922\n",
            "Epoch 32/100\n",
            "20/20 [==============================] - 0s 5ms/step - loss: 0.3974 - accuracy: 0.8143 - val_loss: 0.4768 - val_accuracy: 0.7922\n",
            "Epoch 33/100\n",
            "20/20 [==============================] - 0s 6ms/step - loss: 0.3959 - accuracy: 0.8176 - val_loss: 0.4788 - val_accuracy: 0.7857\n",
            "Epoch 34/100\n",
            "20/20 [==============================] - 0s 6ms/step - loss: 0.3934 - accuracy: 0.8094 - val_loss: 0.4806 - val_accuracy: 0.7857\n",
            "Epoch 35/100\n",
            "20/20 [==============================] - 0s 6ms/step - loss: 0.3912 - accuracy: 0.8192 - val_loss: 0.4797 - val_accuracy: 0.7922\n",
            "Epoch 36/100\n",
            "20/20 [==============================] - 0s 5ms/step - loss: 0.3943 - accuracy: 0.8160 - val_loss: 0.4806 - val_accuracy: 0.7857\n",
            "Epoch 37/100\n",
            "20/20 [==============================] - 0s 5ms/step - loss: 0.3880 - accuracy: 0.8241 - val_loss: 0.4731 - val_accuracy: 0.7987\n",
            "Epoch 38/100\n",
            "20/20 [==============================] - 0s 5ms/step - loss: 0.3858 - accuracy: 0.8306 - val_loss: 0.4803 - val_accuracy: 0.8052\n",
            "Epoch 39/100\n",
            "20/20 [==============================] - 0s 4ms/step - loss: 0.3845 - accuracy: 0.8225 - val_loss: 0.4777 - val_accuracy: 0.7857\n",
            "Epoch 40/100\n",
            "20/20 [==============================] - 0s 4ms/step - loss: 0.3825 - accuracy: 0.8241 - val_loss: 0.4776 - val_accuracy: 0.7857\n",
            "Epoch 41/100\n",
            "20/20 [==============================] - 0s 4ms/step - loss: 0.3832 - accuracy: 0.8274 - val_loss: 0.4773 - val_accuracy: 0.8052\n",
            "Epoch 42/100\n",
            "20/20 [==============================] - 0s 5ms/step - loss: 0.3767 - accuracy: 0.8322 - val_loss: 0.4765 - val_accuracy: 0.7922\n",
            "Epoch 43/100\n",
            "20/20 [==============================] - 0s 5ms/step - loss: 0.3774 - accuracy: 0.8322 - val_loss: 0.4747 - val_accuracy: 0.7792\n",
            "Epoch 44/100\n",
            "20/20 [==============================] - 0s 5ms/step - loss: 0.3790 - accuracy: 0.8208 - val_loss: 0.4767 - val_accuracy: 0.7857\n",
            "Epoch 45/100\n",
            "20/20 [==============================] - 0s 6ms/step - loss: 0.3762 - accuracy: 0.8274 - val_loss: 0.4791 - val_accuracy: 0.7922\n",
            "Epoch 46/100\n",
            "20/20 [==============================] - 0s 5ms/step - loss: 0.3706 - accuracy: 0.8404 - val_loss: 0.4764 - val_accuracy: 0.7922\n",
            "Epoch 47/100\n",
            "20/20 [==============================] - 0s 6ms/step - loss: 0.3678 - accuracy: 0.8420 - val_loss: 0.4770 - val_accuracy: 0.7987\n",
            "Epoch 48/100\n",
            "20/20 [==============================] - 0s 6ms/step - loss: 0.3676 - accuracy: 0.8355 - val_loss: 0.4779 - val_accuracy: 0.7922\n",
            "Epoch 49/100\n",
            "20/20 [==============================] - 0s 6ms/step - loss: 0.3663 - accuracy: 0.8339 - val_loss: 0.4787 - val_accuracy: 0.7987\n",
            "Epoch 50/100\n",
            "20/20 [==============================] - 0s 5ms/step - loss: 0.3636 - accuracy: 0.8388 - val_loss: 0.4788 - val_accuracy: 0.7987\n",
            "Epoch 51/100\n",
            "20/20 [==============================] - 0s 5ms/step - loss: 0.3623 - accuracy: 0.8436 - val_loss: 0.4751 - val_accuracy: 0.7987\n",
            "Epoch 52/100\n",
            "20/20 [==============================] - 0s 6ms/step - loss: 0.3589 - accuracy: 0.8420 - val_loss: 0.4859 - val_accuracy: 0.7922\n",
            "Epoch 53/100\n",
            "20/20 [==============================] - 0s 6ms/step - loss: 0.3574 - accuracy: 0.8485 - val_loss: 0.4826 - val_accuracy: 0.7987\n",
            "Epoch 54/100\n",
            "20/20 [==============================] - 0s 4ms/step - loss: 0.3578 - accuracy: 0.8534 - val_loss: 0.4837 - val_accuracy: 0.8052\n",
            "Epoch 55/100\n",
            "20/20 [==============================] - 0s 4ms/step - loss: 0.3544 - accuracy: 0.8453 - val_loss: 0.4805 - val_accuracy: 0.7987\n",
            "Epoch 56/100\n",
            "20/20 [==============================] - 0s 4ms/step - loss: 0.3497 - accuracy: 0.8550 - val_loss: 0.4836 - val_accuracy: 0.8052\n",
            "Epoch 57/100\n",
            "20/20 [==============================] - 0s 4ms/step - loss: 0.3512 - accuracy: 0.8534 - val_loss: 0.4813 - val_accuracy: 0.7987\n",
            "Epoch 58/100\n",
            "20/20 [==============================] - 0s 4ms/step - loss: 0.3475 - accuracy: 0.8485 - val_loss: 0.4839 - val_accuracy: 0.7987\n",
            "Epoch 59/100\n",
            "20/20 [==============================] - 0s 3ms/step - loss: 0.3447 - accuracy: 0.8583 - val_loss: 0.4903 - val_accuracy: 0.8052\n",
            "Epoch 60/100\n",
            "20/20 [==============================] - 0s 4ms/step - loss: 0.3421 - accuracy: 0.8599 - val_loss: 0.4898 - val_accuracy: 0.8052\n",
            "Epoch 61/100\n",
            "20/20 [==============================] - 0s 4ms/step - loss: 0.3417 - accuracy: 0.8632 - val_loss: 0.4870 - val_accuracy: 0.8052\n",
            "Epoch 62/100\n",
            "20/20 [==============================] - 0s 4ms/step - loss: 0.3383 - accuracy: 0.8550 - val_loss: 0.4865 - val_accuracy: 0.8052\n",
            "Epoch 63/100\n",
            "20/20 [==============================] - 0s 4ms/step - loss: 0.3365 - accuracy: 0.8632 - val_loss: 0.4866 - val_accuracy: 0.8052\n",
            "Epoch 64/100\n",
            "20/20 [==============================] - 0s 4ms/step - loss: 0.3371 - accuracy: 0.8681 - val_loss: 0.4933 - val_accuracy: 0.8117\n",
            "Epoch 65/100\n",
            "20/20 [==============================] - 0s 4ms/step - loss: 0.3347 - accuracy: 0.8632 - val_loss: 0.4868 - val_accuracy: 0.8117\n",
            "Epoch 66/100\n",
            "20/20 [==============================] - 0s 3ms/step - loss: 0.3320 - accuracy: 0.8616 - val_loss: 0.4945 - val_accuracy: 0.7987\n",
            "Epoch 67/100\n",
            "20/20 [==============================] - 0s 4ms/step - loss: 0.3344 - accuracy: 0.8697 - val_loss: 0.4957 - val_accuracy: 0.7987\n",
            "Epoch 68/100\n",
            "20/20 [==============================] - 0s 3ms/step - loss: 0.3313 - accuracy: 0.8599 - val_loss: 0.4925 - val_accuracy: 0.7922\n",
            "Epoch 69/100\n",
            "20/20 [==============================] - 0s 4ms/step - loss: 0.3326 - accuracy: 0.8713 - val_loss: 0.5028 - val_accuracy: 0.7987\n",
            "Epoch 70/100\n",
            "20/20 [==============================] - 0s 3ms/step - loss: 0.3325 - accuracy: 0.8681 - val_loss: 0.4946 - val_accuracy: 0.7922\n",
            "Epoch 71/100\n",
            "20/20 [==============================] - 0s 4ms/step - loss: 0.3226 - accuracy: 0.8664 - val_loss: 0.4961 - val_accuracy: 0.7857\n",
            "Epoch 72/100\n",
            "20/20 [==============================] - 0s 3ms/step - loss: 0.3199 - accuracy: 0.8681 - val_loss: 0.4943 - val_accuracy: 0.8052\n",
            "Epoch 73/100\n",
            "20/20 [==============================] - 0s 3ms/step - loss: 0.3187 - accuracy: 0.8713 - val_loss: 0.4909 - val_accuracy: 0.7922\n",
            "Epoch 74/100\n",
            "20/20 [==============================] - 0s 3ms/step - loss: 0.3177 - accuracy: 0.8664 - val_loss: 0.4941 - val_accuracy: 0.8052\n",
            "Epoch 75/100\n",
            "20/20 [==============================] - 0s 4ms/step - loss: 0.3148 - accuracy: 0.8697 - val_loss: 0.4957 - val_accuracy: 0.7987\n",
            "Epoch 76/100\n",
            "20/20 [==============================] - 0s 3ms/step - loss: 0.3131 - accuracy: 0.8697 - val_loss: 0.4976 - val_accuracy: 0.8052\n",
            "Epoch 77/100\n",
            "20/20 [==============================] - 0s 3ms/step - loss: 0.3098 - accuracy: 0.8713 - val_loss: 0.5069 - val_accuracy: 0.7792\n",
            "Epoch 78/100\n",
            "20/20 [==============================] - 0s 4ms/step - loss: 0.3082 - accuracy: 0.8746 - val_loss: 0.5063 - val_accuracy: 0.7922\n",
            "Epoch 79/100\n",
            "20/20 [==============================] - 0s 3ms/step - loss: 0.3063 - accuracy: 0.8730 - val_loss: 0.5021 - val_accuracy: 0.7922\n",
            "Epoch 80/100\n",
            "20/20 [==============================] - 0s 3ms/step - loss: 0.3074 - accuracy: 0.8811 - val_loss: 0.5034 - val_accuracy: 0.7857\n",
            "Epoch 81/100\n",
            "20/20 [==============================] - 0s 4ms/step - loss: 0.3050 - accuracy: 0.8730 - val_loss: 0.5075 - val_accuracy: 0.7857\n",
            "Epoch 82/100\n",
            "20/20 [==============================] - 0s 5ms/step - loss: 0.3083 - accuracy: 0.8730 - val_loss: 0.5066 - val_accuracy: 0.7922\n",
            "Epoch 83/100\n",
            "20/20 [==============================] - 0s 4ms/step - loss: 0.3064 - accuracy: 0.8697 - val_loss: 0.5010 - val_accuracy: 0.7727\n",
            "Epoch 84/100\n",
            "20/20 [==============================] - 0s 3ms/step - loss: 0.2987 - accuracy: 0.8925 - val_loss: 0.5126 - val_accuracy: 0.7662\n",
            "Epoch 85/100\n",
            "20/20 [==============================] - 0s 4ms/step - loss: 0.2979 - accuracy: 0.8779 - val_loss: 0.5061 - val_accuracy: 0.7922\n",
            "Epoch 86/100\n",
            "20/20 [==============================] - 0s 4ms/step - loss: 0.2996 - accuracy: 0.8827 - val_loss: 0.5115 - val_accuracy: 0.7792\n",
            "Epoch 87/100\n",
            "20/20 [==============================] - 0s 3ms/step - loss: 0.2938 - accuracy: 0.8827 - val_loss: 0.5161 - val_accuracy: 0.7727\n",
            "Epoch 88/100\n",
            "20/20 [==============================] - 0s 3ms/step - loss: 0.2918 - accuracy: 0.8876 - val_loss: 0.5193 - val_accuracy: 0.7792\n",
            "Epoch 89/100\n",
            "20/20 [==============================] - 0s 4ms/step - loss: 0.2920 - accuracy: 0.8827 - val_loss: 0.5145 - val_accuracy: 0.7857\n",
            "Epoch 90/100\n",
            "20/20 [==============================] - 0s 4ms/step - loss: 0.2882 - accuracy: 0.8779 - val_loss: 0.5152 - val_accuracy: 0.7727\n",
            "Epoch 91/100\n",
            "20/20 [==============================] - 0s 3ms/step - loss: 0.2848 - accuracy: 0.8876 - val_loss: 0.5142 - val_accuracy: 0.7662\n",
            "Epoch 92/100\n",
            "20/20 [==============================] - 0s 4ms/step - loss: 0.2839 - accuracy: 0.8909 - val_loss: 0.5291 - val_accuracy: 0.7857\n",
            "Epoch 93/100\n",
            "20/20 [==============================] - 0s 4ms/step - loss: 0.2836 - accuracy: 0.8941 - val_loss: 0.5233 - val_accuracy: 0.7792\n",
            "Epoch 94/100\n",
            "20/20 [==============================] - 0s 4ms/step - loss: 0.2809 - accuracy: 0.8876 - val_loss: 0.5281 - val_accuracy: 0.7597\n",
            "Epoch 95/100\n",
            "20/20 [==============================] - 0s 5ms/step - loss: 0.2810 - accuracy: 0.8860 - val_loss: 0.5290 - val_accuracy: 0.7792\n",
            "Epoch 96/100\n",
            "20/20 [==============================] - 0s 4ms/step - loss: 0.2769 - accuracy: 0.8974 - val_loss: 0.5315 - val_accuracy: 0.7597\n",
            "Epoch 97/100\n",
            "20/20 [==============================] - 0s 3ms/step - loss: 0.2849 - accuracy: 0.8795 - val_loss: 0.5337 - val_accuracy: 0.7662\n",
            "Epoch 98/100\n",
            "20/20 [==============================] - 0s 3ms/step - loss: 0.2805 - accuracy: 0.8893 - val_loss: 0.5353 - val_accuracy: 0.7662\n",
            "Epoch 99/100\n",
            "20/20 [==============================] - 0s 4ms/step - loss: 0.2757 - accuracy: 0.8941 - val_loss: 0.5432 - val_accuracy: 0.7792\n",
            "Epoch 100/100\n",
            "20/20 [==============================] - 0s 4ms/step - loss: 0.2706 - accuracy: 0.8925 - val_loss: 0.5414 - val_accuracy: 0.7662\n"
          ]
        },
        {
          "output_type": "execute_result",
          "data": {
            "text/plain": [
              "<keras.src.callbacks.History at 0x7d53c1412aa0>"
            ]
          },
          "metadata": {},
          "execution_count": 37
        }
      ]
    },
    {
      "cell_type": "markdown",
      "source": [
        "### **Tuning all parameters at once, where each layer has the same set of parameters.**"
      ],
      "metadata": {
        "id": "RY2pJxVPh83l"
      }
    },
    {
      "cell_type": "code",
      "source": [
        "def model_builder(hp):\n",
        "\n",
        "  model= Sequential()\n",
        "\n",
        "  counter=0\n",
        "\n",
        "  units=hp.Int('units', min_value=8, max_value=128, step=8)\n",
        "  activation=hp.Choice('activation', values=['relu', 'tanh', 'sigmoid'])\n",
        "  for i in range(hp.Int('num_layers', min_value=1, max_value=10)):\n",
        "    if counter==0:\n",
        "      model.add(\n",
        "          Dense(\n",
        "              units=units,\n",
        "              activation=activation,\n",
        "              input_dim=8\n",
        "              )\n",
        "          )\n",
        "      counter+=1\n",
        "    else:\n",
        "      model.add(\n",
        "          Dense(\n",
        "              units=units,\n",
        "              activation=activation\n",
        "              )\n",
        "          )\n",
        "  model.add(Dense(1, activation='sigmoid'))\n",
        "\n",
        "  model.compile(optimizer=hp.Choice('optimizer', values=['adam', 'rmsprop','sgd','adadelta','nadam']),\n",
        "                loss='binary_crossentropy',\n",
        "                metrics=['accuracy'])\n",
        "  return model\n",
        "\n"
      ],
      "metadata": {
        "id": "Nyic5RKIhojT"
      },
      "execution_count": 38,
      "outputs": []
    },
    {
      "cell_type": "code",
      "source": [
        "tuner=kt.RandomSearch(model_builder,\n",
        "                      objective='val_accuracy',\n",
        "                      max_trials=3,\n",
        "                      directory='mydir',\n",
        "                      project_name='all-in-one-tuner1'\n",
        "                      )"
      ],
      "metadata": {
        "id": "21oJ6E-9uAVw"
      },
      "execution_count": 39,
      "outputs": []
    },
    {
      "cell_type": "code",
      "source": [
        "tuner.search(x_train, y_train, epochs=5, validation_data=(x_test, y_test))"
      ],
      "metadata": {
        "colab": {
          "base_uri": "https://localhost:8080/"
        },
        "id": "3lAvY8lCueUY",
        "outputId": "b4d1f5af-8816-48bd-8464-61ec93529778"
      },
      "execution_count": 40,
      "outputs": [
        {
          "output_type": "stream",
          "name": "stdout",
          "text": [
            "Trial 3 Complete [00h 00m 06s]\n",
            "val_accuracy: 0.6428571343421936\n",
            "\n",
            "Best val_accuracy So Far: 0.798701286315918\n",
            "Total elapsed time: 00h 00m 11s\n"
          ]
        }
      ]
    },
    {
      "cell_type": "code",
      "source": [
        "tuner.get_best_hyperparameters()[0].values"
      ],
      "metadata": {
        "colab": {
          "base_uri": "https://localhost:8080/"
        },
        "id": "F0z08Gwkx9_J",
        "outputId": "498a19eb-1001-453a-8dab-abeb1548f863"
      },
      "execution_count": 41,
      "outputs": [
        {
          "output_type": "execute_result",
          "data": {
            "text/plain": [
              "{'units': 72, 'activation': 'tanh', 'num_layers': 7, 'optimizer': 'sgd'}"
            ]
          },
          "metadata": {},
          "execution_count": 41
        }
      ]
    },
    {
      "cell_type": "code",
      "source": [
        "best_model=tuner.get_best_models()[0]"
      ],
      "metadata": {
        "id": "SlrdKcB0yGWc"
      },
      "execution_count": 42,
      "outputs": []
    },
    {
      "cell_type": "code",
      "source": [
        "best_model.summary()"
      ],
      "metadata": {
        "id": "kteQ4xhxl4gL",
        "outputId": "96e7ce8a-3d7b-4b3e-9b97-01fe804a583c",
        "colab": {
          "base_uri": "https://localhost:8080/"
        }
      },
      "execution_count": 43,
      "outputs": [
        {
          "output_type": "stream",
          "name": "stdout",
          "text": [
            "Model: \"sequential\"\n",
            "_________________________________________________________________\n",
            " Layer (type)                Output Shape              Param #   \n",
            "=================================================================\n",
            " dense (Dense)               (None, 72)                648       \n",
            "                                                                 \n",
            " dense_1 (Dense)             (None, 72)                5256      \n",
            "                                                                 \n",
            " dense_2 (Dense)             (None, 72)                5256      \n",
            "                                                                 \n",
            " dense_3 (Dense)             (None, 72)                5256      \n",
            "                                                                 \n",
            " dense_4 (Dense)             (None, 72)                5256      \n",
            "                                                                 \n",
            " dense_5 (Dense)             (None, 72)                5256      \n",
            "                                                                 \n",
            " dense_6 (Dense)             (None, 72)                5256      \n",
            "                                                                 \n",
            " dense_7 (Dense)             (None, 1)                 73        \n",
            "                                                                 \n",
            "=================================================================\n",
            "Total params: 32257 (126.00 KB)\n",
            "Trainable params: 32257 (126.00 KB)\n",
            "Non-trainable params: 0 (0.00 Byte)\n",
            "_________________________________________________________________\n"
          ]
        }
      ]
    },
    {
      "cell_type": "code",
      "source": [
        "best_model.fit(x_train, y_train, epochs=100, initial_epoch=6, validation_data=(x_test, y_test))"
      ],
      "metadata": {
        "id": "B_u1ElDol5I7",
        "outputId": "db87e165-aaba-44b3-c0fc-6768bd426d8e",
        "colab": {
          "base_uri": "https://localhost:8080/"
        }
      },
      "execution_count": 44,
      "outputs": [
        {
          "output_type": "stream",
          "name": "stdout",
          "text": [
            "Epoch 7/100\n",
            "20/20 [==============================] - 1s 15ms/step - loss: 0.4877 - accuracy: 0.7573 - val_loss: 0.4737 - val_accuracy: 0.7987\n",
            "Epoch 8/100\n",
            "20/20 [==============================] - 0s 5ms/step - loss: 0.4800 - accuracy: 0.7687 - val_loss: 0.4674 - val_accuracy: 0.8052\n",
            "Epoch 9/100\n",
            "20/20 [==============================] - 0s 5ms/step - loss: 0.4759 - accuracy: 0.7704 - val_loss: 0.4682 - val_accuracy: 0.7922\n",
            "Epoch 10/100\n",
            "20/20 [==============================] - 0s 7ms/step - loss: 0.4735 - accuracy: 0.7752 - val_loss: 0.4663 - val_accuracy: 0.7792\n",
            "Epoch 11/100\n",
            "20/20 [==============================] - 0s 6ms/step - loss: 0.4706 - accuracy: 0.7769 - val_loss: 0.4652 - val_accuracy: 0.7792\n",
            "Epoch 12/100\n",
            "20/20 [==============================] - 0s 6ms/step - loss: 0.4690 - accuracy: 0.7687 - val_loss: 0.4645 - val_accuracy: 0.8052\n",
            "Epoch 13/100\n",
            "20/20 [==============================] - 0s 6ms/step - loss: 0.4684 - accuracy: 0.7769 - val_loss: 0.4674 - val_accuracy: 0.7857\n",
            "Epoch 14/100\n",
            "20/20 [==============================] - 0s 5ms/step - loss: 0.4673 - accuracy: 0.7769 - val_loss: 0.4643 - val_accuracy: 0.7857\n",
            "Epoch 15/100\n",
            "20/20 [==============================] - 0s 6ms/step - loss: 0.4668 - accuracy: 0.7785 - val_loss: 0.4646 - val_accuracy: 0.7857\n",
            "Epoch 16/100\n",
            "20/20 [==============================] - 0s 6ms/step - loss: 0.4662 - accuracy: 0.7704 - val_loss: 0.4627 - val_accuracy: 0.7922\n",
            "Epoch 17/100\n",
            "20/20 [==============================] - 0s 5ms/step - loss: 0.4665 - accuracy: 0.7752 - val_loss: 0.4648 - val_accuracy: 0.7857\n",
            "Epoch 18/100\n",
            "20/20 [==============================] - 0s 6ms/step - loss: 0.4656 - accuracy: 0.7752 - val_loss: 0.4665 - val_accuracy: 0.7857\n",
            "Epoch 19/100\n",
            "20/20 [==============================] - 0s 6ms/step - loss: 0.4658 - accuracy: 0.7704 - val_loss: 0.4604 - val_accuracy: 0.7922\n",
            "Epoch 20/100\n",
            "20/20 [==============================] - 0s 5ms/step - loss: 0.4647 - accuracy: 0.7671 - val_loss: 0.4623 - val_accuracy: 0.7857\n",
            "Epoch 21/100\n",
            "20/20 [==============================] - 0s 6ms/step - loss: 0.4643 - accuracy: 0.7801 - val_loss: 0.4600 - val_accuracy: 0.7922\n",
            "Epoch 22/100\n",
            "20/20 [==============================] - 0s 6ms/step - loss: 0.4650 - accuracy: 0.7720 - val_loss: 0.4612 - val_accuracy: 0.7857\n",
            "Epoch 23/100\n",
            "20/20 [==============================] - 0s 6ms/step - loss: 0.4639 - accuracy: 0.7752 - val_loss: 0.4630 - val_accuracy: 0.7857\n",
            "Epoch 24/100\n",
            "20/20 [==============================] - 0s 6ms/step - loss: 0.4638 - accuracy: 0.7769 - val_loss: 0.4648 - val_accuracy: 0.7857\n",
            "Epoch 25/100\n",
            "20/20 [==============================] - 0s 6ms/step - loss: 0.4642 - accuracy: 0.7752 - val_loss: 0.4618 - val_accuracy: 0.7857\n",
            "Epoch 26/100\n",
            "20/20 [==============================] - 0s 6ms/step - loss: 0.4633 - accuracy: 0.7769 - val_loss: 0.4591 - val_accuracy: 0.7987\n",
            "Epoch 27/100\n",
            "20/20 [==============================] - 0s 6ms/step - loss: 0.4630 - accuracy: 0.7801 - val_loss: 0.4632 - val_accuracy: 0.7922\n",
            "Epoch 28/100\n",
            "20/20 [==============================] - 0s 7ms/step - loss: 0.4629 - accuracy: 0.7785 - val_loss: 0.4637 - val_accuracy: 0.7857\n",
            "Epoch 29/100\n",
            "20/20 [==============================] - 0s 6ms/step - loss: 0.4615 - accuracy: 0.7801 - val_loss: 0.4609 - val_accuracy: 0.7857\n",
            "Epoch 30/100\n",
            "20/20 [==============================] - 0s 7ms/step - loss: 0.4621 - accuracy: 0.7785 - val_loss: 0.4611 - val_accuracy: 0.7857\n",
            "Epoch 31/100\n",
            "20/20 [==============================] - 0s 6ms/step - loss: 0.4612 - accuracy: 0.7704 - val_loss: 0.4619 - val_accuracy: 0.7857\n",
            "Epoch 32/100\n",
            "20/20 [==============================] - 0s 7ms/step - loss: 0.4618 - accuracy: 0.7818 - val_loss: 0.4619 - val_accuracy: 0.7857\n",
            "Epoch 33/100\n",
            "20/20 [==============================] - 0s 6ms/step - loss: 0.4613 - accuracy: 0.7752 - val_loss: 0.4603 - val_accuracy: 0.7922\n",
            "Epoch 34/100\n",
            "20/20 [==============================] - 0s 4ms/step - loss: 0.4617 - accuracy: 0.7785 - val_loss: 0.4641 - val_accuracy: 0.7792\n",
            "Epoch 35/100\n",
            "20/20 [==============================] - 0s 4ms/step - loss: 0.4603 - accuracy: 0.7687 - val_loss: 0.4643 - val_accuracy: 0.7922\n",
            "Epoch 36/100\n",
            "20/20 [==============================] - 0s 4ms/step - loss: 0.4599 - accuracy: 0.7785 - val_loss: 0.4621 - val_accuracy: 0.7792\n",
            "Epoch 37/100\n",
            "20/20 [==============================] - 0s 4ms/step - loss: 0.4602 - accuracy: 0.7850 - val_loss: 0.4640 - val_accuracy: 0.7987\n",
            "Epoch 38/100\n",
            "20/20 [==============================] - 0s 4ms/step - loss: 0.4602 - accuracy: 0.7769 - val_loss: 0.4639 - val_accuracy: 0.7792\n",
            "Epoch 39/100\n",
            "20/20 [==============================] - 0s 4ms/step - loss: 0.4595 - accuracy: 0.7801 - val_loss: 0.4618 - val_accuracy: 0.7987\n",
            "Epoch 40/100\n",
            "20/20 [==============================] - 0s 4ms/step - loss: 0.4582 - accuracy: 0.7785 - val_loss: 0.4623 - val_accuracy: 0.7857\n",
            "Epoch 41/100\n",
            "20/20 [==============================] - 0s 4ms/step - loss: 0.4582 - accuracy: 0.7834 - val_loss: 0.4636 - val_accuracy: 0.7792\n",
            "Epoch 42/100\n",
            "20/20 [==============================] - 0s 4ms/step - loss: 0.4576 - accuracy: 0.7736 - val_loss: 0.4584 - val_accuracy: 0.7922\n",
            "Epoch 43/100\n",
            "20/20 [==============================] - 0s 5ms/step - loss: 0.4579 - accuracy: 0.7736 - val_loss: 0.4640 - val_accuracy: 0.7857\n",
            "Epoch 44/100\n",
            "20/20 [==============================] - 0s 4ms/step - loss: 0.4582 - accuracy: 0.7834 - val_loss: 0.4669 - val_accuracy: 0.7857\n",
            "Epoch 45/100\n",
            "20/20 [==============================] - 0s 5ms/step - loss: 0.4576 - accuracy: 0.7704 - val_loss: 0.4646 - val_accuracy: 0.7857\n",
            "Epoch 46/100\n",
            "20/20 [==============================] - 0s 4ms/step - loss: 0.4566 - accuracy: 0.7834 - val_loss: 0.4631 - val_accuracy: 0.7857\n",
            "Epoch 47/100\n",
            "20/20 [==============================] - 0s 4ms/step - loss: 0.4571 - accuracy: 0.7752 - val_loss: 0.4595 - val_accuracy: 0.7987\n",
            "Epoch 48/100\n",
            "20/20 [==============================] - 0s 4ms/step - loss: 0.4561 - accuracy: 0.7769 - val_loss: 0.4597 - val_accuracy: 0.7922\n",
            "Epoch 49/100\n",
            "20/20 [==============================] - 0s 4ms/step - loss: 0.4558 - accuracy: 0.7769 - val_loss: 0.4630 - val_accuracy: 0.7857\n",
            "Epoch 50/100\n",
            "20/20 [==============================] - 0s 5ms/step - loss: 0.4555 - accuracy: 0.7769 - val_loss: 0.4593 - val_accuracy: 0.7922\n",
            "Epoch 51/100\n",
            "20/20 [==============================] - 0s 4ms/step - loss: 0.4549 - accuracy: 0.7769 - val_loss: 0.4571 - val_accuracy: 0.8052\n",
            "Epoch 52/100\n",
            "20/20 [==============================] - 0s 4ms/step - loss: 0.4553 - accuracy: 0.7801 - val_loss: 0.4582 - val_accuracy: 0.7857\n",
            "Epoch 53/100\n",
            "20/20 [==============================] - 0s 4ms/step - loss: 0.4549 - accuracy: 0.7818 - val_loss: 0.4595 - val_accuracy: 0.7857\n",
            "Epoch 54/100\n",
            "20/20 [==============================] - 0s 4ms/step - loss: 0.4545 - accuracy: 0.7752 - val_loss: 0.4619 - val_accuracy: 0.7857\n",
            "Epoch 55/100\n",
            "20/20 [==============================] - 0s 4ms/step - loss: 0.4540 - accuracy: 0.7801 - val_loss: 0.4617 - val_accuracy: 0.7857\n",
            "Epoch 56/100\n",
            "20/20 [==============================] - 0s 5ms/step - loss: 0.4530 - accuracy: 0.7850 - val_loss: 0.4619 - val_accuracy: 0.8052\n",
            "Epoch 57/100\n",
            "20/20 [==============================] - 0s 5ms/step - loss: 0.4534 - accuracy: 0.7736 - val_loss: 0.4644 - val_accuracy: 0.7857\n",
            "Epoch 58/100\n",
            "20/20 [==============================] - 0s 4ms/step - loss: 0.4531 - accuracy: 0.7736 - val_loss: 0.4599 - val_accuracy: 0.7857\n",
            "Epoch 59/100\n",
            "20/20 [==============================] - 0s 4ms/step - loss: 0.4520 - accuracy: 0.7785 - val_loss: 0.4572 - val_accuracy: 0.7922\n",
            "Epoch 60/100\n",
            "20/20 [==============================] - 0s 4ms/step - loss: 0.4525 - accuracy: 0.7801 - val_loss: 0.4596 - val_accuracy: 0.7987\n",
            "Epoch 61/100\n",
            "20/20 [==============================] - 0s 4ms/step - loss: 0.4512 - accuracy: 0.7752 - val_loss: 0.4628 - val_accuracy: 0.7792\n",
            "Epoch 62/100\n",
            "20/20 [==============================] - 0s 5ms/step - loss: 0.4524 - accuracy: 0.7801 - val_loss: 0.4594 - val_accuracy: 0.7857\n",
            "Epoch 63/100\n",
            "20/20 [==============================] - 0s 4ms/step - loss: 0.4510 - accuracy: 0.7704 - val_loss: 0.4595 - val_accuracy: 0.7857\n",
            "Epoch 64/100\n",
            "20/20 [==============================] - 0s 4ms/step - loss: 0.4514 - accuracy: 0.7785 - val_loss: 0.4573 - val_accuracy: 0.7987\n",
            "Epoch 65/100\n",
            "20/20 [==============================] - 0s 4ms/step - loss: 0.4500 - accuracy: 0.7883 - val_loss: 0.4586 - val_accuracy: 0.7857\n",
            "Epoch 66/100\n",
            "20/20 [==============================] - 0s 5ms/step - loss: 0.4500 - accuracy: 0.7834 - val_loss: 0.4663 - val_accuracy: 0.7662\n",
            "Epoch 67/100\n",
            "20/20 [==============================] - 0s 4ms/step - loss: 0.4504 - accuracy: 0.7785 - val_loss: 0.4594 - val_accuracy: 0.7857\n",
            "Epoch 68/100\n",
            "20/20 [==============================] - 0s 4ms/step - loss: 0.4491 - accuracy: 0.7769 - val_loss: 0.4580 - val_accuracy: 0.7987\n",
            "Epoch 69/100\n",
            "20/20 [==============================] - 0s 5ms/step - loss: 0.4500 - accuracy: 0.7818 - val_loss: 0.4595 - val_accuracy: 0.7922\n",
            "Epoch 70/100\n",
            "20/20 [==============================] - 0s 4ms/step - loss: 0.4493 - accuracy: 0.7834 - val_loss: 0.4650 - val_accuracy: 0.7727\n",
            "Epoch 71/100\n",
            "20/20 [==============================] - 0s 4ms/step - loss: 0.4495 - accuracy: 0.7769 - val_loss: 0.4675 - val_accuracy: 0.7727\n",
            "Epoch 72/100\n",
            "20/20 [==============================] - 0s 4ms/step - loss: 0.4495 - accuracy: 0.7785 - val_loss: 0.4610 - val_accuracy: 0.7987\n",
            "Epoch 73/100\n",
            "20/20 [==============================] - 0s 4ms/step - loss: 0.4480 - accuracy: 0.7850 - val_loss: 0.4579 - val_accuracy: 0.7922\n",
            "Epoch 74/100\n",
            "20/20 [==============================] - 0s 4ms/step - loss: 0.4479 - accuracy: 0.7883 - val_loss: 0.4577 - val_accuracy: 0.7792\n",
            "Epoch 75/100\n",
            "20/20 [==============================] - 0s 4ms/step - loss: 0.4471 - accuracy: 0.7818 - val_loss: 0.4570 - val_accuracy: 0.7857\n",
            "Epoch 76/100\n",
            "20/20 [==============================] - 0s 4ms/step - loss: 0.4477 - accuracy: 0.7834 - val_loss: 0.4645 - val_accuracy: 0.7662\n",
            "Epoch 77/100\n",
            "20/20 [==============================] - 0s 4ms/step - loss: 0.4471 - accuracy: 0.7883 - val_loss: 0.4711 - val_accuracy: 0.7727\n",
            "Epoch 78/100\n",
            "20/20 [==============================] - 0s 4ms/step - loss: 0.4459 - accuracy: 0.7850 - val_loss: 0.4619 - val_accuracy: 0.7727\n",
            "Epoch 79/100\n",
            "20/20 [==============================] - 0s 4ms/step - loss: 0.4454 - accuracy: 0.7850 - val_loss: 0.4621 - val_accuracy: 0.7532\n",
            "Epoch 80/100\n",
            "20/20 [==============================] - 0s 4ms/step - loss: 0.4452 - accuracy: 0.7752 - val_loss: 0.4569 - val_accuracy: 0.7792\n",
            "Epoch 81/100\n",
            "20/20 [==============================] - 0s 4ms/step - loss: 0.4456 - accuracy: 0.7736 - val_loss: 0.4583 - val_accuracy: 0.7857\n",
            "Epoch 82/100\n",
            "20/20 [==============================] - 0s 4ms/step - loss: 0.4464 - accuracy: 0.7899 - val_loss: 0.4557 - val_accuracy: 0.7792\n",
            "Epoch 83/100\n",
            "20/20 [==============================] - 0s 4ms/step - loss: 0.4445 - accuracy: 0.7801 - val_loss: 0.4555 - val_accuracy: 0.7922\n",
            "Epoch 84/100\n",
            "20/20 [==============================] - 0s 4ms/step - loss: 0.4449 - accuracy: 0.7801 - val_loss: 0.4570 - val_accuracy: 0.7922\n",
            "Epoch 85/100\n",
            "20/20 [==============================] - 0s 4ms/step - loss: 0.4451 - accuracy: 0.7850 - val_loss: 0.4549 - val_accuracy: 0.7857\n",
            "Epoch 86/100\n",
            "20/20 [==============================] - 0s 4ms/step - loss: 0.4434 - accuracy: 0.7850 - val_loss: 0.4614 - val_accuracy: 0.7727\n",
            "Epoch 87/100\n",
            "20/20 [==============================] - 0s 4ms/step - loss: 0.4441 - accuracy: 0.7850 - val_loss: 0.4563 - val_accuracy: 0.7857\n",
            "Epoch 88/100\n",
            "20/20 [==============================] - 0s 4ms/step - loss: 0.4432 - accuracy: 0.7899 - val_loss: 0.4548 - val_accuracy: 0.7857\n",
            "Epoch 89/100\n",
            "20/20 [==============================] - 0s 5ms/step - loss: 0.4415 - accuracy: 0.7932 - val_loss: 0.4550 - val_accuracy: 0.7857\n",
            "Epoch 90/100\n",
            "20/20 [==============================] - 0s 4ms/step - loss: 0.4437 - accuracy: 0.7769 - val_loss: 0.4554 - val_accuracy: 0.7922\n",
            "Epoch 91/100\n",
            "20/20 [==============================] - 0s 4ms/step - loss: 0.4427 - accuracy: 0.7932 - val_loss: 0.4530 - val_accuracy: 0.7987\n",
            "Epoch 92/100\n",
            "20/20 [==============================] - 0s 4ms/step - loss: 0.4424 - accuracy: 0.7834 - val_loss: 0.4569 - val_accuracy: 0.7857\n",
            "Epoch 93/100\n",
            "20/20 [==============================] - 0s 4ms/step - loss: 0.4418 - accuracy: 0.7915 - val_loss: 0.4564 - val_accuracy: 0.7987\n",
            "Epoch 94/100\n",
            "20/20 [==============================] - 0s 4ms/step - loss: 0.4415 - accuracy: 0.7866 - val_loss: 0.4575 - val_accuracy: 0.7922\n",
            "Epoch 95/100\n",
            "20/20 [==============================] - 0s 4ms/step - loss: 0.4407 - accuracy: 0.7932 - val_loss: 0.4539 - val_accuracy: 0.7922\n",
            "Epoch 96/100\n",
            "20/20 [==============================] - 0s 4ms/step - loss: 0.4405 - accuracy: 0.7818 - val_loss: 0.4583 - val_accuracy: 0.7857\n",
            "Epoch 97/100\n",
            "20/20 [==============================] - 0s 4ms/step - loss: 0.4401 - accuracy: 0.7899 - val_loss: 0.4567 - val_accuracy: 0.7857\n",
            "Epoch 98/100\n",
            "20/20 [==============================] - 0s 4ms/step - loss: 0.4401 - accuracy: 0.7866 - val_loss: 0.4605 - val_accuracy: 0.7727\n",
            "Epoch 99/100\n",
            "20/20 [==============================] - 0s 4ms/step - loss: 0.4385 - accuracy: 0.7932 - val_loss: 0.4558 - val_accuracy: 0.7922\n",
            "Epoch 100/100\n",
            "20/20 [==============================] - 0s 5ms/step - loss: 0.4393 - accuracy: 0.7948 - val_loss: 0.4736 - val_accuracy: 0.7727\n"
          ]
        },
        {
          "output_type": "execute_result",
          "data": {
            "text/plain": [
              "<keras.src.callbacks.History at 0x7d53c0a9de10>"
            ]
          },
          "metadata": {},
          "execution_count": 44
        }
      ]
    },
    {
      "cell_type": "markdown",
      "source": [
        "### **Tuning all parameters at once, where each layer has its own set of parameters.**"
      ],
      "metadata": {
        "id": "6g7nDvnktJ_3"
      }
    },
    {
      "cell_type": "code",
      "source": [
        "def model_builder(hp):\n",
        "\n",
        "  model= Sequential()\n",
        "\n",
        "  counter=0\n",
        "\n",
        "  for i in range(hp.Int('num_layers', min_value=1, max_value=10)):\n",
        "    if counter==0:\n",
        "      model.add(\n",
        "          Dense(\n",
        "              units=hp.Int('units-'+str(i), min_value=8, max_value=128, step=8),\n",
        "              activation=hp.Choice('activation-'+str(i), values=['relu', 'tanh', 'sigmoid']),\n",
        "              input_dim=8\n",
        "              )\n",
        "          )\n",
        "      counter+=1\n",
        "    else:\n",
        "      model.add(\n",
        "          Dense(\n",
        "              units=hp.Int('units-'+str(i), min_value=8, max_value=128, step=8),\n",
        "              activation=hp.Choice('activation-'+str(i), values=['relu', 'tanh', 'sigmoid'])\n",
        "              )\n",
        "          )\n",
        "  model.add(Dense(1, activation='sigmoid'))\n",
        "\n",
        "  model.compile(optimizer=hp.Choice('optimizer', values=['adam', 'rmsprop','sgd','adadelta','nadam']),\n",
        "                loss='binary_crossentropy',\n",
        "                metrics=['accuracy'])\n",
        "  return model"
      ],
      "metadata": {
        "id": "iRU7GUvlyX1Q"
      },
      "execution_count": 45,
      "outputs": []
    },
    {
      "cell_type": "code",
      "source": [
        "tuner=kt.RandomSearch(model_builder,\n",
        "                      objective='val_accuracy',\n",
        "                      max_trials=5,\n",
        "                      directory='mydir',\n",
        "                      project_name='all-in-one-tuner-2'\n",
        "                      )"
      ],
      "metadata": {
        "id": "keSs1ku9ylRl"
      },
      "execution_count": 46,
      "outputs": []
    },
    {
      "cell_type": "code",
      "source": [
        "tuner.search(x_train, y_train, epochs=5, validation_data=(x_test, y_test))"
      ],
      "metadata": {
        "colab": {
          "base_uri": "https://localhost:8080/"
        },
        "id": "ncCXcj-ky0kT",
        "outputId": "043e93ed-c748-41cb-81a4-ba7b06041355"
      },
      "execution_count": 47,
      "outputs": [
        {
          "output_type": "stream",
          "name": "stdout",
          "text": [
            "Trial 5 Complete [00h 00m 03s]\n",
            "val_accuracy: 0.8051947951316833\n",
            "\n",
            "Best val_accuracy So Far: 0.8051947951316833\n",
            "Total elapsed time: 00h 00m 14s\n"
          ]
        }
      ]
    },
    {
      "cell_type": "code",
      "source": [
        "tuner.get_best_hyperparameters()[0].values"
      ],
      "metadata": {
        "colab": {
          "base_uri": "https://localhost:8080/"
        },
        "id": "UktCRwSVy9YV",
        "outputId": "09b7c938-22e7-4293-cc9c-9ceaee42d4b1"
      },
      "execution_count": 48,
      "outputs": [
        {
          "output_type": "execute_result",
          "data": {
            "text/plain": [
              "{'num_layers': 7,\n",
              " 'units-0': 120,\n",
              " 'activation-0': 'tanh',\n",
              " 'optimizer': 'adam',\n",
              " 'units-1': 24,\n",
              " 'activation-1': 'tanh',\n",
              " 'units-2': 56,\n",
              " 'activation-2': 'relu',\n",
              " 'units-3': 8,\n",
              " 'activation-3': 'tanh',\n",
              " 'units-4': 104,\n",
              " 'activation-4': 'relu',\n",
              " 'units-5': 120,\n",
              " 'activation-5': 'relu',\n",
              " 'units-6': 8,\n",
              " 'activation-6': 'sigmoid',\n",
              " 'units-7': 80,\n",
              " 'activation-7': 'relu',\n",
              " 'units-8': 72,\n",
              " 'activation-8': 'relu'}"
            ]
          },
          "metadata": {},
          "execution_count": 48
        }
      ]
    },
    {
      "cell_type": "code",
      "source": [
        "best_model=tuner.get_best_models()[0]"
      ],
      "metadata": {
        "id": "fcxaT7SIzBCy"
      },
      "execution_count": 49,
      "outputs": []
    },
    {
      "cell_type": "code",
      "source": [
        "best_model.summary()"
      ],
      "metadata": {
        "colab": {
          "base_uri": "https://localhost:8080/"
        },
        "id": "obbXAoiPzLo-",
        "outputId": "652f9ee4-6dea-4915-bb56-a81961337527"
      },
      "execution_count": 50,
      "outputs": [
        {
          "output_type": "stream",
          "name": "stdout",
          "text": [
            "Model: \"sequential\"\n",
            "_________________________________________________________________\n",
            " Layer (type)                Output Shape              Param #   \n",
            "=================================================================\n",
            " dense (Dense)               (None, 120)               1080      \n",
            "                                                                 \n",
            " dense_1 (Dense)             (None, 24)                2904      \n",
            "                                                                 \n",
            " dense_2 (Dense)             (None, 56)                1400      \n",
            "                                                                 \n",
            " dense_3 (Dense)             (None, 8)                 456       \n",
            "                                                                 \n",
            " dense_4 (Dense)             (None, 104)               936       \n",
            "                                                                 \n",
            " dense_5 (Dense)             (None, 120)               12600     \n",
            "                                                                 \n",
            " dense_6 (Dense)             (None, 8)                 968       \n",
            "                                                                 \n",
            " dense_7 (Dense)             (None, 1)                 9         \n",
            "                                                                 \n",
            "=================================================================\n",
            "Total params: 20353 (79.50 KB)\n",
            "Trainable params: 20353 (79.50 KB)\n",
            "Non-trainable params: 0 (0.00 Byte)\n",
            "_________________________________________________________________\n"
          ]
        }
      ]
    },
    {
      "cell_type": "code",
      "source": [
        "best_model.fit(x_train, y_train, epochs=100, initial_epoch=6, validation_data=(x_test, y_test))"
      ],
      "metadata": {
        "colab": {
          "base_uri": "https://localhost:8080/"
        },
        "id": "fgS4d69vzPYp",
        "outputId": "bbde2ab2-dfad-47a3-f784-7de82bda4801"
      },
      "execution_count": 51,
      "outputs": [
        {
          "output_type": "stream",
          "name": "stdout",
          "text": [
            "Epoch 7/100\n",
            "20/20 [==============================] - 2s 21ms/step - loss: 0.5074 - accuracy: 0.7410 - val_loss: 0.4845 - val_accuracy: 0.7857\n",
            "Epoch 8/100\n",
            "20/20 [==============================] - 0s 8ms/step - loss: 0.4925 - accuracy: 0.7508 - val_loss: 0.4772 - val_accuracy: 0.8052\n",
            "Epoch 9/100\n",
            "20/20 [==============================] - 0s 7ms/step - loss: 0.4844 - accuracy: 0.7687 - val_loss: 0.4753 - val_accuracy: 0.8052\n",
            "Epoch 10/100\n",
            "20/20 [==============================] - 0s 7ms/step - loss: 0.4806 - accuracy: 0.7720 - val_loss: 0.4821 - val_accuracy: 0.7987\n",
            "Epoch 11/100\n",
            "20/20 [==============================] - 0s 7ms/step - loss: 0.4724 - accuracy: 0.7834 - val_loss: 0.4787 - val_accuracy: 0.7857\n",
            "Epoch 12/100\n",
            "20/20 [==============================] - 0s 7ms/step - loss: 0.4699 - accuracy: 0.7785 - val_loss: 0.4793 - val_accuracy: 0.7922\n",
            "Epoch 13/100\n",
            "20/20 [==============================] - 0s 5ms/step - loss: 0.4639 - accuracy: 0.7818 - val_loss: 0.4787 - val_accuracy: 0.7727\n",
            "Epoch 14/100\n",
            "20/20 [==============================] - 0s 4ms/step - loss: 0.4597 - accuracy: 0.7899 - val_loss: 0.4755 - val_accuracy: 0.7922\n",
            "Epoch 15/100\n",
            "20/20 [==============================] - 0s 4ms/step - loss: 0.4515 - accuracy: 0.7980 - val_loss: 0.4734 - val_accuracy: 0.7857\n",
            "Epoch 16/100\n",
            "20/20 [==============================] - 0s 4ms/step - loss: 0.4467 - accuracy: 0.7948 - val_loss: 0.4773 - val_accuracy: 0.7792\n",
            "Epoch 17/100\n",
            "20/20 [==============================] - 0s 5ms/step - loss: 0.4389 - accuracy: 0.8029 - val_loss: 0.4750 - val_accuracy: 0.7727\n",
            "Epoch 18/100\n",
            "20/20 [==============================] - 0s 5ms/step - loss: 0.4372 - accuracy: 0.8160 - val_loss: 0.4733 - val_accuracy: 0.7857\n",
            "Epoch 19/100\n",
            "20/20 [==============================] - 0s 4ms/step - loss: 0.4362 - accuracy: 0.8046 - val_loss: 0.4716 - val_accuracy: 0.7857\n",
            "Epoch 20/100\n",
            "20/20 [==============================] - 0s 5ms/step - loss: 0.4363 - accuracy: 0.8062 - val_loss: 0.4755 - val_accuracy: 0.7857\n",
            "Epoch 21/100\n",
            "20/20 [==============================] - 0s 5ms/step - loss: 0.4166 - accuracy: 0.8225 - val_loss: 0.4748 - val_accuracy: 0.7857\n",
            "Epoch 22/100\n",
            "20/20 [==============================] - 0s 4ms/step - loss: 0.4134 - accuracy: 0.8290 - val_loss: 0.4778 - val_accuracy: 0.7857\n",
            "Epoch 23/100\n",
            "20/20 [==============================] - 0s 4ms/step - loss: 0.4195 - accuracy: 0.8192 - val_loss: 0.4771 - val_accuracy: 0.7857\n",
            "Epoch 24/100\n",
            "20/20 [==============================] - 0s 4ms/step - loss: 0.3983 - accuracy: 0.8436 - val_loss: 0.4732 - val_accuracy: 0.7857\n",
            "Epoch 25/100\n",
            "20/20 [==============================] - 0s 4ms/step - loss: 0.4075 - accuracy: 0.8274 - val_loss: 0.4708 - val_accuracy: 0.7857\n",
            "Epoch 26/100\n",
            "20/20 [==============================] - 0s 4ms/step - loss: 0.4219 - accuracy: 0.8143 - val_loss: 0.4715 - val_accuracy: 0.7792\n",
            "Epoch 27/100\n",
            "20/20 [==============================] - 0s 5ms/step - loss: 0.4031 - accuracy: 0.8225 - val_loss: 0.4620 - val_accuracy: 0.7792\n",
            "Epoch 28/100\n",
            "20/20 [==============================] - 0s 5ms/step - loss: 0.3941 - accuracy: 0.8420 - val_loss: 0.4568 - val_accuracy: 0.7987\n",
            "Epoch 29/100\n",
            "20/20 [==============================] - 0s 4ms/step - loss: 0.3929 - accuracy: 0.8420 - val_loss: 0.4790 - val_accuracy: 0.7857\n",
            "Epoch 30/100\n",
            "20/20 [==============================] - 0s 5ms/step - loss: 0.3737 - accuracy: 0.8502 - val_loss: 0.4853 - val_accuracy: 0.7857\n",
            "Epoch 31/100\n",
            "20/20 [==============================] - 0s 5ms/step - loss: 0.3834 - accuracy: 0.8436 - val_loss: 0.4880 - val_accuracy: 0.7792\n",
            "Epoch 32/100\n",
            "20/20 [==============================] - 0s 5ms/step - loss: 0.3655 - accuracy: 0.8648 - val_loss: 0.4925 - val_accuracy: 0.7857\n",
            "Epoch 33/100\n",
            "20/20 [==============================] - 0s 4ms/step - loss: 0.3601 - accuracy: 0.8648 - val_loss: 0.4961 - val_accuracy: 0.7857\n",
            "Epoch 34/100\n",
            "20/20 [==============================] - 0s 4ms/step - loss: 0.3501 - accuracy: 0.8713 - val_loss: 0.4971 - val_accuracy: 0.7987\n",
            "Epoch 35/100\n",
            "20/20 [==============================] - 0s 4ms/step - loss: 0.3463 - accuracy: 0.8664 - val_loss: 0.5177 - val_accuracy: 0.7662\n",
            "Epoch 36/100\n",
            "20/20 [==============================] - 0s 4ms/step - loss: 0.3403 - accuracy: 0.8730 - val_loss: 0.5128 - val_accuracy: 0.7727\n",
            "Epoch 37/100\n",
            "20/20 [==============================] - 0s 5ms/step - loss: 0.3318 - accuracy: 0.8811 - val_loss: 0.5302 - val_accuracy: 0.7727\n",
            "Epoch 38/100\n",
            "20/20 [==============================] - 0s 4ms/step - loss: 0.3521 - accuracy: 0.8599 - val_loss: 0.4929 - val_accuracy: 0.8052\n",
            "Epoch 39/100\n",
            "20/20 [==============================] - 0s 5ms/step - loss: 0.3424 - accuracy: 0.8713 - val_loss: 0.5445 - val_accuracy: 0.7403\n",
            "Epoch 40/100\n",
            "20/20 [==============================] - 0s 4ms/step - loss: 0.3307 - accuracy: 0.8893 - val_loss: 0.5502 - val_accuracy: 0.7403\n",
            "Epoch 41/100\n",
            "20/20 [==============================] - 0s 4ms/step - loss: 0.3240 - accuracy: 0.8893 - val_loss: 0.5469 - val_accuracy: 0.7468\n",
            "Epoch 42/100\n",
            "20/20 [==============================] - 0s 4ms/step - loss: 0.3387 - accuracy: 0.8762 - val_loss: 0.5457 - val_accuracy: 0.7727\n",
            "Epoch 43/100\n",
            "20/20 [==============================] - 0s 5ms/step - loss: 0.3268 - accuracy: 0.8844 - val_loss: 0.5582 - val_accuracy: 0.7857\n",
            "Epoch 44/100\n",
            "20/20 [==============================] - 0s 5ms/step - loss: 0.3340 - accuracy: 0.8762 - val_loss: 0.5344 - val_accuracy: 0.7727\n",
            "Epoch 45/100\n",
            "20/20 [==============================] - 0s 4ms/step - loss: 0.3275 - accuracy: 0.8827 - val_loss: 0.5729 - val_accuracy: 0.7597\n",
            "Epoch 46/100\n",
            "20/20 [==============================] - 0s 4ms/step - loss: 0.3184 - accuracy: 0.8909 - val_loss: 0.5799 - val_accuracy: 0.7532\n",
            "Epoch 47/100\n",
            "20/20 [==============================] - 0s 5ms/step - loss: 0.3253 - accuracy: 0.8893 - val_loss: 0.5608 - val_accuracy: 0.7662\n",
            "Epoch 48/100\n",
            "20/20 [==============================] - 0s 4ms/step - loss: 0.3065 - accuracy: 0.8958 - val_loss: 0.5364 - val_accuracy: 0.7857\n",
            "Epoch 49/100\n",
            "20/20 [==============================] - 0s 4ms/step - loss: 0.3021 - accuracy: 0.9055 - val_loss: 0.5879 - val_accuracy: 0.7597\n",
            "Epoch 50/100\n",
            "20/20 [==============================] - 0s 5ms/step - loss: 0.3000 - accuracy: 0.8990 - val_loss: 0.5568 - val_accuracy: 0.7662\n",
            "Epoch 51/100\n",
            "20/20 [==============================] - 0s 5ms/step - loss: 0.2875 - accuracy: 0.9088 - val_loss: 0.6038 - val_accuracy: 0.7468\n",
            "Epoch 52/100\n",
            "20/20 [==============================] - 0s 4ms/step - loss: 0.3096 - accuracy: 0.8893 - val_loss: 0.6206 - val_accuracy: 0.7143\n",
            "Epoch 53/100\n",
            "20/20 [==============================] - 0s 4ms/step - loss: 0.3178 - accuracy: 0.8909 - val_loss: 0.6039 - val_accuracy: 0.7792\n",
            "Epoch 54/100\n",
            "20/20 [==============================] - 0s 5ms/step - loss: 0.2970 - accuracy: 0.9055 - val_loss: 0.5861 - val_accuracy: 0.7597\n",
            "Epoch 55/100\n",
            "20/20 [==============================] - 0s 5ms/step - loss: 0.3173 - accuracy: 0.8925 - val_loss: 0.5629 - val_accuracy: 0.7532\n",
            "Epoch 56/100\n",
            "20/20 [==============================] - 0s 5ms/step - loss: 0.2931 - accuracy: 0.9088 - val_loss: 0.5800 - val_accuracy: 0.7532\n",
            "Epoch 57/100\n",
            "20/20 [==============================] - 0s 4ms/step - loss: 0.2978 - accuracy: 0.8958 - val_loss: 0.5818 - val_accuracy: 0.7727\n",
            "Epoch 58/100\n",
            "20/20 [==============================] - 0s 5ms/step - loss: 0.3030 - accuracy: 0.8974 - val_loss: 0.6340 - val_accuracy: 0.7403\n",
            "Epoch 59/100\n",
            "20/20 [==============================] - 0s 4ms/step - loss: 0.3168 - accuracy: 0.8909 - val_loss: 0.5692 - val_accuracy: 0.7792\n",
            "Epoch 60/100\n",
            "20/20 [==============================] - 0s 4ms/step - loss: 0.2947 - accuracy: 0.9055 - val_loss: 0.6128 - val_accuracy: 0.7532\n",
            "Epoch 61/100\n",
            "20/20 [==============================] - 0s 5ms/step - loss: 0.2923 - accuracy: 0.9055 - val_loss: 0.6198 - val_accuracy: 0.7532\n",
            "Epoch 62/100\n",
            "20/20 [==============================] - 0s 5ms/step - loss: 0.2866 - accuracy: 0.9088 - val_loss: 0.6090 - val_accuracy: 0.7532\n",
            "Epoch 63/100\n",
            "20/20 [==============================] - 0s 4ms/step - loss: 0.2715 - accuracy: 0.9186 - val_loss: 0.5978 - val_accuracy: 0.7597\n",
            "Epoch 64/100\n",
            "20/20 [==============================] - 0s 5ms/step - loss: 0.2678 - accuracy: 0.9202 - val_loss: 0.6041 - val_accuracy: 0.7468\n",
            "Epoch 65/100\n",
            "20/20 [==============================] - 0s 4ms/step - loss: 0.2635 - accuracy: 0.9218 - val_loss: 0.6082 - val_accuracy: 0.7532\n",
            "Epoch 66/100\n",
            "20/20 [==============================] - 0s 4ms/step - loss: 0.2700 - accuracy: 0.9169 - val_loss: 0.6228 - val_accuracy: 0.7468\n",
            "Epoch 67/100\n",
            "20/20 [==============================] - 0s 4ms/step - loss: 0.2672 - accuracy: 0.9186 - val_loss: 0.6111 - val_accuracy: 0.7662\n",
            "Epoch 68/100\n",
            "20/20 [==============================] - 0s 4ms/step - loss: 0.3248 - accuracy: 0.8925 - val_loss: 0.6071 - val_accuracy: 0.7468\n",
            "Epoch 69/100\n",
            "20/20 [==============================] - 0s 5ms/step - loss: 0.2857 - accuracy: 0.9104 - val_loss: 0.6286 - val_accuracy: 0.7662\n",
            "Epoch 70/100\n",
            "20/20 [==============================] - 0s 4ms/step - loss: 0.3027 - accuracy: 0.9007 - val_loss: 0.6422 - val_accuracy: 0.7468\n",
            "Epoch 71/100\n",
            "20/20 [==============================] - 0s 4ms/step - loss: 0.2859 - accuracy: 0.9088 - val_loss: 0.6719 - val_accuracy: 0.7338\n",
            "Epoch 72/100\n",
            "20/20 [==============================] - 0s 5ms/step - loss: 0.3252 - accuracy: 0.8909 - val_loss: 0.6326 - val_accuracy: 0.7338\n",
            "Epoch 73/100\n",
            "20/20 [==============================] - 0s 5ms/step - loss: 0.2934 - accuracy: 0.9023 - val_loss: 0.6202 - val_accuracy: 0.7727\n",
            "Epoch 74/100\n",
            "20/20 [==============================] - 0s 4ms/step - loss: 0.2961 - accuracy: 0.8990 - val_loss: 0.6272 - val_accuracy: 0.7468\n",
            "Epoch 75/100\n",
            "20/20 [==============================] - 0s 4ms/step - loss: 0.3113 - accuracy: 0.8974 - val_loss: 0.6693 - val_accuracy: 0.7208\n",
            "Epoch 76/100\n",
            "20/20 [==============================] - 0s 4ms/step - loss: 0.3045 - accuracy: 0.9007 - val_loss: 0.6636 - val_accuracy: 0.7273\n",
            "Epoch 77/100\n",
            "20/20 [==============================] - 0s 4ms/step - loss: 0.2869 - accuracy: 0.9072 - val_loss: 0.6493 - val_accuracy: 0.7403\n",
            "Epoch 78/100\n",
            "20/20 [==============================] - 0s 5ms/step - loss: 0.2761 - accuracy: 0.9121 - val_loss: 0.6168 - val_accuracy: 0.7532\n",
            "Epoch 79/100\n",
            "20/20 [==============================] - 0s 5ms/step - loss: 0.2947 - accuracy: 0.9072 - val_loss: 0.5965 - val_accuracy: 0.7792\n",
            "Epoch 80/100\n",
            "20/20 [==============================] - 0s 4ms/step - loss: 0.2839 - accuracy: 0.9088 - val_loss: 0.6465 - val_accuracy: 0.7273\n",
            "Epoch 81/100\n",
            "20/20 [==============================] - 0s 4ms/step - loss: 0.2741 - accuracy: 0.9137 - val_loss: 0.6524 - val_accuracy: 0.7403\n",
            "Epoch 82/100\n",
            "20/20 [==============================] - 0s 5ms/step - loss: 0.2599 - accuracy: 0.9251 - val_loss: 0.6577 - val_accuracy: 0.7403\n",
            "Epoch 83/100\n",
            "20/20 [==============================] - 0s 6ms/step - loss: 0.2730 - accuracy: 0.9137 - val_loss: 0.6265 - val_accuracy: 0.7662\n",
            "Epoch 84/100\n",
            "20/20 [==============================] - 0s 5ms/step - loss: 0.2675 - accuracy: 0.9169 - val_loss: 0.6393 - val_accuracy: 0.7208\n",
            "Epoch 85/100\n",
            "20/20 [==============================] - 0s 4ms/step - loss: 0.2787 - accuracy: 0.9072 - val_loss: 0.6312 - val_accuracy: 0.7532\n",
            "Epoch 86/100\n",
            "20/20 [==============================] - 0s 4ms/step - loss: 0.2645 - accuracy: 0.9235 - val_loss: 0.6165 - val_accuracy: 0.7662\n",
            "Epoch 87/100\n",
            "20/20 [==============================] - 0s 5ms/step - loss: 0.2658 - accuracy: 0.9186 - val_loss: 0.6324 - val_accuracy: 0.7532\n",
            "Epoch 88/100\n",
            "20/20 [==============================] - 0s 4ms/step - loss: 0.2619 - accuracy: 0.9218 - val_loss: 0.6294 - val_accuracy: 0.7468\n",
            "Epoch 89/100\n",
            "20/20 [==============================] - 0s 4ms/step - loss: 0.2610 - accuracy: 0.9218 - val_loss: 0.6237 - val_accuracy: 0.7532\n",
            "Epoch 90/100\n",
            "20/20 [==============================] - 0s 4ms/step - loss: 0.2601 - accuracy: 0.9235 - val_loss: 0.6448 - val_accuracy: 0.7532\n",
            "Epoch 91/100\n",
            "20/20 [==============================] - 0s 4ms/step - loss: 0.2546 - accuracy: 0.9235 - val_loss: 0.6299 - val_accuracy: 0.7597\n",
            "Epoch 92/100\n",
            "20/20 [==============================] - 0s 5ms/step - loss: 0.2547 - accuracy: 0.9235 - val_loss: 0.6616 - val_accuracy: 0.7403\n",
            "Epoch 93/100\n",
            "20/20 [==============================] - 0s 5ms/step - loss: 0.2605 - accuracy: 0.9202 - val_loss: 0.6766 - val_accuracy: 0.7403\n",
            "Epoch 94/100\n",
            "20/20 [==============================] - 0s 4ms/step - loss: 0.2527 - accuracy: 0.9251 - val_loss: 0.6373 - val_accuracy: 0.7597\n",
            "Epoch 95/100\n",
            "20/20 [==============================] - 0s 4ms/step - loss: 0.2521 - accuracy: 0.9267 - val_loss: 0.6457 - val_accuracy: 0.7662\n",
            "Epoch 96/100\n",
            "20/20 [==============================] - 0s 4ms/step - loss: 0.2609 - accuracy: 0.9186 - val_loss: 0.6242 - val_accuracy: 0.7662\n",
            "Epoch 97/100\n",
            "20/20 [==============================] - 0s 4ms/step - loss: 0.2461 - accuracy: 0.9316 - val_loss: 0.6416 - val_accuracy: 0.7597\n",
            "Epoch 98/100\n",
            "20/20 [==============================] - 0s 4ms/step - loss: 0.2955 - accuracy: 0.9104 - val_loss: 0.6682 - val_accuracy: 0.7273\n",
            "Epoch 99/100\n",
            "20/20 [==============================] - 0s 4ms/step - loss: 0.2869 - accuracy: 0.9121 - val_loss: 0.6835 - val_accuracy: 0.7273\n",
            "Epoch 100/100\n",
            "20/20 [==============================] - 0s 4ms/step - loss: 0.2872 - accuracy: 0.9104 - val_loss: 0.6799 - val_accuracy: 0.7403\n"
          ]
        },
        {
          "output_type": "execute_result",
          "data": {
            "text/plain": [
              "<keras.src.callbacks.History at 0x7d53bfdb1ea0>"
            ]
          },
          "metadata": {},
          "execution_count": 51
        }
      ]
    },
    {
      "cell_type": "markdown",
      "source": [
        "### **All in one with dropout**"
      ],
      "metadata": {
        "id": "LNzOV3qgopfY"
      }
    },
    {
      "cell_type": "code",
      "source": [
        "def model_builder(hp):\n",
        "\n",
        "  model= Sequential()\n",
        "\n",
        "  counter=0\n",
        "\n",
        "  for i in range(hp.Int('num_layers', min_value=1, max_value=10)):\n",
        "    if counter==0:\n",
        "      model.add(\n",
        "          Dense(\n",
        "              units=hp.Int('units-'+str(i), min_value=8, max_value=128, step=8),\n",
        "              activation=hp.Choice('activation-'+str(i), values=['relu', 'tanh', 'sigmoid']),\n",
        "              input_dim=8\n",
        "              )\n",
        "          )\n",
        "      model.add(Dropout(hp.Choice('dropout-'+str(i), values=[0.1,0.2,0.3,0.4,0.5,0.6,0.7,0.8,0.9])))\n",
        "      counter+=1\n",
        "    else:\n",
        "      model.add(\n",
        "          Dense(\n",
        "              units=hp.Int('units-'+str(i), min_value=8, max_value=128, step=8),\n",
        "              activation=hp.Choice('activation-'+str(i), values=['relu', 'tanh', 'sigmoid'])\n",
        "              )\n",
        "          )\n",
        "      model.add(Dropout(hp.Choice('dropout-'+str(i), values=[0.1,0.2,0.3,0.4,0.5,0.6,0.7,0.8,0.9])))\n",
        "  model.add(Dense(1, activation='sigmoid'))\n",
        "\n",
        "  model.compile(optimizer=hp.Choice('optimizer', values=['adam', 'rmsprop','sgd','adadelta','nadam']),\n",
        "                loss='binary_crossentropy',\n",
        "                metrics=['accuracy'])\n",
        "  return model"
      ],
      "metadata": {
        "id": "bU1BM5K5m--S"
      },
      "execution_count": 53,
      "outputs": []
    },
    {
      "cell_type": "code",
      "source": [
        "tuner= kt.RandomSearch(model_builder,\n",
        "                       objective='val_accuracy',\n",
        "                       max_trials=10,\n",
        "                       directory='mydir',\n",
        "                       project_name='tuner-with-dropout')"
      ],
      "metadata": {
        "id": "wHVHR1pjov4-"
      },
      "execution_count": 55,
      "outputs": []
    },
    {
      "cell_type": "code",
      "source": [
        "tuner.search(x_train, y_train, epochs=5, validation_data=(x_test, y_test))"
      ],
      "metadata": {
        "id": "CIaIDyM7pKQG",
        "outputId": "ff61e715-0a91-41ce-8c8f-464d344ce54c",
        "colab": {
          "base_uri": "https://localhost:8080/"
        }
      },
      "execution_count": 56,
      "outputs": [
        {
          "output_type": "stream",
          "name": "stdout",
          "text": [
            "Trial 10 Complete [00h 00m 02s]\n",
            "val_accuracy: 0.7662337422370911\n",
            "\n",
            "Best val_accuracy So Far: 0.7662337422370911\n",
            "Total elapsed time: 00h 00m 34s\n"
          ]
        }
      ]
    },
    {
      "cell_type": "code",
      "source": [
        "tuner.get_best_hyperparameters()[0].values"
      ],
      "metadata": {
        "id": "-dMRR8hPpcmd",
        "outputId": "31e32b31-f29d-4a65-cc75-c571422f1edd",
        "colab": {
          "base_uri": "https://localhost:8080/"
        }
      },
      "execution_count": 57,
      "outputs": [
        {
          "output_type": "execute_result",
          "data": {
            "text/plain": [
              "{'num_layers': 1,\n",
              " 'units-0': 128,\n",
              " 'activation-0': 'sigmoid',\n",
              " 'dropout-0': 0.7,\n",
              " 'optimizer': 'adam',\n",
              " 'units-1': 40,\n",
              " 'activation-1': 'relu',\n",
              " 'dropout-1': 0.4,\n",
              " 'units-2': 112,\n",
              " 'activation-2': 'sigmoid',\n",
              " 'dropout-2': 0.2,\n",
              " 'units-3': 32,\n",
              " 'activation-3': 'sigmoid',\n",
              " 'dropout-3': 0.6,\n",
              " 'units-4': 72,\n",
              " 'activation-4': 'sigmoid',\n",
              " 'dropout-4': 0.5,\n",
              " 'units-5': 48,\n",
              " 'activation-5': 'sigmoid',\n",
              " 'dropout-5': 0.2,\n",
              " 'units-6': 120,\n",
              " 'activation-6': 'relu',\n",
              " 'dropout-6': 0.3,\n",
              " 'units-7': 96,\n",
              " 'activation-7': 'relu',\n",
              " 'dropout-7': 0.6,\n",
              " 'units-8': 112,\n",
              " 'activation-8': 'relu',\n",
              " 'dropout-8': 0.6,\n",
              " 'units-9': 96,\n",
              " 'activation-9': 'sigmoid',\n",
              " 'dropout-9': 0.2}"
            ]
          },
          "metadata": {},
          "execution_count": 57
        }
      ]
    },
    {
      "cell_type": "code",
      "source": [
        "best_model=tuner.get_best_models()[0]"
      ],
      "metadata": {
        "id": "aMqRODfjppzJ"
      },
      "execution_count": 58,
      "outputs": []
    },
    {
      "cell_type": "code",
      "source": [
        "best_model.summary()"
      ],
      "metadata": {
        "id": "UvNTzzZoqm2C",
        "outputId": "09390ab9-c2da-4259-e865-82e1b1262a2c",
        "colab": {
          "base_uri": "https://localhost:8080/"
        }
      },
      "execution_count": 59,
      "outputs": [
        {
          "output_type": "stream",
          "name": "stdout",
          "text": [
            "Model: \"sequential\"\n",
            "_________________________________________________________________\n",
            " Layer (type)                Output Shape              Param #   \n",
            "=================================================================\n",
            " dense (Dense)               (None, 128)               1152      \n",
            "                                                                 \n",
            " dropout (Dropout)           (None, 128)               0         \n",
            "                                                                 \n",
            " dense_1 (Dense)             (None, 1)                 129       \n",
            "                                                                 \n",
            "=================================================================\n",
            "Total params: 1281 (5.00 KB)\n",
            "Trainable params: 1281 (5.00 KB)\n",
            "Non-trainable params: 0 (0.00 Byte)\n",
            "_________________________________________________________________\n"
          ]
        }
      ]
    },
    {
      "cell_type": "code",
      "source": [
        "best_model.fit(x_train, y_train, epochs=100, initial_epoch=6, validation_data=(x_test, y_test))"
      ],
      "metadata": {
        "id": "j-klROa8qovA",
        "outputId": "4464c4b2-bead-47cf-8a9c-0595be56b297",
        "colab": {
          "base_uri": "https://localhost:8080/"
        }
      },
      "execution_count": 60,
      "outputs": [
        {
          "output_type": "stream",
          "name": "stdout",
          "text": [
            "Epoch 7/100\n",
            "20/20 [==============================] - 1s 12ms/step - loss: 0.7337 - accuracy: 0.5814 - val_loss: 0.5921 - val_accuracy: 0.6623\n",
            "Epoch 8/100\n",
            "20/20 [==============================] - 0s 4ms/step - loss: 0.7166 - accuracy: 0.6156 - val_loss: 0.5777 - val_accuracy: 0.6623\n",
            "Epoch 9/100\n",
            "20/20 [==============================] - 0s 3ms/step - loss: 0.6683 - accuracy: 0.6336 - val_loss: 0.5568 - val_accuracy: 0.6948\n",
            "Epoch 10/100\n",
            "20/20 [==============================] - 0s 3ms/step - loss: 0.6485 - accuracy: 0.6336 - val_loss: 0.5458 - val_accuracy: 0.7273\n",
            "Epoch 11/100\n",
            "20/20 [==============================] - 0s 4ms/step - loss: 0.6434 - accuracy: 0.6596 - val_loss: 0.5376 - val_accuracy: 0.7273\n",
            "Epoch 12/100\n",
            "20/20 [==============================] - 0s 4ms/step - loss: 0.6750 - accuracy: 0.6612 - val_loss: 0.5292 - val_accuracy: 0.7208\n",
            "Epoch 13/100\n",
            "20/20 [==============================] - 0s 4ms/step - loss: 0.6489 - accuracy: 0.6694 - val_loss: 0.5216 - val_accuracy: 0.7468\n",
            "Epoch 14/100\n",
            "20/20 [==============================] - 0s 4ms/step - loss: 0.6369 - accuracy: 0.6661 - val_loss: 0.5169 - val_accuracy: 0.7532\n",
            "Epoch 15/100\n",
            "20/20 [==============================] - 0s 3ms/step - loss: 0.6077 - accuracy: 0.6906 - val_loss: 0.5121 - val_accuracy: 0.7532\n",
            "Epoch 16/100\n",
            "20/20 [==============================] - 0s 5ms/step - loss: 0.6196 - accuracy: 0.6792 - val_loss: 0.5078 - val_accuracy: 0.7662\n",
            "Epoch 17/100\n",
            "20/20 [==============================] - 0s 4ms/step - loss: 0.5894 - accuracy: 0.6759 - val_loss: 0.5043 - val_accuracy: 0.7662\n",
            "Epoch 18/100\n",
            "20/20 [==============================] - 0s 4ms/step - loss: 0.5956 - accuracy: 0.6954 - val_loss: 0.5025 - val_accuracy: 0.7532\n",
            "Epoch 19/100\n",
            "20/20 [==============================] - 0s 4ms/step - loss: 0.5758 - accuracy: 0.6987 - val_loss: 0.5010 - val_accuracy: 0.7532\n",
            "Epoch 20/100\n",
            "20/20 [==============================] - 0s 3ms/step - loss: 0.5583 - accuracy: 0.7199 - val_loss: 0.4957 - val_accuracy: 0.7727\n",
            "Epoch 21/100\n",
            "20/20 [==============================] - 0s 4ms/step - loss: 0.5806 - accuracy: 0.7085 - val_loss: 0.4930 - val_accuracy: 0.7792\n",
            "Epoch 22/100\n",
            "20/20 [==============================] - 0s 4ms/step - loss: 0.5953 - accuracy: 0.7020 - val_loss: 0.4922 - val_accuracy: 0.7727\n",
            "Epoch 23/100\n",
            "20/20 [==============================] - 0s 3ms/step - loss: 0.5827 - accuracy: 0.6857 - val_loss: 0.4900 - val_accuracy: 0.7792\n",
            "Epoch 24/100\n",
            "20/20 [==============================] - 0s 4ms/step - loss: 0.5572 - accuracy: 0.7020 - val_loss: 0.4870 - val_accuracy: 0.7727\n",
            "Epoch 25/100\n",
            "20/20 [==============================] - 0s 3ms/step - loss: 0.5638 - accuracy: 0.6971 - val_loss: 0.4873 - val_accuracy: 0.7792\n",
            "Epoch 26/100\n",
            "20/20 [==============================] - 0s 4ms/step - loss: 0.5768 - accuracy: 0.7036 - val_loss: 0.4856 - val_accuracy: 0.7727\n",
            "Epoch 27/100\n",
            "20/20 [==============================] - 0s 4ms/step - loss: 0.5664 - accuracy: 0.7296 - val_loss: 0.4847 - val_accuracy: 0.7727\n",
            "Epoch 28/100\n",
            "20/20 [==============================] - 0s 4ms/step - loss: 0.5312 - accuracy: 0.7459 - val_loss: 0.4834 - val_accuracy: 0.7727\n",
            "Epoch 29/100\n",
            "20/20 [==============================] - 0s 4ms/step - loss: 0.5542 - accuracy: 0.7150 - val_loss: 0.4827 - val_accuracy: 0.7727\n",
            "Epoch 30/100\n",
            "20/20 [==============================] - 0s 4ms/step - loss: 0.5382 - accuracy: 0.7296 - val_loss: 0.4825 - val_accuracy: 0.7727\n",
            "Epoch 31/100\n",
            "20/20 [==============================] - 0s 3ms/step - loss: 0.5548 - accuracy: 0.7394 - val_loss: 0.4813 - val_accuracy: 0.7727\n",
            "Epoch 32/100\n",
            "20/20 [==============================] - 0s 4ms/step - loss: 0.5723 - accuracy: 0.6971 - val_loss: 0.4809 - val_accuracy: 0.7727\n",
            "Epoch 33/100\n",
            "20/20 [==============================] - 0s 4ms/step - loss: 0.5189 - accuracy: 0.7557 - val_loss: 0.4804 - val_accuracy: 0.7727\n",
            "Epoch 34/100\n",
            "20/20 [==============================] - 0s 4ms/step - loss: 0.5442 - accuracy: 0.7378 - val_loss: 0.4813 - val_accuracy: 0.7662\n",
            "Epoch 35/100\n",
            "20/20 [==============================] - 0s 4ms/step - loss: 0.5551 - accuracy: 0.7134 - val_loss: 0.4804 - val_accuracy: 0.7727\n",
            "Epoch 36/100\n",
            "20/20 [==============================] - 0s 4ms/step - loss: 0.5473 - accuracy: 0.7362 - val_loss: 0.4798 - val_accuracy: 0.7662\n",
            "Epoch 37/100\n",
            "20/20 [==============================] - 0s 4ms/step - loss: 0.5328 - accuracy: 0.7524 - val_loss: 0.4818 - val_accuracy: 0.7662\n",
            "Epoch 38/100\n",
            "20/20 [==============================] - 0s 4ms/step - loss: 0.5202 - accuracy: 0.7476 - val_loss: 0.4807 - val_accuracy: 0.7662\n",
            "Epoch 39/100\n",
            "20/20 [==============================] - 0s 4ms/step - loss: 0.5404 - accuracy: 0.7313 - val_loss: 0.4791 - val_accuracy: 0.7662\n",
            "Epoch 40/100\n",
            "20/20 [==============================] - 0s 4ms/step - loss: 0.5267 - accuracy: 0.7345 - val_loss: 0.4788 - val_accuracy: 0.7662\n",
            "Epoch 41/100\n",
            "20/20 [==============================] - 0s 4ms/step - loss: 0.5164 - accuracy: 0.7427 - val_loss: 0.4765 - val_accuracy: 0.7662\n",
            "Epoch 42/100\n",
            "20/20 [==============================] - 0s 4ms/step - loss: 0.5263 - accuracy: 0.7410 - val_loss: 0.4771 - val_accuracy: 0.7662\n",
            "Epoch 43/100\n",
            "20/20 [==============================] - 0s 4ms/step - loss: 0.5217 - accuracy: 0.7557 - val_loss: 0.4766 - val_accuracy: 0.7662\n",
            "Epoch 44/100\n",
            "20/20 [==============================] - 0s 3ms/step - loss: 0.5234 - accuracy: 0.7280 - val_loss: 0.4763 - val_accuracy: 0.7662\n",
            "Epoch 45/100\n",
            "20/20 [==============================] - 0s 4ms/step - loss: 0.5081 - accuracy: 0.7557 - val_loss: 0.4770 - val_accuracy: 0.7662\n",
            "Epoch 46/100\n",
            "20/20 [==============================] - 0s 3ms/step - loss: 0.5186 - accuracy: 0.7508 - val_loss: 0.4772 - val_accuracy: 0.7662\n",
            "Epoch 47/100\n",
            "20/20 [==============================] - 0s 4ms/step - loss: 0.5162 - accuracy: 0.7459 - val_loss: 0.4767 - val_accuracy: 0.7662\n",
            "Epoch 48/100\n",
            "20/20 [==============================] - 0s 4ms/step - loss: 0.5313 - accuracy: 0.7508 - val_loss: 0.4760 - val_accuracy: 0.7662\n",
            "Epoch 49/100\n",
            "20/20 [==============================] - 0s 4ms/step - loss: 0.5344 - accuracy: 0.7508 - val_loss: 0.4760 - val_accuracy: 0.7662\n",
            "Epoch 50/100\n",
            "20/20 [==============================] - 0s 4ms/step - loss: 0.5085 - accuracy: 0.7508 - val_loss: 0.4771 - val_accuracy: 0.7597\n",
            "Epoch 51/100\n",
            "20/20 [==============================] - 0s 4ms/step - loss: 0.5219 - accuracy: 0.7590 - val_loss: 0.4761 - val_accuracy: 0.7597\n",
            "Epoch 52/100\n",
            "20/20 [==============================] - 0s 3ms/step - loss: 0.5157 - accuracy: 0.7394 - val_loss: 0.4758 - val_accuracy: 0.7662\n",
            "Epoch 53/100\n",
            "20/20 [==============================] - 0s 3ms/step - loss: 0.5280 - accuracy: 0.7345 - val_loss: 0.4764 - val_accuracy: 0.7597\n",
            "Epoch 54/100\n",
            "20/20 [==============================] - 0s 5ms/step - loss: 0.5148 - accuracy: 0.7296 - val_loss: 0.4756 - val_accuracy: 0.7662\n",
            "Epoch 55/100\n",
            "20/20 [==============================] - 0s 4ms/step - loss: 0.5136 - accuracy: 0.7524 - val_loss: 0.4763 - val_accuracy: 0.7597\n",
            "Epoch 56/100\n",
            "20/20 [==============================] - 0s 3ms/step - loss: 0.5201 - accuracy: 0.7492 - val_loss: 0.4779 - val_accuracy: 0.7597\n",
            "Epoch 57/100\n",
            "20/20 [==============================] - 0s 4ms/step - loss: 0.4953 - accuracy: 0.7720 - val_loss: 0.4760 - val_accuracy: 0.7597\n",
            "Epoch 58/100\n",
            "20/20 [==============================] - 0s 3ms/step - loss: 0.5000 - accuracy: 0.7557 - val_loss: 0.4759 - val_accuracy: 0.7597\n",
            "Epoch 59/100\n",
            "20/20 [==============================] - 0s 3ms/step - loss: 0.4944 - accuracy: 0.7655 - val_loss: 0.4752 - val_accuracy: 0.7597\n",
            "Epoch 60/100\n",
            "20/20 [==============================] - 0s 4ms/step - loss: 0.5047 - accuracy: 0.7524 - val_loss: 0.4752 - val_accuracy: 0.7597\n",
            "Epoch 61/100\n",
            "20/20 [==============================] - 0s 3ms/step - loss: 0.5120 - accuracy: 0.7573 - val_loss: 0.4732 - val_accuracy: 0.7857\n",
            "Epoch 62/100\n",
            "20/20 [==============================] - 0s 4ms/step - loss: 0.5275 - accuracy: 0.7459 - val_loss: 0.4751 - val_accuracy: 0.7597\n",
            "Epoch 63/100\n",
            "20/20 [==============================] - 0s 4ms/step - loss: 0.4871 - accuracy: 0.7622 - val_loss: 0.4788 - val_accuracy: 0.7597\n",
            "Epoch 64/100\n",
            "20/20 [==============================] - 0s 4ms/step - loss: 0.5138 - accuracy: 0.7459 - val_loss: 0.4773 - val_accuracy: 0.7597\n",
            "Epoch 65/100\n",
            "20/20 [==============================] - 0s 4ms/step - loss: 0.4981 - accuracy: 0.7606 - val_loss: 0.4747 - val_accuracy: 0.7597\n",
            "Epoch 66/100\n",
            "20/20 [==============================] - 0s 4ms/step - loss: 0.5227 - accuracy: 0.7427 - val_loss: 0.4751 - val_accuracy: 0.7597\n",
            "Epoch 67/100\n",
            "20/20 [==============================] - 0s 4ms/step - loss: 0.5044 - accuracy: 0.7655 - val_loss: 0.4745 - val_accuracy: 0.7597\n",
            "Epoch 68/100\n",
            "20/20 [==============================] - 0s 3ms/step - loss: 0.5076 - accuracy: 0.7590 - val_loss: 0.4748 - val_accuracy: 0.7662\n",
            "Epoch 69/100\n",
            "20/20 [==============================] - 0s 4ms/step - loss: 0.5069 - accuracy: 0.7427 - val_loss: 0.4739 - val_accuracy: 0.7857\n",
            "Epoch 70/100\n",
            "20/20 [==============================] - 0s 3ms/step - loss: 0.5031 - accuracy: 0.7590 - val_loss: 0.4738 - val_accuracy: 0.7727\n",
            "Epoch 71/100\n",
            "20/20 [==============================] - 0s 4ms/step - loss: 0.5161 - accuracy: 0.7524 - val_loss: 0.4742 - val_accuracy: 0.7662\n",
            "Epoch 72/100\n",
            "20/20 [==============================] - 0s 4ms/step - loss: 0.4957 - accuracy: 0.7541 - val_loss: 0.4734 - val_accuracy: 0.7792\n",
            "Epoch 73/100\n",
            "20/20 [==============================] - 0s 4ms/step - loss: 0.5005 - accuracy: 0.7671 - val_loss: 0.4740 - val_accuracy: 0.7662\n",
            "Epoch 74/100\n",
            "20/20 [==============================] - 0s 4ms/step - loss: 0.4930 - accuracy: 0.7606 - val_loss: 0.4738 - val_accuracy: 0.7662\n",
            "Epoch 75/100\n",
            "20/20 [==============================] - 0s 4ms/step - loss: 0.5135 - accuracy: 0.7541 - val_loss: 0.4735 - val_accuracy: 0.7662\n",
            "Epoch 76/100\n",
            "20/20 [==============================] - 0s 3ms/step - loss: 0.5075 - accuracy: 0.7622 - val_loss: 0.4736 - val_accuracy: 0.7662\n",
            "Epoch 77/100\n",
            "20/20 [==============================] - 0s 4ms/step - loss: 0.5214 - accuracy: 0.7362 - val_loss: 0.4735 - val_accuracy: 0.7727\n",
            "Epoch 78/100\n",
            "20/20 [==============================] - 0s 4ms/step - loss: 0.4851 - accuracy: 0.7638 - val_loss: 0.4728 - val_accuracy: 0.7792\n",
            "Epoch 79/100\n",
            "20/20 [==============================] - 0s 4ms/step - loss: 0.4962 - accuracy: 0.7476 - val_loss: 0.4740 - val_accuracy: 0.7727\n",
            "Epoch 80/100\n",
            "20/20 [==============================] - 0s 3ms/step - loss: 0.5089 - accuracy: 0.7427 - val_loss: 0.4732 - val_accuracy: 0.7727\n",
            "Epoch 81/100\n",
            "20/20 [==============================] - 0s 3ms/step - loss: 0.4966 - accuracy: 0.7427 - val_loss: 0.4724 - val_accuracy: 0.7792\n",
            "Epoch 82/100\n",
            "20/20 [==============================] - 0s 4ms/step - loss: 0.5119 - accuracy: 0.7541 - val_loss: 0.4735 - val_accuracy: 0.7727\n",
            "Epoch 83/100\n",
            "20/20 [==============================] - 0s 4ms/step - loss: 0.5015 - accuracy: 0.7573 - val_loss: 0.4725 - val_accuracy: 0.7727\n",
            "Epoch 84/100\n",
            "20/20 [==============================] - 0s 4ms/step - loss: 0.5148 - accuracy: 0.7427 - val_loss: 0.4722 - val_accuracy: 0.7857\n",
            "Epoch 85/100\n",
            "20/20 [==============================] - 0s 3ms/step - loss: 0.4920 - accuracy: 0.7590 - val_loss: 0.4723 - val_accuracy: 0.7727\n",
            "Epoch 86/100\n",
            "20/20 [==============================] - 0s 4ms/step - loss: 0.4863 - accuracy: 0.7704 - val_loss: 0.4743 - val_accuracy: 0.7597\n",
            "Epoch 87/100\n",
            "20/20 [==============================] - 0s 4ms/step - loss: 0.5012 - accuracy: 0.7557 - val_loss: 0.4739 - val_accuracy: 0.7597\n",
            "Epoch 88/100\n",
            "20/20 [==============================] - 0s 4ms/step - loss: 0.5059 - accuracy: 0.7622 - val_loss: 0.4728 - val_accuracy: 0.7792\n",
            "Epoch 89/100\n",
            "20/20 [==============================] - 0s 4ms/step - loss: 0.4978 - accuracy: 0.7524 - val_loss: 0.4722 - val_accuracy: 0.7792\n",
            "Epoch 90/100\n",
            "20/20 [==============================] - 0s 4ms/step - loss: 0.4911 - accuracy: 0.7638 - val_loss: 0.4725 - val_accuracy: 0.7792\n",
            "Epoch 91/100\n",
            "20/20 [==============================] - 0s 4ms/step - loss: 0.4871 - accuracy: 0.7573 - val_loss: 0.4720 - val_accuracy: 0.7792\n",
            "Epoch 92/100\n",
            "20/20 [==============================] - 0s 4ms/step - loss: 0.4892 - accuracy: 0.7524 - val_loss: 0.4728 - val_accuracy: 0.7727\n",
            "Epoch 93/100\n",
            "20/20 [==============================] - 0s 4ms/step - loss: 0.4975 - accuracy: 0.7557 - val_loss: 0.4721 - val_accuracy: 0.7792\n",
            "Epoch 94/100\n",
            "20/20 [==============================] - 0s 4ms/step - loss: 0.4930 - accuracy: 0.7704 - val_loss: 0.4728 - val_accuracy: 0.7727\n",
            "Epoch 95/100\n",
            "20/20 [==============================] - 0s 4ms/step - loss: 0.5047 - accuracy: 0.7541 - val_loss: 0.4737 - val_accuracy: 0.7662\n",
            "Epoch 96/100\n",
            "20/20 [==============================] - 0s 3ms/step - loss: 0.5023 - accuracy: 0.7655 - val_loss: 0.4721 - val_accuracy: 0.7792\n",
            "Epoch 97/100\n",
            "20/20 [==============================] - 0s 4ms/step - loss: 0.5062 - accuracy: 0.7704 - val_loss: 0.4721 - val_accuracy: 0.7792\n",
            "Epoch 98/100\n",
            "20/20 [==============================] - 0s 3ms/step - loss: 0.5011 - accuracy: 0.7671 - val_loss: 0.4723 - val_accuracy: 0.7792\n",
            "Epoch 99/100\n",
            "20/20 [==============================] - 0s 4ms/step - loss: 0.5063 - accuracy: 0.7638 - val_loss: 0.4727 - val_accuracy: 0.7792\n",
            "Epoch 100/100\n",
            "20/20 [==============================] - 0s 4ms/step - loss: 0.5073 - accuracy: 0.7492 - val_loss: 0.4740 - val_accuracy: 0.7727\n"
          ]
        },
        {
          "output_type": "execute_result",
          "data": {
            "text/plain": [
              "<keras.src.callbacks.History at 0x7d53bf8930a0>"
            ]
          },
          "metadata": {},
          "execution_count": 60
        }
      ]
    },
    {
      "cell_type": "markdown",
      "source": [
        "In summary, while a higher validation accuracy compared to the training accuracy typically signals overfitting, the presence of dropout regularization, especially with a high dropout rate like 0.7, can lead to disparities between the two accuracies. Dropout introduces randomness during training, causing fluctuations in performance and potentially resulting in a lower training accuracy. Therefore, in the context of dropout, differences in accuracies between training and validation sets may not always indicate overfitting but rather reflect the impact of dropout regularization on the model's training dynamics."
      ],
      "metadata": {
        "id": "je5Vnp1AsYGG"
      }
    },
    {
      "cell_type": "code",
      "source": [],
      "metadata": {
        "id": "nKNAWh_iq00C"
      },
      "execution_count": null,
      "outputs": []
    }
  ]
}
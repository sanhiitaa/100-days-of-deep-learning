{
  "nbformat": 4,
  "nbformat_minor": 0,
  "metadata": {
    "colab": {
      "provenance": [],
      "gpuType": "T4",
      "authorship_tag": "ABX9TyOck/YKugeQ68OHhpsPX0Xj",
      "include_colab_link": true
    },
    "kernelspec": {
      "name": "python3",
      "display_name": "Python 3"
    },
    "language_info": {
      "name": "python"
    },
    "accelerator": "GPU"
  },
  "cells": [
    {
      "cell_type": "markdown",
      "metadata": {
        "id": "view-in-github",
        "colab_type": "text"
      },
      "source": [
        "<a href=\"https://colab.research.google.com/github/sanhiitaa/100-days-of-deep-learning/blob/main/transfer_learning_finetuning.ipynb\" target=\"_parent\"><img src=\"https://colab.research.google.com/assets/colab-badge.svg\" alt=\"Open In Colab\"/></a>"
      ]
    },
    {
      "cell_type": "code",
      "execution_count": 1,
      "metadata": {
        "id": "0RaxD_kquU_P"
      },
      "outputs": [],
      "source": [
        "# importing kaggle API\n",
        "!mkdir -p ~/.kaggle\n",
        "!cp kaggle.json ~/.kaggle/"
      ]
    },
    {
      "cell_type": "code",
      "source": [
        "#  downloading the dataset\n",
        "!kaggle datasets download -d salader/dogs-vs-cats"
      ],
      "metadata": {
        "colab": {
          "base_uri": "https://localhost:8080/"
        },
        "id": "K3C2C0A7umn7",
        "outputId": "74b63c65-03fd-4465-efee-402d9882d2d9"
      },
      "execution_count": 2,
      "outputs": [
        {
          "output_type": "stream",
          "name": "stdout",
          "text": [
            "Warning: Your Kaggle API key is readable by other users on this system! To fix this, you can run 'chmod 600 /root/.kaggle/kaggle.json'\n",
            "Dataset URL: https://www.kaggle.com/datasets/salader/dogs-vs-cats\n",
            "License(s): unknown\n",
            "Downloading dogs-vs-cats.zip to /content\n",
            " 98% 1.04G/1.06G [00:09<00:00, 108MB/s] \n",
            "100% 1.06G/1.06G [00:09<00:00, 116MB/s]\n"
          ]
        }
      ]
    },
    {
      "cell_type": "code",
      "source": [
        "# unzipping the dataset\n",
        "import zipfile\n",
        "zip_ref=zipfile.ZipFile('/content/dogs-vs-cats.zip', 'r')\n",
        "zip_ref.extractall('/content')\n",
        "zip_ref.close()"
      ],
      "metadata": {
        "id": "ocmkb04yuzPI"
      },
      "execution_count": 3,
      "outputs": []
    },
    {
      "cell_type": "code",
      "source": [
        "# importing libraries and VGG16 model\n",
        "import tensorflow\n",
        "from tensorflow import keras\n",
        "from keras import Sequential\n",
        "from keras.layers import Dense, Flatten\n",
        "from keras.applications.vgg16 import VGG16\n",
        "import matplotlib.pyplot as plt"
      ],
      "metadata": {
        "id": "Zzd_kP6VvMVf"
      },
      "execution_count": 4,
      "outputs": []
    },
    {
      "cell_type": "code",
      "source": [
        "# extracting the convolution layers from the VGG16  model\n",
        "conv_base= VGG16(weights='imagenet',\n",
        "                 include_top=False,\n",
        "                 input_shape=(150,150,3))"
      ],
      "metadata": {
        "colab": {
          "base_uri": "https://localhost:8080/"
        },
        "id": "w2lnnWwBxi1g",
        "outputId": "68774660-a511-4712-fa81-86ee2dd655a5"
      },
      "execution_count": 5,
      "outputs": [
        {
          "output_type": "stream",
          "name": "stdout",
          "text": [
            "Downloading data from https://storage.googleapis.com/tensorflow/keras-applications/vgg16/vgg16_weights_tf_dim_ordering_tf_kernels_notop.h5\n",
            "58889256/58889256 [==============================] - 0s 0us/step\n"
          ]
        }
      ]
    },
    {
      "cell_type": "code",
      "source": [
        "# setting the last few convolutional parameters to be trainable - Fine tuning\n",
        "conv_base.trainable=True\n",
        "\n",
        "set_trainable=False\n",
        "\n",
        "for layer in conv_base.layers:\n",
        "  if layer.name=='block5_conv1':\n",
        "    set_trainable=True\n",
        "  if set_trainable:\n",
        "    layer.trainable=True\n",
        "  else:\n",
        "    layer.trainable=False\n",
        "for layer in conv_base.layers:\n",
        "  print(layer.name, layer.trainable)"
      ],
      "metadata": {
        "colab": {
          "base_uri": "https://localhost:8080/"
        },
        "id": "RJSu11iOa6tJ",
        "outputId": "78cac86b-02e2-4b7f-91a8-3630c7d9ded6"
      },
      "execution_count": 6,
      "outputs": [
        {
          "output_type": "stream",
          "name": "stdout",
          "text": [
            "input_1 False\n",
            "block1_conv1 False\n",
            "block1_conv2 False\n",
            "block1_pool False\n",
            "block2_conv1 False\n",
            "block2_conv2 False\n",
            "block2_pool False\n",
            "block3_conv1 False\n",
            "block3_conv2 False\n",
            "block3_conv3 False\n",
            "block3_pool False\n",
            "block4_conv1 False\n",
            "block4_conv2 False\n",
            "block4_conv3 False\n",
            "block4_pool False\n",
            "block5_conv1 True\n",
            "block5_conv2 True\n",
            "block5_conv3 True\n",
            "block5_pool True\n"
          ]
        }
      ]
    },
    {
      "cell_type": "code",
      "source": [
        "conv_base.summary()"
      ],
      "metadata": {
        "colab": {
          "base_uri": "https://localhost:8080/"
        },
        "id": "f4cu1jUaeLMp",
        "outputId": "5417473a-55e4-49d1-e6fb-91af59f1fc49"
      },
      "execution_count": 7,
      "outputs": [
        {
          "output_type": "stream",
          "name": "stdout",
          "text": [
            "Model: \"vgg16\"\n",
            "_________________________________________________________________\n",
            " Layer (type)                Output Shape              Param #   \n",
            "=================================================================\n",
            " input_1 (InputLayer)        [(None, 150, 150, 3)]     0         \n",
            "                                                                 \n",
            " block1_conv1 (Conv2D)       (None, 150, 150, 64)      1792      \n",
            "                                                                 \n",
            " block1_conv2 (Conv2D)       (None, 150, 150, 64)      36928     \n",
            "                                                                 \n",
            " block1_pool (MaxPooling2D)  (None, 75, 75, 64)        0         \n",
            "                                                                 \n",
            " block2_conv1 (Conv2D)       (None, 75, 75, 128)       73856     \n",
            "                                                                 \n",
            " block2_conv2 (Conv2D)       (None, 75, 75, 128)       147584    \n",
            "                                                                 \n",
            " block2_pool (MaxPooling2D)  (None, 37, 37, 128)       0         \n",
            "                                                                 \n",
            " block3_conv1 (Conv2D)       (None, 37, 37, 256)       295168    \n",
            "                                                                 \n",
            " block3_conv2 (Conv2D)       (None, 37, 37, 256)       590080    \n",
            "                                                                 \n",
            " block3_conv3 (Conv2D)       (None, 37, 37, 256)       590080    \n",
            "                                                                 \n",
            " block3_pool (MaxPooling2D)  (None, 18, 18, 256)       0         \n",
            "                                                                 \n",
            " block4_conv1 (Conv2D)       (None, 18, 18, 512)       1180160   \n",
            "                                                                 \n",
            " block4_conv2 (Conv2D)       (None, 18, 18, 512)       2359808   \n",
            "                                                                 \n",
            " block4_conv3 (Conv2D)       (None, 18, 18, 512)       2359808   \n",
            "                                                                 \n",
            " block4_pool (MaxPooling2D)  (None, 9, 9, 512)         0         \n",
            "                                                                 \n",
            " block5_conv1 (Conv2D)       (None, 9, 9, 512)         2359808   \n",
            "                                                                 \n",
            " block5_conv2 (Conv2D)       (None, 9, 9, 512)         2359808   \n",
            "                                                                 \n",
            " block5_conv3 (Conv2D)       (None, 9, 9, 512)         2359808   \n",
            "                                                                 \n",
            " block5_pool (MaxPooling2D)  (None, 4, 4, 512)         0         \n",
            "                                                                 \n",
            "=================================================================\n",
            "Total params: 14714688 (56.13 MB)\n",
            "Trainable params: 7079424 (27.01 MB)\n",
            "Non-trainable params: 7635264 (29.13 MB)\n",
            "_________________________________________________________________\n"
          ]
        }
      ]
    },
    {
      "cell_type": "code",
      "source": [
        "# creating a sequential model with CNN layers (of VGG16) and defining FC layers\n",
        "model= Sequential()\n",
        "\n",
        "model.add(conv_base)\n",
        "model.add(Flatten())\n",
        "model.add(Dense(256, activation='relu'))\n",
        "model.add(Dense(1, activation='sigmoid'))"
      ],
      "metadata": {
        "id": "9RG4vzqUeODC"
      },
      "execution_count": 8,
      "outputs": []
    },
    {
      "cell_type": "code",
      "source": [
        "# generators\n",
        "train_ds= keras.utils.image_dataset_from_directory(directory='/content/train',\n",
        "                                                   labels='inferred',\n",
        "                                                   label_mode='int',\n",
        "                                                   batch_size=32,\n",
        "                                                   image_size=(150,150))\n",
        "\n",
        "validation_ds= keras.utils.image_dataset_from_directory(directory='/content/test',\n",
        "                                                   labels='inferred',\n",
        "                                                   label_mode='int',\n",
        "                                                   batch_size=32,\n",
        "                                                   image_size=(150,150))"
      ],
      "metadata": {
        "colab": {
          "base_uri": "https://localhost:8080/"
        },
        "id": "Wj8M8S0degOP",
        "outputId": "3430c1fb-54ac-422d-fe1a-8d992141fbef"
      },
      "execution_count": 11,
      "outputs": [
        {
          "output_type": "stream",
          "name": "stdout",
          "text": [
            "Found 20000 files belonging to 2 classes.\n",
            "Found 5000 files belonging to 2 classes.\n"
          ]
        }
      ]
    },
    {
      "cell_type": "code",
      "source": [
        "# normalize\n",
        "\n",
        "def process(image, label):\n",
        "  image=tf.cast(image/255, tf.float32)\n",
        "  return image, label\n",
        "\n",
        "  train_ds= train_ds.map(process)\n",
        "  validation_ds= validation_ds.map(process)"
      ],
      "metadata": {
        "id": "ELl1h2rZl1Z-"
      },
      "execution_count": 12,
      "outputs": []
    },
    {
      "cell_type": "markdown",
      "source": [
        "### Optimizer- Adam"
      ],
      "metadata": {
        "id": "WukP0rhg2HfW"
      }
    },
    {
      "cell_type": "code",
      "source": [
        "# compiling model - used Adam instead of RMS prop to observe performance changes\n",
        "model.compile(optimizer=keras.optimizers.Adam(1e-5),\n",
        "              loss='binary_crossentropy',\n",
        "              metrics=['accuracy'])"
      ],
      "metadata": {
        "id": "osRGZMnmmCyT"
      },
      "execution_count": 13,
      "outputs": []
    },
    {
      "cell_type": "code",
      "source": [
        "history = model.fit(train_ds,epochs=10,validation_data=validation_ds)"
      ],
      "metadata": {
        "colab": {
          "base_uri": "https://localhost:8080/"
        },
        "id": "jF4QLRO_m8jD",
        "outputId": "2624c748-0fd5-4186-f23f-3602edf05966"
      },
      "execution_count": 14,
      "outputs": [
        {
          "output_type": "stream",
          "name": "stdout",
          "text": [
            "Epoch 1/10\n",
            "625/625 [==============================] - 77s 110ms/step - loss: 0.5547 - accuracy: 0.8916 - val_loss: 0.2139 - val_accuracy: 0.9282\n",
            "Epoch 2/10\n",
            "625/625 [==============================] - 64s 101ms/step - loss: 0.0958 - accuracy: 0.9692 - val_loss: 0.1977 - val_accuracy: 0.9358\n",
            "Epoch 3/10\n",
            "625/625 [==============================] - 64s 102ms/step - loss: 0.0207 - accuracy: 0.9957 - val_loss: 0.2075 - val_accuracy: 0.9398\n",
            "Epoch 4/10\n",
            "625/625 [==============================] - 64s 102ms/step - loss: 0.0064 - accuracy: 0.9993 - val_loss: 0.2173 - val_accuracy: 0.9416\n",
            "Epoch 5/10\n",
            "625/625 [==============================] - 63s 101ms/step - loss: 0.0033 - accuracy: 0.9998 - val_loss: 0.2247 - val_accuracy: 0.9438\n",
            "Epoch 6/10\n",
            "625/625 [==============================] - 73s 117ms/step - loss: 0.0023 - accuracy: 0.9998 - val_loss: 0.2333 - val_accuracy: 0.9430\n",
            "Epoch 7/10\n",
            "625/625 [==============================] - 64s 102ms/step - loss: 0.0017 - accuracy: 0.9998 - val_loss: 0.2395 - val_accuracy: 0.9442\n",
            "Epoch 8/10\n",
            "625/625 [==============================] - 64s 101ms/step - loss: 0.0015 - accuracy: 0.9998 - val_loss: 0.2440 - val_accuracy: 0.9450\n",
            "Epoch 9/10\n",
            "625/625 [==============================] - 64s 102ms/step - loss: 0.0011 - accuracy: 0.9998 - val_loss: 0.2465 - val_accuracy: 0.9462\n",
            "Epoch 10/10\n",
            "625/625 [==============================] - 63s 101ms/step - loss: 0.0010 - accuracy: 0.9998 - val_loss: 0.2530 - val_accuracy: 0.9458\n"
          ]
        }
      ]
    },
    {
      "cell_type": "code",
      "source": [
        "import matplotlib.pyplot as plt\n",
        "\n",
        "plt.plot(history.history['accuracy'],color='red',label='train-accuracy')\n",
        "plt.plot(history.history['val_accuracy'],color='blue',label='validation-acuracy')\n",
        "plt.legend()\n",
        "plt.show()"
      ],
      "metadata": {
        "colab": {
          "base_uri": "https://localhost:8080/",
          "height": 430
        },
        "id": "F54X_I_xm-yY",
        "outputId": "012066f2-4eeb-42b6-d95e-3af53c52d721"
      },
      "execution_count": 15,
      "outputs": [
        {
          "output_type": "display_data",
          "data": {
            "text/plain": [
              "<Figure size 640x480 with 1 Axes>"
            ],
            "image/png": "[encoded data removed]"
          },
          "metadata": {}
        }
      ]
    },
    {
      "cell_type": "code",
      "source": [
        "plt.plot(history.history['loss'],color='red',label='train-loss')\n",
        "plt.plot(history.history['val_loss'],color='blue',label='validation-loss')\n",
        "plt.legend()\n",
        "plt.show()"
      ],
      "metadata": {
        "colab": {
          "base_uri": "https://localhost:8080/",
          "height": 430
        },
        "id": "fvrRzdv0nGDr",
        "outputId": "7cc3993f-f00d-456b-f64c-4e8a7fad5930"
      },
      "execution_count": 16,
      "outputs": [
        {
          "output_type": "display_data",
          "data": {
            "text/plain": [
              "<Figure size 640x480 with 1 Axes>"
            ],
            "image/png": "[encoded data removed]"
          },
          "metadata": {}
        }
      ]
    },
    {
      "cell_type": "markdown",
      "source": [
        "### Optimizer- RMSprop"
      ],
      "metadata": {
        "id": "4KU-sX8k1n6F"
      }
    },
    {
      "cell_type": "code",
      "source": [
        "# creating a sequential model with CNN layers (of VGG16) and defining FC layers\n",
        "model1= Sequential()\n",
        "\n",
        "model1.add(conv_base)\n",
        "model1.add(Flatten())\n",
        "model1.add(Dense(256, activation='relu'))\n",
        "model1.add(Dense(1, activation='sigmoid'))"
      ],
      "metadata": {
        "id": "thNOgm2f1nFT"
      },
      "execution_count": 13,
      "outputs": []
    },
    {
      "cell_type": "code",
      "source": [
        "# compiling model with RMSprop\n",
        "model1.compile(optimizer=keras.optimizers.RMSprop(1e-5),\n",
        "              loss='binary_crossentropy',\n",
        "              metrics=['accuracy'])"
      ],
      "metadata": {
        "id": "5lEewneQ09ZY"
      },
      "execution_count": 14,
      "outputs": []
    },
    {
      "cell_type": "code",
      "source": [
        "history1 = model1.fit(train_ds,epochs=10,validation_data=validation_ds)"
      ],
      "metadata": {
        "id": "qQ6eTUE01BSZ",
        "colab": {
          "base_uri": "https://localhost:8080/"
        },
        "outputId": "f129de41-063b-4c2f-8b18-8c3f03f814cc"
      },
      "execution_count": 18,
      "outputs": [
        {
          "output_type": "stream",
          "name": "stdout",
          "text": [
            "Epoch 1/10\n",
            "625/625 [==============================] - 75s 107ms/step - loss: 0.5389 - accuracy: 0.8978 - val_loss: 0.1915 - val_accuracy: 0.9378\n",
            "Epoch 2/10\n",
            "625/625 [==============================] - 64s 102ms/step - loss: 0.0890 - accuracy: 0.9692 - val_loss: 0.1920 - val_accuracy: 0.9462\n",
            "Epoch 3/10\n",
            "625/625 [==============================] - 64s 102ms/step - loss: 0.0211 - accuracy: 0.9939 - val_loss: 0.2095 - val_accuracy: 0.9516\n",
            "Epoch 4/10\n",
            "625/625 [==============================] - 64s 102ms/step - loss: 0.0046 - accuracy: 0.9991 - val_loss: 0.2560 - val_accuracy: 0.9540\n",
            "Epoch 5/10\n",
            "625/625 [==============================] - 64s 101ms/step - loss: 0.0017 - accuracy: 0.9997 - val_loss: 0.2500 - val_accuracy: 0.9578\n",
            "Epoch 6/10\n",
            "625/625 [==============================] - 64s 102ms/step - loss: 7.4815e-04 - accuracy: 0.9998 - val_loss: 0.2682 - val_accuracy: 0.9578\n",
            "Epoch 7/10\n",
            "625/625 [==============================] - 64s 102ms/step - loss: 5.6297e-04 - accuracy: 0.9998 - val_loss: 0.2695 - val_accuracy: 0.9588\n",
            "Epoch 8/10\n",
            "625/625 [==============================] - 64s 102ms/step - loss: 4.5531e-04 - accuracy: 0.9998 - val_loss: 0.2763 - val_accuracy: 0.9592\n",
            "Epoch 9/10\n",
            "625/625 [==============================] - 64s 102ms/step - loss: 4.2437e-04 - accuracy: 0.9998 - val_loss: 0.2758 - val_accuracy: 0.9602\n",
            "Epoch 10/10\n",
            "625/625 [==============================] - 64s 103ms/step - loss: 3.6187e-04 - accuracy: 0.9998 - val_loss: 0.2779 - val_accuracy: 0.9606\n"
          ]
        }
      ]
    },
    {
      "cell_type": "code",
      "source": [
        "plt.plot(history1.history['accuracy'],color='red',label='train-accuracy')\n",
        "plt.plot(history1.history['val_accuracy'],color='blue',label='validation-acuracy')\n",
        "plt.legend()\n",
        "plt.show()"
      ],
      "metadata": {
        "colab": {
          "base_uri": "https://localhost:8080/",
          "height": 430
        },
        "id": "8qtwjHxt1R2B",
        "outputId": "de829124-db5f-49a7-ebd3-44f8a2bb3019"
      },
      "execution_count": 19,
      "outputs": [
        {
          "output_type": "display_data",
          "data": {
            "text/plain": [
              "<Figure size 640x480 with 1 Axes>"
            ],
            "image/png": "[encoded data removed]"
          },
          "metadata": {}
        }
      ]
    },
    {
      "cell_type": "code",
      "source": [
        "plt.plot(history1.history['loss'],color='red',label='train-loss')\n",
        "plt.plot(history1.history['val_loss'],color='blue',label='validation-loss')\n",
        "plt.legend()\n",
        "plt.show()"
      ],
      "metadata": {
        "colab": {
          "base_uri": "https://localhost:8080/",
          "height": 430
        },
        "id": "2g7kyiwf1SgV",
        "outputId": "f0ecbde6-05f6-4dc1-8ee6-e3049f6fbd11"
      },
      "execution_count": 20,
      "outputs": [
        {
          "output_type": "display_data",
          "data": {
            "text/plain": [
              "<Figure size 640x480 with 1 Axes>"
            ],
            "image/png": "[encoded data removed]"
          },
          "metadata": {}
        }
      ]
    },
    {
      "cell_type": "code",
      "source": [],
      "metadata": {
        "id": "PEAXLSjU11rU"
      },
      "execution_count": null,
      "outputs": []
    }
  ]
}
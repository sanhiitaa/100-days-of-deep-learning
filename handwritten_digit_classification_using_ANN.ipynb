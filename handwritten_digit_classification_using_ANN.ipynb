{
  "nbformat": 4,
  "nbformat_minor": 0,
  "metadata": {
    "colab": {
      "provenance": [],
      "authorship_tag": "ABX9TyNPkU0ItaJtDoiE+wFEK7Ji",
      "include_colab_link": true
    },
    "kernelspec": {
      "name": "python3",
      "display_name": "Python 3"
    },
    "language_info": {
      "name": "python"
    }
  },
  "cells": [
    {
      "cell_type": "markdown",
      "metadata": {
        "id": "view-in-github",
        "colab_type": "text"
      },
      "source": [
        "<a href=\"https://colab.research.google.com/github/sanhiitaa/100-days-of-deep-learning/blob/main/handwritten_digit_classification_using_ANN.ipynb\" target=\"_parent\"><img src=\"https://colab.research.google.com/assets/colab-badge.svg\" alt=\"Open In Colab\"/></a>"
      ]
    },
    {
      "cell_type": "markdown",
      "source": [
        "### MNIST Dataset."
      ],
      "metadata": {
        "id": "uQFvpmu3rC4v"
      }
    },
    {
      "cell_type": "code",
      "execution_count": 1,
      "metadata": {
        "id": "Na3ND_nZq5S-"
      },
      "outputs": [],
      "source": [
        "# import necessary libraries\n",
        "import tensorflow\n",
        "from tensorflow import keras\n",
        "from tensorflow.keras import Sequential\n",
        "from tensorflow.keras.layers import Dense, Flatten"
      ]
    },
    {
      "cell_type": "code",
      "source": [
        "# loading the dataset\n",
        "(X_train, y_train),(X_test, y_test)= keras.datasets.mnist.load_data()"
      ],
      "metadata": {
        "colab": {
          "base_uri": "https://localhost:8080/"
        },
        "id": "fLebM42VrBqZ",
        "outputId": "575d64d2-85b0-4c70-9fd1-0e51d742069c"
      },
      "execution_count": 2,
      "outputs": [
        {
          "output_type": "stream",
          "name": "stdout",
          "text": [
            "Downloading data from https://storage.googleapis.com/tensorflow/tf-keras-datasets/mnist.npz\n",
            "11490434/11490434 [==============================] - 0s 0us/step\n"
          ]
        }
      ]
    },
    {
      "cell_type": "code",
      "source": [
        "# visualizing the data\n",
        "import matplotlib.pyplot as plt\n",
        "plt.imshow(X_train[0])"
      ],
      "metadata": {
        "colab": {
          "base_uri": "https://localhost:8080/",
          "height": 447
        },
        "id": "ir8-4m6PKqn5",
        "outputId": "e292ab02-3a48-4019-e02a-26e92b3036c4"
      },
      "execution_count": 5,
      "outputs": [
        {
          "output_type": "execute_result",
          "data": {
            "text/plain": [
              "<matplotlib.image.AxesImage at 0x7d3d40b42530>"
            ]
          },
          "metadata": {},
          "execution_count": 5
        },
        {
          "output_type": "display_data",
          "data": {
            "text/plain": [
              "<Figure size 640x480 with 1 Axes>"
            ],
            "image/png": "[encoded data removed]"
          },
          "metadata": {}
        }
      ]
    },
    {
      "cell_type": "code",
      "source": [
        "# standardizing the data for faster convergence\n",
        "X_train= X_train/255\n",
        "X_test= X_test/255"
      ],
      "metadata": {
        "id": "wnifZpVRK4wI"
      },
      "execution_count": 6,
      "outputs": []
    },
    {
      "cell_type": "code",
      "source": [
        "# building the model\n",
        "\n",
        "model=Sequential()\n",
        "\n",
        "model.add(Flatten(input_shape=(28,28)))\n",
        "model.add(Dense(128, activation='relu'))\n",
        "model.add(Dense(10, activation='softmax'))"
      ],
      "metadata": {
        "id": "zcBIH8CtL13T"
      },
      "execution_count": 7,
      "outputs": []
    },
    {
      "cell_type": "code",
      "source": [
        "model.summary()"
      ],
      "metadata": {
        "colab": {
          "base_uri": "https://localhost:8080/"
        },
        "id": "3S-kk3YkMagv",
        "outputId": "57c3ff2a-2242-49f8-b43d-702d0c71257b"
      },
      "execution_count": 8,
      "outputs": [
        {
          "output_type": "stream",
          "name": "stdout",
          "text": [
            "Model: \"sequential\"\n",
            "_________________________________________________________________\n",
            " Layer (type)                Output Shape              Param #   \n",
            "=================================================================\n",
            " flatten (Flatten)           (None, 784)               0         \n",
            "                                                                 \n",
            " dense (Dense)               (None, 128)               100480    \n",
            "                                                                 \n",
            " dense_1 (Dense)             (None, 10)                1290      \n",
            "                                                                 \n",
            "=================================================================\n",
            "Total params: 101770 (397.54 KB)\n",
            "Trainable params: 101770 (397.54 KB)\n",
            "Non-trainable params: 0 (0.00 Byte)\n",
            "_________________________________________________________________\n"
          ]
        }
      ]
    },
    {
      "cell_type": "code",
      "source": [
        "model.compile(optimizer='Adam', loss='sparse_categorical_crossentropy', metrics=['accuracy'])"
      ],
      "metadata": {
        "id": "kD2SGJFWMenF"
      },
      "execution_count": 9,
      "outputs": []
    },
    {
      "cell_type": "code",
      "source": [
        "history=model.fit(X_train, y_train, epochs=10, batch_size=100,validation_split=0.2)"
      ],
      "metadata": {
        "colab": {
          "base_uri": "https://localhost:8080/"
        },
        "id": "WV-cxA4tQTsd",
        "outputId": "8bc5a559-50ce-459a-927a-d69446851ee8"
      },
      "execution_count": 11,
      "outputs": [
        {
          "output_type": "stream",
          "name": "stdout",
          "text": [
            "Epoch 1/10\n",
            "480/480 [==============================] - 4s 6ms/step - loss: 0.3764 - accuracy: 0.8954 - val_loss: 0.2021 - val_accuracy: 0.9438\n",
            "Epoch 2/10\n",
            "480/480 [==============================] - 3s 5ms/step - loss: 0.1752 - accuracy: 0.9497 - val_loss: 0.1530 - val_accuracy: 0.9563\n",
            "Epoch 3/10\n",
            "480/480 [==============================] - 4s 8ms/step - loss: 0.1244 - accuracy: 0.9643 - val_loss: 0.1298 - val_accuracy: 0.9622\n",
            "Epoch 4/10\n",
            "480/480 [==============================] - 3s 7ms/step - loss: 0.0973 - accuracy: 0.9722 - val_loss: 0.1112 - val_accuracy: 0.9672\n",
            "Epoch 5/10\n",
            "480/480 [==============================] - 3s 5ms/step - loss: 0.0778 - accuracy: 0.9775 - val_loss: 0.1020 - val_accuracy: 0.9698\n",
            "Epoch 6/10\n",
            "480/480 [==============================] - 3s 5ms/step - loss: 0.0640 - accuracy: 0.9819 - val_loss: 0.0999 - val_accuracy: 0.9705\n",
            "Epoch 7/10\n",
            "480/480 [==============================] - 3s 5ms/step - loss: 0.0532 - accuracy: 0.9848 - val_loss: 0.0906 - val_accuracy: 0.9726\n",
            "Epoch 8/10\n",
            "480/480 [==============================] - 4s 8ms/step - loss: 0.0432 - accuracy: 0.9881 - val_loss: 0.0902 - val_accuracy: 0.9745\n",
            "Epoch 9/10\n",
            "480/480 [==============================] - 3s 6ms/step - loss: 0.0366 - accuracy: 0.9896 - val_loss: 0.0894 - val_accuracy: 0.9736\n",
            "Epoch 10/10\n",
            "480/480 [==============================] - 2s 5ms/step - loss: 0.0304 - accuracy: 0.9917 - val_loss: 0.0878 - val_accuracy: 0.9747\n"
          ]
        }
      ]
    },
    {
      "cell_type": "code",
      "source": [
        "y_prob= model.predict(X_test)"
      ],
      "metadata": {
        "colab": {
          "base_uri": "https://localhost:8080/"
        },
        "id": "OGboixa0QnEp",
        "outputId": "6bf2130d-2461-455d-eb29-40e7a527450c"
      },
      "execution_count": 12,
      "outputs": [
        {
          "output_type": "stream",
          "name": "stdout",
          "text": [
            "313/313 [==============================] - 1s 2ms/step\n"
          ]
        }
      ]
    },
    {
      "cell_type": "code",
      "source": [
        "y_pred= y_prob.argmax(axis=1)"
      ],
      "metadata": {
        "id": "wlO-BIneSAbB"
      },
      "execution_count": 13,
      "outputs": []
    },
    {
      "cell_type": "code",
      "source": [
        "from sklearn.metrics import accuracy_score\n",
        "accuracy_score(y_test,y_pred)"
      ],
      "metadata": {
        "colab": {
          "base_uri": "https://localhost:8080/"
        },
        "id": "k1ROIgN9SIXw",
        "outputId": "f39f6bf5-f6d4-44fa-9364-3579366927a5"
      },
      "execution_count": 14,
      "outputs": [
        {
          "output_type": "execute_result",
          "data": {
            "text/plain": [
              "0.9757"
            ]
          },
          "metadata": {},
          "execution_count": 14
        }
      ]
    },
    {
      "cell_type": "code",
      "source": [
        "plt.plot(history.history['loss'])\n",
        "plt.plot(history.history['val_loss'])"
      ],
      "metadata": {
        "colab": {
          "base_uri": "https://localhost:8080/",
          "height": 447
        },
        "id": "VRtTJhVcSLXD",
        "outputId": "71ff9f40-539d-4bd7-c540-9c23d54a9338"
      },
      "execution_count": 15,
      "outputs": [
        {
          "output_type": "execute_result",
          "data": {
            "text/plain": [
              "[<matplotlib.lines.Line2D at 0x7d3d0ab16800>]"
            ]
          },
          "metadata": {},
          "execution_count": 15
        },
        {
          "output_type": "display_data",
          "data": {
            "text/plain": [
              "<Figure size 640x480 with 1 Axes>"
            ],
            "image/png": "[encoded data removed]"
          },
          "metadata": {}
        }
      ]
    },
    {
      "cell_type": "code",
      "source": [
        "plt.plot(history.history['accuracy'])\n",
        "plt.plot(history.history['val_accuracy'])"
      ],
      "metadata": {
        "colab": {
          "base_uri": "https://localhost:8080/",
          "height": 447
        },
        "id": "TKyObnJ3SRhw",
        "outputId": "58f7742d-d53a-4cd5-f9d0-0bd714b027d6"
      },
      "execution_count": 16,
      "outputs": [
        {
          "output_type": "execute_result",
          "data": {
            "text/plain": [
              "[<matplotlib.lines.Line2D at 0x7d3d0a43b670>]"
            ]
          },
          "metadata": {},
          "execution_count": 16
        },
        {
          "output_type": "display_data",
          "data": {
            "text/plain": [
              "<Figure size 640x480 with 1 Axes>"
            ],
            "image/png": "[encoded data removed]"
          },
          "metadata": {}
        }
      ]
    },
    {
      "cell_type": "code",
      "source": [
        "plt.imshow(X_test[45]);"
      ],
      "metadata": {
        "colab": {
          "base_uri": "https://localhost:8080/",
          "height": 430
        },
        "id": "CWId-Hz_SWro",
        "outputId": "37a55f9b-7e5f-4dbc-e72a-013893276b88"
      },
      "execution_count": 19,
      "outputs": [
        {
          "output_type": "display_data",
          "data": {
            "text/plain": [
              "<Figure size 640x480 with 1 Axes>"
            ],
            "image/png": "[encoded data removed]"
          },
          "metadata": {}
        }
      ]
    },
    {
      "cell_type": "code",
      "source": [
        "y_pred[45]"
      ],
      "metadata": {
        "colab": {
          "base_uri": "https://localhost:8080/"
        },
        "id": "0eTtCmiwS3u5",
        "outputId": "c4c8271c-f824-4050-905e-7b323523f12f"
      },
      "execution_count": 18,
      "outputs": [
        {
          "output_type": "execute_result",
          "data": {
            "text/plain": [
              "5"
            ]
          },
          "metadata": {},
          "execution_count": 18
        }
      ]
    },
    {
      "cell_type": "code",
      "source": [],
      "metadata": {
        "id": "0bSyqkGsS8m3"
      },
      "execution_count": null,
      "outputs": []
    }
  ]
}
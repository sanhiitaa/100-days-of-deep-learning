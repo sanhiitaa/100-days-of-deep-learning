{
  "nbformat": 4,
  "nbformat_minor": 0,
  "metadata": {
    "colab": {
      "provenance": [],
      "gpuType": "T4",
      "authorship_tag": "ABX9TyM3VpOxlQQOjcTW+Li1eepv",
      "include_colab_link": true
    },
    "kernelspec": {
      "name": "python3",
      "display_name": "Python 3"
    },
    "language_info": {
      "name": "python"
    },
    "accelerator": "GPU"
  },
  "cells": [
    {
      "cell_type": "markdown",
      "metadata": {
        "id": "view-in-github",
        "colab_type": "text"
      },
      "source": [
        "<a href=\"https://colab.research.google.com/github/sanhiitaa/100-days-of-deep-learning/blob/main/age_gender_non_linear_model.ipynb\" target=\"_parent\"><img src=\"https://colab.research.google.com/assets/colab-badge.svg\" alt=\"Open In Colab\"/></a>"
      ]
    },
    {
      "cell_type": "code",
      "execution_count": 1,
      "metadata": {
        "id": "OjPuhJCxg4U-"
      },
      "outputs": [],
      "source": [
        "# importing the kaggle API\n",
        "!mkdir -p ~/.kaggle\n",
        "!cp kaggle.json ~/.kaggle/"
      ]
    },
    {
      "cell_type": "code",
      "source": [
        "# dowloading the dataset\n",
        "!kaggle datasets download -d jangedoo/utkface-new"
      ],
      "metadata": {
        "colab": {
          "base_uri": "https://localhost:8080/"
        },
        "id": "SDy-Tyvche0p",
        "outputId": "6e10359e-468f-4ba7-ea40-b282a1538e90"
      },
      "execution_count": 2,
      "outputs": [
        {
          "output_type": "stream",
          "name": "stdout",
          "text": [
            "Warning: Your Kaggle API key is readable by other users on this system! To fix this, you can run 'chmod 600 /root/.kaggle/kaggle.json'\n",
            "Dataset URL: https://www.kaggle.com/datasets/jangedoo/utkface-new\n",
            "License(s): copyright-authors\n",
            "Downloading utkface-new.zip to /content\n",
            " 97% 321M/331M [00:04<00:00, 90.6MB/s]\n",
            "100% 331M/331M [00:04<00:00, 85.9MB/s]\n"
          ]
        }
      ]
    },
    {
      "cell_type": "code",
      "source": [
        "# unzipping the file\n",
        "import zipfile\n",
        "zip_ref=zipfile.ZipFile('/content/utkface-new.zip','r')\n",
        "zip_ref.extractall('/content')\n",
        "zip_ref.close()"
      ],
      "metadata": {
        "id": "4IeHKxZ_hnz-"
      },
      "execution_count": 3,
      "outputs": []
    },
    {
      "cell_type": "code",
      "source": [
        "# importing libraries\n",
        "import os\n",
        "import numpy as np\n",
        "import pandas as pd\n",
        "from keras.preprocessing.image import ImageDataGenerator"
      ],
      "metadata": {
        "id": "QEqRgFVfh3g0"
      },
      "execution_count": 4,
      "outputs": []
    },
    {
      "cell_type": "code",
      "source": [
        "folder_path='/content/utkface_aligned_cropped/UTKFace'"
      ],
      "metadata": {
        "id": "gwWNKnAaiC1K"
      },
      "execution_count": 5,
      "outputs": []
    },
    {
      "cell_type": "code",
      "source": [
        "age=[]\n",
        "gender=[]\n",
        "img_path=[]\n",
        "for file in os.listdir(folder_path):\n",
        "  age.append(int(file.split('_')[0]))\n",
        "  gender.append(int(file.split('_')[1]))\n",
        "  img_path.append(file)"
      ],
      "metadata": {
        "id": "e48t3M_5iGL9"
      },
      "execution_count": 6,
      "outputs": []
    },
    {
      "cell_type": "code",
      "source": [
        "df=pd.DataFrame({'age': age,\n",
        "                 'gender': gender,\n",
        "                 'image': img_path})\n",
        "df.head()"
      ],
      "metadata": {
        "colab": {
          "base_uri": "https://localhost:8080/",
          "height": 206
        },
        "id": "FHvMLnP6iga0",
        "outputId": "01ae22e7-682c-403f-bbdd-cb768be5ba13"
      },
      "execution_count": 7,
      "outputs": [
        {
          "output_type": "execute_result",
          "data": {
            "text/plain": [
              "   age  gender                                  image\n",
              "0    1       0   1_0_2_20161219190003947.jpg.chip.jpg\n",
              "1   25       0  25_0_3_20170104214602149.jpg.chip.jpg\n",
              "2   26       0  26_0_2_20170104023216134.jpg.chip.jpg\n",
              "3   38       1  38_1_1_20170113012502193.jpg.chip.jpg\n",
              "4   29       1  29_1_2_20170105164315483.jpg.chip.jpg"
            ],
            "text/html": [
              "\n",
              "  <div id=\"df-19cab4e5-1815-472c-b139-f306e94d9bee\" class=\"colab-df-container\">\n",
              "    <div>\n",
              "<style scoped>\n",
              "    .dataframe tbody tr th:only-of-type {\n",
              "        vertical-align: middle;\n",
              "    }\n",
              "\n",
              "    .dataframe tbody tr th {\n",
              "        vertical-align: top;\n",
              "    }\n",
              "\n",
              "    .dataframe thead th {\n",
              "        text-align: right;\n",
              "    }\n",
              "</style>\n",
              "<table border=\"1\" class=\"dataframe\">\n",
              "  <thead>\n",
              "    <tr style=\"text-align: right;\">\n",
              "      <th></th>\n",
              "      <th>age</th>\n",
              "      <th>gender</th>\n",
              "      <th>image</th>\n",
              "    </tr>\n",
              "  </thead>\n",
              "  <tbody>\n",
              "    <tr>\n",
              "      <th>0</th>\n",
              "      <td>1</td>\n",
              "      <td>0</td>\n",
              "      <td>1_0_2_20161219190003947.jpg.chip.jpg</td>\n",
              "    </tr>\n",
              "    <tr>\n",
              "      <th>1</th>\n",
              "      <td>25</td>\n",
              "      <td>0</td>\n",
              "      <td>25_0_3_20170104214602149.jpg.chip.jpg</td>\n",
              "    </tr>\n",
              "    <tr>\n",
              "      <th>2</th>\n",
              "      <td>26</td>\n",
              "      <td>0</td>\n",
              "      <td>26_0_2_20170104023216134.jpg.chip.jpg</td>\n",
              "    </tr>\n",
              "    <tr>\n",
              "      <th>3</th>\n",
              "      <td>38</td>\n",
              "      <td>1</td>\n",
              "      <td>38_1_1_20170113012502193.jpg.chip.jpg</td>\n",
              "    </tr>\n",
              "    <tr>\n",
              "      <th>4</th>\n",
              "      <td>29</td>\n",
              "      <td>1</td>\n",
              "      <td>29_1_2_20170105164315483.jpg.chip.jpg</td>\n",
              "    </tr>\n",
              "  </tbody>\n",
              "</table>\n",
              "</div>\n",
              "    <div class=\"colab-df-buttons\">\n",
              "\n",
              "  <div class=\"colab-df-container\">\n",
              "    <button class=\"colab-df-convert\" onclick=\"convertToInteractive('df-19cab4e5-1815-472c-b139-f306e94d9bee')\"\n",
              "            title=\"Convert this dataframe to an interactive table.\"\n",
              "            style=\"display:none;\">\n",
              "\n",
              "  <svg xmlns=\"http://www.w3.org/2000/svg\" height=\"24px\" viewBox=\"0 -960 960 960\">\n",
              "    <path d=\"M120-120v-720h720v720H120Zm60-500h600v-160H180v160Zm220 220h160v-160H400v160Zm0 220h160v-160H400v160ZM180-400h160v-160H180v160Zm440 0h160v-160H620v160ZM180-180h160v-160H180v160Zm440 0h160v-160H620v160Z\"/>\n",
              "  </svg>\n",
              "    </button>\n",
              "\n",
              "  <style>\n",
              "    .colab-df-container {\n",
              "      display:flex;\n",
              "      gap: 12px;\n",
              "    }\n",
              "\n",
              "    .colab-df-convert {\n",
              "      background-color: #E8F0FE;\n",
              "      border: none;\n",
              "      border-radius: 50%;\n",
              "      cursor: pointer;\n",
              "      display: none;\n",
              "      fill: #1967D2;\n",
              "      height: 32px;\n",
              "      padding: 0 0 0 0;\n",
              "      width: 32px;\n",
              "    }\n",
              "\n",
              "    .colab-df-convert:hover {\n",
              "      background-color: #E2EBFA;\n",
              "      box-shadow: 0px 1px 2px rgba(60, 64, 67, 0.3), 0px 1px 3px 1px rgba(60, 64, 67, 0.15);\n",
              "      fill: #174EA6;\n",
              "    }\n",
              "\n",
              "    .colab-df-buttons div {\n",
              "      margin-bottom: 4px;\n",
              "    }\n",
              "\n",
              "    [theme=dark] .colab-df-convert {\n",
              "      background-color: #3B4455;\n",
              "      fill: #D2E3FC;\n",
              "    }\n",
              "\n",
              "    [theme=dark] .colab-df-convert:hover {\n",
              "      background-color: #434B5C;\n",
              "      box-shadow: 0px 1px 3px 1px rgba(0, 0, 0, 0.15);\n",
              "      filter: drop-shadow(0px 1px 2px rgba(0, 0, 0, 0.3));\n",
              "      fill: #FFFFFF;\n",
              "    }\n",
              "  </style>\n",
              "\n",
              "    <script>\n",
              "      const buttonEl =\n",
              "        document.querySelector('#df-19cab4e5-1815-472c-b139-f306e94d9bee button.colab-df-convert');\n",
              "      buttonEl.style.display =\n",
              "        google.colab.kernel.accessAllowed ? 'block' : 'none';\n",
              "\n",
              "      async function convertToInteractive(key) {\n",
              "        const element = document.querySelector('#df-19cab4e5-1815-472c-b139-f306e94d9bee');\n",
              "        const dataTable =\n",
              "          await google.colab.kernel.invokeFunction('convertToInteractive',\n",
              "                                                    [key], {});\n",
              "        if (!dataTable) return;\n",
              "\n",
              "        const docLinkHtml = 'Like what you see? Visit the ' +\n",
              "          '<a target=\"_blank\" href=https://colab.research.google.com/notebooks/data_table.ipynb>data table notebook</a>'\n",
              "          + ' to learn more about interactive tables.';\n",
              "        element.innerHTML = '';\n",
              "        dataTable['output_type'] = 'display_data';\n",
              "        await google.colab.output.renderOutput(dataTable, element);\n",
              "        const docLink = document.createElement('div');\n",
              "        docLink.innerHTML = docLinkHtml;\n",
              "        element.appendChild(docLink);\n",
              "      }\n",
              "    </script>\n",
              "  </div>\n",
              "\n",
              "\n",
              "<div id=\"df-bb8fad5b-6482-40db-aa36-586fc4c854b8\">\n",
              "  <button class=\"colab-df-quickchart\" onclick=\"quickchart('df-bb8fad5b-6482-40db-aa36-586fc4c854b8')\"\n",
              "            title=\"Suggest charts\"\n",
              "            style=\"display:none;\">\n",
              "\n",
              "<svg xmlns=\"http://www.w3.org/2000/svg\" height=\"24px\"viewBox=\"0 0 24 24\"\n",
              "     width=\"24px\">\n",
              "    <g>\n",
              "        <path d=\"M19 3H5c-1.1 0-2 .9-2 2v14c0 1.1.9 2 2 2h14c1.1 0 2-.9 2-2V5c0-1.1-.9-2-2-2zM9 17H7v-7h2v7zm4 0h-2V7h2v10zm4 0h-2v-4h2v4z\"/>\n",
              "    </g>\n",
              "</svg>\n",
              "  </button>\n",
              "\n",
              "<style>\n",
              "  .colab-df-quickchart {\n",
              "      --bg-color: #E8F0FE;\n",
              "      --fill-color: #1967D2;\n",
              "      --hover-bg-color: #E2EBFA;\n",
              "      --hover-fill-color: #174EA6;\n",
              "      --disabled-fill-color: #AAA;\n",
              "      --disabled-bg-color: #DDD;\n",
              "  }\n",
              "\n",
              "  [theme=dark] .colab-df-quickchart {\n",
              "      --bg-color: #3B4455;\n",
              "      --fill-color: #D2E3FC;\n",
              "      --hover-bg-color: #434B5C;\n",
              "      --hover-fill-color: #FFFFFF;\n",
              "      --disabled-bg-color: #3B4455;\n",
              "      --disabled-fill-color: #666;\n",
              "  }\n",
              "\n",
              "  .colab-df-quickchart {\n",
              "    background-color: var(--bg-color);\n",
              "    border: none;\n",
              "    border-radius: 50%;\n",
              "    cursor: pointer;\n",
              "    display: none;\n",
              "    fill: var(--fill-color);\n",
              "    height: 32px;\n",
              "    padding: 0;\n",
              "    width: 32px;\n",
              "  }\n",
              "\n",
              "  .colab-df-quickchart:hover {\n",
              "    background-color: var(--hover-bg-color);\n",
              "    box-shadow: 0 1px 2px rgba(60, 64, 67, 0.3), 0 1px 3px 1px rgba(60, 64, 67, 0.15);\n",
              "    fill: var(--button-hover-fill-color);\n",
              "  }\n",
              "\n",
              "  .colab-df-quickchart-complete:disabled,\n",
              "  .colab-df-quickchart-complete:disabled:hover {\n",
              "    background-color: var(--disabled-bg-color);\n",
              "    fill: var(--disabled-fill-color);\n",
              "    box-shadow: none;\n",
              "  }\n",
              "\n",
              "  .colab-df-spinner {\n",
              "    border: 2px solid var(--fill-color);\n",
              "    border-color: transparent;\n",
              "    border-bottom-color: var(--fill-color);\n",
              "    animation:\n",
              "      spin 1s steps(1) infinite;\n",
              "  }\n",
              "\n",
              "  @keyframes spin {\n",
              "    0% {\n",
              "      border-color: transparent;\n",
              "      border-bottom-color: var(--fill-color);\n",
              "      border-left-color: var(--fill-color);\n",
              "    }\n",
              "    20% {\n",
              "      border-color: transparent;\n",
              "      border-left-color: var(--fill-color);\n",
              "      border-top-color: var(--fill-color);\n",
              "    }\n",
              "    30% {\n",
              "      border-color: transparent;\n",
              "      border-left-color: var(--fill-color);\n",
              "      border-top-color: var(--fill-color);\n",
              "      border-right-color: var(--fill-color);\n",
              "    }\n",
              "    40% {\n",
              "      border-color: transparent;\n",
              "      border-right-color: var(--fill-color);\n",
              "      border-top-color: var(--fill-color);\n",
              "    }\n",
              "    60% {\n",
              "      border-color: transparent;\n",
              "      border-right-color: var(--fill-color);\n",
              "    }\n",
              "    80% {\n",
              "      border-color: transparent;\n",
              "      border-right-color: var(--fill-color);\n",
              "      border-bottom-color: var(--fill-color);\n",
              "    }\n",
              "    90% {\n",
              "      border-color: transparent;\n",
              "      border-bottom-color: var(--fill-color);\n",
              "    }\n",
              "  }\n",
              "</style>\n",
              "\n",
              "  <script>\n",
              "    async function quickchart(key) {\n",
              "      const quickchartButtonEl =\n",
              "        document.querySelector('#' + key + ' button');\n",
              "      quickchartButtonEl.disabled = true;  // To prevent multiple clicks.\n",
              "      quickchartButtonEl.classList.add('colab-df-spinner');\n",
              "      try {\n",
              "        const charts = await google.colab.kernel.invokeFunction(\n",
              "            'suggestCharts', [key], {});\n",
              "      } catch (error) {\n",
              "        console.error('Error during call to suggestCharts:', error);\n",
              "      }\n",
              "      quickchartButtonEl.classList.remove('colab-df-spinner');\n",
              "      quickchartButtonEl.classList.add('colab-df-quickchart-complete');\n",
              "    }\n",
              "    (() => {\n",
              "      let quickchartButtonEl =\n",
              "        document.querySelector('#df-bb8fad5b-6482-40db-aa36-586fc4c854b8 button');\n",
              "      quickchartButtonEl.style.display =\n",
              "        google.colab.kernel.accessAllowed ? 'block' : 'none';\n",
              "    })();\n",
              "  </script>\n",
              "</div>\n",
              "\n",
              "    </div>\n",
              "  </div>\n"
            ],
            "application/vnd.google.colaboratory.intrinsic+json": {
              "type": "dataframe",
              "variable_name": "df",
              "summary": "{\n  \"name\": \"df\",\n  \"rows\": 23708,\n  \"fields\": [\n    {\n      \"column\": \"age\",\n      \"properties\": {\n        \"dtype\": \"number\",\n        \"std\": 19,\n        \"min\": 1,\n        \"max\": 116,\n        \"num_unique_values\": 104,\n        \"samples\": [\n          48,\n          62,\n          77\n        ],\n        \"semantic_type\": \"\",\n        \"description\": \"\"\n      }\n    },\n    {\n      \"column\": \"gender\",\n      \"properties\": {\n        \"dtype\": \"number\",\n        \"std\": 0,\n        \"min\": 0,\n        \"max\": 1,\n        \"num_unique_values\": 2,\n        \"samples\": [\n          1,\n          0\n        ],\n        \"semantic_type\": \"\",\n        \"description\": \"\"\n      }\n    },\n    {\n      \"column\": \"image\",\n      \"properties\": {\n        \"dtype\": \"string\",\n        \"num_unique_values\": 23708,\n        \"samples\": [\n          \"31_0_0_20170113142314661.jpg.chip.jpg\",\n          \"23_1_2_20170116172816125.jpg.chip.jpg\"\n        ],\n        \"semantic_type\": \"\",\n        \"description\": \"\"\n      }\n    }\n  ]\n}"
            }
          },
          "metadata": {},
          "execution_count": 7
        }
      ]
    },
    {
      "cell_type": "code",
      "source": [
        "df.shape"
      ],
      "metadata": {
        "colab": {
          "base_uri": "https://localhost:8080/"
        },
        "id": "3YlGBKkhiwX9",
        "outputId": "a45752bf-3706-4364-a183-f54fd6e0479a"
      },
      "execution_count": 8,
      "outputs": [
        {
          "output_type": "execute_result",
          "data": {
            "text/plain": [
              "(23708, 3)"
            ]
          },
          "metadata": {},
          "execution_count": 8
        }
      ]
    },
    {
      "cell_type": "code",
      "source": [
        "train_df=df.sample(frac=1).iloc[:20000]\n",
        "test_df=df.sample(frac=1).iloc[20000:]"
      ],
      "metadata": {
        "id": "RE4VYxRvizdE"
      },
      "execution_count": 9,
      "outputs": []
    },
    {
      "cell_type": "code",
      "source": [
        "train_datagen = ImageDataGenerator(rescale=1./255,\n",
        "                                   rotation_range=40,\n",
        "                                   width_shift_range=0.2,\n",
        "                                   height_shift_range=0.3,\n",
        "                                   shear_range=0.4,\n",
        "                                   zoom_range=0.1,\n",
        "                                   horizontal_flip=True)\n",
        "\n",
        "train_generator= train_datagen.flow_from_dataframe(train_df,\n",
        "                                                   directory=folder_path,\n",
        "                                                   x_col='image',\n",
        "                                                   y_col=['age', 'gender'],\n",
        "                                                   target_size=(200,200),\n",
        "                                                   class_mode='multi_output')\n",
        "\n",
        "test_datagen = ImageDataGenerator(rescale=1./255)\n",
        "\n",
        "test_generator= test_datagen.flow_from_dataframe(test_df,\n",
        "                                                   directory=folder_path,\n",
        "                                                   x_col='image',\n",
        "                                                   y_col=['age', 'gender'],\n",
        "                                                   target_size=(200,200),\n",
        "                                                   class_mode='multi_output')"
      ],
      "metadata": {
        "colab": {
          "base_uri": "https://localhost:8080/"
        },
        "id": "9VrJz9RoX7xY",
        "outputId": "f526d44a-29f0-407b-ad45-70749a9518be"
      },
      "execution_count": 10,
      "outputs": [
        {
          "output_type": "stream",
          "name": "stdout",
          "text": [
            "Found 20000 validated image filenames.\n",
            "Found 3708 validated image filenames.\n"
          ]
        }
      ]
    },
    {
      "cell_type": "code",
      "source": [
        "from keras.applications.resnet50 import ResNet50\n",
        "from keras.layers import *\n",
        "from keras.models import Model"
      ],
      "metadata": {
        "id": "Cc3D-_vgY11Q"
      },
      "execution_count": 11,
      "outputs": []
    },
    {
      "cell_type": "code",
      "source": [
        "resnet= ResNet50(include_top=False,\n",
        "                 input_shape=(200,200,3))\n",
        "\n",
        "resnet.trainable=False\n",
        "\n",
        "# setting the last layer of resnet conv_base as output layer\n",
        "conv_output = resnet.layers[-1].output\n",
        "\n",
        "# joining the output layer with flatten\n",
        "flatten= Flatten()(conv_output)\n",
        "\n",
        "# joining hidden layers to the flatten layer\n",
        "dense1= Dense(512, activation='relu')(flatten)\n",
        "dense2= Dense(512, activation='relu')(flatten)\n",
        "\n",
        "dense3= Dense(512, activation='relu')(dense1)\n",
        "dense4= Dense(512, activation='relu')(dense2)\n",
        "\n",
        "output1= Dense(1, activation='linear', name='age')(dense3)\n",
        "output2= Dense(1, activation='sigmoid', name='gender')(dense4)"
      ],
      "metadata": {
        "colab": {
          "base_uri": "https://localhost:8080/"
        },
        "id": "OH38MsshaXb3",
        "outputId": "8e34f4f9-d486-424c-fb10-b5c8b53dd2ff"
      },
      "execution_count": 12,
      "outputs": [
        {
          "output_type": "stream",
          "name": "stdout",
          "text": [
            "Downloading data from https://storage.googleapis.com/tensorflow/keras-applications/resnet/resnet50_weights_tf_dim_ordering_tf_kernels_notop.h5\n",
            "94765736/94765736 [==============================] - 1s 0us/step\n"
          ]
        }
      ]
    },
    {
      "cell_type": "code",
      "source": [
        "model=Model(inputs=resnet.input, outputs=[output1, output2])"
      ],
      "metadata": {
        "id": "5Xf6Vzo5awZD"
      },
      "execution_count": 13,
      "outputs": []
    },
    {
      "cell_type": "code",
      "source": [
        "model.compile(optimizer='adam',\n",
        "              loss={'age': 'mae',\n",
        "                    'gender': 'binary_crossentropy'},\n",
        "              metrics={'age': 'mae',\n",
        "                    'gender': 'accuracy'},\n",
        "              loss_weights={'age':1,\n",
        "                           'gender':99})"
      ],
      "metadata": {
        "id": "caJ_msd8cZKB"
      },
      "execution_count": 14,
      "outputs": []
    },
    {
      "cell_type": "code",
      "source": [
        "model.fit(train_generator,\n",
        "          batch_size=32,\n",
        "          epochs=10,\n",
        "          validation_data=test_generator)"
      ],
      "metadata": {
        "id": "3ZA-r0zSc7-b",
        "colab": {
          "base_uri": "https://localhost:8080/"
        },
        "outputId": "80987d82-352e-43d1-9fb8-0e74ecb6c130"
      },
      "execution_count": 15,
      "outputs": [
        {
          "output_type": "stream",
          "name": "stdout",
          "text": [
            "Epoch 1/10\n",
            "625/625 [==============================] - 271s 417ms/step - loss: 94.2570 - age_loss: 15.4197 - gender_loss: 0.7963 - age_mae: 15.4197 - gender_accuracy: 0.5175 - val_loss: 83.3049 - val_age_loss: 14.7240 - val_gender_loss: 0.6927 - val_age_mae: 14.7240 - val_gender_accuracy: 0.5151\n",
            "Epoch 2/10\n",
            "625/625 [==============================] - 270s 432ms/step - loss: 83.5600 - age_loss: 15.0142 - gender_loss: 0.6924 - age_mae: 15.0142 - gender_accuracy: 0.5239 - val_loss: 83.2833 - val_age_loss: 14.6254 - val_gender_loss: 0.6935 - val_age_mae: 14.6254 - val_gender_accuracy: 0.5151\n",
            "Epoch 3/10\n",
            "625/625 [==============================] - 261s 417ms/step - loss: 83.7354 - age_loss: 14.9742 - gender_loss: 0.6946 - age_mae: 14.9742 - gender_accuracy: 0.5236 - val_loss: 83.1546 - val_age_loss: 14.5481 - val_gender_loss: 0.6930 - val_age_mae: 14.5481 - val_gender_accuracy: 0.5151\n",
            "Epoch 4/10\n",
            "625/625 [==============================] - 253s 404ms/step - loss: 83.3938 - age_loss: 14.8168 - gender_loss: 0.6927 - age_mae: 14.8168 - gender_accuracy: 0.5239 - val_loss: 83.0466 - val_age_loss: 14.4409 - val_gender_loss: 0.6930 - val_age_mae: 14.4409 - val_gender_accuracy: 0.5151\n",
            "Epoch 5/10\n",
            "625/625 [==============================] - 253s 404ms/step - loss: 83.6558 - age_loss: 14.8288 - gender_loss: 0.6952 - age_mae: 14.8288 - gender_accuracy: 0.5235 - val_loss: 82.9966 - val_age_loss: 14.4034 - val_gender_loss: 0.6929 - val_age_mae: 14.4034 - val_gender_accuracy: 0.5151\n",
            "Epoch 6/10\n",
            "625/625 [==============================] - 255s 409ms/step - loss: 83.3101 - age_loss: 14.7635 - gender_loss: 0.6924 - age_mae: 14.7635 - gender_accuracy: 0.5242 - val_loss: 83.2460 - val_age_loss: 14.5568 - val_gender_loss: 0.6938 - val_age_mae: 14.5568 - val_gender_accuracy: 0.5151\n",
            "Epoch 7/10\n",
            "625/625 [==============================] - 254s 406ms/step - loss: 83.2056 - age_loss: 14.6797 - gender_loss: 0.6922 - age_mae: 14.6797 - gender_accuracy: 0.5239 - val_loss: 82.9471 - val_age_loss: 14.3696 - val_gender_loss: 0.6927 - val_age_mae: 14.3696 - val_gender_accuracy: 0.5151\n",
            "Epoch 8/10\n",
            "625/625 [==============================] - 258s 412ms/step - loss: 83.1854 - age_loss: 14.6658 - gender_loss: 0.6921 - age_mae: 14.6658 - gender_accuracy: 0.5242 - val_loss: 82.8568 - val_age_loss: 14.2733 - val_gender_loss: 0.6928 - val_age_mae: 14.2733 - val_gender_accuracy: 0.5151\n",
            "Epoch 9/10\n",
            "625/625 [==============================] - 254s 406ms/step - loss: 83.3734 - age_loss: 14.6786 - gender_loss: 0.6939 - age_mae: 14.6786 - gender_accuracy: 0.5229 - val_loss: 82.9321 - val_age_loss: 14.3213 - val_gender_loss: 0.6930 - val_age_mae: 14.3213 - val_gender_accuracy: 0.5151\n",
            "Epoch 10/10\n",
            "625/625 [==============================] - 253s 405ms/step - loss: 83.1958 - age_loss: 14.6747 - gender_loss: 0.6921 - age_mae: 14.6747 - gender_accuracy: 0.5239 - val_loss: 82.9793 - val_age_loss: 14.3850 - val_gender_loss: 0.6929 - val_age_mae: 14.3850 - val_gender_accuracy: 0.5151\n"
          ]
        },
        {
          "output_type": "execute_result",
          "data": {
            "text/plain": [
              "<keras.src.callbacks.History at 0x7c43827ccf10>"
            ]
          },
          "metadata": {},
          "execution_count": 15
        }
      ]
    },
    {
      "cell_type": "code",
      "source": [],
      "metadata": {
        "id": "h_EkBlpxetnj"
      },
      "execution_count": 15,
      "outputs": []
    }
  ]
}
{
  "nbformat": 4,
  "nbformat_minor": 0,
  "metadata": {
    "colab": {
      "provenance": [],
      "gpuType": "T4",
      "authorship_tag": "ABX9TyMQ5YRE38+QOBYmrCkLYf6u",
      "include_colab_link": true
    },
    "kernelspec": {
      "name": "python3",
      "display_name": "Python 3"
    },
    "language_info": {
      "name": "python"
    },
    "accelerator": "GPU"
  },
  "cells": [
    {
      "cell_type": "markdown",
      "metadata": {
        "id": "view-in-github",
        "colab_type": "text"
      },
      "source": [
        "<a href=\"https://colab.research.google.com/github/sanhiitaa/100-days-of-deep-learning/blob/main/guided-projects/simpleRNN_sentiment_analysis_with_embedding_layer.ipynb\" target=\"_parent\"><img src=\"https://colab.research.google.com/assets/colab-badge.svg\" alt=\"Open In Colab\"/></a>"
      ]
    },
    {
      "cell_type": "code",
      "execution_count": 1,
      "metadata": {
        "id": "mPa9YnCwtaVO"
      },
      "outputs": [],
      "source": [
        "# importing libraries and layers\n",
        "from keras.datasets import imdb\n",
        "from keras.preprocessing.text import Tokenizer\n",
        "from keras.utils import pad_sequences\n",
        "from keras import Sequential\n",
        "from keras.layers import Dense, SimpleRNN, Embedding, Flatten"
      ]
    },
    {
      "cell_type": "code",
      "source": [
        "# loading the dataset\n",
        "(x_train, y_train),(x_test, y_test)= imdb.load_data()"
      ],
      "metadata": {
        "id": "qpKzB2LJvYvz"
      },
      "execution_count": 11,
      "outputs": []
    },
    {
      "cell_type": "code",
      "source": [
        "# padding the sequences\n",
        "x_train= pad_sequences(x_train, padding='post', maxlen=100) # make sure to define padding BEFORE maxlen to avoid graph execution error\n",
        "x_test= pad_sequences(x_test, padding='post', maxlen=100)"
      ],
      "metadata": {
        "id": "JxxWBh9cvmf3"
      },
      "execution_count": 12,
      "outputs": []
    },
    {
      "cell_type": "code",
      "source": [
        "x_train.shape"
      ],
      "metadata": {
        "colab": {
          "base_uri": "https://localhost:8080/"
        },
        "id": "ugLHa6nrv36d",
        "outputId": "eb18066f-a32f-4a63-ff83-b4c7a89843c9"
      },
      "execution_count": 13,
      "outputs": [
        {
          "output_type": "execute_result",
          "data": {
            "text/plain": [
              "(25000, 100)"
            ]
          },
          "metadata": {},
          "execution_count": 13
        }
      ]
    },
    {
      "cell_type": "code",
      "source": [
        "# building the RNN model\n",
        "model = Sequential()\n",
        "model.add(Embedding(10000, 2, input_length=100))\n",
        "model.add(SimpleRNN(32, return_sequences=False))\n",
        "model.add(Dense(1, activation='sigmoid'))\n",
        "\n",
        "model.summary()"
      ],
      "metadata": {
        "colab": {
          "base_uri": "https://localhost:8080/"
        },
        "id": "M9Aa-ElYv_1K",
        "outputId": "072d5f75-57bb-482a-a664-f5bb1081033e"
      },
      "execution_count": 15,
      "outputs": [
        {
          "output_type": "stream",
          "name": "stdout",
          "text": [
            "Model: \"sequential_3\"\n",
            "_________________________________________________________________\n",
            " Layer (type)                Output Shape              Param #   \n",
            "=================================================================\n",
            " embedding_3 (Embedding)     (None, 100, 2)            20000     \n",
            "                                                                 \n",
            " simple_rnn_3 (SimpleRNN)    (None, 32)                1120      \n",
            "                                                                 \n",
            " dense_3 (Dense)             (None, 1)                 33        \n",
            "                                                                 \n",
            "=================================================================\n",
            "Total params: 21153 (82.63 KB)\n",
            "Trainable params: 21153 (82.63 KB)\n",
            "Non-trainable params: 0 (0.00 Byte)\n",
            "_________________________________________________________________\n"
          ]
        }
      ]
    },
    {
      "cell_type": "code",
      "source": [
        "# compiling and fitting the model\n",
        "model.compile(optimizer='adam',\n",
        "              loss='binary_crossentropy',\n",
        "              metrics=['acc'])\n",
        "\n",
        "history= model.fit(x_train, y_train, epochs=5, validation_data=(x_test, y_test))"
      ],
      "metadata": {
        "colab": {
          "base_uri": "https://localhost:8080/"
        },
        "id": "AfmAtb2h3Qka",
        "outputId": "3ace25a7-f775-47d0-d9c5-b09b55f273fc"
      },
      "execution_count": 16,
      "outputs": [
        {
          "output_type": "stream",
          "name": "stdout",
          "text": [
            "Epoch 1/5\n",
            "782/782 [==============================] - 117s 147ms/step - loss: 0.6867 - acc: 0.5396 - val_loss: 0.6662 - val_acc: 0.5868\n",
            "Epoch 2/5\n",
            "782/782 [==============================] - 82s 105ms/step - loss: 0.5483 - acc: 0.7186 - val_loss: 0.4731 - val_acc: 0.7927\n",
            "Epoch 3/5\n",
            "782/782 [==============================] - 81s 103ms/step - loss: 0.3977 - acc: 0.8255 - val_loss: 0.4145 - val_acc: 0.8271\n",
            "Epoch 4/5\n",
            "782/782 [==============================] - 82s 105ms/step - loss: 0.3031 - acc: 0.8784 - val_loss: 0.4476 - val_acc: 0.8292\n",
            "Epoch 5/5\n",
            "782/782 [==============================] - 79s 101ms/step - loss: 0.2673 - acc: 0.8969 - val_loss: 0.4412 - val_acc: 0.8088\n"
          ]
        }
      ]
    },
    {
      "cell_type": "code",
      "source": [
        "\n"
      ],
      "metadata": {
        "id": "pz_h2gSo4hrm"
      },
      "execution_count": null,
      "outputs": []
    }
  ]
}
{
  "nbformat": 4,
  "nbformat_minor": 0,
  "metadata": {
    "colab": {
      "provenance": [],
      "authorship_tag": "ABX9TyOCIIBMkyApo9Gp2lXqQzER",
      "include_colab_link": true
    },
    "kernelspec": {
      "name": "python3",
      "display_name": "Python 3"
    },
    "language_info": {
      "name": "python"
    }
  },
  "cells": [
    {
      "cell_type": "markdown",
      "metadata": {
        "id": "view-in-github",
        "colab_type": "text"
      },
      "source": [
        "<a href=\"https://colab.research.google.com/github/sanhiitaa/100-days-of-deep-learning/blob/main/backpropogation_classification_from_scratch.ipynb\" target=\"_parent\"><img src=\"https://colab.research.google.com/assets/colab-badge.svg\" alt=\"Open In Colab\"/></a>"
      ]
    },
    {
      "cell_type": "code",
      "execution_count": 1,
      "metadata": {
        "id": "tX3YBMisdQgC"
      },
      "outputs": [],
      "source": [
        "import numpy as np\n",
        "import pandas as pd"
      ]
    },
    {
      "cell_type": "code",
      "source": [
        "df = pd.DataFrame([[8,8,1],[7,9,1],[6,10,0],[5,5,0]], columns=['cgpa', 'profile_score', 'placed'])"
      ],
      "metadata": {
        "id": "K2iEFU-GddGA"
      },
      "execution_count": 2,
      "outputs": []
    },
    {
      "cell_type": "code",
      "source": [
        "df.head()"
      ],
      "metadata": {
        "colab": {
          "base_uri": "https://localhost:8080/",
          "height": 175
        },
        "id": "3NNS9MXidfuL",
        "outputId": "cd082594-c46b-4f00-aa37-aaa331641166"
      },
      "execution_count": 3,
      "outputs": [
        {
          "output_type": "execute_result",
          "data": {
            "text/plain": [
              "   cgpa  profile_score  placed\n",
              "0     8              8       1\n",
              "1     7              9       1\n",
              "2     6             10       0\n",
              "3     5              5       0"
            ],
            "text/html": [
              "\n",
              "  <div id=\"df-5e1dcc76-2ba9-4493-a8dc-c7c477924920\" class=\"colab-df-container\">\n",
              "    <div>\n",
              "<style scoped>\n",
              "    .dataframe tbody tr th:only-of-type {\n",
              "        vertical-align: middle;\n",
              "    }\n",
              "\n",
              "    .dataframe tbody tr th {\n",
              "        vertical-align: top;\n",
              "    }\n",
              "\n",
              "    .dataframe thead th {\n",
              "        text-align: right;\n",
              "    }\n",
              "</style>\n",
              "<table border=\"1\" class=\"dataframe\">\n",
              "  <thead>\n",
              "    <tr style=\"text-align: right;\">\n",
              "      <th></th>\n",
              "      <th>cgpa</th>\n",
              "      <th>profile_score</th>\n",
              "      <th>placed</th>\n",
              "    </tr>\n",
              "  </thead>\n",
              "  <tbody>\n",
              "    <tr>\n",
              "      <th>0</th>\n",
              "      <td>8</td>\n",
              "      <td>8</td>\n",
              "      <td>1</td>\n",
              "    </tr>\n",
              "    <tr>\n",
              "      <th>1</th>\n",
              "      <td>7</td>\n",
              "      <td>9</td>\n",
              "      <td>1</td>\n",
              "    </tr>\n",
              "    <tr>\n",
              "      <th>2</th>\n",
              "      <td>6</td>\n",
              "      <td>10</td>\n",
              "      <td>0</td>\n",
              "    </tr>\n",
              "    <tr>\n",
              "      <th>3</th>\n",
              "      <td>5</td>\n",
              "      <td>5</td>\n",
              "      <td>0</td>\n",
              "    </tr>\n",
              "  </tbody>\n",
              "</table>\n",
              "</div>\n",
              "    <div class=\"colab-df-buttons\">\n",
              "\n",
              "  <div class=\"colab-df-container\">\n",
              "    <button class=\"colab-df-convert\" onclick=\"convertToInteractive('df-5e1dcc76-2ba9-4493-a8dc-c7c477924920')\"\n",
              "            title=\"Convert this dataframe to an interactive table.\"\n",
              "            style=\"display:none;\">\n",
              "\n",
              "  <svg xmlns=\"http://www.w3.org/2000/svg\" height=\"24px\" viewBox=\"0 -960 960 960\">\n",
              "    <path d=\"M120-120v-720h720v720H120Zm60-500h600v-160H180v160Zm220 220h160v-160H400v160Zm0 220h160v-160H400v160ZM180-400h160v-160H180v160Zm440 0h160v-160H620v160ZM180-180h160v-160H180v160Zm440 0h160v-160H620v160Z\"/>\n",
              "  </svg>\n",
              "    </button>\n",
              "\n",
              "  <style>\n",
              "    .colab-df-container {\n",
              "      display:flex;\n",
              "      gap: 12px;\n",
              "    }\n",
              "\n",
              "    .colab-df-convert {\n",
              "      background-color: #E8F0FE;\n",
              "      border: none;\n",
              "      border-radius: 50%;\n",
              "      cursor: pointer;\n",
              "      display: none;\n",
              "      fill: #1967D2;\n",
              "      height: 32px;\n",
              "      padding: 0 0 0 0;\n",
              "      width: 32px;\n",
              "    }\n",
              "\n",
              "    .colab-df-convert:hover {\n",
              "      background-color: #E2EBFA;\n",
              "      box-shadow: 0px 1px 2px rgba(60, 64, 67, 0.3), 0px 1px 3px 1px rgba(60, 64, 67, 0.15);\n",
              "      fill: #174EA6;\n",
              "    }\n",
              "\n",
              "    .colab-df-buttons div {\n",
              "      margin-bottom: 4px;\n",
              "    }\n",
              "\n",
              "    [theme=dark] .colab-df-convert {\n",
              "      background-color: #3B4455;\n",
              "      fill: #D2E3FC;\n",
              "    }\n",
              "\n",
              "    [theme=dark] .colab-df-convert:hover {\n",
              "      background-color: #434B5C;\n",
              "      box-shadow: 0px 1px 3px 1px rgba(0, 0, 0, 0.15);\n",
              "      filter: drop-shadow(0px 1px 2px rgba(0, 0, 0, 0.3));\n",
              "      fill: #FFFFFF;\n",
              "    }\n",
              "  </style>\n",
              "\n",
              "    <script>\n",
              "      const buttonEl =\n",
              "        document.querySelector('#df-5e1dcc76-2ba9-4493-a8dc-c7c477924920 button.colab-df-convert');\n",
              "      buttonEl.style.display =\n",
              "        google.colab.kernel.accessAllowed ? 'block' : 'none';\n",
              "\n",
              "      async function convertToInteractive(key) {\n",
              "        const element = document.querySelector('#df-5e1dcc76-2ba9-4493-a8dc-c7c477924920');\n",
              "        const dataTable =\n",
              "          await google.colab.kernel.invokeFunction('convertToInteractive',\n",
              "                                                    [key], {});\n",
              "        if (!dataTable) return;\n",
              "\n",
              "        const docLinkHtml = 'Like what you see? Visit the ' +\n",
              "          '<a target=\"_blank\" href=https://colab.research.google.com/notebooks/data_table.ipynb>data table notebook</a>'\n",
              "          + ' to learn more about interactive tables.';\n",
              "        element.innerHTML = '';\n",
              "        dataTable['output_type'] = 'display_data';\n",
              "        await google.colab.output.renderOutput(dataTable, element);\n",
              "        const docLink = document.createElement('div');\n",
              "        docLink.innerHTML = docLinkHtml;\n",
              "        element.appendChild(docLink);\n",
              "      }\n",
              "    </script>\n",
              "  </div>\n",
              "\n",
              "\n",
              "<div id=\"df-9c8dc6ed-93b6-4e47-a8b9-03b2f33147f6\">\n",
              "  <button class=\"colab-df-quickchart\" onclick=\"quickchart('df-9c8dc6ed-93b6-4e47-a8b9-03b2f33147f6')\"\n",
              "            title=\"Suggest charts\"\n",
              "            style=\"display:none;\">\n",
              "\n",
              "<svg xmlns=\"http://www.w3.org/2000/svg\" height=\"24px\"viewBox=\"0 0 24 24\"\n",
              "     width=\"24px\">\n",
              "    <g>\n",
              "        <path d=\"M19 3H5c-1.1 0-2 .9-2 2v14c0 1.1.9 2 2 2h14c1.1 0 2-.9 2-2V5c0-1.1-.9-2-2-2zM9 17H7v-7h2v7zm4 0h-2V7h2v10zm4 0h-2v-4h2v4z\"/>\n",
              "    </g>\n",
              "</svg>\n",
              "  </button>\n",
              "\n",
              "<style>\n",
              "  .colab-df-quickchart {\n",
              "      --bg-color: #E8F0FE;\n",
              "      --fill-color: #1967D2;\n",
              "      --hover-bg-color: #E2EBFA;\n",
              "      --hover-fill-color: #174EA6;\n",
              "      --disabled-fill-color: #AAA;\n",
              "      --disabled-bg-color: #DDD;\n",
              "  }\n",
              "\n",
              "  [theme=dark] .colab-df-quickchart {\n",
              "      --bg-color: #3B4455;\n",
              "      --fill-color: #D2E3FC;\n",
              "      --hover-bg-color: #434B5C;\n",
              "      --hover-fill-color: #FFFFFF;\n",
              "      --disabled-bg-color: #3B4455;\n",
              "      --disabled-fill-color: #666;\n",
              "  }\n",
              "\n",
              "  .colab-df-quickchart {\n",
              "    background-color: var(--bg-color);\n",
              "    border: none;\n",
              "    border-radius: 50%;\n",
              "    cursor: pointer;\n",
              "    display: none;\n",
              "    fill: var(--fill-color);\n",
              "    height: 32px;\n",
              "    padding: 0;\n",
              "    width: 32px;\n",
              "  }\n",
              "\n",
              "  .colab-df-quickchart:hover {\n",
              "    background-color: var(--hover-bg-color);\n",
              "    box-shadow: 0 1px 2px rgba(60, 64, 67, 0.3), 0 1px 3px 1px rgba(60, 64, 67, 0.15);\n",
              "    fill: var(--button-hover-fill-color);\n",
              "  }\n",
              "\n",
              "  .colab-df-quickchart-complete:disabled,\n",
              "  .colab-df-quickchart-complete:disabled:hover {\n",
              "    background-color: var(--disabled-bg-color);\n",
              "    fill: var(--disabled-fill-color);\n",
              "    box-shadow: none;\n",
              "  }\n",
              "\n",
              "  .colab-df-spinner {\n",
              "    border: 2px solid var(--fill-color);\n",
              "    border-color: transparent;\n",
              "    border-bottom-color: var(--fill-color);\n",
              "    animation:\n",
              "      spin 1s steps(1) infinite;\n",
              "  }\n",
              "\n",
              "  @keyframes spin {\n",
              "    0% {\n",
              "      border-color: transparent;\n",
              "      border-bottom-color: var(--fill-color);\n",
              "      border-left-color: var(--fill-color);\n",
              "    }\n",
              "    20% {\n",
              "      border-color: transparent;\n",
              "      border-left-color: var(--fill-color);\n",
              "      border-top-color: var(--fill-color);\n",
              "    }\n",
              "    30% {\n",
              "      border-color: transparent;\n",
              "      border-left-color: var(--fill-color);\n",
              "      border-top-color: var(--fill-color);\n",
              "      border-right-color: var(--fill-color);\n",
              "    }\n",
              "    40% {\n",
              "      border-color: transparent;\n",
              "      border-right-color: var(--fill-color);\n",
              "      border-top-color: var(--fill-color);\n",
              "    }\n",
              "    60% {\n",
              "      border-color: transparent;\n",
              "      border-right-color: var(--fill-color);\n",
              "    }\n",
              "    80% {\n",
              "      border-color: transparent;\n",
              "      border-right-color: var(--fill-color);\n",
              "      border-bottom-color: var(--fill-color);\n",
              "    }\n",
              "    90% {\n",
              "      border-color: transparent;\n",
              "      border-bottom-color: var(--fill-color);\n",
              "    }\n",
              "  }\n",
              "</style>\n",
              "\n",
              "  <script>\n",
              "    async function quickchart(key) {\n",
              "      const quickchartButtonEl =\n",
              "        document.querySelector('#' + key + ' button');\n",
              "      quickchartButtonEl.disabled = true;  // To prevent multiple clicks.\n",
              "      quickchartButtonEl.classList.add('colab-df-spinner');\n",
              "      try {\n",
              "        const charts = await google.colab.kernel.invokeFunction(\n",
              "            'suggestCharts', [key], {});\n",
              "      } catch (error) {\n",
              "        console.error('Error during call to suggestCharts:', error);\n",
              "      }\n",
              "      quickchartButtonEl.classList.remove('colab-df-spinner');\n",
              "      quickchartButtonEl.classList.add('colab-df-quickchart-complete');\n",
              "    }\n",
              "    (() => {\n",
              "      let quickchartButtonEl =\n",
              "        document.querySelector('#df-9c8dc6ed-93b6-4e47-a8b9-03b2f33147f6 button');\n",
              "      quickchartButtonEl.style.display =\n",
              "        google.colab.kernel.accessAllowed ? 'block' : 'none';\n",
              "    })();\n",
              "  </script>\n",
              "</div>\n",
              "\n",
              "    </div>\n",
              "  </div>\n"
            ]
          },
          "metadata": {},
          "execution_count": 3
        }
      ]
    },
    {
      "cell_type": "code",
      "source": [
        "def init_parameter(layer_dimensions):\n",
        "\n",
        "  np.random.seed(3)\n",
        "  parameters={}\n",
        "  L=len(layer_dimensions)\n",
        "\n",
        "  for l in range(1,L):\n",
        "    parameters['w'+ str(l)]= np.ones((layer_dimensions[l-1],layer_dimensions[l]))*0.1\n",
        "    parameters['b'+ str(l)]= np.zeros((layer_dimensions[l],1))\n",
        "\n",
        "  return parameters\n"
      ],
      "metadata": {
        "id": "y9R6Or0UdiGX"
      },
      "execution_count": 4,
      "outputs": []
    },
    {
      "cell_type": "code",
      "source": [
        "# sigmoid utility function\n",
        "def sigmoid(z):\n",
        "  A= 1/(1+np.exp(-z))\n",
        "\n",
        "  return A"
      ],
      "metadata": {
        "id": "X_BWtCTv4bq1"
      },
      "execution_count": 5,
      "outputs": []
    },
    {
      "cell_type": "code",
      "source": [
        "# linear forward function/ node\n",
        "def linear_forward(A_prev, W, b):\n",
        "  z= np.dot(W.T, A_prev) + b\n",
        "  A=sigmoid(z)\n",
        "\n",
        "  return A"
      ],
      "metadata": {
        "id": "bUUKJpe05MxJ"
      },
      "execution_count": 6,
      "outputs": []
    },
    {
      "cell_type": "code",
      "source": [
        "# forward propogation\n",
        "def forward_prop(X, parameters):\n",
        "\n",
        "  A=X\n",
        "  L=len(parameters)//2\n",
        "\n",
        "  for l in range(1, L+1):\n",
        "    A_prev=A\n",
        "    w= parameters['w'+str(l)]\n",
        "    b= parameters['b'+str(l)]\n",
        "\n",
        "    A= linear_forward(A_prev, w, b)\n",
        "\n",
        "  return A, A_prev"
      ],
      "metadata": {
        "id": "3pkDRCdr5O40"
      },
      "execution_count": 7,
      "outputs": []
    },
    {
      "cell_type": "code",
      "source": [
        "def update_parameters(parameters, y, y_hat, A1, X, lr=0.0001):\n",
        "\n",
        "  # layer 2\n",
        "  parameters['w2'][0][0]= parameters['w2'][0][0] + (lr*(y-y_hat)*A1[0][0])\n",
        "  parameters['w2'][1][0]= parameters['w2'][1][0] + (lr*(y-y_hat)*A1[1][0])\n",
        "  parameters['b2'][0][0]= parameters['b2'][0][0] + (lr*(y-y_hat))\n",
        "\n",
        "  # layer 1\n",
        "  parameters['w1'][0][0]= parameters['w1'][0][0]+ (lr*(y-y_hat)*parameters['w2'][0][0]*A1[0][0]*(1-A1[0][0])*X[0][0])\n",
        "  parameters['w1'][0][1]= parameters['w1'][0][1]+ (lr*(y-y_hat)*parameters['w2'][0][0]*A1[0][0]*(1-A1[0][0])*X[1][0])\n",
        "  parameters['b1'][0][0]= parameters['b1'][0][0]+ (lr*(y-y_hat)*parameters['w2'][0][0]*A1[0][0]*(1-A1[0][0]))\n",
        "\n",
        "  # layer zero\n",
        "  parameters['w1'][1][0]= parameters['w1'][1][0]+ (lr*(y-y_hat)*parameters['w2'][1][0]*A1[1][0]*(1-A1[1][0])*X[0][0])\n",
        "  parameters['w1'][1][1]= parameters['w1'][1][1]+ (lr*(y-y_hat)*parameters['w2'][1][0]*A1[1][0]*(1-A1[1][0])*X[1][0])\n",
        "  parameters['b1'][1][0]= parameters['b1'][1][0]+ (lr*(y-y_hat)*parameters['w2'][1][0]*A1[1][0]*(1-A1[1][0]))\n",
        "\n"
      ],
      "metadata": {
        "id": "KxHQeWl4Avor"
      },
      "execution_count": 8,
      "outputs": []
    },
    {
      "cell_type": "code",
      "source": [
        "X = df[['cgpa', 'profile_score']].values[0].reshape(2,1) # Shape(no of features, no. of training example)\n",
        "y = df[['placed']].values[0][0]\n",
        "\n",
        "# Parameter initialization\n",
        "parameters = init_parameter([2,2,1])\n",
        "\n",
        "y_hat,A1 = forward_prop(X,parameters)\n",
        "y_hat = y_hat[0][0]\n",
        "\n",
        "update_parameters(parameters,y,y_hat,A1,X)\n",
        "\n",
        "print('Loss for this student - ',-y*np.log(y_hat) - (1-y)*np.log(1-y_hat))\n",
        "\n",
        "parameters"
      ],
      "metadata": {
        "colab": {
          "base_uri": "https://localhost:8080/"
        },
        "id": "MbM-4zHEPoH8",
        "outputId": "1fd795a8-017b-4ec2-c63d-42ec2d337168"
      },
      "execution_count": 9,
      "outputs": [
        {
          "output_type": "stream",
          "name": "stdout",
          "text": [
            "Loss for this student -  0.613402628898913\n"
          ]
        },
        {
          "output_type": "execute_result",
          "data": {
            "text/plain": [
              "{'w1': array([[0.10000513, 0.10000513],\n",
              "        [0.10000513, 0.10000513]]),\n",
              " 'b1': array([[6.41054186e-07],\n",
              "        [6.41054186e-07]]),\n",
              " 'w2': array([[0.10003815],\n",
              "        [0.10003815]]),\n",
              " 'b2': array([[4.5849481e-05]])}"
            ]
          },
          "metadata": {},
          "execution_count": 9
        }
      ]
    },
    {
      "cell_type": "code",
      "source": [
        "X = df[['cgpa', 'profile_score']].values[1].reshape(2,1) # Shape(no of features, no. of training example)\n",
        "y = df[['placed']].values[1][0]\n",
        "\n",
        "y_hat,A1 = forward_prop(X,parameters)\n",
        "y_hat = y_hat[0][0]\n",
        "\n",
        "update_parameters(parameters,y,y_hat,A1,X)\n",
        "\n",
        "print('Loss for this student - ',-y*np.log(y_hat) - (1-y)*np.log(1-y_hat))\n",
        "\n",
        "parameters"
      ],
      "metadata": {
        "colab": {
          "base_uri": "https://localhost:8080/"
        },
        "id": "YLELvLyfPydH",
        "outputId": "c151545b-5bd6-4c51-cace-aa809352415d"
      },
      "execution_count": 10,
      "outputs": [
        {
          "output_type": "stream",
          "name": "stdout",
          "text": [
            "Loss for this student -  0.6133514436691428\n"
          ]
        },
        {
          "output_type": "execute_result",
          "data": {
            "text/plain": [
              "{'w1': array([[0.10000962, 0.1000109 ],\n",
              "        [0.10000962, 0.1000109 ]]),\n",
              " 'b1': array([[1.28227883e-06],\n",
              "        [1.28227883e-06]]),\n",
              " 'w2': array([[0.10007629],\n",
              "        [0.10007629]]),\n",
              " 'b2': array([[9.16961903e-05]])}"
            ]
          },
          "metadata": {},
          "execution_count": 10
        }
      ]
    },
    {
      "cell_type": "code",
      "source": [
        "X = df[['cgpa', 'profile_score']].values[2].reshape(2,1) # Shape(no of features, no. of training example)\n",
        "y = df[['placed']].values[2][0]\n",
        "\n",
        "y_hat,A1 = forward_prop(X,parameters)\n",
        "y_hat = y_hat[0][0]\n",
        "\n",
        "update_parameters(parameters,y,y_hat,A1,X)\n",
        "\n",
        "print('Loss for this student - ',-y*np.log(y_hat) - (1-y)*np.log(1-y_hat))\n",
        "\n",
        "parameters"
      ],
      "metadata": {
        "colab": {
          "base_uri": "https://localhost:8080/"
        },
        "id": "jB9GJhfSQ4JA",
        "outputId": "8b26a545-61eb-4497-d073-12006c1cd14b"
      },
      "execution_count": 11,
      "outputs": [
        {
          "output_type": "stream",
          "name": "stdout",
          "text": [
            "Loss for this student -  0.7799272184937318\n"
          ]
        },
        {
          "output_type": "execute_result",
          "data": {
            "text/plain": [
              "{'w1': array([[0.10000507, 0.10000333],\n",
              "        [0.10000507, 0.10000333]]),\n",
              " 'b1': array([[5.25214767e-07],\n",
              "        [5.25225084e-07]]),\n",
              " 'w2': array([[0.10003123],\n",
              "        [0.10003123]]),\n",
              " 'b2': array([[3.75401279e-05]])}"
            ]
          },
          "metadata": {},
          "execution_count": 11
        }
      ]
    },
    {
      "cell_type": "code",
      "source": [
        "X = df[['cgpa', 'profile_score']].values[1].reshape(2,1) # Shape(no of features, no. of training example)\n",
        "y = df[['placed']].values[3][0]\n",
        "\n",
        "y_hat,A1 = forward_prop(X,parameters)\n",
        "y_hat = y_hat[0][0]\n",
        "\n",
        "update_parameters(parameters,y,y_hat,A1,X)\n",
        "\n",
        "print('Loss for this student - ',-y*np.log(y_hat) - (1-y)*np.log(1-y_hat))\n",
        "\n",
        "parameters"
      ],
      "metadata": {
        "colab": {
          "base_uri": "https://localhost:8080/"
        },
        "id": "xOq0tUhTREh1",
        "outputId": "497027b7-7576-444d-9ca6-1fa610e333fc"
      },
      "execution_count": 12,
      "outputs": [
        {
          "output_type": "stream",
          "name": "stdout",
          "text": [
            "Loss for this student -  0.7798558048808217\n"
          ]
        },
        {
          "output_type": "execute_result",
          "data": {
            "text/plain": [
              "{'w1': array([[0.09999978, 0.09999652],\n",
              "        [0.09999978, 0.09999652]]),\n",
              " 'b1': array([[-2.3149945e-07],\n",
              "        [-2.3150317e-07]]),\n",
              " 'w2': array([[0.09998618],\n",
              "        [0.09998618]]),\n",
              " 'b2': array([[-1.66126605e-05]])}"
            ]
          },
          "metadata": {},
          "execution_count": 12
        }
      ]
    },
    {
      "cell_type": "code",
      "source": [
        "# epochs implementation\n",
        "\n",
        "parameters = init_parameter([2,2,1])\n",
        "epochs = 50\n",
        "\n",
        "for i in range(epochs):\n",
        "\n",
        "  Loss = []\n",
        "\n",
        "  for j in range(df.shape[0]):\n",
        "\n",
        "    X = df[['cgpa', 'profile_score']].values[j].reshape(2,1) # Shape(no of features, no. of training example)\n",
        "    y = df[['placed']].values[j][0]\n",
        "\n",
        "    # Parameter initialization\n",
        "\n",
        "\n",
        "    y_hat,A1 = forward_prop(X,parameters)\n",
        "    y_hat = y_hat[0][0]\n",
        "\n",
        "    update_parameters(parameters,y,y_hat,A1,X)\n",
        "\n",
        "    Loss.append(-y*np.log(y_hat) - (1-y)*np.log(1-y_hat))\n",
        "\n",
        "  print('Epoch - ',i+1,'Loss - ',np.array(Loss).mean())\n",
        "\n",
        "parameters"
      ],
      "metadata": {
        "colab": {
          "base_uri": "https://localhost:8080/"
        },
        "id": "DQz0EvRCUqV2",
        "outputId": "b3e58a70-2d23-47fe-d128-e072a0ac1e0c"
      },
      "execution_count": 13,
      "outputs": [
        {
          "output_type": "stream",
          "name": "stdout",
          "text": [
            "Epoch -  1 Loss -  0.6939124309994983\n",
            "Epoch -  2 Loss -  0.6939114509742006\n",
            "Epoch -  3 Loss -  0.6939104713855384\n",
            "Epoch -  4 Loss -  0.6939094922333021\n",
            "Epoch -  5 Loss -  0.6939085135172819\n",
            "Epoch -  6 Loss -  0.6939075352372682\n",
            "Epoch -  7 Loss -  0.6939065573930516\n",
            "Epoch -  8 Loss -  0.6939055799844227\n",
            "Epoch -  9 Loss -  0.6939046030111722\n",
            "Epoch -  10 Loss -  0.693903626473091\n",
            "Epoch -  11 Loss -  0.6939026503699699\n",
            "Epoch -  12 Loss -  0.6939016747016002\n",
            "Epoch -  13 Loss -  0.6939006994677729\n",
            "Epoch -  14 Loss -  0.6938997246682792\n",
            "Epoch -  15 Loss -  0.6938987503029107\n",
            "Epoch -  16 Loss -  0.6938977763714584\n",
            "Epoch -  17 Loss -  0.6938968028737142\n",
            "Epoch -  18 Loss -  0.6938958298094697\n",
            "Epoch -  19 Loss -  0.6938948571785166\n",
            "Epoch -  20 Loss -  0.6938938849806471\n",
            "Epoch -  21 Loss -  0.6938929132156526\n",
            "Epoch -  22 Loss -  0.6938919418833256\n",
            "Epoch -  23 Loss -  0.693890970983458\n",
            "Epoch -  24 Loss -  0.6938900005158424\n",
            "Epoch -  25 Loss -  0.6938890304802711\n",
            "Epoch -  26 Loss -  0.6938880608765363\n",
            "Epoch -  27 Loss -  0.6938870917044309\n",
            "Epoch -  28 Loss -  0.6938861229637474\n",
            "Epoch -  29 Loss -  0.6938851546542789\n",
            "Epoch -  30 Loss -  0.6938841867758179\n",
            "Epoch -  31 Loss -  0.6938832193281578\n",
            "Epoch -  32 Loss -  0.6938822523110912\n",
            "Epoch -  33 Loss -  0.6938812857244119\n",
            "Epoch -  34 Loss -  0.6938803195679129\n",
            "Epoch -  35 Loss -  0.6938793538413873\n",
            "Epoch -  36 Loss -  0.6938783885446289\n",
            "Epoch -  37 Loss -  0.6938774236774317\n",
            "Epoch -  38 Loss -  0.693876459239589\n",
            "Epoch -  39 Loss -  0.6938754952308946\n",
            "Epoch -  40 Loss -  0.6938745316511425\n",
            "Epoch -  41 Loss -  0.6938735685001267\n",
            "Epoch -  42 Loss -  0.6938726057776414\n",
            "Epoch -  43 Loss -  0.6938716434834808\n",
            "Epoch -  44 Loss -  0.6938706816174391\n",
            "Epoch -  45 Loss -  0.693869720179311\n",
            "Epoch -  46 Loss -  0.6938687591688908\n",
            "Epoch -  47 Loss -  0.6938677985859731\n",
            "Epoch -  48 Loss -  0.693866838430353\n",
            "Epoch -  49 Loss -  0.6938658787018248\n",
            "Epoch -  50 Loss -  0.6938649194001839\n"
          ]
        },
        {
          "output_type": "execute_result",
          "data": {
            "text/plain": [
              "{'w1': array([[0.09999042, 0.09990338],\n",
              "        [0.09999049, 0.0999034 ]]),\n",
              " 'b1': array([[-2.63694652e-05],\n",
              "        [-2.63678488e-05]]),\n",
              " 'w2': array([[0.09960344],\n",
              "        [0.09960349]]),\n",
              " 'b2': array([[-0.00080196]])}"
            ]
          },
          "metadata": {},
          "execution_count": 13
        }
      ]
    },
    {
      "cell_type": "code",
      "source": [],
      "metadata": {
        "id": "jYJIDD7iU8yC"
      },
      "execution_count": 13,
      "outputs": []
    }
  ]
}
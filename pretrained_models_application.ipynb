{
  "nbformat": 4,
  "nbformat_minor": 0,
  "metadata": {
    "colab": {
      "provenance": [],
      "authorship_tag": "ABX9TyMxK1W32VUklwzdue+Io5F+",
      "include_colab_link": true
    },
    "kernelspec": {
      "name": "python3",
      "display_name": "Python 3"
    },
    "language_info": {
      "name": "python"
    }
  },
  "cells": [
    {
      "cell_type": "markdown",
      "metadata": {
        "id": "view-in-github",
        "colab_type": "text"
      },
      "source": [
        "<a href=\"https://colab.research.google.com/github/sanhiitaa/100-days-of-deep-learning/blob/main/pretrained_models_application.ipynb\" target=\"_parent\"><img src=\"https://colab.research.google.com/assets/colab-badge.svg\" alt=\"Open In Colab\"/></a>"
      ]
    },
    {
      "cell_type": "code",
      "execution_count": 1,
      "metadata": {
        "id": "i2Bd1VPz8aNN"
      },
      "outputs": [],
      "source": [
        "# importing the model - ResNet\n",
        "from tensorflow.keras.applications.resnet50 import ResNet50\n",
        "from tensorflow.keras.applications.resnet50 import preprocess_input, decode_predictions\n",
        "from tensorflow.keras.preprocessing import image\n",
        "import numpy as np"
      ]
    },
    {
      "cell_type": "code",
      "source": [
        "# creating an instance of the model\n",
        "model=ResNet50(weights='imagenet')"
      ],
      "metadata": {
        "colab": {
          "base_uri": "https://localhost:8080/"
        },
        "id": "aqdJuun190A4",
        "outputId": "04d22562-6d77-4154-e54e-1247f9168ec9"
      },
      "execution_count": 2,
      "outputs": [
        {
          "output_type": "stream",
          "name": "stdout",
          "text": [
            "Downloading data from https://storage.googleapis.com/tensorflow/keras-applications/resnet/resnet50_weights_tf_dim_ordering_tf_kernels.h5\n",
            "102967424/102967424 [==============================] - 3s 0us/step\n"
          ]
        }
      ]
    },
    {
      "cell_type": "code",
      "source": [
        "# loading and preprocessing the image\n",
        "img_path='/content/redpanda.jpg'\n",
        "img=image.load_img(img_path, target_size=(224,224))\n",
        "x= image.img_to_array(img) # convert image to array form\n",
        "x=np.expand_dims(x, axis=0) # expand its dimensions to make it model friendly\n",
        "x=preprocess_input(x) # preprocess the image - rescaling, normalization etc."
      ],
      "metadata": {
        "id": "jYGD3u3996_V"
      },
      "execution_count": 3,
      "outputs": []
    },
    {
      "cell_type": "markdown",
      "source": [
        "Rescaling adjusts the range of values of a variable, while normalization adjusts the distribution and magnitude of the values to make them more suitable for model training or inference."
      ],
      "metadata": {
        "id": "p1m4eWh0Fbap"
      }
    },
    {
      "cell_type": "code",
      "source": [
        "# predicting and decoding the model output\n",
        "pred = model.predict(x)\n",
        "print('predicted: ', decode_predictions(pred, top=5)[0])"
      ],
      "metadata": {
        "colab": {
          "base_uri": "https://localhost:8080/"
        },
        "id": "WNTsxesj-4H_",
        "outputId": "ee73ccb1-1b53-46f2-c09b-98d32d2b08d9"
      },
      "execution_count": 4,
      "outputs": [
        {
          "output_type": "stream",
          "name": "stdout",
          "text": [
            "1/1 [==============================] - 2s 2s/step\n",
            "Downloading data from https://storage.googleapis.com/download.tensorflow.org/data/imagenet_class_index.json\n",
            "35363/35363 [==============================] - 0s 0us/step\n",
            "predicted:  [('n02509815', 'lesser_panda', 0.999358), ('n02510455', 'giant_panda', 0.00011697893), ('n02132136', 'brown_bear', 0.00011307072), ('n02493509', 'titi', 9.023807e-05), ('n02443114', 'polecat', 6.827089e-05)]\n"
          ]
        }
      ]
    },
    {
      "cell_type": "markdown",
      "source": [
        "Lesser Pandas are also known as red pandas, and herence the prediction is correct."
      ],
      "metadata": {
        "id": "RknHFVeXD5TL"
      }
    }
  ]
}
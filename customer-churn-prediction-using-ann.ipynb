{
 "cells": [
  {
   "cell_type": "code",
   "execution_count": 1,
   "id": "2e043491",
   "metadata": {
    "_cell_guid": "b1076dfc-b9ad-4769-8c92-a6c4dae69d19",
    "_uuid": "8f2839f25d086af736a60e9eeb907d3b93b6e0e5",
    "execution": {
     "iopub.execute_input": "2024-01-22T14:35:30.153728Z",
     "iopub.status.busy": "2024-01-22T14:35:30.153304Z",
     "iopub.status.idle": "2024-01-22T14:35:30.616319Z",
     "shell.execute_reply": "2024-01-22T14:35:30.614421Z"
    },
    "papermill": {
     "duration": 0.474215,
     "end_time": "2024-01-22T14:35:30.619624",
     "exception": false,
     "start_time": "2024-01-22T14:35:30.145409",
     "status": "completed"
    },
    "tags": []
   },
   "outputs": [
    {
     "name": "stdout",
     "output_type": "stream",
     "text": [
      "/kaggle/input/credit-card-customer-churn-prediction/Churn_Modelling.csv\n"
     ]
    }
   ],
   "source": [
    "# This Python 3 environment comes with many helpful analytics libraries installed\n",
    "# It is defined by the kaggle/python Docker image: https://github.com/kaggle/docker-python\n",
    "# For example, here's several helpful packages to load\n",
    "\n",
    "import numpy as np # linear algebra\n",
    "import pandas as pd # data processing, CSV file I/O (e.g. pd.read_csv)\n",
    "\n",
    "# Input data files are available in the read-only \"../input/\" directory\n",
    "# For example, running this (by clicking run or pressing Shift+Enter) will list all files under the input directory\n",
    "\n",
    "import os\n",
    "for dirname, _, filenames in os.walk('/kaggle/input'):\n",
    "    for filename in filenames:\n",
    "        print(os.path.join(dirname, filename))\n",
    "\n",
    "# You can write up to 20GB to the current directory (/kaggle/working/) that gets preserved as output when you create a version using \"Save & Run All\" \n",
    "# You can also write temporary files to /kaggle/temp/, but they won't be saved outside of the current session"
   ]
  },
  {
   "cell_type": "code",
   "execution_count": 2,
   "id": "277d2257",
   "metadata": {
    "execution": {
     "iopub.execute_input": "2024-01-22T14:35:30.635575Z",
     "iopub.status.busy": "2024-01-22T14:35:30.635000Z",
     "iopub.status.idle": "2024-01-22T14:35:30.721006Z",
     "shell.execute_reply": "2024-01-22T14:35:30.718579Z"
    },
    "papermill": {
     "duration": 0.097834,
     "end_time": "2024-01-22T14:35:30.724941",
     "exception": false,
     "start_time": "2024-01-22T14:35:30.627107",
     "status": "completed"
    },
    "tags": []
   },
   "outputs": [],
   "source": [
    "df=pd.read_csv('/kaggle/input/credit-card-customer-churn-prediction/Churn_Modelling.csv')"
   ]
  },
  {
   "cell_type": "code",
   "execution_count": 3,
   "id": "ef412934",
   "metadata": {
    "execution": {
     "iopub.execute_input": "2024-01-22T14:35:30.739378Z",
     "iopub.status.busy": "2024-01-22T14:35:30.738401Z",
     "iopub.status.idle": "2024-01-22T14:35:30.775926Z",
     "shell.execute_reply": "2024-01-22T14:35:30.774524Z"
    },
    "papermill": {
     "duration": 0.048667,
     "end_time": "2024-01-22T14:35:30.779749",
     "exception": false,
     "start_time": "2024-01-22T14:35:30.731082",
     "status": "completed"
    },
    "tags": []
   },
   "outputs": [
    {
     "data": {
      "text/html": [
       "<div>\n",
       "<style scoped>\n",
       "    .dataframe tbody tr th:only-of-type {\n",
       "        vertical-align: middle;\n",
       "    }\n",
       "\n",
       "    .dataframe tbody tr th {\n",
       "        vertical-align: top;\n",
       "    }\n",
       "\n",
       "    .dataframe thead th {\n",
       "        text-align: right;\n",
       "    }\n",
       "</style>\n",
       "<table border=\"1\" class=\"dataframe\">\n",
       "  <thead>\n",
       "    <tr style=\"text-align: right;\">\n",
       "      <th></th>\n",
       "      <th>RowNumber</th>\n",
       "      <th>CustomerId</th>\n",
       "      <th>Surname</th>\n",
       "      <th>CreditScore</th>\n",
       "      <th>Geography</th>\n",
       "      <th>Gender</th>\n",
       "      <th>Age</th>\n",
       "      <th>Tenure</th>\n",
       "      <th>Balance</th>\n",
       "      <th>NumOfProducts</th>\n",
       "      <th>HasCrCard</th>\n",
       "      <th>IsActiveMember</th>\n",
       "      <th>EstimatedSalary</th>\n",
       "      <th>Exited</th>\n",
       "    </tr>\n",
       "  </thead>\n",
       "  <tbody>\n",
       "    <tr>\n",
       "      <th>0</th>\n",
       "      <td>1</td>\n",
       "      <td>15634602</td>\n",
       "      <td>Hargrave</td>\n",
       "      <td>619</td>\n",
       "      <td>France</td>\n",
       "      <td>Female</td>\n",
       "      <td>42</td>\n",
       "      <td>2</td>\n",
       "      <td>0.00</td>\n",
       "      <td>1</td>\n",
       "      <td>1</td>\n",
       "      <td>1</td>\n",
       "      <td>101348.88</td>\n",
       "      <td>1</td>\n",
       "    </tr>\n",
       "    <tr>\n",
       "      <th>1</th>\n",
       "      <td>2</td>\n",
       "      <td>15647311</td>\n",
       "      <td>Hill</td>\n",
       "      <td>608</td>\n",
       "      <td>Spain</td>\n",
       "      <td>Female</td>\n",
       "      <td>41</td>\n",
       "      <td>1</td>\n",
       "      <td>83807.86</td>\n",
       "      <td>1</td>\n",
       "      <td>0</td>\n",
       "      <td>1</td>\n",
       "      <td>112542.58</td>\n",
       "      <td>0</td>\n",
       "    </tr>\n",
       "    <tr>\n",
       "      <th>2</th>\n",
       "      <td>3</td>\n",
       "      <td>15619304</td>\n",
       "      <td>Onio</td>\n",
       "      <td>502</td>\n",
       "      <td>France</td>\n",
       "      <td>Female</td>\n",
       "      <td>42</td>\n",
       "      <td>8</td>\n",
       "      <td>159660.80</td>\n",
       "      <td>3</td>\n",
       "      <td>1</td>\n",
       "      <td>0</td>\n",
       "      <td>113931.57</td>\n",
       "      <td>1</td>\n",
       "    </tr>\n",
       "    <tr>\n",
       "      <th>3</th>\n",
       "      <td>4</td>\n",
       "      <td>15701354</td>\n",
       "      <td>Boni</td>\n",
       "      <td>699</td>\n",
       "      <td>France</td>\n",
       "      <td>Female</td>\n",
       "      <td>39</td>\n",
       "      <td>1</td>\n",
       "      <td>0.00</td>\n",
       "      <td>2</td>\n",
       "      <td>0</td>\n",
       "      <td>0</td>\n",
       "      <td>93826.63</td>\n",
       "      <td>0</td>\n",
       "    </tr>\n",
       "    <tr>\n",
       "      <th>4</th>\n",
       "      <td>5</td>\n",
       "      <td>15737888</td>\n",
       "      <td>Mitchell</td>\n",
       "      <td>850</td>\n",
       "      <td>Spain</td>\n",
       "      <td>Female</td>\n",
       "      <td>43</td>\n",
       "      <td>2</td>\n",
       "      <td>125510.82</td>\n",
       "      <td>1</td>\n",
       "      <td>1</td>\n",
       "      <td>1</td>\n",
       "      <td>79084.10</td>\n",
       "      <td>0</td>\n",
       "    </tr>\n",
       "  </tbody>\n",
       "</table>\n",
       "</div>"
      ],
      "text/plain": [
       "   RowNumber  CustomerId   Surname  CreditScore Geography  Gender  Age  \\\n",
       "0          1    15634602  Hargrave          619    France  Female   42   \n",
       "1          2    15647311      Hill          608     Spain  Female   41   \n",
       "2          3    15619304      Onio          502    France  Female   42   \n",
       "3          4    15701354      Boni          699    France  Female   39   \n",
       "4          5    15737888  Mitchell          850     Spain  Female   43   \n",
       "\n",
       "   Tenure    Balance  NumOfProducts  HasCrCard  IsActiveMember  \\\n",
       "0       2       0.00              1          1               1   \n",
       "1       1   83807.86              1          0               1   \n",
       "2       8  159660.80              3          1               0   \n",
       "3       1       0.00              2          0               0   \n",
       "4       2  125510.82              1          1               1   \n",
       "\n",
       "   EstimatedSalary  Exited  \n",
       "0        101348.88       1  \n",
       "1        112542.58       0  \n",
       "2        113931.57       1  \n",
       "3         93826.63       0  \n",
       "4         79084.10       0  "
      ]
     },
     "execution_count": 3,
     "metadata": {},
     "output_type": "execute_result"
    }
   ],
   "source": [
    "df.head()"
   ]
  },
  {
   "cell_type": "code",
   "execution_count": 4,
   "id": "4e3e05b6",
   "metadata": {
    "execution": {
     "iopub.execute_input": "2024-01-22T14:35:30.793947Z",
     "iopub.status.busy": "2024-01-22T14:35:30.793556Z",
     "iopub.status.idle": "2024-01-22T14:35:30.825370Z",
     "shell.execute_reply": "2024-01-22T14:35:30.824248Z"
    },
    "papermill": {
     "duration": 0.041963,
     "end_time": "2024-01-22T14:35:30.828018",
     "exception": false,
     "start_time": "2024-01-22T14:35:30.786055",
     "status": "completed"
    },
    "tags": []
   },
   "outputs": [
    {
     "name": "stdout",
     "output_type": "stream",
     "text": [
      "<class 'pandas.core.frame.DataFrame'>\n",
      "RangeIndex: 10000 entries, 0 to 9999\n",
      "Data columns (total 14 columns):\n",
      " #   Column           Non-Null Count  Dtype  \n",
      "---  ------           --------------  -----  \n",
      " 0   RowNumber        10000 non-null  int64  \n",
      " 1   CustomerId       10000 non-null  int64  \n",
      " 2   Surname          10000 non-null  object \n",
      " 3   CreditScore      10000 non-null  int64  \n",
      " 4   Geography        10000 non-null  object \n",
      " 5   Gender           10000 non-null  object \n",
      " 6   Age              10000 non-null  int64  \n",
      " 7   Tenure           10000 non-null  int64  \n",
      " 8   Balance          10000 non-null  float64\n",
      " 9   NumOfProducts    10000 non-null  int64  \n",
      " 10  HasCrCard        10000 non-null  int64  \n",
      " 11  IsActiveMember   10000 non-null  int64  \n",
      " 12  EstimatedSalary  10000 non-null  float64\n",
      " 13  Exited           10000 non-null  int64  \n",
      "dtypes: float64(2), int64(9), object(3)\n",
      "memory usage: 1.1+ MB\n"
     ]
    }
   ],
   "source": [
    "df.info()"
   ]
  },
  {
   "cell_type": "code",
   "execution_count": 5,
   "id": "dccff8ef",
   "metadata": {
    "execution": {
     "iopub.execute_input": "2024-01-22T14:35:30.844232Z",
     "iopub.status.busy": "2024-01-22T14:35:30.843110Z",
     "iopub.status.idle": "2024-01-22T14:35:30.861124Z",
     "shell.execute_reply": "2024-01-22T14:35:30.859993Z"
    },
    "papermill": {
     "duration": 0.029385,
     "end_time": "2024-01-22T14:35:30.863585",
     "exception": false,
     "start_time": "2024-01-22T14:35:30.834200",
     "status": "completed"
    },
    "tags": []
   },
   "outputs": [
    {
     "data": {
      "text/plain": [
       "0"
      ]
     },
     "execution_count": 5,
     "metadata": {},
     "output_type": "execute_result"
    }
   ],
   "source": [
    "df.duplicated().sum()"
   ]
  },
  {
   "cell_type": "code",
   "execution_count": 6,
   "id": "65aa0561",
   "metadata": {
    "execution": {
     "iopub.execute_input": "2024-01-22T14:35:30.877909Z",
     "iopub.status.busy": "2024-01-22T14:35:30.877503Z",
     "iopub.status.idle": "2024-01-22T14:35:30.886376Z",
     "shell.execute_reply": "2024-01-22T14:35:30.885583Z"
    },
    "papermill": {
     "duration": 0.018683,
     "end_time": "2024-01-22T14:35:30.888621",
     "exception": false,
     "start_time": "2024-01-22T14:35:30.869938",
     "status": "completed"
    },
    "tags": []
   },
   "outputs": [],
   "source": [
    "df=df.drop(columns=['RowNumber','CustomerId','Surname'])"
   ]
  },
  {
   "cell_type": "code",
   "execution_count": 7,
   "id": "6ce62d20",
   "metadata": {
    "execution": {
     "iopub.execute_input": "2024-01-22T14:35:30.904386Z",
     "iopub.status.busy": "2024-01-22T14:35:30.903505Z",
     "iopub.status.idle": "2024-01-22T14:35:30.918275Z",
     "shell.execute_reply": "2024-01-22T14:35:30.917188Z"
    },
    "papermill": {
     "duration": 0.025547,
     "end_time": "2024-01-22T14:35:30.921056",
     "exception": false,
     "start_time": "2024-01-22T14:35:30.895509",
     "status": "completed"
    },
    "tags": []
   },
   "outputs": [
    {
     "data": {
      "text/html": [
       "<div>\n",
       "<style scoped>\n",
       "    .dataframe tbody tr th:only-of-type {\n",
       "        vertical-align: middle;\n",
       "    }\n",
       "\n",
       "    .dataframe tbody tr th {\n",
       "        vertical-align: top;\n",
       "    }\n",
       "\n",
       "    .dataframe thead th {\n",
       "        text-align: right;\n",
       "    }\n",
       "</style>\n",
       "<table border=\"1\" class=\"dataframe\">\n",
       "  <thead>\n",
       "    <tr style=\"text-align: right;\">\n",
       "      <th></th>\n",
       "      <th>CreditScore</th>\n",
       "      <th>Geography</th>\n",
       "      <th>Gender</th>\n",
       "      <th>Age</th>\n",
       "      <th>Tenure</th>\n",
       "      <th>Balance</th>\n",
       "      <th>NumOfProducts</th>\n",
       "      <th>HasCrCard</th>\n",
       "      <th>IsActiveMember</th>\n",
       "      <th>EstimatedSalary</th>\n",
       "      <th>Exited</th>\n",
       "    </tr>\n",
       "  </thead>\n",
       "  <tbody>\n",
       "    <tr>\n",
       "      <th>0</th>\n",
       "      <td>619</td>\n",
       "      <td>France</td>\n",
       "      <td>Female</td>\n",
       "      <td>42</td>\n",
       "      <td>2</td>\n",
       "      <td>0.00</td>\n",
       "      <td>1</td>\n",
       "      <td>1</td>\n",
       "      <td>1</td>\n",
       "      <td>101348.88</td>\n",
       "      <td>1</td>\n",
       "    </tr>\n",
       "    <tr>\n",
       "      <th>1</th>\n",
       "      <td>608</td>\n",
       "      <td>Spain</td>\n",
       "      <td>Female</td>\n",
       "      <td>41</td>\n",
       "      <td>1</td>\n",
       "      <td>83807.86</td>\n",
       "      <td>1</td>\n",
       "      <td>0</td>\n",
       "      <td>1</td>\n",
       "      <td>112542.58</td>\n",
       "      <td>0</td>\n",
       "    </tr>\n",
       "    <tr>\n",
       "      <th>2</th>\n",
       "      <td>502</td>\n",
       "      <td>France</td>\n",
       "      <td>Female</td>\n",
       "      <td>42</td>\n",
       "      <td>8</td>\n",
       "      <td>159660.80</td>\n",
       "      <td>3</td>\n",
       "      <td>1</td>\n",
       "      <td>0</td>\n",
       "      <td>113931.57</td>\n",
       "      <td>1</td>\n",
       "    </tr>\n",
       "    <tr>\n",
       "      <th>3</th>\n",
       "      <td>699</td>\n",
       "      <td>France</td>\n",
       "      <td>Female</td>\n",
       "      <td>39</td>\n",
       "      <td>1</td>\n",
       "      <td>0.00</td>\n",
       "      <td>2</td>\n",
       "      <td>0</td>\n",
       "      <td>0</td>\n",
       "      <td>93826.63</td>\n",
       "      <td>0</td>\n",
       "    </tr>\n",
       "    <tr>\n",
       "      <th>4</th>\n",
       "      <td>850</td>\n",
       "      <td>Spain</td>\n",
       "      <td>Female</td>\n",
       "      <td>43</td>\n",
       "      <td>2</td>\n",
       "      <td>125510.82</td>\n",
       "      <td>1</td>\n",
       "      <td>1</td>\n",
       "      <td>1</td>\n",
       "      <td>79084.10</td>\n",
       "      <td>0</td>\n",
       "    </tr>\n",
       "  </tbody>\n",
       "</table>\n",
       "</div>"
      ],
      "text/plain": [
       "   CreditScore Geography  Gender  Age  Tenure    Balance  NumOfProducts  \\\n",
       "0          619    France  Female   42       2       0.00              1   \n",
       "1          608     Spain  Female   41       1   83807.86              1   \n",
       "2          502    France  Female   42       8  159660.80              3   \n",
       "3          699    France  Female   39       1       0.00              2   \n",
       "4          850     Spain  Female   43       2  125510.82              1   \n",
       "\n",
       "   HasCrCard  IsActiveMember  EstimatedSalary  Exited  \n",
       "0          1               1        101348.88       1  \n",
       "1          0               1        112542.58       0  \n",
       "2          1               0        113931.57       1  \n",
       "3          0               0         93826.63       0  \n",
       "4          1               1         79084.10       0  "
      ]
     },
     "execution_count": 7,
     "metadata": {},
     "output_type": "execute_result"
    }
   ],
   "source": [
    "df.head()"
   ]
  },
  {
   "cell_type": "code",
   "execution_count": 8,
   "id": "dbd10de8",
   "metadata": {
    "execution": {
     "iopub.execute_input": "2024-01-22T14:35:30.936112Z",
     "iopub.status.busy": "2024-01-22T14:35:30.935720Z",
     "iopub.status.idle": "2024-01-22T14:35:30.944981Z",
     "shell.execute_reply": "2024-01-22T14:35:30.943629Z"
    },
    "papermill": {
     "duration": 0.019176,
     "end_time": "2024-01-22T14:35:30.947095",
     "exception": false,
     "start_time": "2024-01-22T14:35:30.927919",
     "status": "completed"
    },
    "tags": []
   },
   "outputs": [
    {
     "data": {
      "text/plain": [
       "Geography\n",
       "France     5014\n",
       "Germany    2509\n",
       "Spain      2477\n",
       "Name: count, dtype: int64"
      ]
     },
     "execution_count": 8,
     "metadata": {},
     "output_type": "execute_result"
    }
   ],
   "source": [
    "df['Geography'].value_counts()"
   ]
  },
  {
   "cell_type": "code",
   "execution_count": 9,
   "id": "a35ee3cd",
   "metadata": {
    "execution": {
     "iopub.execute_input": "2024-01-22T14:35:30.963490Z",
     "iopub.status.busy": "2024-01-22T14:35:30.962799Z",
     "iopub.status.idle": "2024-01-22T14:35:30.972354Z",
     "shell.execute_reply": "2024-01-22T14:35:30.971270Z"
    },
    "papermill": {
     "duration": 0.019943,
     "end_time": "2024-01-22T14:35:30.974465",
     "exception": false,
     "start_time": "2024-01-22T14:35:30.954522",
     "status": "completed"
    },
    "tags": []
   },
   "outputs": [
    {
     "data": {
      "text/plain": [
       "Gender\n",
       "Male      5457\n",
       "Female    4543\n",
       "Name: count, dtype: int64"
      ]
     },
     "execution_count": 9,
     "metadata": {},
     "output_type": "execute_result"
    }
   ],
   "source": [
    "df['Gender'].value_counts()"
   ]
  },
  {
   "cell_type": "code",
   "execution_count": 10,
   "id": "371d4c1c",
   "metadata": {
    "execution": {
     "iopub.execute_input": "2024-01-22T14:35:30.990139Z",
     "iopub.status.busy": "2024-01-22T14:35:30.989748Z",
     "iopub.status.idle": "2024-01-22T14:35:31.012233Z",
     "shell.execute_reply": "2024-01-22T14:35:31.011097Z"
    },
    "papermill": {
     "duration": 0.033555,
     "end_time": "2024-01-22T14:35:31.014813",
     "exception": false,
     "start_time": "2024-01-22T14:35:30.981258",
     "status": "completed"
    },
    "tags": []
   },
   "outputs": [
    {
     "data": {
      "text/html": [
       "<div>\n",
       "<style scoped>\n",
       "    .dataframe tbody tr th:only-of-type {\n",
       "        vertical-align: middle;\n",
       "    }\n",
       "\n",
       "    .dataframe tbody tr th {\n",
       "        vertical-align: top;\n",
       "    }\n",
       "\n",
       "    .dataframe thead th {\n",
       "        text-align: right;\n",
       "    }\n",
       "</style>\n",
       "<table border=\"1\" class=\"dataframe\">\n",
       "  <thead>\n",
       "    <tr style=\"text-align: right;\">\n",
       "      <th></th>\n",
       "      <th>CreditScore</th>\n",
       "      <th>Age</th>\n",
       "      <th>Tenure</th>\n",
       "      <th>Balance</th>\n",
       "      <th>NumOfProducts</th>\n",
       "      <th>HasCrCard</th>\n",
       "      <th>IsActiveMember</th>\n",
       "      <th>EstimatedSalary</th>\n",
       "      <th>Exited</th>\n",
       "      <th>Geography_Germany</th>\n",
       "      <th>Geography_Spain</th>\n",
       "      <th>Gender_Male</th>\n",
       "    </tr>\n",
       "  </thead>\n",
       "  <tbody>\n",
       "    <tr>\n",
       "      <th>0</th>\n",
       "      <td>619</td>\n",
       "      <td>42</td>\n",
       "      <td>2</td>\n",
       "      <td>0.00</td>\n",
       "      <td>1</td>\n",
       "      <td>1</td>\n",
       "      <td>1</td>\n",
       "      <td>101348.88</td>\n",
       "      <td>1</td>\n",
       "      <td>False</td>\n",
       "      <td>False</td>\n",
       "      <td>False</td>\n",
       "    </tr>\n",
       "    <tr>\n",
       "      <th>1</th>\n",
       "      <td>608</td>\n",
       "      <td>41</td>\n",
       "      <td>1</td>\n",
       "      <td>83807.86</td>\n",
       "      <td>1</td>\n",
       "      <td>0</td>\n",
       "      <td>1</td>\n",
       "      <td>112542.58</td>\n",
       "      <td>0</td>\n",
       "      <td>False</td>\n",
       "      <td>True</td>\n",
       "      <td>False</td>\n",
       "    </tr>\n",
       "    <tr>\n",
       "      <th>2</th>\n",
       "      <td>502</td>\n",
       "      <td>42</td>\n",
       "      <td>8</td>\n",
       "      <td>159660.80</td>\n",
       "      <td>3</td>\n",
       "      <td>1</td>\n",
       "      <td>0</td>\n",
       "      <td>113931.57</td>\n",
       "      <td>1</td>\n",
       "      <td>False</td>\n",
       "      <td>False</td>\n",
       "      <td>False</td>\n",
       "    </tr>\n",
       "    <tr>\n",
       "      <th>3</th>\n",
       "      <td>699</td>\n",
       "      <td>39</td>\n",
       "      <td>1</td>\n",
       "      <td>0.00</td>\n",
       "      <td>2</td>\n",
       "      <td>0</td>\n",
       "      <td>0</td>\n",
       "      <td>93826.63</td>\n",
       "      <td>0</td>\n",
       "      <td>False</td>\n",
       "      <td>False</td>\n",
       "      <td>False</td>\n",
       "    </tr>\n",
       "    <tr>\n",
       "      <th>4</th>\n",
       "      <td>850</td>\n",
       "      <td>43</td>\n",
       "      <td>2</td>\n",
       "      <td>125510.82</td>\n",
       "      <td>1</td>\n",
       "      <td>1</td>\n",
       "      <td>1</td>\n",
       "      <td>79084.10</td>\n",
       "      <td>0</td>\n",
       "      <td>False</td>\n",
       "      <td>True</td>\n",
       "      <td>False</td>\n",
       "    </tr>\n",
       "  </tbody>\n",
       "</table>\n",
       "</div>"
      ],
      "text/plain": [
       "   CreditScore  Age  Tenure    Balance  NumOfProducts  HasCrCard  \\\n",
       "0          619   42       2       0.00              1          1   \n",
       "1          608   41       1   83807.86              1          0   \n",
       "2          502   42       8  159660.80              3          1   \n",
       "3          699   39       1       0.00              2          0   \n",
       "4          850   43       2  125510.82              1          1   \n",
       "\n",
       "   IsActiveMember  EstimatedSalary  Exited  Geography_Germany  \\\n",
       "0               1        101348.88       1              False   \n",
       "1               1        112542.58       0              False   \n",
       "2               0        113931.57       1              False   \n",
       "3               0         93826.63       0              False   \n",
       "4               1         79084.10       0              False   \n",
       "\n",
       "   Geography_Spain  Gender_Male  \n",
       "0            False        False  \n",
       "1             True        False  \n",
       "2            False        False  \n",
       "3            False        False  \n",
       "4             True        False  "
      ]
     },
     "execution_count": 10,
     "metadata": {},
     "output_type": "execute_result"
    }
   ],
   "source": [
    "df=pd.get_dummies(df, columns=['Geography', 'Gender'], drop_first=True)\n",
    "df.head()"
   ]
  },
  {
   "cell_type": "code",
   "execution_count": 11,
   "id": "fb41918d",
   "metadata": {
    "execution": {
     "iopub.execute_input": "2024-01-22T14:35:31.032280Z",
     "iopub.status.busy": "2024-01-22T14:35:31.031641Z",
     "iopub.status.idle": "2024-01-22T14:35:32.360114Z",
     "shell.execute_reply": "2024-01-22T14:35:32.358837Z"
    },
    "papermill": {
     "duration": 1.340952,
     "end_time": "2024-01-22T14:35:32.363039",
     "exception": false,
     "start_time": "2024-01-22T14:35:31.022087",
     "status": "completed"
    },
    "tags": []
   },
   "outputs": [],
   "source": [
    "# splitting data into dependent and independent variables\n",
    "X=df.drop(columns=['Exited'])\n",
    "y=df['Exited']\n",
    "\n",
    "# train test split\n",
    "from sklearn.model_selection import train_test_split\n",
    "\n",
    "X_train, X_test, y_train, y_test = train_test_split(X,y, test_size=0.2, random_state=99)"
   ]
  },
  {
   "cell_type": "code",
   "execution_count": 12,
   "id": "21c366f4",
   "metadata": {
    "execution": {
     "iopub.execute_input": "2024-01-22T14:35:32.381628Z",
     "iopub.status.busy": "2024-01-22T14:35:32.381145Z",
     "iopub.status.idle": "2024-01-22T14:35:32.406515Z",
     "shell.execute_reply": "2024-01-22T14:35:32.404847Z"
    },
    "papermill": {
     "duration": 0.039242,
     "end_time": "2024-01-22T14:35:32.410383",
     "exception": false,
     "start_time": "2024-01-22T14:35:32.371141",
     "status": "completed"
    },
    "tags": []
   },
   "outputs": [],
   "source": [
    "# scaling data for fast convergence\n",
    "from sklearn.preprocessing import StandardScaler\n",
    "\n",
    "sc=StandardScaler()\n",
    "\n",
    "x_train_scaled= sc.fit_transform(X_train)\n",
    "x_test_scaled= sc.fit_transform(X_test)"
   ]
  },
  {
   "cell_type": "code",
   "execution_count": 13,
   "id": "8824e151",
   "metadata": {
    "execution": {
     "iopub.execute_input": "2024-01-22T14:35:32.429924Z",
     "iopub.status.busy": "2024-01-22T14:35:32.428490Z",
     "iopub.status.idle": "2024-01-22T14:35:46.445995Z",
     "shell.execute_reply": "2024-01-22T14:35:46.444582Z"
    },
    "papermill": {
     "duration": 14.03037,
     "end_time": "2024-01-22T14:35:46.449029",
     "exception": false,
     "start_time": "2024-01-22T14:35:32.418659",
     "status": "completed"
    },
    "tags": []
   },
   "outputs": [],
   "source": [
    "# importing necessary libraries to form ANN\n",
    "import tensorflow\n",
    "from tensorflow import keras\n",
    "from tensorflow.keras import Sequential\n",
    "from tensorflow.keras.layers import Dense"
   ]
  },
  {
   "cell_type": "code",
   "execution_count": 14,
   "id": "88ba1c7a",
   "metadata": {
    "execution": {
     "iopub.execute_input": "2024-01-22T14:35:46.466113Z",
     "iopub.status.busy": "2024-01-22T14:35:46.465429Z",
     "iopub.status.idle": "2024-01-22T14:35:46.663792Z",
     "shell.execute_reply": "2024-01-22T14:35:46.662484Z"
    },
    "papermill": {
     "duration": 0.209409,
     "end_time": "2024-01-22T14:35:46.666285",
     "exception": false,
     "start_time": "2024-01-22T14:35:46.456876",
     "status": "completed"
    },
    "tags": []
   },
   "outputs": [],
   "source": [
    "# building ANN model\n",
    "\n",
    "model=Sequential()\n",
    "\n",
    "model.add(Dense(11,activation='relu', input_dim=11))\n",
    "model.add(Dense(5, activation='relu'))\n",
    "model.add(Dense(1, activation='sigmoid'))"
   ]
  },
  {
   "cell_type": "code",
   "execution_count": 15,
   "id": "da3dd39d",
   "metadata": {
    "execution": {
     "iopub.execute_input": "2024-01-22T14:35:46.682328Z",
     "iopub.status.busy": "2024-01-22T14:35:46.681930Z",
     "iopub.status.idle": "2024-01-22T14:35:46.704094Z",
     "shell.execute_reply": "2024-01-22T14:35:46.702565Z"
    },
    "papermill": {
     "duration": 0.037571,
     "end_time": "2024-01-22T14:35:46.711142",
     "exception": false,
     "start_time": "2024-01-22T14:35:46.673571",
     "status": "completed"
    },
    "tags": []
   },
   "outputs": [
    {
     "name": "stdout",
     "output_type": "stream",
     "text": [
      "Model: \"sequential\"\n",
      "_________________________________________________________________\n",
      " Layer (type)                Output Shape              Param #   \n",
      "=================================================================\n",
      " dense (Dense)               (None, 11)                132       \n",
      "                                                                 \n",
      " dense_1 (Dense)             (None, 5)                 60        \n",
      "                                                                 \n",
      " dense_2 (Dense)             (None, 1)                 6         \n",
      "                                                                 \n",
      "=================================================================\n",
      "Total params: 198 (792.00 Byte)\n",
      "Trainable params: 198 (792.00 Byte)\n",
      "Non-trainable params: 0 (0.00 Byte)\n",
      "_________________________________________________________________\n"
     ]
    }
   ],
   "source": [
    "model.summary()"
   ]
  },
  {
   "cell_type": "code",
   "execution_count": 16,
   "id": "079e83d6",
   "metadata": {
    "execution": {
     "iopub.execute_input": "2024-01-22T14:35:46.729751Z",
     "iopub.status.busy": "2024-01-22T14:35:46.729318Z",
     "iopub.status.idle": "2024-01-22T14:35:46.750424Z",
     "shell.execute_reply": "2024-01-22T14:35:46.749313Z"
    },
    "papermill": {
     "duration": 0.033369,
     "end_time": "2024-01-22T14:35:46.753162",
     "exception": false,
     "start_time": "2024-01-22T14:35:46.719793",
     "status": "completed"
    },
    "tags": []
   },
   "outputs": [],
   "source": [
    "model.compile(optimizer='Adam', loss='binary_crossentropy', metrics=['accuracy'])"
   ]
  },
  {
   "cell_type": "code",
   "execution_count": 17,
   "id": "49a69806",
   "metadata": {
    "execution": {
     "iopub.execute_input": "2024-01-22T14:35:46.771011Z",
     "iopub.status.busy": "2024-01-22T14:35:46.770607Z",
     "iopub.status.idle": "2024-01-22T14:36:18.741695Z",
     "shell.execute_reply": "2024-01-22T14:36:18.740569Z"
    },
    "papermill": {
     "duration": 31.983095,
     "end_time": "2024-01-22T14:36:18.744221",
     "exception": false,
     "start_time": "2024-01-22T14:35:46.761126",
     "status": "completed"
    },
    "tags": []
   },
   "outputs": [
    {
     "name": "stdout",
     "output_type": "stream",
     "text": [
      "Epoch 1/100\n",
      "128/128 [==============================] - 1s 4ms/step - loss: 0.6307 - accuracy: 0.6381 - val_loss: 0.4997 - val_accuracy: 0.8006\n",
      "Epoch 2/100\n",
      "128/128 [==============================] - 0s 3ms/step - loss: 0.4831 - accuracy: 0.7967 - val_loss: 0.4529 - val_accuracy: 0.8037\n",
      "Epoch 3/100\n",
      "128/128 [==============================] - 0s 2ms/step - loss: 0.4529 - accuracy: 0.8005 - val_loss: 0.4316 - val_accuracy: 0.8119\n",
      "Epoch 4/100\n",
      "128/128 [==============================] - 0s 2ms/step - loss: 0.4372 - accuracy: 0.8095 - val_loss: 0.4201 - val_accuracy: 0.8213\n",
      "Epoch 5/100\n",
      "128/128 [==============================] - 0s 3ms/step - loss: 0.4276 - accuracy: 0.8163 - val_loss: 0.4131 - val_accuracy: 0.8244\n",
      "Epoch 6/100\n",
      "128/128 [==============================] - 0s 2ms/step - loss: 0.4203 - accuracy: 0.8177 - val_loss: 0.4078 - val_accuracy: 0.8275\n",
      "Epoch 7/100\n",
      "128/128 [==============================] - 0s 3ms/step - loss: 0.4136 - accuracy: 0.8231 - val_loss: 0.4022 - val_accuracy: 0.8281\n",
      "Epoch 8/100\n",
      "128/128 [==============================] - 0s 3ms/step - loss: 0.4073 - accuracy: 0.8284 - val_loss: 0.3972 - val_accuracy: 0.8275\n",
      "Epoch 9/100\n",
      "128/128 [==============================] - 0s 3ms/step - loss: 0.4009 - accuracy: 0.8316 - val_loss: 0.3919 - val_accuracy: 0.8313\n",
      "Epoch 10/100\n",
      "128/128 [==============================] - 0s 3ms/step - loss: 0.3939 - accuracy: 0.8339 - val_loss: 0.3872 - val_accuracy: 0.8344\n",
      "Epoch 11/100\n",
      "128/128 [==============================] - 0s 3ms/step - loss: 0.3869 - accuracy: 0.8389 - val_loss: 0.3810 - val_accuracy: 0.8338\n",
      "Epoch 12/100\n",
      "128/128 [==============================] - 0s 3ms/step - loss: 0.3803 - accuracy: 0.8411 - val_loss: 0.3759 - val_accuracy: 0.8394\n",
      "Epoch 13/100\n",
      "128/128 [==============================] - 0s 3ms/step - loss: 0.3746 - accuracy: 0.8441 - val_loss: 0.3711 - val_accuracy: 0.8406\n",
      "Epoch 14/100\n",
      "128/128 [==============================] - 0s 2ms/step - loss: 0.3691 - accuracy: 0.8461 - val_loss: 0.3667 - val_accuracy: 0.8444\n",
      "Epoch 15/100\n",
      "128/128 [==============================] - 0s 2ms/step - loss: 0.3641 - accuracy: 0.8486 - val_loss: 0.3630 - val_accuracy: 0.8475\n",
      "Epoch 16/100\n",
      "128/128 [==============================] - 0s 2ms/step - loss: 0.3604 - accuracy: 0.8511 - val_loss: 0.3591 - val_accuracy: 0.8475\n",
      "Epoch 17/100\n",
      "128/128 [==============================] - 0s 2ms/step - loss: 0.3561 - accuracy: 0.8519 - val_loss: 0.3554 - val_accuracy: 0.8475\n",
      "Epoch 18/100\n",
      "128/128 [==============================] - 0s 2ms/step - loss: 0.3527 - accuracy: 0.8525 - val_loss: 0.3525 - val_accuracy: 0.8494\n",
      "Epoch 19/100\n",
      "128/128 [==============================] - 0s 2ms/step - loss: 0.3496 - accuracy: 0.8550 - val_loss: 0.3494 - val_accuracy: 0.8512\n",
      "Epoch 20/100\n",
      "128/128 [==============================] - 0s 2ms/step - loss: 0.3468 - accuracy: 0.8559 - val_loss: 0.3478 - val_accuracy: 0.8537\n",
      "Epoch 21/100\n",
      "128/128 [==============================] - 0s 2ms/step - loss: 0.3445 - accuracy: 0.8569 - val_loss: 0.3457 - val_accuracy: 0.8512\n",
      "Epoch 22/100\n",
      "128/128 [==============================] - 0s 2ms/step - loss: 0.3425 - accuracy: 0.8586 - val_loss: 0.3449 - val_accuracy: 0.8531\n",
      "Epoch 23/100\n",
      "128/128 [==============================] - 0s 2ms/step - loss: 0.3409 - accuracy: 0.8595 - val_loss: 0.3435 - val_accuracy: 0.8556\n",
      "Epoch 24/100\n",
      "128/128 [==============================] - 0s 2ms/step - loss: 0.3394 - accuracy: 0.8592 - val_loss: 0.3436 - val_accuracy: 0.8544\n",
      "Epoch 25/100\n",
      "128/128 [==============================] - 0s 2ms/step - loss: 0.3387 - accuracy: 0.8602 - val_loss: 0.3432 - val_accuracy: 0.8544\n",
      "Epoch 26/100\n",
      "128/128 [==============================] - 0s 2ms/step - loss: 0.3374 - accuracy: 0.8591 - val_loss: 0.3426 - val_accuracy: 0.8562\n",
      "Epoch 27/100\n",
      "128/128 [==============================] - 0s 3ms/step - loss: 0.3365 - accuracy: 0.8583 - val_loss: 0.3418 - val_accuracy: 0.8531\n",
      "Epoch 28/100\n",
      "128/128 [==============================] - 0s 2ms/step - loss: 0.3361 - accuracy: 0.8609 - val_loss: 0.3419 - val_accuracy: 0.8537\n",
      "Epoch 29/100\n",
      "128/128 [==============================] - 0s 2ms/step - loss: 0.3353 - accuracy: 0.8597 - val_loss: 0.3411 - val_accuracy: 0.8531\n",
      "Epoch 30/100\n",
      "128/128 [==============================] - 0s 2ms/step - loss: 0.3348 - accuracy: 0.8612 - val_loss: 0.3414 - val_accuracy: 0.8500\n",
      "Epoch 31/100\n",
      "128/128 [==============================] - 0s 2ms/step - loss: 0.3341 - accuracy: 0.8605 - val_loss: 0.3414 - val_accuracy: 0.8556\n",
      "Epoch 32/100\n",
      "128/128 [==============================] - 0s 2ms/step - loss: 0.3337 - accuracy: 0.8620 - val_loss: 0.3414 - val_accuracy: 0.8531\n",
      "Epoch 33/100\n",
      "128/128 [==============================] - 0s 2ms/step - loss: 0.3332 - accuracy: 0.8609 - val_loss: 0.3418 - val_accuracy: 0.8562\n",
      "Epoch 34/100\n",
      "128/128 [==============================] - 0s 2ms/step - loss: 0.3333 - accuracy: 0.8611 - val_loss: 0.3410 - val_accuracy: 0.8562\n",
      "Epoch 35/100\n",
      "128/128 [==============================] - 0s 2ms/step - loss: 0.3325 - accuracy: 0.8600 - val_loss: 0.3412 - val_accuracy: 0.8562\n",
      "Epoch 36/100\n",
      "128/128 [==============================] - 0s 2ms/step - loss: 0.3322 - accuracy: 0.8619 - val_loss: 0.3419 - val_accuracy: 0.8512\n",
      "Epoch 37/100\n",
      "128/128 [==============================] - 0s 2ms/step - loss: 0.3321 - accuracy: 0.8619 - val_loss: 0.3413 - val_accuracy: 0.8544\n",
      "Epoch 38/100\n",
      "128/128 [==============================] - 0s 2ms/step - loss: 0.3322 - accuracy: 0.8598 - val_loss: 0.3410 - val_accuracy: 0.8550\n",
      "Epoch 39/100\n",
      "128/128 [==============================] - 0s 2ms/step - loss: 0.3315 - accuracy: 0.8617 - val_loss: 0.3416 - val_accuracy: 0.8550\n",
      "Epoch 40/100\n",
      "128/128 [==============================] - 0s 2ms/step - loss: 0.3312 - accuracy: 0.8611 - val_loss: 0.3418 - val_accuracy: 0.8562\n",
      "Epoch 41/100\n",
      "128/128 [==============================] - 0s 2ms/step - loss: 0.3312 - accuracy: 0.8627 - val_loss: 0.3420 - val_accuracy: 0.8581\n",
      "Epoch 42/100\n",
      "128/128 [==============================] - 0s 2ms/step - loss: 0.3311 - accuracy: 0.8605 - val_loss: 0.3412 - val_accuracy: 0.8525\n",
      "Epoch 43/100\n",
      "128/128 [==============================] - 0s 2ms/step - loss: 0.3306 - accuracy: 0.8617 - val_loss: 0.3412 - val_accuracy: 0.8544\n",
      "Epoch 44/100\n",
      "128/128 [==============================] - 0s 2ms/step - loss: 0.3306 - accuracy: 0.8611 - val_loss: 0.3414 - val_accuracy: 0.8562\n",
      "Epoch 45/100\n",
      "128/128 [==============================] - 0s 2ms/step - loss: 0.3302 - accuracy: 0.8611 - val_loss: 0.3409 - val_accuracy: 0.8544\n",
      "Epoch 46/100\n",
      "128/128 [==============================] - 0s 2ms/step - loss: 0.3307 - accuracy: 0.8628 - val_loss: 0.3410 - val_accuracy: 0.8519\n",
      "Epoch 47/100\n",
      "128/128 [==============================] - 0s 3ms/step - loss: 0.3302 - accuracy: 0.8616 - val_loss: 0.3410 - val_accuracy: 0.8537\n",
      "Epoch 48/100\n",
      "128/128 [==============================] - 0s 2ms/step - loss: 0.3300 - accuracy: 0.8625 - val_loss: 0.3406 - val_accuracy: 0.8550\n",
      "Epoch 49/100\n",
      "128/128 [==============================] - 0s 2ms/step - loss: 0.3298 - accuracy: 0.8625 - val_loss: 0.3407 - val_accuracy: 0.8544\n",
      "Epoch 50/100\n",
      "128/128 [==============================] - 0s 2ms/step - loss: 0.3297 - accuracy: 0.8641 - val_loss: 0.3406 - val_accuracy: 0.8556\n",
      "Epoch 51/100\n",
      "128/128 [==============================] - 0s 2ms/step - loss: 0.3295 - accuracy: 0.8631 - val_loss: 0.3410 - val_accuracy: 0.8531\n",
      "Epoch 52/100\n",
      "128/128 [==============================] - 0s 2ms/step - loss: 0.3303 - accuracy: 0.8625 - val_loss: 0.3405 - val_accuracy: 0.8537\n",
      "Epoch 53/100\n",
      "128/128 [==============================] - 0s 2ms/step - loss: 0.3294 - accuracy: 0.8630 - val_loss: 0.3408 - val_accuracy: 0.8506\n",
      "Epoch 54/100\n",
      "128/128 [==============================] - 0s 2ms/step - loss: 0.3296 - accuracy: 0.8623 - val_loss: 0.3407 - val_accuracy: 0.8537\n",
      "Epoch 55/100\n",
      "128/128 [==============================] - 0s 2ms/step - loss: 0.3292 - accuracy: 0.8631 - val_loss: 0.3405 - val_accuracy: 0.8531\n",
      "Epoch 56/100\n",
      "128/128 [==============================] - 0s 2ms/step - loss: 0.3293 - accuracy: 0.8636 - val_loss: 0.3407 - val_accuracy: 0.8531\n",
      "Epoch 57/100\n",
      "128/128 [==============================] - 0s 3ms/step - loss: 0.3291 - accuracy: 0.8622 - val_loss: 0.3414 - val_accuracy: 0.8550\n",
      "Epoch 58/100\n",
      "128/128 [==============================] - 0s 2ms/step - loss: 0.3290 - accuracy: 0.8631 - val_loss: 0.3407 - val_accuracy: 0.8537\n",
      "Epoch 59/100\n",
      "128/128 [==============================] - 0s 2ms/step - loss: 0.3288 - accuracy: 0.8625 - val_loss: 0.3405 - val_accuracy: 0.8556\n",
      "Epoch 60/100\n",
      "128/128 [==============================] - 0s 2ms/step - loss: 0.3286 - accuracy: 0.8625 - val_loss: 0.3410 - val_accuracy: 0.8556\n",
      "Epoch 61/100\n",
      "128/128 [==============================] - 0s 2ms/step - loss: 0.3285 - accuracy: 0.8627 - val_loss: 0.3416 - val_accuracy: 0.8562\n",
      "Epoch 62/100\n",
      "128/128 [==============================] - 0s 2ms/step - loss: 0.3286 - accuracy: 0.8631 - val_loss: 0.3410 - val_accuracy: 0.8556\n",
      "Epoch 63/100\n",
      "128/128 [==============================] - 0s 2ms/step - loss: 0.3284 - accuracy: 0.8620 - val_loss: 0.3411 - val_accuracy: 0.8544\n",
      "Epoch 64/100\n",
      "128/128 [==============================] - 0s 2ms/step - loss: 0.3283 - accuracy: 0.8617 - val_loss: 0.3415 - val_accuracy: 0.8550\n",
      "Epoch 65/100\n",
      "128/128 [==============================] - 0s 2ms/step - loss: 0.3282 - accuracy: 0.8639 - val_loss: 0.3407 - val_accuracy: 0.8544\n",
      "Epoch 66/100\n",
      "128/128 [==============================] - 0s 2ms/step - loss: 0.3282 - accuracy: 0.8625 - val_loss: 0.3409 - val_accuracy: 0.8581\n",
      "Epoch 67/100\n",
      "128/128 [==============================] - 0s 2ms/step - loss: 0.3281 - accuracy: 0.8627 - val_loss: 0.3412 - val_accuracy: 0.8544\n",
      "Epoch 68/100\n",
      "128/128 [==============================] - 0s 2ms/step - loss: 0.3280 - accuracy: 0.8633 - val_loss: 0.3419 - val_accuracy: 0.8531\n",
      "Epoch 69/100\n",
      "128/128 [==============================] - 0s 2ms/step - loss: 0.3280 - accuracy: 0.8630 - val_loss: 0.3407 - val_accuracy: 0.8556\n",
      "Epoch 70/100\n",
      "128/128 [==============================] - 0s 2ms/step - loss: 0.3281 - accuracy: 0.8619 - val_loss: 0.3412 - val_accuracy: 0.8556\n",
      "Epoch 71/100\n",
      "128/128 [==============================] - 0s 3ms/step - loss: 0.3275 - accuracy: 0.8630 - val_loss: 0.3417 - val_accuracy: 0.8512\n",
      "Epoch 72/100\n",
      "128/128 [==============================] - 0s 2ms/step - loss: 0.3276 - accuracy: 0.8634 - val_loss: 0.3423 - val_accuracy: 0.8550\n",
      "Epoch 73/100\n",
      "128/128 [==============================] - 0s 3ms/step - loss: 0.3277 - accuracy: 0.8636 - val_loss: 0.3417 - val_accuracy: 0.8544\n",
      "Epoch 74/100\n",
      "128/128 [==============================] - 0s 2ms/step - loss: 0.3278 - accuracy: 0.8633 - val_loss: 0.3414 - val_accuracy: 0.8556\n",
      "Epoch 75/100\n",
      "128/128 [==============================] - 0s 2ms/step - loss: 0.3272 - accuracy: 0.8628 - val_loss: 0.3419 - val_accuracy: 0.8544\n",
      "Epoch 76/100\n",
      "128/128 [==============================] - 0s 3ms/step - loss: 0.3274 - accuracy: 0.8631 - val_loss: 0.3423 - val_accuracy: 0.8556\n",
      "Epoch 77/100\n",
      "128/128 [==============================] - 0s 3ms/step - loss: 0.3275 - accuracy: 0.8623 - val_loss: 0.3418 - val_accuracy: 0.8525\n",
      "Epoch 78/100\n",
      "128/128 [==============================] - 0s 3ms/step - loss: 0.3275 - accuracy: 0.8623 - val_loss: 0.3421 - val_accuracy: 0.8525\n",
      "Epoch 79/100\n",
      "128/128 [==============================] - 0s 2ms/step - loss: 0.3274 - accuracy: 0.8630 - val_loss: 0.3419 - val_accuracy: 0.8562\n",
      "Epoch 80/100\n",
      "128/128 [==============================] - 0s 2ms/step - loss: 0.3272 - accuracy: 0.8637 - val_loss: 0.3422 - val_accuracy: 0.8537\n",
      "Epoch 81/100\n",
      "128/128 [==============================] - 0s 2ms/step - loss: 0.3271 - accuracy: 0.8637 - val_loss: 0.3424 - val_accuracy: 0.8562\n",
      "Epoch 82/100\n",
      "128/128 [==============================] - 0s 2ms/step - loss: 0.3267 - accuracy: 0.8625 - val_loss: 0.3422 - val_accuracy: 0.8531\n",
      "Epoch 83/100\n",
      "128/128 [==============================] - 0s 2ms/step - loss: 0.3274 - accuracy: 0.8636 - val_loss: 0.3421 - val_accuracy: 0.8544\n",
      "Epoch 84/100\n",
      "128/128 [==============================] - 0s 2ms/step - loss: 0.3269 - accuracy: 0.8622 - val_loss: 0.3429 - val_accuracy: 0.8537\n",
      "Epoch 85/100\n",
      "128/128 [==============================] - 0s 2ms/step - loss: 0.3270 - accuracy: 0.8633 - val_loss: 0.3425 - val_accuracy: 0.8519\n",
      "Epoch 86/100\n",
      "128/128 [==============================] - 0s 2ms/step - loss: 0.3265 - accuracy: 0.8653 - val_loss: 0.3423 - val_accuracy: 0.8531\n",
      "Epoch 87/100\n",
      "128/128 [==============================] - 0s 2ms/step - loss: 0.3266 - accuracy: 0.8620 - val_loss: 0.3420 - val_accuracy: 0.8531\n",
      "Epoch 88/100\n",
      "128/128 [==============================] - 0s 2ms/step - loss: 0.3268 - accuracy: 0.8631 - val_loss: 0.3421 - val_accuracy: 0.8550\n",
      "Epoch 89/100\n",
      "128/128 [==============================] - 0s 2ms/step - loss: 0.3268 - accuracy: 0.8636 - val_loss: 0.3422 - val_accuracy: 0.8537\n",
      "Epoch 90/100\n",
      "128/128 [==============================] - 0s 2ms/step - loss: 0.3269 - accuracy: 0.8631 - val_loss: 0.3418 - val_accuracy: 0.8512\n",
      "Epoch 91/100\n",
      "128/128 [==============================] - 0s 2ms/step - loss: 0.3268 - accuracy: 0.8637 - val_loss: 0.3418 - val_accuracy: 0.8544\n",
      "Epoch 92/100\n",
      "128/128 [==============================] - 0s 2ms/step - loss: 0.3270 - accuracy: 0.8631 - val_loss: 0.3418 - val_accuracy: 0.8556\n",
      "Epoch 93/100\n",
      "128/128 [==============================] - 0s 3ms/step - loss: 0.3266 - accuracy: 0.8639 - val_loss: 0.3425 - val_accuracy: 0.8531\n",
      "Epoch 94/100\n",
      "128/128 [==============================] - 0s 3ms/step - loss: 0.3265 - accuracy: 0.8633 - val_loss: 0.3423 - val_accuracy: 0.8525\n",
      "Epoch 95/100\n",
      "128/128 [==============================] - 0s 2ms/step - loss: 0.3266 - accuracy: 0.8650 - val_loss: 0.3424 - val_accuracy: 0.8531\n",
      "Epoch 96/100\n",
      "128/128 [==============================] - 0s 2ms/step - loss: 0.3263 - accuracy: 0.8642 - val_loss: 0.3428 - val_accuracy: 0.8537\n",
      "Epoch 97/100\n",
      "128/128 [==============================] - 0s 2ms/step - loss: 0.3263 - accuracy: 0.8625 - val_loss: 0.3437 - val_accuracy: 0.8569\n",
      "Epoch 98/100\n",
      "128/128 [==============================] - 0s 2ms/step - loss: 0.3259 - accuracy: 0.8639 - val_loss: 0.3421 - val_accuracy: 0.8537\n",
      "Epoch 99/100\n",
      "128/128 [==============================] - 0s 2ms/step - loss: 0.3263 - accuracy: 0.8631 - val_loss: 0.3423 - val_accuracy: 0.8519\n",
      "Epoch 100/100\n",
      "128/128 [==============================] - 0s 2ms/step - loss: 0.3261 - accuracy: 0.8639 - val_loss: 0.3430 - val_accuracy: 0.8531\n"
     ]
    }
   ],
   "source": [
    "history=model.fit(x_train_scaled, y_train, batch_size=50, epochs=100, validation_split=0.2, verbose=1)"
   ]
  },
  {
   "cell_type": "code",
   "execution_count": 18,
   "id": "e1324a89",
   "metadata": {
    "execution": {
     "iopub.execute_input": "2024-01-22T14:36:18.929522Z",
     "iopub.status.busy": "2024-01-22T14:36:18.929078Z",
     "iopub.status.idle": "2024-01-22T14:36:19.257255Z",
     "shell.execute_reply": "2024-01-22T14:36:19.256387Z"
    },
    "papermill": {
     "duration": 0.46192,
     "end_time": "2024-01-22T14:36:19.259571",
     "exception": false,
     "start_time": "2024-01-22T14:36:18.797651",
     "status": "completed"
    },
    "tags": []
   },
   "outputs": [
    {
     "name": "stdout",
     "output_type": "stream",
     "text": [
      "63/63 [==============================] - 0s 1ms/step\n"
     ]
    },
    {
     "data": {
      "text/plain": [
       "array([[0.19864036],\n",
       "       [0.00225702],\n",
       "       [0.03505341],\n",
       "       ...,\n",
       "       [0.04570019],\n",
       "       [0.9035452 ],\n",
       "       [0.8798586 ]], dtype=float32)"
      ]
     },
     "execution_count": 18,
     "metadata": {},
     "output_type": "execute_result"
    }
   ],
   "source": [
    "y_pred=model.predict(x_test_scaled)\n",
    "y_pred"
   ]
  },
  {
   "cell_type": "code",
   "execution_count": 19,
   "id": "2665eca1",
   "metadata": {
    "execution": {
     "iopub.execute_input": "2024-01-22T14:36:19.373604Z",
     "iopub.status.busy": "2024-01-22T14:36:19.372942Z",
     "iopub.status.idle": "2024-01-22T14:36:19.378903Z",
     "shell.execute_reply": "2024-01-22T14:36:19.377881Z"
    },
    "papermill": {
     "duration": 0.066191,
     "end_time": "2024-01-22T14:36:19.381033",
     "exception": false,
     "start_time": "2024-01-22T14:36:19.314842",
     "status": "completed"
    },
    "tags": []
   },
   "outputs": [
    {
     "data": {
      "text/plain": [
       "array([0, 0, 0, ..., 0, 0, 0])"
      ]
     },
     "execution_count": 19,
     "metadata": {},
     "output_type": "execute_result"
    }
   ],
   "source": [
    "y_pred=y_pred.argmax(axis=-1)\n",
    "y_pred"
   ]
  },
  {
   "cell_type": "code",
   "execution_count": 20,
   "id": "53aa345e",
   "metadata": {
    "execution": {
     "iopub.execute_input": "2024-01-22T14:36:19.498688Z",
     "iopub.status.busy": "2024-01-22T14:36:19.498043Z",
     "iopub.status.idle": "2024-01-22T14:36:19.507675Z",
     "shell.execute_reply": "2024-01-22T14:36:19.506606Z"
    },
    "papermill": {
     "duration": 0.072723,
     "end_time": "2024-01-22T14:36:19.510778",
     "exception": false,
     "start_time": "2024-01-22T14:36:19.438055",
     "status": "completed"
    },
    "tags": []
   },
   "outputs": [
    {
     "data": {
      "text/plain": [
       "0.7885"
      ]
     },
     "execution_count": 20,
     "metadata": {},
     "output_type": "execute_result"
    }
   ],
   "source": [
    "from sklearn.metrics import accuracy_score\n",
    "accuracy_score(y_test,y_pred)"
   ]
  },
  {
   "cell_type": "code",
   "execution_count": 21,
   "id": "dc9341f9",
   "metadata": {
    "execution": {
     "iopub.execute_input": "2024-01-22T14:36:19.625722Z",
     "iopub.status.busy": "2024-01-22T14:36:19.624912Z",
     "iopub.status.idle": "2024-01-22T14:36:19.918288Z",
     "shell.execute_reply": "2024-01-22T14:36:19.917028Z"
    },
    "papermill": {
     "duration": 0.355777,
     "end_time": "2024-01-22T14:36:19.921204",
     "exception": false,
     "start_time": "2024-01-22T14:36:19.565427",
     "status": "completed"
    },
    "tags": []
   },
   "outputs": [
    {
     "data": {
      "text/plain": [
       "[<matplotlib.lines.Line2D at 0x78bc2b112110>]"
      ]
     },
     "execution_count": 21,
     "metadata": {},
     "output_type": "execute_result"
    },
    {
     "data": {
      "image/png": "[encoded data removed]",
      "text/plain": [
       "<Figure size 640x480 with 1 Axes>"
      ]
     },
     "metadata": {},
     "output_type": "display_data"
    }
   ],
   "source": [
    "import matplotlib.pyplot as plt\n",
    "\n",
    "plt.plot(history.history['loss'])\n",
    "plt.plot(history.history['val_loss'])"
   ]
  },
  {
   "cell_type": "code",
   "execution_count": 22,
   "id": "eb098f5d",
   "metadata": {
    "execution": {
     "iopub.execute_input": "2024-01-22T14:36:20.034000Z",
     "iopub.status.busy": "2024-01-22T14:36:20.033575Z",
     "iopub.status.idle": "2024-01-22T14:36:20.285098Z",
     "shell.execute_reply": "2024-01-22T14:36:20.283830Z"
    },
    "papermill": {
     "duration": 0.311616,
     "end_time": "2024-01-22T14:36:20.288373",
     "exception": false,
     "start_time": "2024-01-22T14:36:19.976757",
     "status": "completed"
    },
    "tags": []
   },
   "outputs": [
    {
     "data": {
      "text/plain": [
       "[<matplotlib.lines.Line2D at 0x78bc2b224f70>]"
      ]
     },
     "execution_count": 22,
     "metadata": {},
     "output_type": "execute_result"
    },
    {
     "data": {
      "image/png": "[encoded data removed]",
      "text/plain": [
       "<Figure size 640x480 with 1 Axes>"
      ]
     },
     "metadata": {},
     "output_type": "display_data"
    }
   ],
   "source": [
    "plt.plot(history.history['accuracy'])\n",
    "plt.plot(history.history['val_accuracy'])"
   ]
  },
  {
   "cell_type": "code",
   "execution_count": null,
   "id": "c82e359e",
   "metadata": {
    "papermill": {
     "duration": 0.055857,
     "end_time": "2024-01-22T14:36:20.398228",
     "exception": false,
     "start_time": "2024-01-22T14:36:20.342371",
     "status": "completed"
    },
    "tags": []
   },
   "outputs": [],
   "source": []
  }
 ],
 "metadata": {
  "kaggle": {
   "accelerator": "none",
   "dataSources": [
    {
     "datasetId": 869651,
     "sourceId": 1481789,
     "sourceType": "datasetVersion"
    }
   ],
   "dockerImageVersionId": 30635,
   "isGpuEnabled": false,
   "isInternetEnabled": true,
   "language": "python",
   "sourceType": "notebook"
  },
  "kernelspec": {
   "display_name": "Python 3",
   "language": "python",
   "name": "python3"
  },
  "language_info": {
   "codemirror_mode": {
    "name": "ipython",
    "version": 3
   },
   "file_extension": ".py",
   "mimetype": "text/x-python",
   "name": "python",
   "nbconvert_exporter": "python",
   "pygments_lexer": "ipython3",
   "version": "3.10.12"
  },
  "papermill": {
   "default_parameters": {},
   "duration": 55.214427,
   "end_time": "2024-01-22T14:36:22.179632",
   "environment_variables": {},
   "exception": null,
   "input_path": "__notebook__.ipynb",
   "output_path": "__notebook__.ipynb",
   "parameters": {},
   "start_time": "2024-01-22T14:35:26.965205",
   "version": "2.4.0"
  }
 },
 "nbformat": 4,
 "nbformat_minor": 5
}
